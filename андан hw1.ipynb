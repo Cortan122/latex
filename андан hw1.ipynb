{
 "cells": [
  {
   "cell_type": "markdown",
   "source": [
    "# HSE 2021: Mathematical Methods for Data Analysis\n",
    "\n",
    "## Homework 1"
   ],
   "metadata": {}
  },
  {
   "cell_type": "markdown",
   "source": [
    "### Attention!\n",
    "* For tasks where <ins>text answer</ins> is required **Russian language** is **allowed**.\n",
    "* If a task asks you to describe something (make coclusions) then **text answer** is **mandatory** and **is** part of the task\n",
    "* **Do not** upload the dataset (titanic.csv) to the grading system (we already have it)\n",
    "* We **only** accept **ipynb** notebooks. If you use Google Colab then you'll have to download the notebook before passing the homework\n",
    "* **Do not** use python loops instead of NumPy vector operations over NumPy vectors - it significantly decreases performance (see why https://blog.paperspace.com/numpy-optimization-vectorization-and-broadcasting/), will be punished with -0.25 for **every** task. \n",
    "Loops are only allowed in part 1 (Tasks 1 - 4). \n",
    "* Some tasks contain tests. They only test you solution on a simple example, thus, passing the test does **not** guarantee you the full grade for the task. "
   ],
   "metadata": {}
  },
  {
   "cell_type": "code",
   "execution_count": 41,
   "source": [
    "%matplotlib inline\n",
    "import numpy as np\n",
    "import pandas as pd\n",
    "import matplotlib.pyplot as plt\n",
    "import seaborn as sns"
   ],
   "outputs": [],
   "metadata": {}
  },
  {
   "cell_type": "markdown",
   "source": [
    "# 1. Python (2 points)"
   ],
   "metadata": {}
  },
  {
   "cell_type": "markdown",
   "source": [
    "**Task 1** (0.5 points)<br/> \n",
    "Enter numbers `a`,  `d` и `N`. Find sum of the first `N` members of arithmetic progression with the first member `a` and difference `d`, without using formula for the sum."
   ],
   "metadata": {}
  },
  {
   "cell_type": "code",
   "execution_count": 42,
   "source": [
    "def find_sum(a,d,N):\n",
    "  res = 0\n",
    "  val = a\n",
    "  for _ in range(N):\n",
    "    res += val\n",
    "    val += d\n",
    "  return res"
   ],
   "outputs": [],
   "metadata": {}
  },
  {
   "cell_type": "markdown",
   "source": [
    "Check yourself"
   ],
   "metadata": {}
  },
  {
   "cell_type": "code",
   "execution_count": 43,
   "source": [
    "a = 2\n",
    "d = 3\n",
    "N = 15\n",
    "assert find_sum(a,d,N) == 345, 'Wrong answer'"
   ],
   "outputs": [],
   "metadata": {}
  },
  {
   "cell_type": "markdown",
   "source": [
    "---\n",
    "**Task 2** (0.5 points) <br/> \n",
    "Enter an integer number `N`. Check if it is a prime number."
   ],
   "metadata": {}
  },
  {
   "cell_type": "code",
   "execution_count": 44,
   "source": [
    "def check_prime(N):\n",
    "  for i in range(2, N):\n",
    "    if N % i == 0:\n",
    "      return False\n",
    "  return True"
   ],
   "outputs": [],
   "metadata": {}
  },
  {
   "cell_type": "markdown",
   "source": [
    "Check yourself"
   ],
   "metadata": {}
  },
  {
   "cell_type": "code",
   "execution_count": 45,
   "source": [
    "inp = [3, 8, 13, 111, 113, 237, 307, 479, 481]\n",
    "answer = [True, False, True, False, True, False, True, True, False]\n",
    "\n",
    "for N, ans in zip(inp, answer):\n",
    "    assert check_prime(N) == ans, f'Wrong answer for input {N}, {ans} is expected'"
   ],
   "outputs": [],
   "metadata": {}
  },
  {
   "cell_type": "markdown",
   "source": [
    "---\n",
    "**Task 3** (0.5 points) <br/> \n",
    "Find the first `N` prime numbers (you may use the function from the previous task)."
   ],
   "metadata": {}
  },
  {
   "cell_type": "code",
   "execution_count": 46,
   "source": [
    "def find_primes(N):\n",
    "  res = []\n",
    "  i = 2\n",
    "  while len(res) < N:\n",
    "    if check_prime(i):\n",
    "      res.append(i)\n",
    "    i += 1\n",
    "  return res"
   ],
   "outputs": [],
   "metadata": {}
  },
  {
   "cell_type": "markdown",
   "source": [
    "Check yourself"
   ],
   "metadata": {}
  },
  {
   "cell_type": "code",
   "execution_count": 47,
   "source": [
    "assert find_primes(5) == [2, 3, 5, 7, 11], 'Wrong answer'"
   ],
   "outputs": [],
   "metadata": {}
  },
  {
   "cell_type": "markdown",
   "source": [
    "---\n",
    "**Task 4** (0.5 points) <br/> \n",
    "There are numbers: `a`, `b`, `c`. Without using functions `min`, `max` or any other functions, find the maximum number."
   ],
   "metadata": {}
  },
  {
   "cell_type": "code",
   "execution_count": 48,
   "source": [
    "def find_max(a, b, c):\n",
    "  if a > b:\n",
    "    a,b = b,a\n",
    "  if b > c:\n",
    "    c,b = b,c\n",
    "  return c"
   ],
   "outputs": [],
   "metadata": {}
  },
  {
   "cell_type": "markdown",
   "source": [
    "Check yourself"
   ],
   "metadata": {}
  },
  {
   "cell_type": "code",
   "execution_count": 49,
   "source": [
    "from random import randint\n",
    "for i in range(10):    \n",
    "    a = randint(-100, 100)\n",
    "    b = randint(-100, 100)\n",
    "    c = randint(-100, 100)\n",
    "    answer = np.max([a, b, c])  # You cannot use `np.max` in the solution ;)\n",
    "    print(f'Checking on {a, b, c}')\n",
    "    assert find_max(a, b, c) == answer, f'Wrong maximum, {answer} is expected'"
   ],
   "outputs": [
    {
     "output_type": "stream",
     "name": "stdout",
     "text": [
      "Checking on (51, 30, 71)\n",
      "Checking on (-6, 58, -59)\n",
      "Checking on (-80, -52, 99)\n",
      "Checking on (52, -5, 38)\n",
      "Checking on (68, 19, 57)\n",
      "Checking on (18, 17, 6)\n",
      "Checking on (91, 50, 4)\n",
      "Checking on (4, -46, 45)\n",
      "Checking on (98, -61, -78)\n",
      "Checking on (-11, 32, 49)\n"
     ]
    }
   ],
   "metadata": {}
  },
  {
   "cell_type": "markdown",
   "source": [
    "# 2. Numpy (4 points)\n",
    "### **!Do not use loops in the tasks below, see disclamer at the top of the notebook**"
   ],
   "metadata": {}
  },
  {
   "cell_type": "markdown",
   "source": [
    "**Task 1** (0.5 points) <br/>\n",
    "Create a random array (`np.random.rand()`) with length of 20 and with sum of its elements equals to 3."
   ],
   "metadata": {}
  },
  {
   "cell_type": "code",
   "execution_count": 50,
   "source": [
    "my_array = np.random.rand(20)\n",
    "my_array /= np.sum(my_array)/3\n"
   ],
   "outputs": [],
   "metadata": {}
  },
  {
   "cell_type": "markdown",
   "source": [
    "Check yourself"
   ],
   "metadata": {}
  },
  {
   "cell_type": "code",
   "execution_count": 51,
   "source": [
    "assert len(my_array) == 20\n",
    "assert np.allclose(np.sum(my_array), 3)"
   ],
   "outputs": [],
   "metadata": {}
  },
  {
   "cell_type": "markdown",
   "source": [
    "---\n",
    "**Task 2** (0.5 points) <br/>\n",
    "Create two random arrays $a$ and $b$ with the same length. \n",
    "\n",
    "Calculate the following distances between the arrays **without using special functions. You may only use basic numpy operations (first level functions like `np.dot` are ok, higher level functions like `np.linalg.*` are prohibited).**:\n",
    "\n",
    "* Euclidean Distance\n",
    "$$ d(a, b) = \\sqrt{\\sum_i (a_i - b_i)^2} $$\n",
    "* Manhattan Distance\n",
    "$$ d(a, b) = \\sum_i |a_i - b_i| $$\n",
    "* Cosine Distance\n",
    "$$ d(a, b) = 1 - \\frac{a^\\top b}{||a||_2\\cdot||b||_2}, \\,\\, \\text{where}\\,\\, ||a||_2 = \\sqrt{\\sum_i a_i^2} $$"
   ],
   "metadata": {}
  },
  {
   "cell_type": "code",
   "execution_count": 52,
   "source": [
    "def cal_euclidean(a, b):\n",
    "  return np.sqrt(np.sum((a-b)**2))\n",
    "\n",
    "def cal_manhattan(a, b):\n",
    "  return np.sum(np.abs(a-b))\n",
    "\n",
    "def cal_cosine(a, b):\n",
    "  return 1 - np.dot(a, b) / np.sqrt(np.sum(a**2)) / np.sqrt(np.sum(b**2))"
   ],
   "outputs": [],
   "metadata": {}
  },
  {
   "cell_type": "markdown",
   "source": [
    "Check yourself"
   ],
   "metadata": {}
  },
  {
   "cell_type": "code",
   "execution_count": 53,
   "source": [
    "a = np.ones(10)*0.1\n",
    "b = np.ones(10)\n",
    "\n",
    "assert np.allclose(cal_euclidean(a, b), 2.846049)\n",
    "assert np.allclose(cal_manhattan(a, b), 9)\n",
    "assert np.allclose(cal_cosine(a, b), 0)"
   ],
   "outputs": [],
   "metadata": {}
  },
  {
   "cell_type": "markdown",
   "source": [
    "---\n",
    "**Task 3** (0.5 points) <br/>\n",
    "Create a function `custom_scaler`, which takes as input an array with integer values and transforms an array, so that:\n",
    "* Maximum element(s) value is 2 (it **doesn't** mean `a[max_index] = 2`)\n",
    "* Minimum element(s) value is -2 (it **doesn't** mean `a[min_index] = -2`)\n",
    "* Other values are in the interval [-2, 2] (using **arithmetic** transformations)"
   ],
   "metadata": {}
  },
  {
   "cell_type": "code",
   "execution_count": 54,
   "source": [
    "def custom_scaler(my_array):\n",
    "  my_array -= np.min(my_array)\n",
    "  float_arr = my_array / np.max(my_array)\n",
    "  float_arr *= 4\n",
    "  float_arr -= 2\n",
    "  return float_arr"
   ],
   "outputs": [],
   "metadata": {}
  },
  {
   "cell_type": "markdown",
   "source": [
    "Check yourself"
   ],
   "metadata": {}
  },
  {
   "cell_type": "code",
   "execution_count": 55,
   "source": [
    "test_array = np.random.randint(-100, 100, size=4)\n",
    "result = custom_scaler(test_array)\n",
    "print(test_array, '->>', result)\n",
    "\n",
    "assert np.allclose(np.max(result), 2), f'Maximum value shoul be 2, got {np.max(result)} instead'\n",
    "assert np.allclose(np.min(result), -2), f'Minimum value should be -2, got {np.min(result)} instead'\n",
    "assert np.sum(result < -2) + np.sum(result > 2) == 0, 'All elements are supposed to be between -2 and 2'"
   ],
   "outputs": [
    {
     "output_type": "stream",
     "name": "stdout",
     "text": [
      "[  0 127  39  41] ->> [-2.          2.         -0.77165354 -0.70866142]\n"
     ]
    }
   ],
   "metadata": {}
  },
  {
   "cell_type": "markdown",
   "source": [
    "---\n",
    "**Task 4** (0.5 points) <br/>\n",
    "Create an array with shape of $5 \\times 6$ with integers from [0,50]. Select a column which contains the maximum element of the array."
   ],
   "metadata": {}
  },
  {
   "cell_type": "code",
   "execution_count": 56,
   "source": [
    "my_array = np.random.randint(0, 51, (5,6))\n",
    "max_index = np.unravel_index(np.argmax(my_array), my_array.shape)\n",
    "selected_column = my_array[:, max_index[1]]"
   ],
   "outputs": [],
   "metadata": {}
  },
  {
   "cell_type": "code",
   "execution_count": 57,
   "source": [
    "print(f'Array:\\n {my_array}')\n",
    "print(f'Shape: {my_array.shape}')\n",
    "print(f'Selected column {selected_column}')"
   ],
   "outputs": [
    {
     "output_type": "stream",
     "name": "stdout",
     "text": [
      "Array:\n",
      " [[17 34 12 38 44 36]\n",
      " [11 12 13 12 41  4]\n",
      " [ 0 49 45 29  6  3]\n",
      " [37 25 19 20  8  4]\n",
      " [38  4 26 49  3 36]]\n",
      "Shape: (5, 6)\n",
      "Selected column [34 12 49 25  4]\n"
     ]
    }
   ],
   "metadata": {}
  },
  {
   "cell_type": "markdown",
   "source": [
    "---\n",
    "**Task 5** (0.5 points) <br/>\n",
    "\n",
    "Replace all missing values in the following array with mean."
   ],
   "metadata": {}
  },
  {
   "cell_type": "code",
   "execution_count": 58,
   "source": [
    "arr = np.random.rand(10)\n",
    "idx = np.random.randint(0, 10, 4)\n",
    "arr[idx] = np.nan\n",
    "\n",
    "print(f'Given array: {np.array2string(arr, precision=2)}')"
   ],
   "outputs": [
    {
     "output_type": "stream",
     "name": "stdout",
     "text": [
      "Given array: [0.64 0.05  nan 0.04  nan  nan 0.99 0.62 0.6  0.79]\n"
     ]
    }
   ],
   "metadata": {}
  },
  {
   "cell_type": "code",
   "execution_count": 59,
   "source": [
    "arr[np.isnan(arr)] = np.mean(arr[np.logical_not(np.isnan(arr))])\n",
    "\n",
    "print(f'Result: {np.array2string(arr, precision=2)}')"
   ],
   "outputs": [
    {
     "output_type": "stream",
     "name": "stdout",
     "text": [
      "Result: [0.64 0.05 0.53 0.04 0.53 0.53 0.99 0.62 0.6  0.79]\n"
     ]
    }
   ],
   "metadata": {}
  },
  {
   "cell_type": "markdown",
   "source": [
    "---\n",
    "**Task 6** (0.5 points) <br/>\n",
    "Create a function which takes an image ```X``` (3D array of the shape (n, m, 3)) as an input and returns the mean for each of 3 channels (a vector of shape 3)."
   ],
   "metadata": {}
  },
  {
   "cell_type": "code",
   "execution_count": 60,
   "source": [
    "def mean_channel(X):\n",
    "  return np.mean(X, (0,1))"
   ],
   "outputs": [],
   "metadata": {}
  },
  {
   "cell_type": "code",
   "execution_count": 61,
   "source": [
    "n = 28\n",
    "m = 16\n",
    "X = np.random.randint(-10, 10, size=(n,m,3))\n",
    "mean_channel(X)"
   ],
   "outputs": [
    {
     "output_type": "execute_result",
     "data": {
      "text/plain": [
       "array([-0.15625   , -0.66741071, -0.75446429])"
      ]
     },
     "metadata": {},
     "execution_count": 61
    }
   ],
   "metadata": {}
  },
  {
   "cell_type": "markdown",
   "source": [
    "---\n",
    "**Task 7** (1 points) <br/>\n",
    "Create a function which takes a matrix ```X``` as an input and returns all its unique rows as a matrix, i.e. in a 3D matrix you need to return all unique horizontal layers.\n",
    "\n",
    "Sample input:\n",
    "\n",
    "     ([[[4, 4],\n",
    "        [5, 5]],\n",
    "\n",
    "       [[4, 5],\n",
    "        [5, 5]],\n",
    "\n",
    "       [[4, 4],\n",
    "        [5, 4]],\n",
    "\n",
    "       [[4, 5],\n",
    "        [5, 5]],\n",
    "\n",
    "       [[5, 4],\n",
    "        [4, 4]],\n",
    "\n",
    "       [[5, 5],\n",
    "        [4, 5]]])\n",
    "        \n",
    "Sample output:\n",
    "\n",
    "     ([[[4, 4],\n",
    "        [5, 5]],\n",
    "\n",
    "       [[4, 5],\n",
    "        [5, 5]],\n",
    "\n",
    "       [[4, 4],\n",
    "        [5, 4]],\n",
    "\n",
    "       [[5, 4],\n",
    "        [4, 4]],\n",
    "\n",
    "       [[5, 5],\n",
    "        [4, 5]]])"
   ],
   "metadata": {}
  },
  {
   "cell_type": "code",
   "execution_count": 62,
   "source": [
    "def get_unique_rows(X):\n",
    "  return np.unique(X, axis=0)"
   ],
   "outputs": [],
   "metadata": {}
  },
  {
   "cell_type": "code",
   "execution_count": 63,
   "source": [
    "X = np.array([\n",
    "  [[4, 4],\n",
    "   [5, 5]],\n",
    "\n",
    "  [[4, 5],\n",
    "   [5, 5]],\n",
    "\n",
    "  [[4, 4],\n",
    "   [5, 4]],\n",
    "\n",
    "  [[4, 5],\n",
    "   [5, 5]],\n",
    "\n",
    "  [[5, 4],\n",
    "   [4, 4]],\n",
    "\n",
    "  [[5, 5],\n",
    "   [4, 5]]\n",
    "])\n",
    "\n",
    "Y = np.array([\n",
    "  [[4, 4],\n",
    "   [5, 4]],\n",
    "\n",
    "  [[4, 4],\n",
    "   [5, 5]],\n",
    "\n",
    "  [[4, 5],\n",
    "   [5, 5]],\n",
    "\n",
    "  [[5, 4],\n",
    "   [4, 4]],\n",
    "\n",
    "  [[5, 5],\n",
    "   [4, 5]]\n",
    "])\n",
    "\n",
    "np.allclose(get_unique_rows(X), Y)"
   ],
   "outputs": [
    {
     "output_type": "execute_result",
     "data": {
      "text/plain": [
       "True"
      ]
     },
     "metadata": {},
     "execution_count": 63
    }
   ],
   "metadata": {}
  },
  {
   "cell_type": "markdown",
   "source": [
    "# 3. Pandas & Visualization (4 points)\n"
   ],
   "metadata": {}
  },
  {
   "cell_type": "markdown",
   "source": [
    "You are going to work with *Titanic* dataset which contains information about passengers of Titanic:\n",
    "- **Survived** - 1 - survived, 0 - died (0); **Target variable**\n",
    "- **pclass** - passengers's class;\n",
    "- **sex** - passengers's sex\n",
    "- **Age** - passengers's age in years\n",
    "- **sibsp**    - is the passenger someones siblings   \n",
    "- **parch**    - is the passenger someones child or parent\n",
    "- **ticket** - ticket number    \n",
    "- **fare** - ticket price    \n",
    "- **cabin** - cabin number\n",
    "- **embarked** - port of Embarkation; C = Cherbourg, Q = Queenstown, S = Southampton\n",
    "\n",
    "**Note** for all visualizations use matplotlib or seaborn but NOT plotly! Plotly's graphics sometimes vanish after saving. In this case the task wont't be graded.\n",
    "\n",
    "**Note** support all your answers with necessary code, computations, vizualization, and explanation. Answers without code and explanation won't be graded.\n",
    "\n",
    "**Task 0** (0 points) \\\n",
    "Load the dataset"
   ],
   "metadata": {}
  },
  {
   "cell_type": "code",
   "execution_count": 64,
   "source": [
    "dataset = pd.read_csv(\"titanic.csv\", index_col=0)\n",
    "dataset.head(3)"
   ],
   "outputs": [
    {
     "output_type": "execute_result",
     "data": {
      "text/html": [
       "<div>\n",
       "<style scoped>\n",
       "    .dataframe tbody tr th:only-of-type {\n",
       "        vertical-align: middle;\n",
       "    }\n",
       "\n",
       "    .dataframe tbody tr th {\n",
       "        vertical-align: top;\n",
       "    }\n",
       "\n",
       "    .dataframe thead th {\n",
       "        text-align: right;\n",
       "    }\n",
       "</style>\n",
       "<table border=\"1\" class=\"dataframe\">\n",
       "  <thead>\n",
       "    <tr style=\"text-align: right;\">\n",
       "      <th></th>\n",
       "      <th>Survived</th>\n",
       "      <th>Pclass</th>\n",
       "      <th>Name</th>\n",
       "      <th>Sex</th>\n",
       "      <th>Age</th>\n",
       "      <th>SibSp</th>\n",
       "      <th>Parch</th>\n",
       "      <th>Ticket</th>\n",
       "      <th>Fare</th>\n",
       "      <th>Cabin</th>\n",
       "      <th>Embarked</th>\n",
       "    </tr>\n",
       "    <tr>\n",
       "      <th>PassengerId</th>\n",
       "      <th></th>\n",
       "      <th></th>\n",
       "      <th></th>\n",
       "      <th></th>\n",
       "      <th></th>\n",
       "      <th></th>\n",
       "      <th></th>\n",
       "      <th></th>\n",
       "      <th></th>\n",
       "      <th></th>\n",
       "      <th></th>\n",
       "    </tr>\n",
       "  </thead>\n",
       "  <tbody>\n",
       "    <tr>\n",
       "      <th>1</th>\n",
       "      <td>0</td>\n",
       "      <td>3</td>\n",
       "      <td>Braund, Mr. Owen Harris</td>\n",
       "      <td>male</td>\n",
       "      <td>22.0</td>\n",
       "      <td>1</td>\n",
       "      <td>0</td>\n",
       "      <td>A/5 21171</td>\n",
       "      <td>7.2500</td>\n",
       "      <td>NaN</td>\n",
       "      <td>S</td>\n",
       "    </tr>\n",
       "    <tr>\n",
       "      <th>2</th>\n",
       "      <td>1</td>\n",
       "      <td>1</td>\n",
       "      <td>Cumings, Mrs. John Bradley (Florence Briggs Th...</td>\n",
       "      <td>female</td>\n",
       "      <td>38.0</td>\n",
       "      <td>1</td>\n",
       "      <td>0</td>\n",
       "      <td>PC 17599</td>\n",
       "      <td>71.2833</td>\n",
       "      <td>C85</td>\n",
       "      <td>C</td>\n",
       "    </tr>\n",
       "    <tr>\n",
       "      <th>3</th>\n",
       "      <td>1</td>\n",
       "      <td>3</td>\n",
       "      <td>Heikkinen, Miss. Laina</td>\n",
       "      <td>female</td>\n",
       "      <td>26.0</td>\n",
       "      <td>0</td>\n",
       "      <td>0</td>\n",
       "      <td>STON/O2. 3101282</td>\n",
       "      <td>7.9250</td>\n",
       "      <td>NaN</td>\n",
       "      <td>S</td>\n",
       "    </tr>\n",
       "  </tbody>\n",
       "</table>\n",
       "</div>"
      ],
      "text/plain": [
       "             Survived  Pclass  \\\n",
       "PassengerId                     \n",
       "1                   0       3   \n",
       "2                   1       1   \n",
       "3                   1       3   \n",
       "\n",
       "                                                          Name     Sex   Age  \\\n",
       "PassengerId                                                                    \n",
       "1                                      Braund, Mr. Owen Harris    male  22.0   \n",
       "2            Cumings, Mrs. John Bradley (Florence Briggs Th...  female  38.0   \n",
       "3                                       Heikkinen, Miss. Laina  female  26.0   \n",
       "\n",
       "             SibSp  Parch            Ticket     Fare Cabin Embarked  \n",
       "PassengerId                                                          \n",
       "1                1      0         A/5 21171   7.2500   NaN        S  \n",
       "2                1      0          PC 17599  71.2833   C85        C  \n",
       "3                0      0  STON/O2. 3101282   7.9250   NaN        S  "
      ]
     },
     "metadata": {},
     "execution_count": 64
    }
   ],
   "metadata": {}
  },
  {
   "cell_type": "markdown",
   "source": [
    "---\n",
    "**Task 1** (1 points) <br/>\n",
    "Answer the following questions:\n",
    "    \n",
    "    * Are there any missing values? In which columns?\n",
    "    * How many classes (pclass) were there on Tinanic?\n",
    "    * What is the percentage of survived passengers? Are the classes balanced?\n",
    "    * What is the average ticket fare?\n",
    "    * What was the most popular port of embarkation?\n",
    "Please, write not only the answers but the code, proving it."
   ],
   "metadata": {}
  },
  {
   "cell_type": "code",
   "execution_count": 65,
   "source": [
    "print(\"Are there any missing values? In which columns?\")\n",
    "print(dataset.isna().sum())"
   ],
   "outputs": [
    {
     "output_type": "stream",
     "name": "stdout",
     "text": [
      "Are there any missing values? In which columns?\n",
      "Survived      0\n",
      "Pclass        0\n",
      "Name          0\n",
      "Sex           0\n",
      "Age         177\n",
      "SibSp         0\n",
      "Parch         0\n",
      "Ticket        0\n",
      "Fare          0\n",
      "Cabin       687\n",
      "Embarked      2\n",
      "dtype: int64\n"
     ]
    }
   ],
   "metadata": {}
  },
  {
   "cell_type": "code",
   "execution_count": 66,
   "source": [
    "print(\"How many classes (pclass) were there on Tinanic?\")\n",
    "print(len(dataset[\"Pclass\"].unique()))"
   ],
   "outputs": [
    {
     "output_type": "stream",
     "name": "stdout",
     "text": [
      "How many classes (pclass) were there on Tinanic?\n",
      "3\n"
     ]
    }
   ],
   "metadata": {}
  },
  {
   "cell_type": "code",
   "execution_count": 67,
   "source": [
    "def percentage_of_survived_passengers(ds):\n",
    "  val = sum(ds['Survived'])/len(ds)*100\n",
    "  return f\"{val:.2f}%\"\n",
    "\n",
    "print(\"What is the percentage of survived passengers?\")\n",
    "print(percentage_of_survived_passengers(dataset))\n",
    "\n",
    "print()\n",
    "print(\"Are the classes balanced?\")\n",
    "print(\"class 1 ->\", percentage_of_survived_passengers(dataset[dataset['Pclass'] == 1]))\n",
    "print(\"class 2 ->\", percentage_of_survived_passengers(dataset[dataset['Pclass'] == 2]))\n",
    "print(\"class 3 ->\", percentage_of_survived_passengers(dataset[dataset['Pclass'] == 3]))\n",
    "print(\"No!!\")"
   ],
   "outputs": [
    {
     "output_type": "stream",
     "name": "stdout",
     "text": [
      "What is the percentage of survived passengers?\n",
      "38.38%\n",
      "\n",
      "Are the classes balanced?\n",
      "class 1 -> 62.96%\n",
      "class 2 -> 47.28%\n",
      "class 3 -> 24.24%\n",
      "No!!\n"
     ]
    }
   ],
   "metadata": {}
  },
  {
   "cell_type": "code",
   "execution_count": 68,
   "source": [
    "print(\"What is the average ticket fare?\")\n",
    "print(f\"{dataset['Fare'].mean():.2f}\")"
   ],
   "outputs": [
    {
     "output_type": "stream",
     "name": "stdout",
     "text": [
      "What is the average ticket fare?\n",
      "32.20\n"
     ]
    }
   ],
   "metadata": {}
  },
  {
   "cell_type": "code",
   "execution_count": 69,
   "source": [
    "print(\"What was the most popular port of embarkation?\")\n",
    "print(dataset['Embarked'].mode()[0])"
   ],
   "outputs": [
    {
     "output_type": "stream",
     "name": "stdout",
     "text": [
      "What was the most popular port of embarkation?\n",
      "S\n"
     ]
    }
   ],
   "metadata": {}
  },
  {
   "cell_type": "markdown",
   "source": [
    "---\n",
    "**Task 2** (1 points) <br/>\n",
    "Find all the titles of the passengers (example, *Capt., Mr.,Mme.*), which are written in the column `Name`, and answer the following questions:\n",
    "\n",
    "    * How many are there unique titles?\n",
    "    * How many are there passengers with every title?\n",
    "    * What is the most popular man's title? And woman's title?\n",
    "    \n",
    "**Hint** You may select the title from the name as a word which contains a dot."
   ],
   "metadata": {}
  },
  {
   "cell_type": "code",
   "execution_count": 70,
   "source": [
    "dataset['Title'] = dataset['Name'].str.extract(r' ([a-zA-Z]+\\.) ')\n",
    "\n",
    "print(\"How many are there unique titles?\")\n",
    "print(dataset['Title'].nunique())\n",
    "\n",
    "print()\n",
    "print(\"How many are there passengers with every title?\")\n",
    "print(dataset['Title'].value_counts())\n",
    "\n",
    "print()\n",
    "print(\"What is the most popular man's title? And woman's title?\")\n",
    "print(\"male ->\", dataset[dataset['Sex'] == 'male']['Title'].value_counts().idxmax())\n",
    "print(\"female ->\", dataset[dataset['Sex'] == 'female']['Title'].value_counts().idxmax())"
   ],
   "outputs": [
    {
     "output_type": "stream",
     "name": "stdout",
     "text": [
      "How many are there unique titles?\n",
      "17\n",
      "\n",
      "How many are there passengers with every title?\n",
      "Mr.          517\n",
      "Miss.        182\n",
      "Mrs.         125\n",
      "Master.       40\n",
      "Dr.            7\n",
      "Rev.           6\n",
      "Major.         2\n",
      "Mlle.          2\n",
      "Col.           2\n",
      "Jonkheer.      1\n",
      "Ms.            1\n",
      "Don.           1\n",
      "Lady.          1\n",
      "Capt.          1\n",
      "Countess.      1\n",
      "Mme.           1\n",
      "Sir.           1\n",
      "Name: Title, dtype: int64\n",
      "\n",
      "What is the most popular man's title? And woman's title?\n",
      "male -> Mr.\n",
      "female -> Miss.\n"
     ]
    }
   ],
   "metadata": {}
  },
  {
   "cell_type": "markdown",
   "source": [
    "---\n",
    "**Task 3** (0.5 points) <br/>\n",
    "Visualize age distribution (you may use a histogram, for example). \n",
    "\n",
    "    * What is the minimal and maximum ages of the passengers? Visualize it on the plot\n",
    "    * What is the mean age? Visualize it on the plot\n",
    "    * Make conclusions about what you see on the plot"
   ],
   "metadata": {}
  },
  {
   "cell_type": "code",
   "execution_count": 71,
   "source": [
    "dataset[\"Age\"].hist(bins=20)\n",
    "mage = dataset['Age'].mean()\n",
    "print(f\"mean age -> {mage:.2f}\")\n",
    "plt.plot((mage,mage), (0, 100))\n",
    "plt.show()\n",
    "print(\"распределение похоже на нормальное, только детей много\")"
   ],
   "outputs": [
    {
     "output_type": "stream",
     "name": "stdout",
     "text": [
      "mean age -> 29.70\n"
     ]
    },
    {
     "output_type": "display_data",
     "data": {
      "image/png": "[encoded data removed]",
      "text/plain": [
       "<Figure size 432x288 with 1 Axes>"
      ]
     },
     "metadata": {
      "needs_background": "light"
     }
    },
    {
     "output_type": "stream",
     "name": "stdout",
     "text": [
      "распределение похоже на нормальное, только детей много\n"
     ]
    }
   ],
   "metadata": {}
  },
  {
   "cell_type": "markdown",
   "source": [
    "---\n",
    "**Task 4** (0.5 points) <br/>\n",
    "Visualize age distribution for survived and not survived passengers separately and calculate the mean age for each class. Are they different? Make conclusions about what you see on the plot"
   ],
   "metadata": {}
  },
  {
   "cell_type": "code",
   "execution_count": 72,
   "source": [
    "sns.histplot(x=\"Age\", hue=\"Survived\", data=dataset, multiple=\"stack\")\n",
    "survived_mage = dataset[dataset['Survived'] == 1]['Age'].mean()\n",
    "dead_mage = dataset[dataset['Survived'] == 0]['Age'].mean()\n",
    "plt.plot((dead_mage,dead_mage), (0, 100), color='C0')\n",
    "plt.plot((survived_mage,survived_mage), (0, 100), color='C1')\n",
    "plt.show()\n",
    "print(\"your chance of survival doesnt depend on your age, unless you are a baby\")"
   ],
   "outputs": [
    {
     "output_type": "display_data",
     "data": {
      "image/png": "[encoded data removed]",
      "text/plain": [
       "<Figure size 432x288 with 1 Axes>"
      ]
     },
     "metadata": {
      "needs_background": "light"
     }
    },
    {
     "output_type": "stream",
     "name": "stdout",
     "text": [
      "your chance of survival doesnt depend on your age, unless you are a baby\n"
     ]
    }
   ],
   "metadata": {}
  },
  {
   "cell_type": "code",
   "execution_count": 73,
   "source": [
    "print(f\"class 1 -> mean age {dataset[dataset['Pclass'] == 1]['Age'].mean():.2f}\")\n",
    "print(f\"class 2 -> mean age {dataset[dataset['Pclass'] == 2]['Age'].mean():.2f}\")\n",
    "print(f\"class 3 -> mean age {dataset[dataset['Pclass'] == 3]['Age'].mean():.2f}\")\n",
    "print(\"the older you are the more likely you are to be rich\")"
   ],
   "outputs": [
    {
     "output_type": "stream",
     "name": "stdout",
     "text": [
      "class 1 -> mean age 38.23\n",
      "class 2 -> mean age 29.88\n",
      "class 3 -> mean age 25.14\n",
      "the older you are the more likely you are to be rich\n"
     ]
    }
   ],
   "metadata": {}
  },
  {
   "cell_type": "markdown",
   "source": [
    "---\n",
    "**Task 5** (0.5 points) <br/>\n",
    "Is there correlation between the port of embarkation and the ticket price? Calculate mean price for each port and visualize price distribution for each port. Make conclusions about what you see on the plot\n",
    "\n",
    "Hint: you could make one or several plot types i.e.  box, violine, pair, histogram (see additional notebooks for Seminar 1 \"Visualization with Seaborn\"). The main point here is to **choose** plots wisely and **make meaningful conclusions**\n",
    "\n"
   ],
   "metadata": {}
  },
  {
   "cell_type": "code",
   "execution_count": 74,
   "source": [
    "print(f\"prot C -> mean fare {dataset[dataset['Embarked'] == 'C']['Fare'].mean():.2f}\")\n",
    "print(f\"prot Q -> mean fare {dataset[dataset['Embarked'] == 'Q']['Fare'].mean():.2f}\")\n",
    "print(f\"prot S -> mean fare {dataset[dataset['Embarked'] == 'S']['Fare'].mean():.2f}\")\n",
    "\n",
    "dataset.boxplot(\"Fare\", by=\"Embarked\")\n",
    "plt.show() # C = Cherbourg, Q = Queenstown, S = Southampton\n",
    "print(\"Queenstown is the chepest port, and Cherbourg is the most expensive and also has a lot of huge outliers\")"
   ],
   "outputs": [
    {
     "output_type": "stream",
     "name": "stdout",
     "text": [
      "prot C -> mean fare 59.95\n",
      "prot Q -> mean fare 13.28\n",
      "prot S -> mean fare 27.08\n"
     ]
    },
    {
     "output_type": "display_data",
     "data": {
      "image/png": "[encoded data removed]",
      "text/plain": [
       "<Figure size 432x288 with 1 Axes>"
      ]
     },
     "metadata": {
      "needs_background": "light"
     }
    },
    {
     "output_type": "stream",
     "name": "stdout",
     "text": [
      "Queenstown is the chepest port, and Cherbourg is the most expensive and also has a lot of huge outliers\n"
     ]
    }
   ],
   "metadata": {}
  },
  {
   "cell_type": "markdown",
   "source": [
    "---\n",
    "**Task 6** (0.5 points) <br/>\n",
    "The same question as in task 5 about correlation between *pclass* and *ticket priсe*."
   ],
   "metadata": {}
  },
  {
   "cell_type": "code",
   "execution_count": 75,
   "source": [
    "print(f\"class 1 -> mean fare {dataset[dataset['Pclass'] == 1]['Fare'].mean():.2f}\")\n",
    "print(f\"class 2 -> mean fare {dataset[dataset['Pclass'] == 2]['Fare'].mean():.2f}\")\n",
    "print(f\"class 3 -> mean fare {dataset[dataset['Pclass'] == 3]['Fare'].mean():.2f}\")\n",
    "\n",
    "dataset.boxplot(\"Fare\", by=\"Pclass\")\n",
    "plt.show()\n",
    "print(\"Well obviously class corelates with ticket price. If we look at the boxes in the boxplot, the bottom of the 1st class box is higher then the top of the 2nd class box and so on\")"
   ],
   "outputs": [
    {
     "output_type": "stream",
     "name": "stdout",
     "text": [
      "class 1 -> mean fare 84.15\n",
      "class 2 -> mean fare 20.66\n",
      "class 3 -> mean fare 13.68\n"
     ]
    },
    {
     "output_type": "display_data",
     "data": {
      "image/png": "[encoded data removed]",
      "text/plain": [
       "<Figure size 432x288 with 1 Axes>"
      ]
     },
     "metadata": {
      "needs_background": "light"
     }
    },
    {
     "output_type": "stream",
     "name": "stdout",
     "text": [
      "Well obviously class corelates with ticket price. If we look at the boxes in the boxplot, the bottom of the 1st class box is higher then the top of the 2nd class box and so on\n"
     ]
    }
   ],
   "metadata": {}
  }
 ],
 "metadata": {
  "kernelspec": {
   "name": "python3",
   "display_name": "Python 3.8.3 64-bit"
  },
  "language_info": {
   "codemirror_mode": {
    "name": "ipython",
    "version": 3
   },
   "file_extension": ".py",
   "mimetype": "text/x-python",
   "name": "python",
   "nbconvert_exporter": "python",
   "pygments_lexer": "ipython3",
   "version": "3.8.3"
  },
  "interpreter": {
   "hash": "f23faf4bfe871c203c8bec80520af5927fc7cb1ae3bd834ddf554ee587ad1c05"
  }
 },
 "nbformat": 4,
 "nbformat_minor": 4
}