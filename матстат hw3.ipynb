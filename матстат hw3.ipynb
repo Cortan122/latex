{
 "metadata": {
  "language_info": {
   "codemirror_mode": {
    "name": "ipython",
    "version": 3
   },
   "file_extension": ".py",
   "mimetype": "text/x-python",
   "name": "python",
   "nbconvert_exporter": "python",
   "pygments_lexer": "ipython3",
   "version": "3.8.3"
  },
  "orig_nbformat": 2,
  "kernelspec": {
   "name": "python37464bitca197193424a4bb4a47592f0b4967e67",
   "display_name": "Python 3.7.4 64-bit",
   "language": "python"
  }
 },
 "nbformat": 4,
 "nbformat_minor": 2,
 "cells": [
  {
   "source": [
    "# Задача №3\n",
    "\n",
    "> В былые дни возле станции метро «Площадь Революции» проводились различные\n",
    "обследования (опросы и дегустации), за участие в которых можно было получить коробку конфет,\n",
    "шоколадку, бутылку пива или даже торт. Представьте себя на месте добрых людей, раздающих эти\n",
    "продукты.\n",
    "\n",
    "> Производитель газированной воды, планирующий продвижение нового товара (вода A),\n",
    "заказал вам малое обследование потенциальных потребителей. Вы уже собрали нужные данные и\n",
    "записали их в файл «Данные к задаче 3.ods»:\n",
    "\n",
    "> a — общая оценка респондентом воды A по семибалльной шкале (1 — совсем не понравилось, 7 — превосходно);\n",
    "\n",
    "> b — оценка респондентом воды B (предполагаемого конкурента);\n",
    "\n",
    "> sex — пол респондента (0 — мужской, 1 — женский).\n"
   ],
   "cell_type": "markdown",
   "metadata": {}
  },
  {
   "cell_type": "code",
   "execution_count": 24,
   "metadata": {},
   "outputs": [],
   "source": [
    "sex = [0,1,1,1,0,1,1,0,0,1,0,1,0,1,1,1,0,0,0,0,0,1,0,0,1,0,0,0,1,1,1,1,0,1,1,1,0,1,0,0,0,0,0,1,0,1,0,0]\n",
    "a   = [4,7,5,5,4,3,7,5,3,4,3,7,5,7,3,7,7,3,4,6,5,5,1,1,2,3,5,3,5,5,6,6,4,4,6,5,4,5,4,1,7,3,3,7,3,7,3,2]\n",
    "b   = [4,3,3,4,4,5,3,4,6,6,7,4,5,5,4,4,4,5,5,7,5,4,5,5,4,5,5,6,3,4,4,4,4,5,4,5,4,4,5,4,4,4,4,4,5,3,5,4]"
   ]
  },
  {
   "source": [
    "в этих данных есть случаи с совпадающими рангами, но наши статистические критерии для этого неприспособленны.\n",
    "поэтому нам надо будет выкинуть эти ничьи из данных.\n",
    "это конечно грустно что мы выкидываем хорошие данные, которые никого не обидели, и что у нас изза этого будет меньше размер выборки, но критериев, которые умеют работать с такими ничьими, никто ещё непридумал/мы ещё незнаем/некому ненужны."
   ],
   "cell_type": "markdown",
   "metadata": {}
  },
  {
   "cell_type": "code",
   "execution_count": 25,
   "metadata": {},
   "outputs": [
    {
     "output_type": "stream",
     "name": "stdout",
     "text": [
      "как грустно мы потеряли целых 8 элементов из нашей выборки(\n"
     ]
    }
   ],
   "source": [
    "# нам надо склеить наши три масива в один массив троек,\n",
    "# чтобы когда мы выкидывали из него лишнее, у нас точно всё выкинулось сразу\n",
    "rawdata = list(zip(a, b, sex))\n",
    "data = [e for e in rawdata if e[0] != e[1]]\n",
    "\n",
    "print(f\"как грустно мы потеряли целых {len(rawdata)-len(data)} элементов из нашей выборки(\")"
   ]
  },
  {
   "source": [
    "# Пунтк а\n",
    "а) Есть ли основание считать, что потенциальный потребитель предпочитает воду A воде B?\n",
    "\n",
    "Для ответа на первый вопрос решено использовать критерий знаков. Выбран уровень значимости $10\\%$\n",
    "\n",
    "$$ H_0: P(a_i < b_i) = P(a_i > b_i) $$\n",
    "$$ H_1: P(a_i < b_i) < P(a_i > b_i) $$\n",
    "\n",
    "у нас $n>30$ и в табличке таких критических значений уже нет,\n",
    "поэтому нам нужно использовать нормальное приближение\n",
    "\n",
    "$$ Z = \\frac{2n^--n}{\\sqrt{n}} \\sim N(0,\\, 1) $$"
   ],
   "cell_type": "markdown",
   "metadata": {}
  },
  {
   "cell_type": "code",
   "execution_count": 26,
   "metadata": {},
   "outputs": [
    {
     "output_type": "display_data",
     "data": {
      "text/plain": "<IPython.core.display.Math object>",
      "text/latex": "$\\displaystyle n = 40$"
     },
     "metadata": {}
    },
    {
     "output_type": "display_data",
     "data": {
      "text/plain": "<IPython.core.display.Math object>",
      "text/latex": "$\\displaystyle n^- = 21$"
     },
     "metadata": {}
    },
    {
     "output_type": "display_data",
     "data": {
      "text/plain": "<IPython.core.display.Math object>",
      "text/latex": "$\\displaystyle Z = 0.31622776601683794$"
     },
     "metadata": {}
    },
    {
     "output_type": "display_data",
     "data": {
      "text/plain": "<IPython.core.display.Math object>",
      "text/latex": "$\\displaystyle Z_\\alpha = -1.2815515655446004$"
     },
     "metadata": {}
    }
   ],
   "source": [
    "from IPython.display import display, Math\n",
    "from scipy.stats import norm\n",
    "\n",
    "n = len(data)\n",
    "nminus = sum(1 for e in data if e[0] - e[1] < 0)\n",
    "Z = (2*nminus-n)/n**.5\n",
    "\n",
    "display(Math(f\"n = {n}\"))\n",
    "display(Math(f\"n^- = {nminus}\"))\n",
    "display(Math(f\"Z = {Z}\"))\n",
    "display(Math(f\"Z_\\\\alpha = {norm.ppf(.1)}\"))"
   ]
  },
  {
   "source": [
    "$Z$ получился больше $Z_\\alpha$ и поэтому мы неможем отвергнуть гипотезу $H_0$\n",
    "\n",
    "оснований считать что «потенциальный потребитель предпочитает воду A воде B» у нас нету"
   ],
   "cell_type": "markdown",
   "metadata": {}
  },
  {
   "source": [
    "# Пункт б\n",
    "б) Связано ли отношение к воде A с полом потребителя? От этого зависит стратегия продвижения товара.\n",
    "\n",
    "Для ответа на второй вопрос решено использовать критерий ранговых сумм Уилкоксона. Выбран уровень значимости $10\\%$"
   ],
   "cell_type": "markdown",
   "metadata": {}
  },
  {
   "cell_type": "code",
   "execution_count": 27,
   "metadata": {},
   "outputs": [],
   "source": [
    "# я хз что тут делать тк \"критерий ранговых сумм Уилкоксона\" нам на лекции недловали а гооглить мне лень\n",
    "# upd: прошло 3 недели и у меня получилось чтото загооглить"
   ]
  },
  {
   "source": [
    "критерий ранговых сумм Уилкоксона сравнивает две выборки разного размера.\n",
    "чтобы нам получить такие выборки, нам нужно нашу изначальную разбить по sex-у.\n",
    "тогда у нас получатся две выборки из пар оценок воды А и воды В.\n",
    "но Уилкоксон хочет выборки чисел.\n",
    "\n",
    "тут надо очень внимательно читать условие, потоумчто в нём написано «отношение к воде A»,\n",
    "и надо както додуматься что это означает «мы можем выкинуть воду В; она нам ненужна»."
   ],
   "cell_type": "markdown",
   "metadata": {}
  },
  {
   "cell_type": "code",
   "execution_count": 28,
   "metadata": {},
   "outputs": [
    {
     "output_type": "display_data",
     "data": {
      "text/plain": "<IPython.core.display.Math object>",
      "text/latex": "$\\displaystyle x = \\{4,\\, 4,\\, 5,\\, 3,\\, 3,\\, 5,\\, 7,\\, 3,\\, 4,\\, 6,\\, 5,\\, 1,\\, 1,\\, 3,\\, 5,\\, 3,\\, 4,\\, 4,\\, 4,\\, 1,\\, 7,\\, 3,\\, 3,\\, 3,\\, 3,\\, 2\\}$"
     },
     "metadata": {}
    },
    {
     "output_type": "display_data",
     "data": {
      "text/plain": "<IPython.core.display.Math object>",
      "text/latex": "$\\displaystyle y = \\{7,\\, 5,\\, 5,\\, 3,\\, 7,\\, 4,\\, 7,\\, 7,\\, 3,\\, 7,\\, 5,\\, 2,\\, 5,\\, 5,\\, 6,\\, 6,\\, 4,\\, 6,\\, 5,\\, 5,\\, 7,\\, 7\\}$"
     },
     "metadata": {}
    }
   ],
   "source": [
    "sex0 = [e[0] for e in rawdata if e[2] == 0]\n",
    "sex1 = [e[0] for e in rawdata if e[2] == 1]\n",
    "\n",
    "display(Math(r\"x = \\{%s\\}\" % r\",\\, \".join(map(str, sex0))))\n",
    "display(Math(r\"y = \\{%s\\}\" % r\",\\, \".join(map(str, sex1))))"
   ]
  },
  {
   "source": [
    "$$ H_0: P(x < y) = \\frac{1}{2} $$\n",
    "$$ H_1: P(x < y) \\neq \\frac{1}{2} $$"
   ],
   "cell_type": "markdown",
   "metadata": {}
  },
  {
   "source": [
    "только мы успели разбить наш масив на две выборки, как теперь Уилкоксон хочет объединить их назад и посчитаь там ранги.\n",
    "мне лень склеивать их обратно можно, просто взять наш старый `rawdata` и выкинуть из него воду В."
   ],
   "cell_type": "markdown",
   "metadata": {}
  },
  {
   "cell_type": "code",
   "execution_count": 31,
   "metadata": {},
   "outputs": [],
   "source": [
    "# оказывается scipy умеет сам считать ранги \n",
    "# ненадо извращаться с np.argsort().argsort()\n",
    "from scipy.stats import rankdata\n",
    "import numpy as np\n",
    "\n",
    "# тут мы создаём масиив с 3мя колонками, где 3ия зарезервирована под ранги\n",
    "sexdata = np.array(sorted((e[0], e[2], 0.) for e in rawdata))\n",
    "sexdata[:,2] = rankdata(sexdata[:,0])"
   ]
  },
  {
   "source": [
    "теперь нам надо найти сумму рангов для каждого из sex-ов.\n",
    "$$ R_x = \\sum_{i=0} r(x_i) $$\n",
    "$$ R_y = \\sum_{i=0} r(y_i) $$\n",
    "\n",
    "потом мы выбираем как критерий $W$ ту сумму рангов, которой соответствует выборка меньшего размера.\n",
    "\n",
    "$$ W = \\begin{cases} R_x & \\textrm{if } |x| < |y| \\\\ R_y & \\textrm{else} \\end{cases} $$"
   ],
   "cell_type": "markdown",
   "metadata": {}
  },
  {
   "cell_type": "code",
   "execution_count": 34,
   "metadata": {},
   "outputs": [
    {
     "output_type": "display_data",
     "data": {
      "text/plain": "<IPython.core.display.Math object>",
      "text/latex": "$\\displaystyle W = 698.0$"
     },
     "metadata": {}
    }
   ],
   "source": [
    "ranksum0 = sum(sexdata[sexdata[:,1] == 0, 2])\n",
    "ranksum1 = sum(sexdata[sexdata[:,1] == 1, 2])\n",
    "\n",
    "W = ranksum0 if len(sex0) < len(sex1) else ranksum1\n",
    "display(Math(f\"W = {W}\"))"
   ]
  },
  {
   "source": [
    "вот мы нашли статистику $W$ и теперь нам осталось только рассчитать критические значения.\n",
    "их можно найти в таблице зная `len(sex0)`, `len(sex1)` и $\\alpha$.\n",
    "у нас они $22$, $26$ и $0.1$ соответственно.\n",
    "в таблице у нас таких значений нет и нам придётся счиать ручками.\n",
    "\n",
    "$$W_{Left} \\approx  int \\left( \\dfrac{m\\left( m+n+1\\right)-1 }{2} - \\Psi\\left( 1-0.5\\alpha\\right)\\cdot\\sqrt{\\dfrac{mn\\left( m+n+1\\right) }{12}} \\right)$$\n",
    "$$W_{Right} \\approx  m\\left( m+n+1\\right) - W_{Left}$$"
   ],
   "cell_type": "markdown",
   "metadata": {}
  },
  {
   "cell_type": "code",
   "execution_count": 43,
   "metadata": {},
   "outputs": [
    {
     "output_type": "display_data",
     "data": {
      "text/plain": "<IPython.core.display.Math object>",
      "text/latex": "$\\displaystyle n = 26$"
     },
     "metadata": {}
    },
    {
     "output_type": "display_data",
     "data": {
      "text/plain": "<IPython.core.display.Math object>",
      "text/latex": "$\\displaystyle m = 22$"
     },
     "metadata": {}
    },
    {
     "output_type": "display_data",
     "data": {
      "text/plain": "<IPython.core.display.Math object>",
      "text/latex": "$\\displaystyle Ψ(1-0.5\\alpha) = 1.64$"
     },
     "metadata": {}
    },
    {
     "output_type": "display_data",
     "data": {
      "text/plain": "<IPython.core.display.Math object>",
      "text/latex": "$\\displaystyle W_{Left} \\approx 459$"
     },
     "metadata": {}
    },
    {
     "output_type": "display_data",
     "data": {
      "text/plain": "<IPython.core.display.Math object>",
      "text/latex": "$\\displaystyle W_{Right} \\approx 619$"
     },
     "metadata": {}
    }
   ],
   "source": [
    "m = min(len(sex0), len(sex1))\n",
    "n = max(len(sex0), len(sex1))\n",
    "\n",
    "# Ψ это norm.ppf \n",
    "\n",
    "display(Math(f\"n = {n}\"))\n",
    "display(Math(f\"m = {m}\"))\n",
    "display(Math(f\"Ψ(1-0.5\\\\alpha) = {norm.ppf(0.95):.2f}\"))\n",
    "\n",
    "wleft = int((m*(m+n+1)-1)/2 - norm.ppf(0.95)*(m*n*(m+n+1)/12)**.5)\n",
    "display(Math(f\"W_{'{Left}'} \\\\approx {wleft}\"))\n",
    "display(Math(f\"W_{'{Right}'} \\\\approx {m*(m+n+1) - wleft}\"))"
   ]
  },
  {
   "source": [
    "$W$ в этот интеравал у нас непопадает, и поэтому мы можем опровергнуть нулевую гипотезу и сделать вывод\n",
    "что отношение к воде A связано с полом потребителя."
   ],
   "cell_type": "markdown",
   "metadata": {}
  }
 ]
}