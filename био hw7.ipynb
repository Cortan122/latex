{
 "cells": [
  {
   "cell_type": "markdown",
   "id": "d03a49a0",
   "metadata": {},
   "source": [
    "# Геном вируса\n",
    "\n",
    "Я выбрал вирус `Ralstonia phage Cimandef`. Это `dsDNA` вирус бактериофаг. Его RefSeq геном [NC_054956](https://www.ncbi.nlm.nih.gov/nuccore/NC_054956)"
   ]
  },
  {
   "cell_type": "code",
   "execution_count": 6,
   "id": "2783034f",
   "metadata": {},
   "outputs": [
    {
     "name": "stdout",
     "output_type": "stream",
     "text": [
      ""
     ]
    },
    {
     "ename": "",
     "evalue": "1",
     "output_type": "error",
     "traceback": []
    }
   ],
   "source": [
    "# скачиваем геном\n",
    "./ncbidl.sh NC_054956.1.fasta\n",
    "# скачиваем разметку генами\n",
    "./ncbidl.sh NC_054956.1.gff3"
   ]
  },
  {
   "cell_type": "markdown",
   "id": "0c0172cc",
   "metadata": {},
   "source": [
    "# Участки Z-ДНК"
   ]
  },
  {
   "cell_type": "code",
   "execution_count": 7,
   "id": "eb951696",
   "metadata": {},
   "outputs": [
    {
     "name": "stdout",
     "output_type": "stream",
     "text": [
      "dinucleotides 12\n",
      "min/max 8 12\n",
      "min/max 8 12\n",
      "operating on NC_054956.1.fasta\n",
      "calculating zscore\n",
      "opening NC_054956.1.fasta\n",
      "inputting sequence\n",
      "opening NC_054956.1.fasta.Z-SCORE\n",
      "\n",
      " run time=9 sec\n",
      "use min/max 8 12\n",
      "analyzing_zscore\n",
      "opening NC_054956.1.fasta.Z-SCORE\n",
      "opening NC_054956.1.fasta\n",
      "inputting sequence"
     ]
    },
    {
     "ename": "",
     "evalue": "1",
     "output_type": "error",
     "traceback": []
    }
   ],
   "source": [
    "# запускаем zhunt\n",
    "./zhunt2 12 8 12 NC_054956.1.fasta"
   ]
  },
  {
   "cell_type": "markdown",
   "id": "c0ed37ed",
   "metadata": {},
   "source": [
    "Получилась таблица с полями `Start, End, 3, 4, 5, Z-Score, Sequence, 8`.\n",
    "Поля 3, 4, 5 и 8 нам не нужны.\n",
    "Первой строкой идёт заголовок с описанием всего генома, и он нам тоже не нужен."
   ]
  },
  {
   "cell_type": "code",
   "execution_count": 8,
   "id": "cedc80f8",
   "metadata": {
    "scrolled": false
   },
   "outputs": [
    {
     "name": "stdout",
     "output_type": "stream",
     "text": [
      "NC_054956.1.fasta 55186 8 12\n",
      "1 17 16  31.409  26.681 2.593198e-01 ncatnaagcanctgna   SASAASASASASASAS\n",
      "2 18 16  32.446   9.846 1.522824e-01 catnaagcanctgnat   ASSASASASASASASA\n",
      "3 19 16  31.425  26.041 2.575059e-01 atnaagcanctgnatt   SAASASASASASASAS\n",
      "4 28 24  34.614  19.197 3.409497e-02 tnaagcanctgnattgttgggcgg   SASASASASASASASASASASASA\n",
      "5 21 16  31.326   3.116 2.693018e-01 naagcanctgnattgt   ASASASASASSASASA\n",
      "6 30 24  30.270   1.854 4.104079e-01 aagcanctgnattgttgggcgggc   SASASASASASASASASASASASA\n",
      "7 31 24  27.814  11.324 4.010115e+00 agcanctgnattgttgggcgggcc   ASASASASASASASASASASASAS\n",
      "8 30 22  27.495   7.488 4.679213e+00 gcanctgnattgttgggcgggc   SASASASASASASASASASASA\n",
      "9 31 22  27.121  18.057 5.685565e+00 canctgnattgttgggcgggcc   ASASASSASAASASASASASAS"
     ]
    },
    {
     "ename": "",
     "evalue": "1",
     "output_type": "error",
     "traceback": []
    }
   ],
   "source": [
    "head NC_054956.1.fasta.Z-SCORE"
   ]
  },
  {
   "cell_type": "markdown",
   "id": "564a208c",
   "metadata": {},
   "source": [
    "Теперь нужно отфильтровать таблицу чтобы остались только участки, у которых Z-Score больше некоторого порога.\n",
    "Я выбрал порог $400$."
   ]
  },
  {
   "cell_type": "code",
   "execution_count": 9,
   "id": "f59fc1f8",
   "metadata": {},
   "outputs": [
    {
     "name": "stdout",
     "output_type": "stream",
     "text": [
      "   2181   17448  185028"
     ]
    },
    {
     "ename": "",
     "evalue": "1",
     "output_type": "error",
     "traceback": []
    }
   ],
   "source": [
    "# фильтруем Z-Score (6ая колонка) > 400 и считаем количество совпадений\n",
    "awk '$6 > 400' NC_054956.1.fasta.Z-SCORE | wc"
   ]
  },
  {
   "cell_type": "markdown",
   "id": "ce7bc0c1",
   "metadata": {},
   "source": [
    "Получилось 2181 совпадений. Это много. А нам нужно искать в какие гены оно всё попадает. \n",
    "Нахождение пересечения разметок можно сделать через `bedtools`.\n",
    "Но они работают только с форматом `.bed`.\n",
    "К счастью это очень простой формат.\n",
    "В нём важны только первые три колонки.\n",
    "`Хромосома/геном, Начало, Конец`"
   ]
  },
  {
   "cell_type": "code",
   "execution_count": 10,
   "id": "0ef8909c",
   "metadata": {},
   "outputs": [
    {
     "name": "stdout",
     "output_type": "stream",
     "text": [
      "\u001b[?2004h\u001b[?2004l\u001b[?2004l"
     ]
    },
    {
     "ename": "",
     "evalue": "1",
     "output_type": "error",
     "traceback": []
    }
   ],
   "source": [
    "# скачиваем bedtools\n",
    "curl -sL 'https://github.com/arq5x/bedtools2/releases/download/v2.30.0/bedtools.static.binary' -o bedtools\n",
    "chmod +x bedtools"
   ]
  },
  {
   "cell_type": "markdown",
   "id": "7448b4b1",
   "metadata": {},
   "source": [
    "Сначало надо сконвертировать `.gff3` в `.bed`. Для этого существуют автоматические инструменты но их сложно скачивать и они создают таблице с кучей лишней информации, котороя нам не нужна. Лучше просто выбрать нужные колонки из `.gff3` через `awk`."
   ]
  },
  {
   "cell_type": "code",
   "execution_count": 11,
   "id": "f990479c",
   "metadata": {},
   "outputs": [
    {
     "name": "stdout",
     "output_type": "stream",
     "text": [
      "  66  264 2578 genes.bed\u001b[?2004l"
     ]
    },
    {
     "ename": "",
     "evalue": "1",
     "output_type": "error",
     "traceback": []
    }
   ],
   "source": [
    "# нам нужны 1ая (Геном), 4ая (Начало), 5ая (Конец) и 11ая (Название гена) колонки\n",
    "# также нам нужны только те ряды, где 3ая колонка (тип последовательности) — ген\n",
    "awk -v OFS='\\t' -F'[;\\t ]' '$3 == \"gene\" {print $1, $4, $5, $11}' NC_054956.1.gff3 > genes.bed\n",
    "wc genes.bed"
   ]
  },
  {
   "cell_type": "markdown",
   "id": "2762c3b4",
   "metadata": {},
   "source": [
    "Всего получилось 66 генов.\n",
    "Теперь тоже самое надо сделать с `.Z-SCORE`-ом. Тут у нас нет выбора и придётся делать ручками."
   ]
  },
  {
   "cell_type": "code",
   "execution_count": 12,
   "id": "cabd63c3",
   "metadata": {},
   "outputs": [
    {
     "name": "stdout",
     "output_type": "stream",
     "text": [
      "\u001b[?2004h\u001b[?2004l\u001b[?2004l"
     ]
    },
    {
     "ename": "",
     "evalue": "1",
     "output_type": "error",
     "traceback": []
    }
   ],
   "source": [
    "# тут берём заглушку с \"NC_054956.1\", 1ую и 2ую колонку\n",
    "# а также фильтруем  Z-Score > 400\n",
    "awk -v OFS='\\t' '$6 > 400 {print \"NC_054956.1\", $1, $2}' NC_054956.1.fasta.Z-SCORE > zdna.bed"
   ]
  },
  {
   "cell_type": "markdown",
   "id": "78118a39",
   "metadata": {},
   "source": [
    "И только теперь можно искать пересечения."
   ]
  },
  {
   "cell_type": "code",
   "execution_count": 13,
   "id": "a1866729",
   "metadata": {
    "scrolled": true
   },
   "outputs": [
    {
     "name": "stdout",
     "output_type": "stream",
     "text": [
      "  56  224 2190 zgenes.bed"
     ]
    },
    {
     "ename": "",
     "evalue": "1",
     "output_type": "error",
     "traceback": []
    }
   ],
   "source": [
    "# ищём уникальные пересечения и сортируем их по названию гена (4ой колонке) \n",
    "./bedtools intersect -a genes.bed -b zdna.bed -wa | uniq | sort -k4 > zgenes.bed\n",
    "wc zgenes.bed"
   ]
  },
  {
   "cell_type": "markdown",
   "id": "795adbcb",
   "metadata": {},
   "source": [
    "Всего zDNA нашлась в 56 из 66 генов."
   ]
  },
  {
   "cell_type": "code",
   "execution_count": 14,
   "id": "5b193463",
   "metadata": {
    "scrolled": true
   },
   "outputs": [
    {
     "name": "stdout",
     "output_type": "stream",
     "text": [
      "NC_054956.1\t38902\t39627\tName=cysH\n",
      "NC_054956.1\t12075\t12881\tName=dnaA\n",
      "NC_054956.1\t3185\t4249\tName=dnaN\n",
      "NC_054956.1\t428\t739\tName=KMC44_gp02\n",
      "NC_054956.1\t903\t1511\tName=KMC44_gp03\n",
      "NC_054956.1\t1508\t1738\tName=KMC44_gp04\n",
      "NC_054956.1\t2171\t2590\tName=KMC44_gp06\n",
      "NC_054956.1\t2587\t3123\tName=KMC44_gp07\n",
      "NC_054956.1\t4274\t4501\tName=KMC44_gp09\n",
      "NC_054956.1\t4507\t5457\tName=KMC44_gp10"
     ]
    },
    {
     "ename": "",
     "evalue": "1",
     "output_type": "error",
     "traceback": []
    }
   ],
   "source": [
    "head zgenes.bed"
   ]
  },
  {
   "cell_type": "markdown",
   "id": "4b8e592a",
   "metadata": {},
   "source": [
    "zDNA попала на гены cysH, dnaA и dnaN, а также на 53 неопознанных генов."
   ]
  },
  {
   "cell_type": "markdown",
   "id": "87cd3837",
   "metadata": {},
   "source": [
    "# Квадруплексы \n",
    "\n",
    "Квадруплексы находятся с помощью regex-а применённого к последовательности нуклеотидов. Для этого надо достать эту последовательность из `.fasta` файла."
   ]
  },
  {
   "cell_type": "code",
   "execution_count": 15,
   "id": "d7237b46",
   "metadata": {},
   "outputs": [
    {
     "name": "stdout",
     "output_type": "stream",
     "text": [
      "\u001b[?2004h\u001b[?2004l"
     ]
    },
    {
     "ename": "",
     "evalue": "1",
     "output_type": "error",
     "traceback": []
    }
   ],
   "source": [
    "# конвертируем fasta файл в непрерывную последовательность нуклеотидов, чтобы можно было запускать на нём regex-ы\n",
    "tail NC_054956.1.fasta -n+2 | tr -d '\\n' > dna.txt"
   ]
  },
  {
   "cell_type": "code",
   "execution_count": 16,
   "id": "c1705091",
   "metadata": {},
   "outputs": [
    {
     "name": "stdout",
     "output_type": "stream",
     "text": [
      "32946:GGGCGCTACGCTGGGCAGCGGGCACTTCGGCGGG"
     ]
    },
    {
     "ename": "",
     "evalue": "1",
     "output_type": "error",
     "traceback": []
    }
   ],
   "source": [
    "grep -Pbo '(G{3,}[ATGC]{1,9}){3,}G{3,}' dna.txt"
   ]
  },
  {
   "cell_type": "markdown",
   "id": "8ffb464c",
   "metadata": {},
   "source": [
    "Нашлось только одно совпадение. `.bed` файл можно составить ручками.\n",
    "Оно начинается с 32946 и 34 нуклиатида в длинну."
   ]
  },
  {
   "cell_type": "code",
   "execution_count": 17,
   "id": "5dd3a495",
   "metadata": {},
   "outputs": [
    {
     "name": "stdout",
     "output_type": "stream",
     "text": [
      "NC_054956.1\t32946\t32980"
     ]
    },
    {
     "ename": "",
     "evalue": "1",
     "output_type": "error",
     "traceback": []
    }
   ],
   "source": [
    "echo -e \"NC_054956.1\\t32946\\t$((32946 + 34))\" | tee quad.bed"
   ]
  },
  {
   "cell_type": "code",
   "execution_count": 18,
   "id": "1f9c0126",
   "metadata": {},
   "outputs": [
    {
     "name": "stdout",
     "output_type": "stream",
     "text": [
      "NC_054956.1\t32000\t33706\tName=KMC44_gp23"
     ]
    },
    {
     "ename": "",
     "evalue": "1",
     "output_type": "error",
     "traceback": []
    }
   ],
   "source": [
    "./bedtools intersect -a genes.bed -b quad.bed -wa"
   ]
  },
  {
   "cell_type": "markdown",
   "id": "bc30ecff",
   "metadata": {},
   "source": [
    "Квадроплекс попадает на неопознанный ген KMC44_gp23."
   ]
  }
 ],
 "metadata": {
  "kernelspec": {
   "display_name": "Bash",
   "language": "bash",
   "name": "bash"
  },
  "language_info": {
   "codemirror_mode": "shell",
   "file_extension": ".sh",
   "mimetype": "text/x-sh",
   "name": "bash"
  }
 },
 "nbformat": 4,
 "nbformat_minor": 5
}
