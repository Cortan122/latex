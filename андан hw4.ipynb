{
 "cells": [
  {
   "cell_type": "markdown",
   "metadata": {},
   "source": [
    "# HSE 2021: Mathematical Methods for Data Analysis\n",
    "\n",
    "## Homework 4\n",
    "\n",
    "### Attention!\n",
    "* For tasks where <ins>text answer</ins> is required **Russian language** is **allowed**.\n",
    "* If a task asks you to describe something (make coclusions) then **text answer** is **mandatory** and **is** part of the task\n",
    "* **Do not** upload the dataset to the grading system (we already have it)\n",
    "* We **only** accept **ipynb** notebooks. If you use Google Colab then you'll have to download the notebook before passing the homework\n",
    "* **Do not** use python loops instead of NumPy vector operations over NumPy vectors - it significantly decreases performance (see why https://blog.paperspace.com/numpy-optimization-vectorization-and-broadcasting/), will be punished with -0.25 for **every** task. \n",
    "\n",
    "\n",
    "### Contents\n",
    "\n",
    "#### Decision Trees - 7 points\n",
    "* [Task 1](#task1) (0.5 points)\n",
    "* [Task 2](#task2) (0.5 points)\n",
    "* [Task 3](#task3) (2 points)\n",
    "* [Task 4](#task4) (0.5 points)\n",
    "* [Task 5](#task5) (0.5 points)\n",
    "* [Task 6](#task6) (2 points)\n",
    "* [Task 7](#task7) (0.5 points)\n",
    "* [Task 8](#task8) (0.5 points)\n",
    "\n",
    "#### Ensembles - 3 points\n",
    "* [Task 1](#task2_1) (1 point)\n",
    "* [Task 2](#task2_2) (0.7 points)\n",
    "* [Task 3](#task2_3) (0.5 points)\n",
    "* [Task 4](#task2_4) (0.7 points)\n",
    "* [Task 5](#task2_5) (0.1 points)"
   ]
  },
  {
   "cell_type": "code",
   "execution_count": 1,
   "metadata": {},
   "outputs": [],
   "source": [
    "import matplotlib.pyplot as plt\n",
    "import numpy as np\n",
    "import pandas as pd\n",
    "import seaborn as sns\n",
    "\n",
    "sns.set(style=\"darkgrid\")\n",
    "plt.rcParams['figure.figsize'] = (11, 5)\n",
    "%matplotlib inline"
   ]
  },
  {
   "cell_type": "markdown",
   "metadata": {},
   "source": [
    "# Part 1. Decision Tree Regressor"
   ]
  },
  {
   "cell_type": "markdown",
   "metadata": {},
   "source": [
    "In this task you will be implementing decision tree for the regression by hands. "
   ]
  },
  {
   "cell_type": "markdown",
   "metadata": {},
   "source": [
    "### Task 1 <a id=\"task1\"></a> (0.5 points)\n",
    "\n",
    "Implement the function `H()` which calculates impurity criterion. We will be training regression tree, therefore, impurity criterion will be variance.\n",
    "\n",
    "* You cannot use loops\n",
    "* If `y` is empty, the function should return 0"
   ]
  },
  {
   "cell_type": "code",
   "execution_count": 2,
   "metadata": {},
   "outputs": [],
   "source": [
    "def H(y):\n",
    "    \"\"\"\n",
    "    Calculate impurity criterion\n",
    "    \n",
    "    Parameters\n",
    "    ----------\n",
    "    y : np.array\n",
    "        array of objects target values in the node\n",
    "\n",
    "    Returns\n",
    "    -------\n",
    "    H(R) : float\n",
    "        Impurity in the node (measuread by variance)\n",
    "    \"\"\"\n",
    "    if len(y) == 0:\n",
    "        return 0\n",
    "    return np.var(y)"
   ]
  },
  {
   "cell_type": "code",
   "execution_count": 3,
   "metadata": {},
   "outputs": [],
   "source": [
    "# Test the function\n",
    "assert np.allclose(H(np.array([4, 2, 2, 2])), 0.75)\n",
    "assert np.allclose(H(np.array([])), 0.0)"
   ]
  },
  {
   "cell_type": "markdown",
   "metadata": {},
   "source": [
    "### Task 2 <a id=\"task2\"></a>  (0.5 points)\n",
    "\n",
    "To find the best split in the node we need to calculate the cost function. Denote: \n",
    "- `R` all the object in the node\n",
    "- `j` index of the feature selected for the split\n",
    "- `t` threshold\n",
    "- `R_l` and `R_r` objects in the left and right child nodes correspondingly\n",
    "\n",
    "We get the following cost function:\n",
    "\n",
    "$$\n",
    "Q(R, j, t) =\\frac{|R_\\ell|}{|R|}H(R_\\ell) + \\frac{|R_r|}{|R|}H(R_r) \\to \\min_{j, t},\n",
    "$$\n",
    "\n",
    "Implement the function `Q`, which should calculate value of the cost function for a given feature and threshold."
   ]
  },
  {
   "cell_type": "code",
   "execution_count": 4,
   "metadata": {},
   "outputs": [],
   "source": [
    "def Q(X, y, j, t):\n",
    "    \"\"\"\n",
    "    Calculate cost function\n",
    "    Parameters\n",
    "    ----------\n",
    "    X : ndarray\n",
    "        array of objects in the node \n",
    "    y : ndarray\n",
    "        array of target values in the node \n",
    "    j : int\n",
    "        feature index (column in X)\n",
    "    t : float\n",
    "        threshold\n",
    "\n",
    "    Returns\n",
    "    -------\n",
    "    Q : float\n",
    "        Value of the cost function\n",
    "    \"\"\"\n",
    "    bools = X[:,j] < t\n",
    "    left = y[bools]\n",
    "    right = y[~bools]\n",
    "    size = X.shape[0]\n",
    "    return (H(left)*left.size + H(right)*right.size) / size"
   ]
  },
  {
   "cell_type": "markdown",
   "metadata": {},
   "source": [
    "### Task 3 <a id=\"task3\"></a>  (2 points)\n",
    "\n",
    "Now, let's implement `MyDecisionTreeRegressor` class. More specifically, you need to implement the following methods:\n",
    "\n",
    "- `best_split`\n",
    "- `grow_tree`\n",
    "- `get_prediction`\n",
    "\n",
    "Read docstrings for more details. Do not forget to use function `Q` implemented above, when finding the `best_split`"
   ]
  },
  {
   "cell_type": "code",
   "execution_count": 5,
   "metadata": {},
   "outputs": [],
   "source": [
    "class Node(object):\n",
    "    \"\"\"\n",
    "    Class for a decision tree node.\n",
    "    \n",
    "    Parameters\n",
    "    ----------\n",
    "    right : Node() or None\n",
    "        Right child\n",
    "    right : Node() or None\n",
    "        Left child\n",
    "    threshold: float\n",
    "        \n",
    "    column: int\n",
    "        \n",
    "    depth: int\n",
    "        \n",
    "    prediction: float\n",
    "        prediction of the target value in the node (average values calculated on a train dataset)\n",
    "    is_terminal:bool\n",
    "        indicates whether it is a terminal node (leaf) or not\n",
    "    \"\"\"    \n",
    "    def __init__(self, depth=None):        \n",
    "        self.right = None\n",
    "        self.left = None\n",
    "        self.threshold = None\n",
    "        self.column = None\n",
    "        self.depth = depth\n",
    "        self.is_terminal = False\n",
    "        self.prediction = None\n",
    "        \n",
    "    def __repr__(self):\n",
    "        if self.is_terminal:\n",
    "            node_desc = 'Pred: {:.2f}'.format(self.prediction)\n",
    "        else:\n",
    "            node_desc = 'Col {}, t {:.2f}, Pred: {:.2f}'.format(self.column, self.threshold, self.prediction)\n",
    "        return node_desc"
   ]
  },
  {
   "cell_type": "code",
   "execution_count": 6,
   "metadata": {},
   "outputs": [],
   "source": [
    "from sklearn.base import BaseEstimator, RegressorMixin\n",
    "from sklearn.utils.validation import check_X_y, check_array, check_is_fitted\n",
    "\n",
    "class MyDecisionTreeRegressor(RegressorMixin, BaseEstimator):\n",
    "    \"\"\"\n",
    "    Class for a Decision Tree Regressor.\n",
    "\n",
    "    Parameters\n",
    "    ----------\n",
    "    max_depth : int\n",
    "        Max depth of a decision tree.\n",
    "    min_samples_split : int\n",
    "        Minimal number of samples (objects) in a node to make a split.\n",
    "    \"\"\" \n",
    "    def __init__(self, max_depth=3, min_samples_split=2):\n",
    "        self.max_depth = max_depth\n",
    "        self.min_samples_split = min_samples_split\n",
    "    \n",
    "    def _more_tags(self):\n",
    "        return {\n",
    "            'requires_y': False\n",
    "        }\n",
    "            \n",
    "    def best_split(self, X, y):\n",
    "        \"\"\"\n",
    "        Find the best split in terms of Q of data in a given decision tree node. \n",
    "        Try all features and thresholds. \n",
    "        \n",
    "        Parameters\n",
    "        ----------\n",
    "        X : ndarray, shape (n_objects, n_features)\n",
    "            Objects in the parent node\n",
    "        y : ndarray, shape (n_objects, )\n",
    "            1D array with the object labels.\n",
    "            \n",
    "        Returns\n",
    "        -------\n",
    "        best_split_column : int\n",
    "            Index of the best split column\n",
    "        best_threshold : float\n",
    "            The best split condition.\n",
    "        X_left : ndarray, shape (n_objects_l, n_features)\n",
    "            Objects in the left child\n",
    "        y_left : ndarray, shape (n_objects_l, )\n",
    "            Objects labels in the left child. \n",
    "        X_right : ndarray, shape (n_objects_r, n_features)\n",
    "            Objects in the right child\n",
    "        y_right : ndarray, shape (n_objects_r, )\n",
    "            Objects labels in the right child. \n",
    "        \"\"\"\n",
    "        \n",
    "        # To store best split parameters\n",
    "        best_split_column = None\n",
    "        best_threshold = None\n",
    "        # without splitting\n",
    "        best_cost = H(y) \n",
    "        \n",
    "        for split_column in range(X.shape[1]):\n",
    "          column = X[:,split_column]\n",
    "          for threshold in column:\n",
    "            cost = Q(X, y, split_column, threshold)\n",
    "            if cost < best_cost:\n",
    "              best_cost = cost\n",
    "              best_split_column = split_column\n",
    "              best_threshold = threshold\n",
    "\n",
    "        if best_split_column == None:\n",
    "          return None, None, None, None, None, None\n",
    "        \n",
    "        bools = X[:,best_split_column] < best_threshold\n",
    "        return best_split_column, best_threshold, X[bools,:], y[bools], X[~bools,:], y[~bools]\n",
    "  \n",
    "    def is_terminal(self, node, y):\n",
    "        \"\"\"\n",
    "        Check terminality conditions based on `max_depth` and `min_samples_split` parameters for a given node. \n",
    "        \n",
    "        Parameters\n",
    "        ----------\n",
    "        node : Node, \n",
    "            \n",
    "        y : ndarray, shape (n_objects, )\n",
    "            Object labels. \n",
    "            \n",
    "        Returns\n",
    "        -------\n",
    "        Is_termial : bool\n",
    "            If True, node is terminal\n",
    "        \"\"\"\n",
    "        if node.depth >= self.max_depth:    \n",
    "            return True\n",
    "        if len(y) < self.min_samples_split:   \n",
    "            return True\n",
    "        return False\n",
    "        \n",
    "    def grow_tree(self, node, X, y):\n",
    "        \"\"\"\n",
    "        Reccurently grow the tree from the `node` using a `X` and `y` as a dataset:\n",
    "         - check terminality conditions\n",
    "         - find best split if node is not terminal\n",
    "         - add child nodes to the node\n",
    "         - call the function recursively for the added child nodes\n",
    "        \n",
    "        Parameters\n",
    "        ----------\n",
    "        node : Node() object\n",
    "            Current node of the decision tree.\n",
    "        X : ndarray, shape (n_objects, n_features)\n",
    "            Objects \n",
    "        y : ndarray, shape (n_objects)\n",
    "            Labels\n",
    "        \"\"\"\n",
    "        \n",
    "        if self.is_terminal(node, y):\n",
    "            node.is_terminal = True\n",
    "            return\n",
    "\n",
    "        best_split_column, best_threshold, X_left, y_left, X_right, y_right = self.best_split(X, y)\n",
    "        if best_split_column == None:\n",
    "          node.is_terminal = True\n",
    "          return\n",
    "        \n",
    "        node.column = best_split_column\n",
    "        node.threshold = best_threshold\n",
    "        node.left = Node(node.depth + 1)\n",
    "        node.right = Node(node.depth + 1)\n",
    "        node.left.prediction = np.mean(y_left)\n",
    "        node.right.prediction = np.mean(y_right)\n",
    "\n",
    "        self.grow_tree(node.left, X_left, y_left)\n",
    "        self.grow_tree(node.right, X_right, y_right)\n",
    "        \n",
    "\n",
    "    def fit(self, X, y):\n",
    "        \"\"\"\n",
    "        Fit the Decision Tree Regressor.\n",
    "            \n",
    "        Parameters\n",
    "        ----------\n",
    "        X : ndarray, shape (n_samples, n_features)\n",
    "            The input samples.\n",
    "        y : ndarray, shape (n_samples,) or (n_samples, n_outputs)\n",
    "            The target values.\n",
    "        Returns\n",
    "        -------\n",
    "        self : object\n",
    "            Returns self.\n",
    "        \"\"\"\n",
    "        # Check the input\n",
    "        if y is None:\n",
    "            raise ValueError('Y should not be None')\n",
    "        X, y = check_X_y(X, y, accept_sparse=False)\n",
    "        self.is_fitted_ = True\n",
    "        self.n_features_in_ = X.shape[1]\n",
    "        \n",
    "        # Initialize the tree (root node, depth = 0)\n",
    "        self.tree_ = Node()                             \n",
    "        self.tree_.depth = 0                            \n",
    "        self.tree_.prediction = np.mean(y)\n",
    "        \n",
    "        # Grow the tree\n",
    "        self.grow_tree(self.tree_, X, y)\n",
    "        return self        \n",
    "    \n",
    "    def get_prediction(self, node, x):\n",
    "        \"\"\"\n",
    "        Get prediction for an object `x`\n",
    "            - Return prediction of the `node` if it is terminal\n",
    "            - Otherwise, recursively call the function to get predictions of the proper child\n",
    "        \n",
    "        Parameters\n",
    "        ----------\n",
    "        node : Node() object\n",
    "            Current node of the decision tree.\n",
    "        x : ndarray, shape (n_features,)\n",
    "            Array of feature values of one object.\n",
    "        Returns\n",
    "        -------\n",
    "        y_pred : float\n",
    "            Prediction for an object x\n",
    "        \"\"\"\n",
    "\n",
    "        if node.is_terminal:\n",
    "          return node.prediction\n",
    "\n",
    "        if x[node.column] < node.threshold:\n",
    "          return self.get_prediction(node.left, x)\n",
    "        else:\n",
    "          return self.get_prediction(node.right, x)\n",
    "    \n",
    "    def predict(self, X):\n",
    "        \"\"\" \n",
    "        Get prediction for each object in X\n",
    "        \n",
    "        Parameters\n",
    "        ----------\n",
    "        X : ndarray, shape (n_samples, n_features)\n",
    "            The input samples.\n",
    "        Returns\n",
    "        -------\n",
    "        y : ndarray, shape (n_samples,)\n",
    "            Returns predictions.\n",
    "        \"\"\"\n",
    "        # Check input and that `fit` had been called\n",
    "        X = check_array(X, accept_sparse=False)\n",
    "        check_is_fitted(self, 'is_fitted_')\n",
    "        \n",
    "        # Get predictions\n",
    "        y_predicted = []\n",
    "        for x in X:\n",
    "            y_curr = self.get_prediction(self.tree_, x)\n",
    "            y_predicted.append(y_curr)\n",
    "        return np.array(y_predicted)"
   ]
  },
  {
   "cell_type": "code",
   "execution_count": 7,
   "metadata": {},
   "outputs": [],
   "source": [
    "# check yourself\n",
    "from sklearn.utils.estimator_checks import check_estimator\n",
    "\n",
    "check_estimator(MyDecisionTreeRegressor())"
   ]
  },
  {
   "cell_type": "markdown",
   "metadata": {},
   "source": [
    "### Task 4 <a id=\"task4\"></a>  (0.5 points)\n",
    "\n",
    "Load boston dataset and split it on the train ($70\\%$) and test ($30\\%$). Fit Decision Tree of depth 1 and make the following plot:\n",
    "\n",
    "- Scatter plot of the traning points (selected for split feature on the x-axis, target variable on the y-axis)\n",
    "- Fitted model \n",
    "\n",
    "P.S. Depth of the tree is equal to the longest path from the root note to the leaf. Thus, tree with depth 1 will have exactly 1 split. \n",
    "\n",
    "P.P.S. Both fitted model and the training points should be on the same plot"
   ]
  },
  {
   "cell_type": "code",
   "execution_count": 31,
   "metadata": {},
   "outputs": [],
   "source": [
    "from sklearn.datasets import load_boston\n",
    "from sklearn.model_selection import train_test_split\n",
    "\n",
    "data = load_boston()\n",
    "Xtrain, Xtest, ytrain, ytest = train_test_split(data.data, data.target, test_size=0.3, random_state=122)"
   ]
  },
  {
   "cell_type": "code",
   "execution_count": 9,
   "metadata": {},
   "outputs": [],
   "source": [
    "def plot_tree_split(tree):\n",
    "  ypred = tree.predict(Xtrain)\n",
    "  col = tree.tree_.column\n",
    "  jump = tree.tree_.threshold\n",
    "  l = tree.tree_.left.prediction\n",
    "  r = tree.tree_.right.prediction\n",
    "  xcol = Xtrain[:, col]\n",
    "\n",
    "  plt.xlabel(data.feature_names[col])\n",
    "  plt.ylabel(\"target\")\n",
    "\n",
    "  plt.scatter(xcol, ytrain, label=\"actual\")\n",
    "  plt.scatter(xcol, ypred, label=\"predicted\", s=20)\n",
    "  if tree.max_depth == 1:\n",
    "    plt.plot([min(xcol), jump, jump, max(xcol)], [l,l,r,r], label=\"model\", c=\"darkgreen\", linewidth=3)\n",
    "  plt.legend()\n",
    "  plt.show()"
   ]
  },
  {
   "cell_type": "code",
   "execution_count": 10,
   "metadata": {},
   "outputs": [
    {
     "data": {
      "image/png": "[encoded data removed]",
      "text/plain": [
       "<Figure size 432x288 with 1 Axes>"
      ]
     },
     "metadata": {
      "needs_background": "light"
     },
     "output_type": "display_data"
    }
   ],
   "source": [
    "tree = MyDecisionTreeRegressor(max_depth=1)\n",
    "tree.fit(Xtrain, ytrain)\n",
    "plot_tree_split(tree)"
   ]
  },
  {
   "cell_type": "markdown",
   "metadata": {},
   "source": [
    "### Task 5 <a id=\"task5\"></a>  (0.5 points)\n",
    "\n",
    "Keep working with boston dataset. \n",
    "- Use `GridSearchCV` to find the best hyperparameters (`max_depth` and `min_samples_split`) on 5-Fold cross-validation\n",
    "- Train the model with the best set of hyperparameters on the whole train dataset. \n",
    "- Report `RMSE` on test dataset and hyperparameters of the best estimator. "
   ]
  },
  {
   "cell_type": "code",
   "execution_count": 11,
   "metadata": {},
   "outputs": [
    {
     "data": {
      "text/plain": [
       "{'max_depth': 10, 'min_samples_split': 2}"
      ]
     },
     "execution_count": 11,
     "metadata": {},
     "output_type": "execute_result"
    }
   ],
   "source": [
    "from sklearn.model_selection import GridSearchCV\n",
    "\n",
    "params = {'max_depth': [1, 2, 5, 10], 'min_samples_split': [2, 5, 10, 20, 50, 100, 200]}\n",
    "gscv = GridSearchCV(MyDecisionTreeRegressor(), params, scoring='neg_root_mean_squared_error', cv=5, n_jobs=-1)\n",
    "gscv.fit(Xtrain, ytrain)\n",
    "gscv.best_params_"
   ]
  },
  {
   "cell_type": "code",
   "execution_count": 12,
   "metadata": {},
   "outputs": [],
   "source": [
    "# код из прошлой домашки\n",
    "from mpl_toolkits.mplot3d import Axes3D\n",
    "%config InlineBackend.figure_formats = ['svg']\n",
    "\n",
    "def destringify_array(arr):\n",
    "  if type(arr[0]) == str:\n",
    "    return np.arange(len(arr))\n",
    "  else:\n",
    "    return arr\n",
    "\n",
    "def plot3d(gscv, title=None, xscale=\"linear\", yscale=\"linear\"):\n",
    "  keys = list(gscv.best_params_.keys())\n",
    "  xarr = destringify_array(gscv.param_grid[keys[0]])\n",
    "  yarr = destringify_array(gscv.param_grid[keys[1]])\n",
    "  xshape = len(xarr)\n",
    "  yshape = len(yarr)\n",
    "\n",
    "  if xscale == \"log\":\n",
    "    xarr = np.log(xarr)\n",
    "  if yscale == \"log\":\n",
    "    yarr = np.log(yarr)\n",
    "  \n",
    "  z = np.reshape(gscv.cv_results_[\"mean_test_score\"], (xshape,yshape)).T\n",
    "  mesh = np.meshgrid(xarr, yarr)\n",
    "\n",
    "  ax = plt.axes(projection=\"3d\")\n",
    "\n",
    "  ax.set_xlabel(keys[0].replace('_', ' '))\n",
    "  ax.set_xticks(xarr)\n",
    "  ax.set_xticklabels(gscv.param_grid[keys[0]])\n",
    "  ax.set_ylabel(keys[1].replace('_', ' '))\n",
    "  ax.set_yticks(yarr)\n",
    "  ax.set_yticklabels(gscv.param_grid[keys[1]])\n",
    "  ax.set_zlabel(\"Score\")\n",
    "  ax.set_title(title)\n",
    "\n",
    "  ax.scatter3D(*mesh, z, c=\"green\")\n",
    "  ax.plot_surface(*mesh, z, alpha=0.3)\n",
    "  plt.show()"
   ]
  },
  {
   "cell_type": "code",
   "execution_count": 13,
   "metadata": {},
   "outputs": [
    {
     "data": {
      "image/svg+xml": "<?xml version=\"1.0\" encoding=\"utf-8\" standalone=\"no\"?>\r\n<!DOCTYPE svg PUBLIC \"-//W3C//DTD SVG 1.1//EN\"\r\n  \"http://www.w3.org/Graphics/SVG/1.1/DTD/svg11.dtd\">\r\n<!-- Created with matplotlib (https://matplotlib.org/) -->\r\n<svg height=\"231.84pt\" version=\"1.1\" viewBox=\"0 0 349.2 231.84\" width=\"349.2pt\" xmlns=\"http://www.w3.org/2000/svg\" xmlns:xlink=\"http://www.w3.org/1999/xlink\">\r\n <defs>\r\n  <style type=\"text/css\">\r\n*{stroke-linecap:butt;stroke-linejoin:round;}\r\n  </style>\r\n </defs>\r\n <g id=\"figure_1\">\r\n  <g id=\"patch_1\">\r\n   <path d=\"M 0 231.84 \r\nL 349.2 231.84 \r\nL 349.2 0 \r\nL 0 0 \r\nz\r\n\" style=\"fill:none;\"/>\r\n  </g>\r\n  <g id=\"patch_2\">\r\n   <path d=\"M 7.2 224.64 \r\nL 342 224.64 \r\nL 342 7.2 \r\nL 7.2 7.2 \r\nz\r\n\" style=\"fill:#eaeaf2;\"/>\r\n  </g>\r\n  <g id=\"pane3d_1\">\r\n   <g id=\"patch_3\">\r\n    <path d=\"M 51.582914 176.593423 \r\nL 147.404425 123.282062 \r\nL 145.809099 21.412801 \r\nL 44.64491 69.311962 \r\n\" style=\"fill:#f2f2f2;opacity:0.5;stroke:#f2f2f2;stroke-linejoin:miter;\"/>\r\n   </g>\r\n  </g>\r\n  <g id=\"pane3d_2\">\r\n   <g id=\"patch_4\">\r\n    <path d=\"M 147.404425 123.282062 \r\nL 302.626265 153.086553 \r\nL 309.120561 48.145466 \r\nL 145.809099 21.412801 \r\n\" style=\"fill:#e6e6e6;opacity:0.5;stroke:#e6e6e6;stroke-linejoin:miter;\"/>\r\n   </g>\r\n  </g>\r\n  <g id=\"pane3d_3\">\r\n   <g id=\"patch_5\">\r\n    <path d=\"M 51.582914 176.593423 \r\nL 214.897263 211.305609 \r\nL 302.626265 153.086553 \r\nL 147.404425 123.282062 \r\n\" style=\"fill:#ececec;opacity:0.5;stroke:#ececec;stroke-linejoin:miter;\"/>\r\n   </g>\r\n  </g>\r\n  <g id=\"axis3d_1\">\r\n   <g id=\"line2d_1\">\r\n    <path d=\"M 51.582914 176.593423 \r\nL 214.897263 211.305609 \r\n\" style=\"fill:none;stroke:#ffffff;stroke-linecap:round;stroke-width:1.25;\"/>\r\n   </g>\r\n   <g id=\"text_1\">\r\n    <!-- max depth -->\r\n    <defs>\r\n     <path d=\"M 6.59375 0 \r\nL 6.59375 51.859375 \r\nL 14.453125 51.859375 \r\nL 14.453125 44.578125 \r\nQ 16.890625 48.390625 20.9375 50.703125 \r\nQ 25 53.03125 30.171875 53.03125 \r\nQ 35.9375 53.03125 39.625 50.640625 \r\nQ 43.3125 48.25 44.828125 43.953125 \r\nQ 50.984375 53.03125 60.84375 53.03125 \r\nQ 68.5625 53.03125 72.703125 48.75 \r\nQ 76.859375 44.484375 76.859375 35.59375 \r\nL 76.859375 0 \r\nL 68.109375 0 \r\nL 68.109375 32.671875 \r\nQ 68.109375 37.9375 67.25 40.25 \r\nQ 66.40625 42.578125 64.15625 43.984375 \r\nQ 61.921875 45.40625 58.890625 45.40625 \r\nQ 53.421875 45.40625 49.796875 41.765625 \r\nQ 46.1875 38.140625 46.1875 30.125 \r\nL 46.1875 0 \r\nL 37.40625 0 \r\nL 37.40625 33.6875 \r\nQ 37.40625 39.546875 35.25 42.46875 \r\nQ 33.109375 45.40625 28.21875 45.40625 \r\nQ 24.515625 45.40625 21.359375 43.453125 \r\nQ 18.21875 41.5 16.796875 37.734375 \r\nQ 15.375 33.984375 15.375 26.90625 \r\nL 15.375 0 \r\nz\r\n\" id=\"ArialMT-109\"/>\r\n     <path d=\"M 40.4375 6.390625 \r\nQ 35.546875 2.25 31.03125 0.53125 \r\nQ 26.515625 -1.171875 21.34375 -1.171875 \r\nQ 12.796875 -1.171875 8.203125 3 \r\nQ 3.609375 7.171875 3.609375 13.671875 \r\nQ 3.609375 17.484375 5.34375 20.625 \r\nQ 7.078125 23.78125 9.890625 25.6875 \r\nQ 12.703125 27.59375 16.21875 28.5625 \r\nQ 18.796875 29.25 24.03125 29.890625 \r\nQ 34.671875 31.15625 39.703125 32.90625 \r\nQ 39.75 34.71875 39.75 35.203125 \r\nQ 39.75 40.578125 37.25 42.78125 \r\nQ 33.890625 45.75 27.25 45.75 \r\nQ 21.046875 45.75 18.09375 43.578125 \r\nQ 15.140625 41.40625 13.71875 35.890625 \r\nL 5.125 37.0625 \r\nQ 6.296875 42.578125 8.984375 45.96875 \r\nQ 11.671875 49.359375 16.75 51.1875 \r\nQ 21.828125 53.03125 28.515625 53.03125 \r\nQ 35.15625 53.03125 39.296875 51.46875 \r\nQ 43.453125 49.90625 45.40625 47.53125 \r\nQ 47.359375 45.171875 48.140625 41.546875 \r\nQ 48.578125 39.3125 48.578125 33.453125 \r\nL 48.578125 21.734375 \r\nQ 48.578125 9.46875 49.140625 6.21875 \r\nQ 49.703125 2.984375 51.375 0 \r\nL 42.1875 0 \r\nQ 40.828125 2.734375 40.4375 6.390625 \r\nz\r\nM 39.703125 26.03125 \r\nQ 34.90625 24.078125 25.34375 22.703125 \r\nQ 19.921875 21.921875 17.671875 20.9375 \r\nQ 15.4375 19.96875 14.203125 18.09375 \r\nQ 12.984375 16.21875 12.984375 13.921875 \r\nQ 12.984375 10.40625 15.640625 8.0625 \r\nQ 18.3125 5.71875 23.4375 5.71875 \r\nQ 28.515625 5.71875 32.46875 7.9375 \r\nQ 36.421875 10.15625 38.28125 14.015625 \r\nQ 39.703125 17 39.703125 22.796875 \r\nz\r\n\" id=\"ArialMT-97\"/>\r\n     <path d=\"M 0.734375 0 \r\nL 19.671875 26.953125 \r\nL 2.15625 51.859375 \r\nL 13.140625 51.859375 \r\nL 21.09375 39.703125 \r\nQ 23.34375 36.234375 24.703125 33.890625 \r\nQ 26.859375 37.109375 28.65625 39.59375 \r\nL 37.40625 51.859375 \r\nL 47.90625 51.859375 \r\nL 29.984375 27.4375 \r\nL 49.265625 0 \r\nL 38.484375 0 \r\nL 27.828125 16.109375 \r\nL 25 20.453125 \r\nL 11.375 0 \r\nz\r\n\" id=\"ArialMT-120\"/>\r\n     <path id=\"ArialMT-32\"/>\r\n     <path d=\"M 40.234375 0 \r\nL 40.234375 6.546875 \r\nQ 35.296875 -1.171875 25.734375 -1.171875 \r\nQ 19.53125 -1.171875 14.328125 2.25 \r\nQ 9.125 5.671875 6.265625 11.796875 \r\nQ 3.421875 17.921875 3.421875 25.875 \r\nQ 3.421875 33.640625 6 39.96875 \r\nQ 8.59375 46.296875 13.765625 49.65625 \r\nQ 18.953125 53.03125 25.34375 53.03125 \r\nQ 30.03125 53.03125 33.6875 51.046875 \r\nQ 37.359375 49.078125 39.65625 45.90625 \r\nL 39.65625 71.578125 \r\nL 48.390625 71.578125 \r\nL 48.390625 0 \r\nz\r\nM 12.453125 25.875 \r\nQ 12.453125 15.921875 16.640625 10.984375 \r\nQ 20.84375 6.0625 26.5625 6.0625 \r\nQ 32.328125 6.0625 36.34375 10.765625 \r\nQ 40.375 15.484375 40.375 25.140625 \r\nQ 40.375 35.796875 36.265625 40.765625 \r\nQ 32.171875 45.75 26.171875 45.75 \r\nQ 20.3125 45.75 16.375 40.96875 \r\nQ 12.453125 36.1875 12.453125 25.875 \r\nz\r\n\" id=\"ArialMT-100\"/>\r\n     <path d=\"M 42.09375 16.703125 \r\nL 51.171875 15.578125 \r\nQ 49.03125 7.625 43.21875 3.21875 \r\nQ 37.40625 -1.171875 28.375 -1.171875 \r\nQ 17 -1.171875 10.328125 5.828125 \r\nQ 3.65625 12.84375 3.65625 25.484375 \r\nQ 3.65625 38.578125 10.390625 45.796875 \r\nQ 17.140625 53.03125 27.875 53.03125 \r\nQ 38.28125 53.03125 44.875 45.953125 \r\nQ 51.46875 38.875 51.46875 26.03125 \r\nQ 51.46875 25.25 51.421875 23.6875 \r\nL 12.75 23.6875 \r\nQ 13.234375 15.140625 17.578125 10.59375 \r\nQ 21.921875 6.0625 28.421875 6.0625 \r\nQ 33.25 6.0625 36.671875 8.59375 \r\nQ 40.09375 11.140625 42.09375 16.703125 \r\nz\r\nM 13.234375 30.90625 \r\nL 42.1875 30.90625 \r\nQ 41.609375 37.453125 38.875 40.71875 \r\nQ 34.671875 45.796875 27.984375 45.796875 \r\nQ 21.921875 45.796875 17.796875 41.75 \r\nQ 13.671875 37.703125 13.234375 30.90625 \r\nz\r\n\" id=\"ArialMT-101\"/>\r\n     <path d=\"M 6.59375 -19.875 \r\nL 6.59375 51.859375 \r\nL 14.59375 51.859375 \r\nL 14.59375 45.125 \r\nQ 17.4375 49.078125 21 51.046875 \r\nQ 24.5625 53.03125 29.640625 53.03125 \r\nQ 36.28125 53.03125 41.359375 49.609375 \r\nQ 46.4375 46.1875 49.015625 39.953125 \r\nQ 51.609375 33.734375 51.609375 26.3125 \r\nQ 51.609375 18.359375 48.75 11.984375 \r\nQ 45.90625 5.609375 40.453125 2.21875 \r\nQ 35.015625 -1.171875 29 -1.171875 \r\nQ 24.609375 -1.171875 21.109375 0.6875 \r\nQ 17.625 2.546875 15.375 5.375 \r\nL 15.375 -19.875 \r\nz\r\nM 14.546875 25.640625 \r\nQ 14.546875 15.625 18.59375 10.84375 \r\nQ 22.65625 6.0625 28.421875 6.0625 \r\nQ 34.28125 6.0625 38.453125 11.015625 \r\nQ 42.625 15.96875 42.625 26.375 \r\nQ 42.625 36.28125 38.546875 41.203125 \r\nQ 34.46875 46.140625 28.8125 46.140625 \r\nQ 23.1875 46.140625 18.859375 40.890625 \r\nQ 14.546875 35.640625 14.546875 25.640625 \r\nz\r\n\" id=\"ArialMT-112\"/>\r\n     <path d=\"M 25.78125 7.859375 \r\nL 27.046875 0.09375 \r\nQ 23.34375 -0.6875 20.40625 -0.6875 \r\nQ 15.625 -0.6875 12.984375 0.828125 \r\nQ 10.359375 2.34375 9.28125 4.8125 \r\nQ 8.203125 7.28125 8.203125 15.1875 \r\nL 8.203125 45.015625 \r\nL 1.765625 45.015625 \r\nL 1.765625 51.859375 \r\nL 8.203125 51.859375 \r\nL 8.203125 64.703125 \r\nL 16.9375 69.96875 \r\nL 16.9375 51.859375 \r\nL 25.78125 51.859375 \r\nL 25.78125 45.015625 \r\nL 16.9375 45.015625 \r\nL 16.9375 14.703125 \r\nQ 16.9375 10.9375 17.40625 9.859375 \r\nQ 17.875 8.796875 18.921875 8.15625 \r\nQ 19.96875 7.515625 21.921875 7.515625 \r\nQ 23.390625 7.515625 25.78125 7.859375 \r\nz\r\n\" id=\"ArialMT-116\"/>\r\n     <path d=\"M 6.59375 0 \r\nL 6.59375 71.578125 \r\nL 15.375 71.578125 \r\nL 15.375 45.90625 \r\nQ 21.53125 53.03125 30.90625 53.03125 \r\nQ 36.671875 53.03125 40.921875 50.75 \r\nQ 45.171875 48.484375 47 44.484375 \r\nQ 48.828125 40.484375 48.828125 32.859375 \r\nL 48.828125 0 \r\nL 40.046875 0 \r\nL 40.046875 32.859375 \r\nQ 40.046875 39.453125 37.1875 42.453125 \r\nQ 34.328125 45.453125 29.109375 45.453125 \r\nQ 25.203125 45.453125 21.75 43.421875 \r\nQ 18.3125 41.40625 16.84375 37.9375 \r\nQ 15.375 34.46875 15.375 28.375 \r\nL 15.375 0 \r\nz\r\n\" id=\"ArialMT-104\"/>\r\n    </defs>\r\n    <g style=\"fill:#262626;\" transform=\"translate(86.428957 219.275991)rotate(-348.000453)scale(0.12 -0.12)\">\r\n     <use xlink:href=\"#ArialMT-109\"/>\r\n     <use x=\"83.300781\" xlink:href=\"#ArialMT-97\"/>\r\n     <use x=\"138.916016\" xlink:href=\"#ArialMT-120\"/>\r\n     <use x=\"188.916016\" xlink:href=\"#ArialMT-32\"/>\r\n     <use x=\"216.699219\" xlink:href=\"#ArialMT-100\"/>\r\n     <use x=\"272.314453\" xlink:href=\"#ArialMT-101\"/>\r\n     <use x=\"327.929688\" xlink:href=\"#ArialMT-112\"/>\r\n     <use x=\"383.544922\" xlink:href=\"#ArialMT-116\"/>\r\n     <use x=\"411.328125\" xlink:href=\"#ArialMT-104\"/>\r\n    </g>\r\n   </g>\r\n   <g id=\"Line3DCollection_1\">\r\n    <path d=\"M 61.539611 178.709702 \r\nL 156.897598 125.104867 \r\nL 155.776615 23.044396 \r\n\" style=\"fill:none;stroke:#ffffff;\"/>\r\n    <path d=\"M 76.821381 181.957816 \r\nL 171.460378 127.901099 \r\nL 171.072211 25.548152 \r\n\" style=\"fill:none;stroke:#ffffff;\"/>\r\n    <path d=\"M 123.47756 191.874507 \r\nL 215.864876 136.427305 \r\nL 217.749781 33.188864 \r\n\" style=\"fill:none;stroke:#ffffff;\"/>\r\n    <path d=\"M 204.050753 209.000202 \r\nL 292.34945 151.113279 \r\nL 298.286139 46.371965 \r\n\" style=\"fill:none;stroke:#ffffff;\"/>\r\n   </g>\r\n   <g id=\"xtick_1\">\r\n    <g id=\"line2d_2\">\r\n     <path clip-path=\"url(#p883af82855)\" d=\"M 179.124324 112.981622 \r\n\" style=\"fill:none;stroke:#ffffff;stroke-linecap:round;\"/>\r\n    </g>\r\n    <g id=\"line2d_3\">\r\n     <path d=\"M 62.361169 178.247869 \r\nL 59.893431 179.635091 \r\n\" style=\"fill:none;stroke:#262626;stroke-linecap:round;stroke-width:1.25;\"/>\r\n    </g>\r\n    <g id=\"text_2\">\r\n     <!-- 1 -->\r\n     <defs>\r\n      <path d=\"M 37.25 0 \r\nL 28.46875 0 \r\nL 28.46875 56 \r\nQ 25.296875 52.984375 20.140625 49.953125 \r\nQ 14.984375 46.921875 10.890625 45.40625 \r\nL 10.890625 53.90625 \r\nQ 18.265625 57.375 23.78125 62.296875 \r\nQ 29.296875 67.234375 31.59375 71.875 \r\nL 37.25 71.875 \r\nz\r\n\" id=\"ArialMT-49\"/>\r\n     </defs>\r\n     <g style=\"fill:#262626;\" transform=\"translate(50.734443 199.379596)scale(0.11 -0.11)\">\r\n      <use xlink:href=\"#ArialMT-49\"/>\r\n     </g>\r\n    </g>\r\n   </g>\r\n   <g id=\"xtick_2\">\r\n    <g id=\"line2d_4\">\r\n     <path clip-path=\"url(#p883af82855)\" d=\"M 179.124324 112.981622 \r\n\" style=\"fill:none;stroke:#ffffff;stroke-linecap:round;\"/>\r\n    </g>\r\n    <g id=\"line2d_5\">\r\n     <path d=\"M 77.636999 181.491945 \r\nL 75.18709 182.891305 \r\n\" style=\"fill:none;stroke:#262626;stroke-linecap:round;stroke-width:1.25;\"/>\r\n    </g>\r\n    <g id=\"text_3\">\r\n     <!-- 2 -->\r\n     <defs>\r\n      <path d=\"M 50.34375 8.453125 \r\nL 50.34375 0 \r\nL 3.03125 0 \r\nQ 2.9375 3.171875 4.046875 6.109375 \r\nQ 5.859375 10.9375 9.828125 15.625 \r\nQ 13.8125 20.3125 21.34375 26.46875 \r\nQ 33.015625 36.03125 37.109375 41.625 \r\nQ 41.21875 47.21875 41.21875 52.203125 \r\nQ 41.21875 57.421875 37.46875 61 \r\nQ 33.734375 64.59375 27.734375 64.59375 \r\nQ 21.390625 64.59375 17.578125 60.78125 \r\nQ 13.765625 56.984375 13.71875 50.25 \r\nL 4.6875 51.171875 \r\nQ 5.609375 61.28125 11.65625 66.578125 \r\nQ 17.71875 71.875 27.9375 71.875 \r\nQ 38.234375 71.875 44.234375 66.15625 \r\nQ 50.25 60.453125 50.25 52 \r\nQ 50.25 47.703125 48.484375 43.546875 \r\nQ 46.734375 39.40625 42.65625 34.8125 \r\nQ 38.578125 30.21875 29.109375 22.21875 \r\nQ 21.1875 15.578125 18.9375 13.203125 \r\nQ 16.703125 10.84375 15.234375 8.453125 \r\nz\r\n\" id=\"ArialMT-50\"/>\r\n     </defs>\r\n     <g style=\"fill:#262626;\" transform=\"translate(66.014154 202.69043)scale(0.11 -0.11)\">\r\n      <use xlink:href=\"#ArialMT-50\"/>\r\n     </g>\r\n    </g>\r\n   </g>\r\n   <g id=\"xtick_3\">\r\n    <g id=\"line2d_6\">\r\n     <path clip-path=\"url(#p883af82855)\" d=\"M 179.124324 112.981622 \r\n\" style=\"fill:none;stroke:#ffffff;stroke-linecap:round;\"/>\r\n    </g>\r\n    <g id=\"line2d_7\">\r\n     <path d=\"M 124.274529 191.396198 \r\nL 121.880596 192.832942 \r\n\" style=\"fill:none;stroke:#262626;stroke-linecap:round;stroke-width:1.25;\"/>\r\n    </g>\r\n    <g id=\"text_4\">\r\n     <!-- 5 -->\r\n     <defs>\r\n      <path d=\"M 4.15625 18.75 \r\nL 13.375 19.53125 \r\nQ 14.40625 12.796875 18.140625 9.390625 \r\nQ 21.875 6 27.15625 6 \r\nQ 33.5 6 37.890625 10.78125 \r\nQ 42.28125 15.578125 42.28125 23.484375 \r\nQ 42.28125 31 38.0625 35.34375 \r\nQ 33.84375 39.703125 27 39.703125 \r\nQ 22.75 39.703125 19.328125 37.765625 \r\nQ 15.921875 35.84375 13.96875 32.765625 \r\nL 5.71875 33.84375 \r\nL 12.640625 70.609375 \r\nL 48.25 70.609375 \r\nL 48.25 62.203125 \r\nL 19.671875 62.203125 \r\nL 15.828125 42.96875 \r\nQ 22.265625 47.46875 29.34375 47.46875 \r\nQ 38.71875 47.46875 45.15625 40.96875 \r\nQ 51.609375 34.46875 51.609375 24.265625 \r\nQ 51.609375 14.546875 45.953125 7.46875 \r\nQ 39.0625 -1.21875 27.15625 -1.21875 \r\nQ 17.390625 -1.21875 11.203125 4.25 \r\nQ 5.03125 9.71875 4.15625 18.75 \r\nz\r\n\" id=\"ArialMT-53\"/>\r\n     </defs>\r\n     <g style=\"fill:#262626;\" transform=\"translate(112.665756 212.798981)scale(0.11 -0.11)\">\r\n      <use xlink:href=\"#ArialMT-53\"/>\r\n     </g>\r\n    </g>\r\n   </g>\r\n   <g id=\"xtick_4\">\r\n    <g id=\"line2d_8\">\r\n     <path clip-path=\"url(#p883af82855)\" d=\"M 179.124324 112.981622 \r\n\" style=\"fill:none;stroke:#ffffff;stroke-linecap:round;\"/>\r\n    </g>\r\n    <g id=\"line2d_9\">\r\n     <path d=\"M 204.813702 208.500027 \r\nL 202.521894 210.002493 \r\n\" style=\"fill:none;stroke:#262626;stroke-linecap:round;stroke-width:1.25;\"/>\r\n    </g>\r\n    <g id=\"text_5\">\r\n     <!-- 10 -->\r\n     <defs>\r\n      <path d=\"M 4.15625 35.296875 \r\nQ 4.15625 48 6.765625 55.734375 \r\nQ 9.375 63.484375 14.515625 67.671875 \r\nQ 19.671875 71.875 27.484375 71.875 \r\nQ 33.25 71.875 37.59375 69.546875 \r\nQ 41.9375 67.234375 44.765625 62.859375 \r\nQ 47.609375 58.5 49.21875 52.21875 \r\nQ 50.828125 45.953125 50.828125 35.296875 \r\nQ 50.828125 22.703125 48.234375 14.96875 \r\nQ 45.65625 7.234375 40.5 3 \r\nQ 35.359375 -1.21875 27.484375 -1.21875 \r\nQ 17.140625 -1.21875 11.234375 6.203125 \r\nQ 4.15625 15.140625 4.15625 35.296875 \r\nz\r\nM 13.1875 35.296875 \r\nQ 13.1875 17.671875 17.3125 11.828125 \r\nQ 21.4375 6 27.484375 6 \r\nQ 33.546875 6 37.671875 11.859375 \r\nQ 41.796875 17.71875 41.796875 35.296875 \r\nQ 41.796875 52.984375 37.671875 58.78125 \r\nQ 33.546875 64.59375 27.390625 64.59375 \r\nQ 21.34375 64.59375 17.71875 59.46875 \r\nQ 13.1875 52.9375 13.1875 35.296875 \r\nz\r\n\" id=\"ArialMT-48\"/>\r\n     </defs>\r\n     <g style=\"fill:#262626;\" transform=\"translate(190.178599 230.257325)scale(0.11 -0.11)\">\r\n      <use xlink:href=\"#ArialMT-49\"/>\r\n      <use x=\"55.615234\" xlink:href=\"#ArialMT-48\"/>\r\n     </g>\r\n    </g>\r\n   </g>\r\n  </g>\r\n  <g id=\"axis3d_2\">\r\n   <g id=\"line2d_10\">\r\n    <path d=\"M 302.626265 153.086553 \r\nL 214.897263 211.305609 \r\n\" style=\"fill:none;stroke:#ffffff;stroke-linecap:round;stroke-width:1.25;\"/>\r\n   </g>\r\n   <g id=\"text_6\">\r\n    <!-- min samples split -->\r\n    <defs>\r\n     <path d=\"M 6.640625 61.46875 \r\nL 6.640625 71.578125 \r\nL 15.4375 71.578125 \r\nL 15.4375 61.46875 \r\nz\r\nM 6.640625 0 \r\nL 6.640625 51.859375 \r\nL 15.4375 51.859375 \r\nL 15.4375 0 \r\nz\r\n\" id=\"ArialMT-105\"/>\r\n     <path d=\"M 6.59375 0 \r\nL 6.59375 51.859375 \r\nL 14.5 51.859375 \r\nL 14.5 44.484375 \r\nQ 20.21875 53.03125 31 53.03125 \r\nQ 35.6875 53.03125 39.625 51.34375 \r\nQ 43.5625 49.65625 45.515625 46.921875 \r\nQ 47.46875 44.1875 48.25 40.4375 \r\nQ 48.734375 37.984375 48.734375 31.890625 \r\nL 48.734375 0 \r\nL 39.9375 0 \r\nL 39.9375 31.546875 \r\nQ 39.9375 36.921875 38.90625 39.578125 \r\nQ 37.890625 42.234375 35.28125 43.8125 \r\nQ 32.671875 45.40625 29.15625 45.40625 \r\nQ 23.53125 45.40625 19.453125 41.84375 \r\nQ 15.375 38.28125 15.375 28.328125 \r\nL 15.375 0 \r\nz\r\n\" id=\"ArialMT-110\"/>\r\n     <path d=\"M 3.078125 15.484375 \r\nL 11.765625 16.84375 \r\nQ 12.5 11.625 15.84375 8.84375 \r\nQ 19.1875 6.0625 25.203125 6.0625 \r\nQ 31.25 6.0625 34.171875 8.515625 \r\nQ 37.109375 10.984375 37.109375 14.3125 \r\nQ 37.109375 17.28125 34.515625 19 \r\nQ 32.71875 20.171875 25.53125 21.96875 \r\nQ 15.875 24.421875 12.140625 26.203125 \r\nQ 8.40625 27.984375 6.46875 31.125 \r\nQ 4.546875 34.28125 4.546875 38.09375 \r\nQ 4.546875 41.546875 6.125 44.5 \r\nQ 7.71875 47.46875 10.453125 49.421875 \r\nQ 12.5 50.921875 16.03125 51.96875 \r\nQ 19.578125 53.03125 23.640625 53.03125 \r\nQ 29.734375 53.03125 34.34375 51.265625 \r\nQ 38.96875 49.515625 41.15625 46.5 \r\nQ 43.359375 43.5 44.1875 38.484375 \r\nL 35.59375 37.3125 \r\nQ 35.015625 41.3125 32.203125 43.546875 \r\nQ 29.390625 45.796875 24.265625 45.796875 \r\nQ 18.21875 45.796875 15.625 43.796875 \r\nQ 13.03125 41.796875 13.03125 39.109375 \r\nQ 13.03125 37.40625 14.109375 36.03125 \r\nQ 15.1875 34.625 17.484375 33.6875 \r\nQ 18.796875 33.203125 25.25 31.453125 \r\nQ 34.578125 28.953125 38.25 27.359375 \r\nQ 41.9375 25.78125 44.03125 22.75 \r\nQ 46.140625 19.734375 46.140625 15.234375 \r\nQ 46.140625 10.84375 43.578125 6.953125 \r\nQ 41.015625 3.078125 36.171875 0.953125 \r\nQ 31.34375 -1.171875 25.25 -1.171875 \r\nQ 15.140625 -1.171875 9.84375 3.03125 \r\nQ 4.546875 7.234375 3.078125 15.484375 \r\nz\r\n\" id=\"ArialMT-115\"/>\r\n     <path d=\"M 6.390625 0 \r\nL 6.390625 71.578125 \r\nL 15.1875 71.578125 \r\nL 15.1875 0 \r\nz\r\n\" id=\"ArialMT-108\"/>\r\n    </defs>\r\n    <g style=\"fill:#262626;\" transform=\"translate(251.996149 232.648942)rotate(-33.5692)scale(0.12 -0.12)\">\r\n     <use xlink:href=\"#ArialMT-109\"/>\r\n     <use x=\"83.300781\" xlink:href=\"#ArialMT-105\"/>\r\n     <use x=\"105.517578\" xlink:href=\"#ArialMT-110\"/>\r\n     <use x=\"161.132812\" xlink:href=\"#ArialMT-32\"/>\r\n     <use x=\"188.916016\" xlink:href=\"#ArialMT-115\"/>\r\n     <use x=\"238.916016\" xlink:href=\"#ArialMT-97\"/>\r\n     <use x=\"294.53125\" xlink:href=\"#ArialMT-109\"/>\r\n     <use x=\"377.832031\" xlink:href=\"#ArialMT-112\"/>\r\n     <use x=\"433.447266\" xlink:href=\"#ArialMT-108\"/>\r\n     <use x=\"455.664062\" xlink:href=\"#ArialMT-101\"/>\r\n     <use x=\"511.279297\" xlink:href=\"#ArialMT-115\"/>\r\n     <use x=\"561.279297\" xlink:href=\"#ArialMT-32\"/>\r\n     <use x=\"589.0625\" xlink:href=\"#ArialMT-115\"/>\r\n     <use x=\"639.0625\" xlink:href=\"#ArialMT-112\"/>\r\n     <use x=\"694.677734\" xlink:href=\"#ArialMT-108\"/>\r\n     <use x=\"716.894531\" xlink:href=\"#ArialMT-105\"/>\r\n     <use x=\"739.111328\" xlink:href=\"#ArialMT-116\"/>\r\n    </g>\r\n   </g>\r\n   <g id=\"Line3DCollection_2\">\r\n    <path d=\"M 51.571961 66.032146 \r\nL 58.120339 172.956254 \r\nL 220.901308 207.321182 \r\n\" style=\"fill:none;stroke:#ffffff;\"/>\r\n    <path d=\"M 70.115001 57.252398 \r\nL 75.637554 163.210357 \r\nL 236.975758 196.653794 \r\n\" style=\"fill:none;stroke:#ffffff;\"/>\r\n    <path d=\"M 83.80336 50.771242 \r\nL 88.584715 156.00706 \r\nL 248.843883 188.777824 \r\n\" style=\"fill:none;stroke:#ffffff;\"/>\r\n    <path d=\"M 97.209785 44.423576 \r\nL 101.278453 148.944758 \r\nL 260.469264 181.062944 \r\n\" style=\"fill:none;stroke:#ffffff;\"/>\r\n    <path d=\"M 114.514031 36.230371 \r\nL 117.682214 139.818344 \r\nL 275.477128 171.103367 \r\n\" style=\"fill:none;stroke:#ffffff;\"/>\r\n    <path d=\"M 127.298486 30.177195 \r\nL 129.815462 133.067877 \r\nL 286.566807 163.743992 \r\n\" style=\"fill:none;stroke:#ffffff;\"/>\r\n    <path d=\"M 139.828335 24.244569 \r\nL 141.718696 126.445381 \r\nL 297.437117 156.530196 \r\n\" style=\"fill:none;stroke:#ffffff;\"/>\r\n   </g>\r\n   <g id=\"xtick_5\">\r\n    <g id=\"line2d_11\">\r\n     <path clip-path=\"url(#p883af82855)\" d=\"M 179.124324 112.981622 \r\n\" style=\"fill:none;stroke:#ffffff;stroke-linecap:round;\"/>\r\n    </g>\r\n    <g id=\"line2d_12\">\r\n     <path d=\"M 219.538974 207.033578 \r\nL 223.62902 207.897033 \r\n\" style=\"fill:none;stroke:#262626;stroke-linecap:round;stroke-width:1.25;\"/>\r\n    </g>\r\n    <g id=\"text_7\">\r\n     <!-- 2 -->\r\n     <g style=\"fill:#262626;\" transform=\"translate(231.278053 226.405208)scale(0.11 -0.11)\">\r\n      <use xlink:href=\"#ArialMT-50\"/>\r\n     </g>\r\n    </g>\r\n   </g>\r\n   <g id=\"xtick_6\">\r\n    <g id=\"line2d_13\">\r\n     <path clip-path=\"url(#p883af82855)\" d=\"M 179.124324 112.981622 \r\n\" style=\"fill:none;stroke:#ffffff;stroke-linecap:round;\"/>\r\n    </g>\r\n    <g id=\"line2d_14\">\r\n     <path d=\"M 235.626321 196.374072 \r\nL 239.677607 197.213854 \r\n\" style=\"fill:none;stroke:#262626;stroke-linecap:round;stroke-width:1.25;\"/>\r\n    </g>\r\n    <g id=\"text_8\">\r\n     <!-- 5 -->\r\n     <g style=\"fill:#262626;\" transform=\"translate(247.158066 215.589242)scale(0.11 -0.11)\">\r\n      <use xlink:href=\"#ArialMT-53\"/>\r\n     </g>\r\n    </g>\r\n   </g>\r\n   <g id=\"xtick_7\">\r\n    <g id=\"line2d_15\">\r\n     <path clip-path=\"url(#p883af82855)\" d=\"M 179.124324 112.981622 \r\n\" style=\"fill:none;stroke:#ffffff;stroke-linecap:round;\"/>\r\n    </g>\r\n    <g id=\"line2d_16\">\r\n     <path d=\"M 247.504073 188.503851 \r\nL 251.526424 189.326366 \r\n\" style=\"fill:none;stroke:#262626;stroke-linecap:round;stroke-width:1.25;\"/>\r\n    </g>\r\n    <g id=\"text_9\">\r\n     <!-- 10 -->\r\n     <g style=\"fill:#262626;\" transform=\"translate(255.824279 207.603462)scale(0.11 -0.11)\">\r\n      <use xlink:href=\"#ArialMT-49\"/>\r\n      <use x=\"55.615234\" xlink:href=\"#ArialMT-48\"/>\r\n     </g>\r\n    </g>\r\n   </g>\r\n   <g id=\"xtick_8\">\r\n    <g id=\"line2d_17\">\r\n     <path clip-path=\"url(#p883af82855)\" d=\"M 179.124324 112.981622 \r\n\" style=\"fill:none;stroke:#ffffff;stroke-linecap:round;\"/>\r\n    </g>\r\n    <g id=\"line2d_18\">\r\n     <path d=\"M 259.138973 180.794545 \r\nL 263.132719 181.60032 \r\n\" style=\"fill:none;stroke:#262626;stroke-linecap:round;stroke-width:1.25;\"/>\r\n    </g>\r\n    <g id=\"text_10\">\r\n     <!-- 20 -->\r\n     <g style=\"fill:#262626;\" transform=\"translate(267.309331 199.780929)scale(0.11 -0.11)\">\r\n      <use xlink:href=\"#ArialMT-50\"/>\r\n      <use x=\"55.615234\" xlink:href=\"#ArialMT-48\"/>\r\n     </g>\r\n    </g>\r\n   </g>\r\n   <g id=\"xtick_9\">\r\n    <g id=\"line2d_19\">\r\n     <path clip-path=\"url(#p883af82855)\" d=\"M 179.124324 112.981622 \r\n\" style=\"fill:none;stroke:#ffffff;stroke-linecap:round;\"/>\r\n    </g>\r\n    <g id=\"line2d_20\">\r\n     <path d=\"M 274.159252 170.84208 \r\nL 278.115688 171.626498 \r\n\" style=\"fill:none;stroke:#262626;stroke-linecap:round;stroke-width:1.25;\"/>\r\n    </g>\r\n    <g id=\"text_11\">\r\n     <!-- 50 -->\r\n     <g style=\"fill:#262626;\" transform=\"translate(282.13623 189.682243)scale(0.11 -0.11)\">\r\n      <use xlink:href=\"#ArialMT-53\"/>\r\n      <use x=\"55.615234\" xlink:href=\"#ArialMT-48\"/>\r\n     </g>\r\n    </g>\r\n   </g>\r\n   <g id=\"xtick_10\">\r\n    <g id=\"line2d_21\">\r\n     <path clip-path=\"url(#p883af82855)\" d=\"M 179.124324 112.981622 \r\n\" style=\"fill:none;stroke:#ffffff;stroke-linecap:round;\"/>\r\n    </g>\r\n    <g id=\"line2d_22\">\r\n     <path d=\"M 285.258197 163.487898 \r\nL 289.186786 164.25672 \r\n\" style=\"fill:none;stroke:#262626;stroke-linecap:round;stroke-width:1.25;\"/>\r\n    </g>\r\n    <g id=\"text_12\">\r\n     <!-- 100 -->\r\n     <g style=\"fill:#262626;\" transform=\"translate(290.033815 182.219981)scale(0.11 -0.11)\">\r\n      <use xlink:href=\"#ArialMT-49\"/>\r\n      <use x=\"55.615234\" xlink:href=\"#ArialMT-48\"/>\r\n      <use x=\"111.230469\" xlink:href=\"#ArialMT-48\"/>\r\n     </g>\r\n    </g>\r\n   </g>\r\n   <g id=\"xtick_11\">\r\n    <g id=\"line2d_23\">\r\n     <path clip-path=\"url(#p883af82855)\" d=\"M 179.124324 112.981622 \r\n\" style=\"fill:none;stroke:#ffffff;stroke-linecap:round;\"/>\r\n    </g>\r\n    <g id=\"line2d_24\">\r\n     <path d=\"M 296.137666 156.279142 \r\nL 300.038731 157.032828 \r\n\" style=\"fill:none;stroke:#262626;stroke-linecap:round;stroke-width:1.25;\"/>\r\n    </g>\r\n    <g id=\"text_13\">\r\n     <!-- 200 -->\r\n     <g style=\"fill:#262626;\" transform=\"translate(300.773306 174.905253)scale(0.11 -0.11)\">\r\n      <use xlink:href=\"#ArialMT-50\"/>\r\n      <use x=\"55.615234\" xlink:href=\"#ArialMT-48\"/>\r\n      <use x=\"111.230469\" xlink:href=\"#ArialMT-48\"/>\r\n     </g>\r\n    </g>\r\n   </g>\r\n  </g>\r\n  <g id=\"axis3d_3\">\r\n   <g id=\"line2d_25\">\r\n    <path d=\"M 302.626265 153.086553 \r\nL 309.120561 48.145466 \r\n\" style=\"fill:none;stroke:#ffffff;stroke-linecap:round;stroke-width:1.25;\"/>\r\n   </g>\r\n   <g id=\"text_14\">\r\n    <!-- Score -->\r\n    <defs>\r\n     <path d=\"M 4.5 23 \r\nL 13.421875 23.78125 \r\nQ 14.0625 18.40625 16.375 14.96875 \r\nQ 18.703125 11.53125 23.578125 9.40625 \r\nQ 28.46875 7.28125 34.578125 7.28125 \r\nQ 39.984375 7.28125 44.140625 8.890625 \r\nQ 48.296875 10.5 50.3125 13.296875 \r\nQ 52.34375 16.109375 52.34375 19.4375 \r\nQ 52.34375 22.796875 50.390625 25.3125 \r\nQ 48.4375 27.828125 43.953125 29.546875 \r\nQ 41.0625 30.671875 31.203125 33.03125 \r\nQ 21.34375 35.40625 17.390625 37.5 \r\nQ 12.25 40.1875 9.734375 44.15625 \r\nQ 7.234375 48.140625 7.234375 53.078125 \r\nQ 7.234375 58.5 10.296875 63.203125 \r\nQ 13.375 67.921875 19.28125 70.359375 \r\nQ 25.203125 72.796875 32.421875 72.796875 \r\nQ 40.375 72.796875 46.453125 70.234375 \r\nQ 52.546875 67.671875 55.8125 62.6875 \r\nQ 59.078125 57.71875 59.328125 51.421875 \r\nL 50.25 50.734375 \r\nQ 49.515625 57.515625 45.28125 60.984375 \r\nQ 41.0625 64.453125 32.8125 64.453125 \r\nQ 24.21875 64.453125 20.28125 61.296875 \r\nQ 16.359375 58.15625 16.359375 53.71875 \r\nQ 16.359375 49.859375 19.140625 47.359375 \r\nQ 21.875 44.875 33.421875 42.265625 \r\nQ 44.96875 39.65625 49.265625 37.703125 \r\nQ 55.515625 34.8125 58.484375 30.390625 \r\nQ 61.46875 25.984375 61.46875 20.21875 \r\nQ 61.46875 14.5 58.203125 9.4375 \r\nQ 54.9375 4.390625 48.796875 1.578125 \r\nQ 42.671875 -1.21875 35.015625 -1.21875 \r\nQ 25.296875 -1.21875 18.71875 1.609375 \r\nQ 12.15625 4.4375 8.421875 10.125 \r\nQ 4.6875 15.828125 4.5 23 \r\nz\r\n\" id=\"ArialMT-83\"/>\r\n     <path d=\"M 40.4375 19 \r\nL 49.078125 17.875 \r\nQ 47.65625 8.9375 41.8125 3.875 \r\nQ 35.984375 -1.171875 27.484375 -1.171875 \r\nQ 16.84375 -1.171875 10.375 5.78125 \r\nQ 3.90625 12.75 3.90625 25.734375 \r\nQ 3.90625 34.125 6.6875 40.421875 \r\nQ 9.46875 46.734375 15.15625 49.875 \r\nQ 20.84375 53.03125 27.546875 53.03125 \r\nQ 35.984375 53.03125 41.359375 48.75 \r\nQ 46.734375 44.484375 48.25 36.625 \r\nL 39.703125 35.296875 \r\nQ 38.484375 40.53125 35.375 43.15625 \r\nQ 32.28125 45.796875 27.875 45.796875 \r\nQ 21.234375 45.796875 17.078125 41.03125 \r\nQ 12.9375 36.28125 12.9375 25.984375 \r\nQ 12.9375 15.53125 16.9375 10.796875 \r\nQ 20.953125 6.0625 27.390625 6.0625 \r\nQ 32.5625 6.0625 36.03125 9.234375 \r\nQ 39.5 12.40625 40.4375 19 \r\nz\r\n\" id=\"ArialMT-99\"/>\r\n     <path d=\"M 3.328125 25.921875 \r\nQ 3.328125 40.328125 11.328125 47.265625 \r\nQ 18.015625 53.03125 27.640625 53.03125 \r\nQ 38.328125 53.03125 45.109375 46.015625 \r\nQ 51.90625 39.015625 51.90625 26.65625 \r\nQ 51.90625 16.65625 48.90625 10.90625 \r\nQ 45.90625 5.171875 40.15625 2 \r\nQ 34.421875 -1.171875 27.640625 -1.171875 \r\nQ 16.75 -1.171875 10.03125 5.8125 \r\nQ 3.328125 12.796875 3.328125 25.921875 \r\nz\r\nM 12.359375 25.921875 \r\nQ 12.359375 15.96875 16.703125 11.015625 \r\nQ 21.046875 6.0625 27.640625 6.0625 \r\nQ 34.1875 6.0625 38.53125 11.03125 \r\nQ 42.875 16.015625 42.875 26.21875 \r\nQ 42.875 35.84375 38.5 40.796875 \r\nQ 34.125 45.75 27.640625 45.75 \r\nQ 21.046875 45.75 16.703125 40.8125 \r\nQ 12.359375 35.890625 12.359375 25.921875 \r\nz\r\n\" id=\"ArialMT-111\"/>\r\n     <path d=\"M 6.5 0 \r\nL 6.5 51.859375 \r\nL 14.40625 51.859375 \r\nL 14.40625 44 \r\nQ 17.4375 49.515625 20 51.265625 \r\nQ 22.5625 53.03125 25.640625 53.03125 \r\nQ 30.078125 53.03125 34.671875 50.203125 \r\nL 31.640625 42.046875 \r\nQ 28.421875 43.953125 25.203125 43.953125 \r\nQ 22.3125 43.953125 20.015625 42.21875 \r\nQ 17.71875 40.484375 16.75 37.40625 \r\nQ 15.28125 32.71875 15.28125 27.15625 \r\nL 15.28125 0 \r\nz\r\n\" id=\"ArialMT-114\"/>\r\n    </defs>\r\n    <g style=\"fill:#262626;\" transform=\"translate(350.998444 114.046592)rotate(-86.458758)scale(0.12 -0.12)\">\r\n     <use xlink:href=\"#ArialMT-83\"/>\r\n     <use x=\"66.699219\" xlink:href=\"#ArialMT-99\"/>\r\n     <use x=\"116.699219\" xlink:href=\"#ArialMT-111\"/>\r\n     <use x=\"172.314453\" xlink:href=\"#ArialMT-114\"/>\r\n     <use x=\"205.615234\" xlink:href=\"#ArialMT-101\"/>\r\n    </g>\r\n   </g>\r\n   <g id=\"Line3DCollection_3\">\r\n    <path d=\"M 302.764913 150.846158 \r\nL 147.370294 121.102607 \r\nL 51.435043 174.306919 \r\n\" style=\"fill:none;stroke:#ffffff;\"/>\r\n    <path d=\"M 303.813853 133.89637 \r\nL 147.112174 104.620431 \r\nL 50.31597 157.002845 \r\n\" style=\"fill:none;stroke:#ffffff;\"/>\r\n    <path d=\"M 304.880743 116.656524 \r\nL 146.849824 87.868101 \r\nL 49.177109 139.392782 \r\n\" style=\"fill:none;stroke:#ffffff;\"/>\r\n    <path d=\"M 305.966049 99.11911 \r\nL 146.583138 70.83892 \r\nL 48.01793 121.468542 \r\n\" style=\"fill:none;stroke:#ffffff;\"/>\r\n    <path d=\"M 307.070251 81.276358 \r\nL 146.312008 53.525968 \r\nL 46.837884 103.221642 \r\n\" style=\"fill:none;stroke:#ffffff;\"/>\r\n    <path d=\"M 308.193846 63.120223 \r\nL 146.036322 35.922093 \r\nL 45.636403 84.64329 \r\n\" style=\"fill:none;stroke:#ffffff;\"/>\r\n   </g>\r\n   <g id=\"xtick_12\">\r\n    <g id=\"line2d_26\">\r\n     <path clip-path=\"url(#p883af82855)\" d=\"M 179.124324 112.981622 \r\n\" style=\"fill:none;stroke:#ffffff;stroke-linecap:round;\"/>\r\n    </g>\r\n    <g id=\"line2d_27\">\r\n     <path d=\"M 301.46836 150.59799 \r\nL 305.360715 151.343012 \r\n\" style=\"fill:none;stroke:#262626;stroke-linecap:round;stroke-width:1.25;\"/>\r\n    </g>\r\n    <g id=\"text_15\">\r\n     <!-- −7.0 -->\r\n     <defs>\r\n      <path d=\"M 52.828125 31.203125 \r\nL 5.5625 31.203125 \r\nL 5.5625 39.40625 \r\nL 52.828125 39.40625 \r\nz\r\n\" id=\"ArialMT-8722\"/>\r\n      <path d=\"M 4.734375 62.203125 \r\nL 4.734375 70.65625 \r\nL 51.078125 70.65625 \r\nL 51.078125 63.8125 \r\nQ 44.234375 56.546875 37.515625 44.484375 \r\nQ 30.8125 32.421875 27.15625 19.671875 \r\nQ 24.515625 10.6875 23.78125 0 \r\nL 14.75 0 \r\nQ 14.890625 8.453125 18.0625 20.40625 \r\nQ 21.234375 32.375 27.171875 43.484375 \r\nQ 33.109375 54.59375 39.796875 62.203125 \r\nz\r\n\" id=\"ArialMT-55\"/>\r\n      <path d=\"M 9.078125 0 \r\nL 9.078125 10.015625 \r\nL 19.09375 10.015625 \r\nL 19.09375 0 \r\nz\r\n\" id=\"ArialMT-46\"/>\r\n     </defs>\r\n     <g style=\"fill:#262626;\" transform=\"translate(311.318759 156.907786)scale(0.11 -0.11)\">\r\n      <use xlink:href=\"#ArialMT-8722\"/>\r\n      <use x=\"58.398438\" xlink:href=\"#ArialMT-55\"/>\r\n      <use x=\"114.013672\" xlink:href=\"#ArialMT-46\"/>\r\n      <use x=\"141.796875\" xlink:href=\"#ArialMT-48\"/>\r\n     </g>\r\n    </g>\r\n   </g>\r\n   <g id=\"xtick_13\">\r\n    <g id=\"line2d_28\">\r\n     <path clip-path=\"url(#p883af82855)\" d=\"M 179.124324 112.981622 \r\n\" style=\"fill:none;stroke:#ffffff;stroke-linecap:round;\"/>\r\n    </g>\r\n    <g id=\"line2d_29\">\r\n     <path d=\"M 302.505938 133.652017 \r\nL 306.432427 134.385587 \r\n\" style=\"fill:none;stroke:#262626;stroke-linecap:round;stroke-width:1.25;\"/>\r\n    </g>\r\n    <g id=\"text_16\">\r\n     <!-- −6.5 -->\r\n     <defs>\r\n      <path d=\"M 49.75 54.046875 \r\nL 41.015625 53.375 \r\nQ 39.84375 58.546875 37.703125 60.890625 \r\nQ 34.125 64.65625 28.90625 64.65625 \r\nQ 24.703125 64.65625 21.53125 62.3125 \r\nQ 17.390625 59.28125 14.984375 53.46875 \r\nQ 12.59375 47.65625 12.5 36.921875 \r\nQ 15.671875 41.75 20.265625 44.09375 \r\nQ 24.859375 46.4375 29.890625 46.4375 \r\nQ 38.671875 46.4375 44.84375 39.96875 \r\nQ 51.03125 33.5 51.03125 23.25 \r\nQ 51.03125 16.5 48.125 10.71875 \r\nQ 45.21875 4.9375 40.140625 1.859375 \r\nQ 35.0625 -1.21875 28.609375 -1.21875 \r\nQ 17.625 -1.21875 10.6875 6.859375 \r\nQ 3.765625 14.9375 3.765625 33.5 \r\nQ 3.765625 54.25 11.421875 63.671875 \r\nQ 18.109375 71.875 29.4375 71.875 \r\nQ 37.890625 71.875 43.28125 67.140625 \r\nQ 48.6875 62.40625 49.75 54.046875 \r\nz\r\nM 13.875 23.1875 \r\nQ 13.875 18.65625 15.796875 14.5 \r\nQ 17.71875 10.359375 21.1875 8.171875 \r\nQ 24.65625 6 28.46875 6 \r\nQ 34.03125 6 38.03125 10.484375 \r\nQ 42.046875 14.984375 42.046875 22.703125 \r\nQ 42.046875 30.125 38.078125 34.390625 \r\nQ 34.125 38.671875 28.125 38.671875 \r\nQ 22.171875 38.671875 18.015625 34.390625 \r\nQ 13.875 30.125 13.875 23.1875 \r\nz\r\n\" id=\"ArialMT-54\"/>\r\n     </defs>\r\n     <g style=\"fill:#262626;\" transform=\"translate(312.529285 139.985894)scale(0.11 -0.11)\">\r\n      <use xlink:href=\"#ArialMT-8722\"/>\r\n      <use x=\"58.398438\" xlink:href=\"#ArialMT-54\"/>\r\n      <use x=\"114.013672\" xlink:href=\"#ArialMT-46\"/>\r\n      <use x=\"141.796875\" xlink:href=\"#ArialMT-53\"/>\r\n     </g>\r\n    </g>\r\n   </g>\r\n   <g id=\"xtick_14\">\r\n    <g id=\"line2d_30\">\r\n     <path clip-path=\"url(#p883af82855)\" d=\"M 179.124324 112.981622 \r\n\" style=\"fill:none;stroke:#ffffff;stroke-linecap:round;\"/>\r\n    </g>\r\n    <g id=\"line2d_31\">\r\n     <path d=\"M 303.561266 116.416155 \r\nL 307.522491 117.13777 \r\n\" style=\"fill:none;stroke:#262626;stroke-linecap:round;stroke-width:1.25;\"/>\r\n    </g>\r\n    <g id=\"text_17\">\r\n     <!-- −6.0 -->\r\n     <g style=\"fill:#262626;\" transform=\"translate(313.760472 122.775167)scale(0.11 -0.11)\">\r\n      <use xlink:href=\"#ArialMT-8722\"/>\r\n      <use x=\"58.398438\" xlink:href=\"#ArialMT-54\"/>\r\n      <use x=\"114.013672\" xlink:href=\"#ArialMT-46\"/>\r\n      <use x=\"141.796875\" xlink:href=\"#ArialMT-48\"/>\r\n     </g>\r\n    </g>\r\n   </g>\r\n   <g id=\"xtick_15\">\r\n    <g id=\"line2d_32\">\r\n     <path clip-path=\"url(#p883af82855)\" d=\"M 179.124324 112.981622 \r\n\" style=\"fill:none;stroke:#ffffff;stroke-linecap:round;\"/>\r\n    </g>\r\n    <g id=\"line2d_33\">\r\n     <path d=\"M 304.634802 98.8829 \r\nL 308.631384 99.592035 \r\n\" style=\"fill:none;stroke:#262626;stroke-linecap:round;stroke-width:1.25;\"/>\r\n    </g>\r\n    <g id=\"text_18\">\r\n     <!-- −5.5 -->\r\n     <g style=\"fill:#262626;\" transform=\"translate(315.012856 105.268146)scale(0.11 -0.11)\">\r\n      <use xlink:href=\"#ArialMT-8722\"/>\r\n      <use x=\"58.398438\" xlink:href=\"#ArialMT-53\"/>\r\n      <use x=\"114.013672\" xlink:href=\"#ArialMT-46\"/>\r\n      <use x=\"141.796875\" xlink:href=\"#ArialMT-53\"/>\r\n     </g>\r\n    </g>\r\n   </g>\r\n   <g id=\"xtick_16\">\r\n    <g id=\"line2d_34\">\r\n     <path clip-path=\"url(#p883af82855)\" d=\"M 179.124324 112.981622 \r\n\" style=\"fill:none;stroke:#ffffff;stroke-linecap:round;\"/>\r\n    </g>\r\n    <g id=\"line2d_35\">\r\n     <path d=\"M 305.727023 81.044488 \r\nL 309.759597 81.740598 \r\n\" style=\"fill:none;stroke:#262626;stroke-linecap:round;stroke-width:1.25;\"/>\r\n    </g>\r\n    <g id=\"text_19\">\r\n     <!-- −5.0 -->\r\n     <g style=\"fill:#262626;\" transform=\"translate(316.286987 87.457113)scale(0.11 -0.11)\">\r\n      <use xlink:href=\"#ArialMT-8722\"/>\r\n      <use x=\"58.398438\" xlink:href=\"#ArialMT-53\"/>\r\n      <use x=\"114.013672\" xlink:href=\"#ArialMT-46\"/>\r\n      <use x=\"141.796875\" xlink:href=\"#ArialMT-48\"/>\r\n     </g>\r\n    </g>\r\n   </g>\r\n   <g id=\"xtick_17\">\r\n    <g id=\"line2d_36\">\r\n     <path clip-path=\"url(#p883af82855)\" d=\"M 179.124324 112.981622 \r\n\" style=\"fill:none;stroke:#ffffff;stroke-linecap:round;\"/>\r\n    </g>\r\n    <g id=\"line2d_37\">\r\n     <path d=\"M 306.83842 62.892882 \r\nL 310.907641 63.575399 \r\n\" style=\"fill:none;stroke:#262626;stroke-linecap:round;stroke-width:1.25;\"/>\r\n    </g>\r\n    <g id=\"text_20\">\r\n     <!-- −4.5 -->\r\n     <defs>\r\n      <path d=\"M 32.328125 0 \r\nL 32.328125 17.140625 \r\nL 1.265625 17.140625 \r\nL 1.265625 25.203125 \r\nL 33.9375 71.578125 \r\nL 41.109375 71.578125 \r\nL 41.109375 25.203125 \r\nL 50.78125 25.203125 \r\nL 50.78125 17.140625 \r\nL 41.109375 17.140625 \r\nL 41.109375 0 \r\nz\r\nM 32.328125 25.203125 \r\nL 32.328125 57.46875 \r\nL 9.90625 25.203125 \r\nz\r\n\" id=\"ArialMT-52\"/>\r\n     </defs>\r\n     <g style=\"fill:#262626;\" transform=\"translate(317.583437 69.334081)scale(0.11 -0.11)\">\r\n      <use xlink:href=\"#ArialMT-8722\"/>\r\n      <use x=\"58.398438\" xlink:href=\"#ArialMT-52\"/>\r\n      <use x=\"114.013672\" xlink:href=\"#ArialMT-46\"/>\r\n      <use x=\"141.796875\" xlink:href=\"#ArialMT-53\"/>\r\n     </g>\r\n    </g>\r\n   </g>\r\n  </g>\r\n  <g id=\"axes_1\">\r\n   <g id=\"Path3DCollection_1\">\r\n    <defs>\r\n     <path d=\"M 0 2.236068 \r\nC 0.593012 2.236068 1.161816 2.000462 1.581139 1.581139 \r\nC 2.000462 1.161816 2.236068 0.593012 2.236068 0 \r\nC 2.236068 -0.593012 2.000462 -1.161816 1.581139 -1.581139 \r\nC 1.161816 -2.000462 0.593012 -2.236068 0 -2.236068 \r\nC -0.593012 -2.236068 -1.161816 -2.000462 -1.581139 -1.581139 \r\nC -2.000462 -1.161816 -2.236068 -0.593012 -2.236068 0 \r\nC -2.236068 0.593012 -2.000462 1.161816 -1.581139 1.581139 \r\nC -1.161816 2.000462 -0.593012 2.236068 0 2.236068 \r\nz\r\n\" id=\"C0_0_f356489763\"/>\r\n    </defs>\r\n    <g clip-path=\"url(#p883af82855)\">\r\n     <use style=\"fill:#008000;fill-opacity:0.5857;stroke:#008000;stroke-opacity:0.5857;\" x=\"67.681536\" xlink:href=\"#C0_0_f356489763\" y=\"168.564169\"/>\r\n    </g>\r\n    <g clip-path=\"url(#p883af82855)\">\r\n     <use style=\"fill:#008000;fill-opacity:0.738193;stroke:#008000;stroke-opacity:0.738193;\" x=\"80.145297\" xlink:href=\"#C0_0_f356489763\" y=\"113.794468\"/>\r\n    </g>\r\n    <g clip-path=\"url(#p883af82855)\">\r\n     <use style=\"fill:#008000;fill-opacity:0.88338;stroke:#008000;stroke-opacity:0.88338;\" x=\"127.273292\" xlink:href=\"#C0_0_f356489763\" y=\"88.092699\"/>\r\n    </g>\r\n    <g clip-path=\"url(#p883af82855)\">\r\n     <use style=\"fill:#008000;stroke:#008000;\" x=\"211.727931\" xlink:href=\"#C0_0_f356489763\" y=\"102.394214\"/>\r\n    </g>\r\n    <g clip-path=\"url(#p883af82855)\">\r\n     <use style=\"fill:#008000;fill-opacity:0.525816;stroke:#008000;stroke-opacity:0.525816;\" x=\"85.17784\" xlink:href=\"#C0_0_f356489763\" y=\"158.817595\"/>\r\n    </g>\r\n    <g clip-path=\"url(#p883af82855)\">\r\n     <use style=\"fill:#008000;fill-opacity:0.674221;stroke:#008000;stroke-opacity:0.674221;\" x=\"98.053985\" xlink:href=\"#C0_0_f356489763\" y=\"104.474266\"/>\r\n    </g>\r\n    <g clip-path=\"url(#p883af82855)\">\r\n     <use style=\"fill:#008000;fill-opacity:0.795496;stroke:#008000;stroke-opacity:0.795496;\" x=\"145.208241\" xlink:href=\"#C0_0_f356489763\" y=\"87.536738\"/>\r\n    </g>\r\n    <g clip-path=\"url(#p883af82855)\">\r\n     <use style=\"fill:#008000;fill-opacity:0.90718;stroke:#008000;stroke-opacity:0.90718;\" x=\"228.502655\" xlink:href=\"#C0_0_f356489763\" y=\"101.838089\"/>\r\n    </g>\r\n    <g clip-path=\"url(#p883af82855)\">\r\n     <use style=\"fill:#008000;fill-opacity:0.481562;stroke:#008000;stroke-opacity:0.481562;\" x=\"98.107725\" xlink:href=\"#C0_0_f356489763\" y=\"151.614811\"/>\r\n    </g>\r\n    <g clip-path=\"url(#p883af82855)\">\r\n     <use style=\"fill:#008000;fill-opacity:0.626981;stroke:#008000;stroke-opacity:0.626981;\" x=\"111.278304\" xlink:href=\"#C0_0_f356489763\" y=\"97.591946\"/>\r\n    </g>\r\n    <g clip-path=\"url(#p883af82855)\">\r\n     <use style=\"fill:#008000;fill-opacity:0.745656;stroke:#008000;stroke-opacity:0.745656;\" x=\"158.281033\" xlink:href=\"#C0_0_f356489763\" y=\"80.693182\"/>\r\n    </g>\r\n    <g clip-path=\"url(#p883af82855)\">\r\n     <use style=\"fill:#008000;fill-opacity:0.860286;stroke:#008000;stroke-opacity:0.860286;\" x=\"241.050227\" xlink:href=\"#C0_0_f356489763\" y=\"92.394223\"/>\r\n    </g>\r\n    <g clip-path=\"url(#p883af82855)\">\r\n     <use style=\"fill:#008000;fill-opacity:0.438178;stroke:#008000;stroke-opacity:0.438178;\" x=\"110.783023\" xlink:href=\"#C0_0_f356489763\" y=\"144.553849\"/>\r\n    </g>\r\n    <g clip-path=\"url(#p883af82855)\">\r\n     <use style=\"fill:#008000;fill-opacity:0.580702;stroke:#008000;stroke-opacity:0.580702;\" x=\"124.233733\" xlink:href=\"#C0_0_f356489763\" y=\"90.849563\"/>\r\n    </g>\r\n    <g clip-path=\"url(#p883af82855)\">\r\n     <use style=\"fill:#008000;fill-opacity:0.69704;stroke:#008000;stroke-opacity:0.69704;\" x=\"171.080349\" xlink:href=\"#C0_0_f356489763\" y=\"73.910812\"/>\r\n    </g>\r\n    <g clip-path=\"url(#p883af82855)\">\r\n     <use style=\"fill:#008000;fill-opacity:0.814267;stroke:#008000;stroke-opacity:0.814267;\" x=\"253.356196\" xlink:href=\"#C0_0_f356489763\" y=\"83.143405\"/>\r\n    </g>\r\n    <g clip-path=\"url(#p883af82855)\">\r\n     <use style=\"fill:#008000;fill-opacity:0.382123;stroke:#008000;stroke-opacity:0.382123;\" x=\"127.160755\" xlink:href=\"#C0_0_f356489763\" y=\"135.430392\"/>\r\n    </g>\r\n    <g clip-path=\"url(#p883af82855)\">\r\n     <use style=\"fill:#008000;fill-opacity:0.501805;stroke:#008000;stroke-opacity:0.501805;\" x=\"141.125302\" xlink:href=\"#C0_0_f356489763\" y=\"91.043328\"/>\r\n    </g>\r\n    <g clip-path=\"url(#p883af82855)\">\r\n     <use style=\"fill:#008000;fill-opacity:0.614999;stroke:#008000;stroke-opacity:0.614999;\" x=\"187.560885\" xlink:href=\"#C0_0_f356489763\" y=\"73.981124\"/>\r\n    </g>\r\n    <g clip-path=\"url(#p883af82855)\">\r\n     <use style=\"fill:#008000;fill-opacity:0.722874;stroke:#008000;stroke-opacity:0.722874;\" x=\"268.650677\" xlink:href=\"#C0_0_f356489763\" y=\"85.345931\"/>\r\n    </g>\r\n    <g clip-path=\"url(#p883af82855)\">\r\n     <use style=\"fill:#008000;fill-opacity:0.340666;stroke:#008000;stroke-opacity:0.340666;\" x=\"139.273152\" xlink:href=\"#C0_0_f356489763\" y=\"128.683002\"/>\r\n    </g>\r\n    <g clip-path=\"url(#p883af82855)\">\r\n     <use style=\"fill:#008000;fill-opacity:0.446461;stroke:#008000;stroke-opacity:0.446461;\" x=\"153.500598\" xlink:href=\"#C0_0_f356489763\" y=\"89.994642\"/>\r\n    </g>\r\n    <g clip-path=\"url(#p883af82855)\">\r\n     <use style=\"fill:#008000;fill-opacity:0.542206;stroke:#008000;stroke-opacity:0.542206;\" x=\"199.586502\" xlink:href=\"#C0_0_f356489763\" y=\"79.88695\"/>\r\n    </g>\r\n    <g clip-path=\"url(#p883af82855)\">\r\n     <use style=\"fill:#008000;fill-opacity:0.640824;stroke:#008000;stroke-opacity:0.640824;\" x=\"279.499635\" xlink:href=\"#C0_0_f356489763\" y=\"93.806971\"/>\r\n    </g>\r\n    <g clip-path=\"url(#p883af82855)\">\r\n     <use style=\"fill:#008000;fill-opacity:0.3;stroke:#008000;stroke-opacity:0.3;\" x=\"151.154612\" xlink:href=\"#C0_0_f356489763\" y=\"122.064259\"/>\r\n    </g>\r\n    <g clip-path=\"url(#p883af82855)\">\r\n     <use style=\"fill:#008000;fill-opacity:0.403763;stroke:#008000;stroke-opacity:0.403763;\" x=\"165.534886\" xlink:href=\"#C0_0_f356489763\" y=\"83.59123\"/>\r\n    </g>\r\n    <g clip-path=\"url(#p883af82855)\">\r\n     <use style=\"fill:#008000;fill-opacity:0.458508;stroke:#008000;stroke-opacity:0.458508;\" x=\"211.136173\" xlink:href=\"#C0_0_f356489763\" y=\"91.801263\"/>\r\n    </g>\r\n    <g clip-path=\"url(#p883af82855)\">\r\n     <use style=\"fill:#008000;fill-opacity:0.552893;stroke:#008000;stroke-opacity:0.552893;\" x=\"289.756579\" xlink:href=\"#C0_0_f356489763\" y=\"105.956041\"/>\r\n    </g>\r\n   </g>\r\n   <g id=\"Poly3DCollection_1\">\r\n    <path clip-path=\"url(#p883af82855)\" d=\"M 139.273152 128.683002 \r\nL 153.500598 89.994642 \r\nL 165.534886 83.59123 \r\nL 151.154612 122.064259 \r\nz\r\n\" style=\"fill:#45679f;fill-opacity:0.3;stroke:#ffffff;\"/>\r\n    <path clip-path=\"url(#p883af82855)\" d=\"M 127.160755 135.430392 \r\nL 141.125302 91.043328 \r\nL 153.500598 89.994642 \r\nL 139.273152 128.683002 \r\nz\r\n\" style=\"fill:#42649a;fill-opacity:0.3;stroke:#ffffff;\"/>\r\n    <path clip-path=\"url(#p883af82855)\" d=\"M 153.500598 89.994642 \r\nL 199.586502 79.88695 \r\nL 211.136173 91.801263 \r\nL 165.534886 83.59123 \r\nz\r\n\" style=\"fill:#304870;fill-opacity:0.3;stroke:#ffffff;\"/>\r\n    <path clip-path=\"url(#p883af82855)\" d=\"M 110.783023 144.553849 \r\nL 124.233733 90.849563 \r\nL 141.125302 91.043328 \r\nL 127.160755 135.430392 \r\nz\r\n\" style=\"fill:#42649a;fill-opacity:0.3;stroke:#ffffff;\"/>\r\n    <path clip-path=\"url(#p883af82855)\" d=\"M 141.125302 91.043328 \r\nL 187.560885 73.981124 \r\nL 199.586502 79.88695 \r\nL 153.500598 89.994642 \r\nz\r\n\" style=\"fill:#35507b;fill-opacity:0.3;stroke:#ffffff;\"/>\r\n    <path clip-path=\"url(#p883af82855)\" d=\"M 98.107725 151.614811 \r\nL 111.278304 97.591946 \r\nL 124.233733 90.849563 \r\nL 110.783023 144.553849 \r\nz\r\n\" style=\"fill:#4568a0;fill-opacity:0.3;stroke:#ffffff;\"/>\r\n    <path clip-path=\"url(#p883af82855)\" d=\"M 199.586502 79.88695 \r\nL 279.499635 93.806971 \r\nL 289.756579 105.956041 \r\nL 211.136173 91.801263 \r\nz\r\n\" style=\"fill:#2e456a;fill-opacity:0.3;stroke:#ffffff;\"/>\r\n    <path clip-path=\"url(#p883af82855)\" d=\"M 85.17784 158.817595 \r\nL 98.053985 104.474266 \r\nL 111.278304 97.591946 \r\nL 98.107725 151.614811 \r\nz\r\n\" style=\"fill:#4568a0;fill-opacity:0.3;stroke:#ffffff;\"/>\r\n    <path clip-path=\"url(#p883af82855)\" d=\"M 124.233733 90.849563 \r\nL 171.080349 73.910812 \r\nL 187.560885 73.981124 \r\nL 141.125302 91.043328 \r\nz\r\n\" style=\"fill:#395685;fill-opacity:0.3;stroke:#ffffff;\"/>\r\n    <path clip-path=\"url(#p883af82855)\" d=\"M 187.560885 73.981124 \r\nL 268.650677 85.345931 \r\nL 279.499635 93.806971 \r\nL 199.586502 79.88695 \r\nz\r\n\" style=\"fill:#30486f;fill-opacity:0.3;stroke:#ffffff;\"/>\r\n    <path clip-path=\"url(#p883af82855)\" d=\"M 67.681536 168.564169 \r\nL 80.145297 113.794468 \r\nL 98.053985 104.474266 \r\nL 85.17784 158.817595 \r\nz\r\n\" style=\"fill:#4568a0;fill-opacity:0.3;stroke:#ffffff;\"/>\r\n    <path clip-path=\"url(#p883af82855)\" d=\"M 111.278304 97.591946 \r\nL 158.281033 80.693182 \r\nL 171.080349 73.910812 \r\nL 124.233733 90.849563 \r\nz\r\n\" style=\"fill:#3e5d90;fill-opacity:0.3;stroke:#ffffff;\"/>\r\n    <path clip-path=\"url(#p883af82855)\" d=\"M 98.053985 104.474266 \r\nL 145.208241 87.536738 \r\nL 158.281033 80.693182 \r\nL 111.278304 97.591946 \r\nz\r\n\" style=\"fill:#3e5d90;fill-opacity:0.3;stroke:#ffffff;\"/>\r\n    <path clip-path=\"url(#p883af82855)\" d=\"M 171.080349 73.910812 \r\nL 253.356196 83.143405 \r\nL 268.650677 85.345931 \r\nL 187.560885 73.981124 \r\nz\r\n\" style=\"fill:#354f7a;fill-opacity:0.3;stroke:#ffffff;\"/>\r\n    <path clip-path=\"url(#p883af82855)\" d=\"M 80.145297 113.794468 \r\nL 127.273292 88.092699 \r\nL 145.208241 87.536738 \r\nL 98.053985 104.474266 \r\nz\r\n\" style=\"fill:#3b5888;fill-opacity:0.3;stroke:#ffffff;\"/>\r\n    <path clip-path=\"url(#p883af82855)\" d=\"M 158.281033 80.693182 \r\nL 241.050227 92.394223 \r\nL 253.356196 83.143405 \r\nL 171.080349 73.910812 \r\nz\r\n\" style=\"fill:#3c5a8b;fill-opacity:0.3;stroke:#ffffff;\"/>\r\n    <path clip-path=\"url(#p883af82855)\" d=\"M 145.208241 87.536738 \r\nL 228.502655 101.838089 \r\nL 241.050227 92.394223 \r\nL 158.281033 80.693182 \r\nz\r\n\" style=\"fill:#3c5a8b;fill-opacity:0.3;stroke:#ffffff;\"/>\r\n    <path clip-path=\"url(#p883af82855)\" d=\"M 127.273292 88.092699 \r\nL 211.727931 102.394214 \r\nL 228.502655 101.838089 \r\nL 145.208241 87.536738 \r\nz\r\n\" style=\"fill:#36507c;fill-opacity:0.3;stroke:#ffffff;\"/>\r\n   </g>\r\n   <g id=\"text_21\">\r\n    <!-- Decision Tree -->\r\n    <defs>\r\n     <path d=\"M 7.71875 0 \r\nL 7.71875 71.578125 \r\nL 32.375 71.578125 \r\nQ 40.71875 71.578125 45.125 70.5625 \r\nQ 51.265625 69.140625 55.609375 65.4375 \r\nQ 61.28125 60.640625 64.078125 53.1875 \r\nQ 66.890625 45.75 66.890625 36.1875 \r\nQ 66.890625 28.03125 64.984375 21.734375 \r\nQ 63.09375 15.4375 60.109375 11.296875 \r\nQ 57.125 7.171875 53.578125 4.796875 \r\nQ 50.046875 2.4375 45.046875 1.21875 \r\nQ 40.046875 0 33.546875 0 \r\nz\r\nM 17.1875 8.453125 \r\nL 32.46875 8.453125 \r\nQ 39.546875 8.453125 43.578125 9.765625 \r\nQ 47.609375 11.078125 50 13.484375 \r\nQ 53.375 16.84375 55.25 22.53125 \r\nQ 57.125 28.21875 57.125 36.328125 \r\nQ 57.125 47.5625 53.4375 53.59375 \r\nQ 49.75 59.625 44.484375 61.671875 \r\nQ 40.671875 63.140625 32.234375 63.140625 \r\nL 17.1875 63.140625 \r\nz\r\n\" id=\"ArialMT-68\"/>\r\n     <path d=\"M 25.921875 0 \r\nL 25.921875 63.140625 \r\nL 2.34375 63.140625 \r\nL 2.34375 71.578125 \r\nL 59.078125 71.578125 \r\nL 59.078125 63.140625 \r\nL 35.40625 63.140625 \r\nL 35.40625 0 \r\nz\r\n\" id=\"ArialMT-84\"/>\r\n    </defs>\r\n    <g style=\"fill:#262626;\" transform=\"translate(137.918437 18.5952)scale(0.12 -0.12)\">\r\n     <use xlink:href=\"#ArialMT-68\"/>\r\n     <use x=\"72.216797\" xlink:href=\"#ArialMT-101\"/>\r\n     <use x=\"127.832031\" xlink:href=\"#ArialMT-99\"/>\r\n     <use x=\"177.832031\" xlink:href=\"#ArialMT-105\"/>\r\n     <use x=\"200.048828\" xlink:href=\"#ArialMT-115\"/>\r\n     <use x=\"250.048828\" xlink:href=\"#ArialMT-105\"/>\r\n     <use x=\"272.265625\" xlink:href=\"#ArialMT-111\"/>\r\n     <use x=\"327.880859\" xlink:href=\"#ArialMT-110\"/>\r\n     <use x=\"383.496094\" xlink:href=\"#ArialMT-32\"/>\r\n     <use x=\"409.529297\" xlink:href=\"#ArialMT-84\"/>\r\n     <use x=\"466.863281\" xlink:href=\"#ArialMT-114\"/>\r\n     <use x=\"500.164062\" xlink:href=\"#ArialMT-101\"/>\r\n     <use x=\"555.779297\" xlink:href=\"#ArialMT-101\"/>\r\n    </g>\r\n   </g>\r\n  </g>\r\n </g>\r\n <defs>\r\n  <clipPath id=\"p883af82855\">\r\n   <rect height=\"217.44\" width=\"334.8\" x=\"7.2\" y=\"7.2\"/>\r\n  </clipPath>\r\n </defs>\r\n</svg>\r\n",
      "text/plain": [
       "<Figure size 432x288 with 1 Axes>"
      ]
     },
     "metadata": {
      "needs_background": "light"
     },
     "output_type": "display_data"
    }
   ],
   "source": [
    "plot3d(gscv, \"Decision Tree\", yscale=\"log\")"
   ]
  },
  {
   "cell_type": "code",
   "execution_count": 14,
   "metadata": {},
   "outputs": [
    {
     "data": {
      "image/svg+xml": "<?xml version=\"1.0\" encoding=\"utf-8\" standalone=\"no\"?>\r\n<!DOCTYPE svg PUBLIC \"-//W3C//DTD SVG 1.1//EN\"\r\n  \"http://www.w3.org/Graphics/SVG/1.1/DTD/svg11.dtd\">\r\n<!-- Created with matplotlib (https://matplotlib.org/) -->\r\n<svg height=\"266.374219pt\" version=\"1.1\" viewBox=\"0 0 387.366831 266.374219\" width=\"387.366831pt\" xmlns=\"http://www.w3.org/2000/svg\" xmlns:xlink=\"http://www.w3.org/1999/xlink\">\r\n <defs>\r\n  <style type=\"text/css\">\r\n*{stroke-linecap:butt;stroke-linejoin:round;}\r\n  </style>\r\n </defs>\r\n <g id=\"figure_1\">\r\n  <g id=\"patch_1\">\r\n   <path d=\"M 0 266.374219 \r\nL 387.366831 266.374219 \r\nL 387.366831 0 \r\nL 0 0 \r\nz\r\n\" style=\"fill:none;\"/>\r\n  </g>\r\n  <g id=\"axes_1\">\r\n   <g id=\"patch_2\">\r\n    <path d=\"M 43.908438 224.64 \r\nL 378.708438 224.64 \r\nL 378.708438 7.2 \r\nL 43.908438 7.2 \r\nz\r\n\" style=\"fill:#eaeaf2;\"/>\r\n   </g>\r\n   <g id=\"matplotlib.axis_1\">\r\n    <g id=\"xtick_1\">\r\n     <g id=\"line2d_1\">\r\n      <path clip-path=\"url(#p6f0b733328)\" d=\"M 67.606957 224.64 \r\nL 67.606957 7.2 \r\n\" style=\"fill:none;stroke:#ffffff;stroke-linecap:round;\"/>\r\n     </g>\r\n     <g id=\"text_1\">\r\n      <!-- 4 -->\r\n      <defs>\r\n       <path d=\"M 32.328125 0 \r\nL 32.328125 17.140625 \r\nL 1.265625 17.140625 \r\nL 1.265625 25.203125 \r\nL 33.9375 71.578125 \r\nL 41.109375 71.578125 \r\nL 41.109375 25.203125 \r\nL 50.78125 25.203125 \r\nL 50.78125 17.140625 \r\nL 41.109375 17.140625 \r\nL 41.109375 0 \r\nz\r\nM 32.328125 25.203125 \r\nL 32.328125 57.46875 \r\nL 9.90625 25.203125 \r\nz\r\n\" id=\"ArialMT-52\"/>\r\n      </defs>\r\n      <g style=\"fill:#262626;\" transform=\"translate(64.548441 242.013594)scale(0.11 -0.11)\">\r\n       <use xlink:href=\"#ArialMT-52\"/>\r\n      </g>\r\n     </g>\r\n    </g>\r\n    <g id=\"xtick_2\">\r\n     <g id=\"line2d_2\">\r\n      <path clip-path=\"url(#p6f0b733328)\" d=\"M 129.507228 224.64 \r\nL 129.507228 7.2 \r\n\" style=\"fill:none;stroke:#ffffff;stroke-linecap:round;\"/>\r\n     </g>\r\n     <g id=\"text_2\">\r\n      <!-- 5 -->\r\n      <defs>\r\n       <path d=\"M 4.15625 18.75 \r\nL 13.375 19.53125 \r\nQ 14.40625 12.796875 18.140625 9.390625 \r\nQ 21.875 6 27.15625 6 \r\nQ 33.5 6 37.890625 10.78125 \r\nQ 42.28125 15.578125 42.28125 23.484375 \r\nQ 42.28125 31 38.0625 35.34375 \r\nQ 33.84375 39.703125 27 39.703125 \r\nQ 22.75 39.703125 19.328125 37.765625 \r\nQ 15.921875 35.84375 13.96875 32.765625 \r\nL 5.71875 33.84375 \r\nL 12.640625 70.609375 \r\nL 48.25 70.609375 \r\nL 48.25 62.203125 \r\nL 19.671875 62.203125 \r\nL 15.828125 42.96875 \r\nQ 22.265625 47.46875 29.34375 47.46875 \r\nQ 38.71875 47.46875 45.15625 40.96875 \r\nQ 51.609375 34.46875 51.609375 24.265625 \r\nQ 51.609375 14.546875 45.953125 7.46875 \r\nQ 39.0625 -1.21875 27.15625 -1.21875 \r\nQ 17.390625 -1.21875 11.203125 4.25 \r\nQ 5.03125 9.71875 4.15625 18.75 \r\nz\r\n\" id=\"ArialMT-53\"/>\r\n      </defs>\r\n      <g style=\"fill:#262626;\" transform=\"translate(126.448713 242.013594)scale(0.11 -0.11)\">\r\n       <use xlink:href=\"#ArialMT-53\"/>\r\n      </g>\r\n     </g>\r\n    </g>\r\n    <g id=\"xtick_3\">\r\n     <g id=\"line2d_3\">\r\n      <path clip-path=\"url(#p6f0b733328)\" d=\"M 191.4075 224.64 \r\nL 191.4075 7.2 \r\n\" style=\"fill:none;stroke:#ffffff;stroke-linecap:round;\"/>\r\n     </g>\r\n     <g id=\"text_3\">\r\n      <!-- 6 -->\r\n      <defs>\r\n       <path d=\"M 49.75 54.046875 \r\nL 41.015625 53.375 \r\nQ 39.84375 58.546875 37.703125 60.890625 \r\nQ 34.125 64.65625 28.90625 64.65625 \r\nQ 24.703125 64.65625 21.53125 62.3125 \r\nQ 17.390625 59.28125 14.984375 53.46875 \r\nQ 12.59375 47.65625 12.5 36.921875 \r\nQ 15.671875 41.75 20.265625 44.09375 \r\nQ 24.859375 46.4375 29.890625 46.4375 \r\nQ 38.671875 46.4375 44.84375 39.96875 \r\nQ 51.03125 33.5 51.03125 23.25 \r\nQ 51.03125 16.5 48.125 10.71875 \r\nQ 45.21875 4.9375 40.140625 1.859375 \r\nQ 35.0625 -1.21875 28.609375 -1.21875 \r\nQ 17.625 -1.21875 10.6875 6.859375 \r\nQ 3.765625 14.9375 3.765625 33.5 \r\nQ 3.765625 54.25 11.421875 63.671875 \r\nQ 18.109375 71.875 29.4375 71.875 \r\nQ 37.890625 71.875 43.28125 67.140625 \r\nQ 48.6875 62.40625 49.75 54.046875 \r\nz\r\nM 13.875 23.1875 \r\nQ 13.875 18.65625 15.796875 14.5 \r\nQ 17.71875 10.359375 21.1875 8.171875 \r\nQ 24.65625 6 28.46875 6 \r\nQ 34.03125 6 38.03125 10.484375 \r\nQ 42.046875 14.984375 42.046875 22.703125 \r\nQ 42.046875 30.125 38.078125 34.390625 \r\nQ 34.125 38.671875 28.125 38.671875 \r\nQ 22.171875 38.671875 18.015625 34.390625 \r\nQ 13.875 30.125 13.875 23.1875 \r\nz\r\n\" id=\"ArialMT-54\"/>\r\n      </defs>\r\n      <g style=\"fill:#262626;\" transform=\"translate(188.348984 242.013594)scale(0.11 -0.11)\">\r\n       <use xlink:href=\"#ArialMT-54\"/>\r\n      </g>\r\n     </g>\r\n    </g>\r\n    <g id=\"xtick_4\">\r\n     <g id=\"line2d_4\">\r\n      <path clip-path=\"url(#p6f0b733328)\" d=\"M 253.307772 224.64 \r\nL 253.307772 7.2 \r\n\" style=\"fill:none;stroke:#ffffff;stroke-linecap:round;\"/>\r\n     </g>\r\n     <g id=\"text_4\">\r\n      <!-- 7 -->\r\n      <defs>\r\n       <path d=\"M 4.734375 62.203125 \r\nL 4.734375 70.65625 \r\nL 51.078125 70.65625 \r\nL 51.078125 63.8125 \r\nQ 44.234375 56.546875 37.515625 44.484375 \r\nQ 30.8125 32.421875 27.15625 19.671875 \r\nQ 24.515625 10.6875 23.78125 0 \r\nL 14.75 0 \r\nQ 14.890625 8.453125 18.0625 20.40625 \r\nQ 21.234375 32.375 27.171875 43.484375 \r\nQ 33.109375 54.59375 39.796875 62.203125 \r\nz\r\n\" id=\"ArialMT-55\"/>\r\n      </defs>\r\n      <g style=\"fill:#262626;\" transform=\"translate(250.249256 242.013594)scale(0.11 -0.11)\">\r\n       <use xlink:href=\"#ArialMT-55\"/>\r\n      </g>\r\n     </g>\r\n    </g>\r\n    <g id=\"xtick_5\">\r\n     <g id=\"line2d_5\">\r\n      <path clip-path=\"url(#p6f0b733328)\" d=\"M 315.208044 224.64 \r\nL 315.208044 7.2 \r\n\" style=\"fill:none;stroke:#ffffff;stroke-linecap:round;\"/>\r\n     </g>\r\n     <g id=\"text_5\">\r\n      <!-- 8 -->\r\n      <defs>\r\n       <path d=\"M 17.671875 38.8125 \r\nQ 12.203125 40.828125 9.5625 44.53125 \r\nQ 6.9375 48.25 6.9375 53.421875 \r\nQ 6.9375 61.234375 12.546875 66.546875 \r\nQ 18.171875 71.875 27.484375 71.875 \r\nQ 36.859375 71.875 42.578125 66.421875 \r\nQ 48.296875 60.984375 48.296875 53.171875 \r\nQ 48.296875 48.1875 45.671875 44.5 \r\nQ 43.0625 40.828125 37.75 38.8125 \r\nQ 44.34375 36.671875 47.78125 31.875 \r\nQ 51.21875 27.09375 51.21875 20.453125 \r\nQ 51.21875 11.28125 44.71875 5.03125 \r\nQ 38.234375 -1.21875 27.640625 -1.21875 \r\nQ 17.046875 -1.21875 10.546875 5.046875 \r\nQ 4.046875 11.328125 4.046875 20.703125 \r\nQ 4.046875 27.6875 7.59375 32.390625 \r\nQ 11.140625 37.109375 17.671875 38.8125 \r\nz\r\nM 15.921875 53.71875 \r\nQ 15.921875 48.640625 19.1875 45.40625 \r\nQ 22.46875 42.1875 27.6875 42.1875 \r\nQ 32.765625 42.1875 36.015625 45.375 \r\nQ 39.265625 48.578125 39.265625 53.21875 \r\nQ 39.265625 58.0625 35.90625 61.359375 \r\nQ 32.5625 64.65625 27.59375 64.65625 \r\nQ 22.5625 64.65625 19.234375 61.421875 \r\nQ 15.921875 58.203125 15.921875 53.71875 \r\nz\r\nM 13.09375 20.65625 \r\nQ 13.09375 16.890625 14.875 13.375 \r\nQ 16.65625 9.859375 20.171875 7.921875 \r\nQ 23.6875 6 27.734375 6 \r\nQ 34.03125 6 38.125 10.046875 \r\nQ 42.234375 14.109375 42.234375 20.359375 \r\nQ 42.234375 26.703125 38.015625 30.859375 \r\nQ 33.796875 35.015625 27.4375 35.015625 \r\nQ 21.234375 35.015625 17.15625 30.90625 \r\nQ 13.09375 26.8125 13.09375 20.65625 \r\nz\r\n\" id=\"ArialMT-56\"/>\r\n      </defs>\r\n      <g style=\"fill:#262626;\" transform=\"translate(312.149528 242.013594)scale(0.11 -0.11)\">\r\n       <use xlink:href=\"#ArialMT-56\"/>\r\n      </g>\r\n     </g>\r\n    </g>\r\n    <g id=\"xtick_6\">\r\n     <g id=\"line2d_6\">\r\n      <path clip-path=\"url(#p6f0b733328)\" d=\"M 377.108315 224.64 \r\nL 377.108315 7.2 \r\n\" style=\"fill:none;stroke:#ffffff;stroke-linecap:round;\"/>\r\n     </g>\r\n     <g id=\"text_6\">\r\n      <!-- 9 -->\r\n      <defs>\r\n       <path d=\"M 5.46875 16.546875 \r\nL 13.921875 17.328125 \r\nQ 14.984375 11.375 18.015625 8.6875 \r\nQ 21.046875 6 25.78125 6 \r\nQ 29.828125 6 32.875 7.859375 \r\nQ 35.9375 9.71875 37.890625 12.8125 \r\nQ 39.84375 15.921875 41.15625 21.1875 \r\nQ 42.484375 26.46875 42.484375 31.9375 \r\nQ 42.484375 32.515625 42.4375 33.6875 \r\nQ 39.796875 29.5 35.234375 26.875 \r\nQ 30.671875 24.265625 25.34375 24.265625 \r\nQ 16.453125 24.265625 10.296875 30.703125 \r\nQ 4.15625 37.15625 4.15625 47.703125 \r\nQ 4.15625 58.59375 10.578125 65.234375 \r\nQ 17 71.875 26.65625 71.875 \r\nQ 33.640625 71.875 39.421875 68.109375 \r\nQ 45.21875 64.359375 48.21875 57.390625 \r\nQ 51.21875 50.4375 51.21875 37.25 \r\nQ 51.21875 23.53125 48.234375 15.40625 \r\nQ 45.265625 7.28125 39.375 3.03125 \r\nQ 33.5 -1.21875 25.59375 -1.21875 \r\nQ 17.1875 -1.21875 11.859375 3.4375 \r\nQ 6.546875 8.109375 5.46875 16.546875 \r\nz\r\nM 41.453125 48.140625 \r\nQ 41.453125 55.71875 37.421875 60.15625 \r\nQ 33.40625 64.59375 27.734375 64.59375 \r\nQ 21.875 64.59375 17.53125 59.8125 \r\nQ 13.1875 55.03125 13.1875 47.40625 \r\nQ 13.1875 40.578125 17.3125 36.296875 \r\nQ 21.4375 32.03125 27.484375 32.03125 \r\nQ 33.59375 32.03125 37.515625 36.296875 \r\nQ 41.453125 40.578125 41.453125 48.140625 \r\nz\r\n\" id=\"ArialMT-57\"/>\r\n      </defs>\r\n      <g style=\"fill:#262626;\" transform=\"translate(374.0498 242.013594)scale(0.11 -0.11)\">\r\n       <use xlink:href=\"#ArialMT-57\"/>\r\n      </g>\r\n     </g>\r\n    </g>\r\n    <g id=\"text_7\">\r\n     <!-- RM -->\r\n     <defs>\r\n      <path d=\"M 7.859375 0 \r\nL 7.859375 71.578125 \r\nL 39.59375 71.578125 \r\nQ 49.171875 71.578125 54.140625 69.640625 \r\nQ 59.125 67.71875 62.109375 62.828125 \r\nQ 65.09375 57.953125 65.09375 52.046875 \r\nQ 65.09375 44.4375 60.15625 39.203125 \r\nQ 55.21875 33.984375 44.921875 32.5625 \r\nQ 48.6875 30.765625 50.640625 29 \r\nQ 54.78125 25.203125 58.5 19.484375 \r\nL 70.953125 0 \r\nL 59.03125 0 \r\nL 49.5625 14.890625 \r\nQ 45.40625 21.34375 42.71875 24.75 \r\nQ 40.046875 28.171875 37.921875 29.53125 \r\nQ 35.796875 30.90625 33.59375 31.453125 \r\nQ 31.984375 31.78125 28.328125 31.78125 \r\nL 17.328125 31.78125 \r\nL 17.328125 0 \r\nz\r\nM 17.328125 39.984375 \r\nL 37.703125 39.984375 \r\nQ 44.1875 39.984375 47.84375 41.328125 \r\nQ 51.515625 42.671875 53.421875 45.625 \r\nQ 55.328125 48.578125 55.328125 52.046875 \r\nQ 55.328125 57.125 51.640625 60.390625 \r\nQ 47.953125 63.671875 39.984375 63.671875 \r\nL 17.328125 63.671875 \r\nz\r\n\" id=\"ArialMT-82\"/>\r\n      <path d=\"M 7.421875 0 \r\nL 7.421875 71.578125 \r\nL 21.6875 71.578125 \r\nL 38.625 20.90625 \r\nQ 40.96875 13.8125 42.046875 10.296875 \r\nQ 43.265625 14.203125 45.84375 21.78125 \r\nL 62.984375 71.578125 \r\nL 75.734375 71.578125 \r\nL 75.734375 0 \r\nL 66.609375 0 \r\nL 66.609375 59.90625 \r\nL 45.796875 0 \r\nL 37.25 0 \r\nL 16.546875 60.9375 \r\nL 16.546875 0 \r\nz\r\n\" id=\"ArialMT-77\"/>\r\n     </defs>\r\n     <g style=\"fill:#262626;\" transform=\"translate(201.9775 256.789219)scale(0.12 -0.12)\">\r\n      <use xlink:href=\"#ArialMT-82\"/>\r\n      <use x=\"72.216797\" xlink:href=\"#ArialMT-77\"/>\r\n     </g>\r\n    </g>\r\n   </g>\r\n   <g id=\"matplotlib.axis_2\">\r\n    <g id=\"ytick_1\">\r\n     <g id=\"line2d_7\">\r\n      <path clip-path=\"url(#p6f0b733328)\" d=\"M 43.908438 192.792727 \r\nL 378.708438 192.792727 \r\n\" style=\"fill:none;stroke:#ffffff;stroke-linecap:round;\"/>\r\n     </g>\r\n     <g id=\"text_8\">\r\n      <!-- 10 -->\r\n      <defs>\r\n       <path d=\"M 37.25 0 \r\nL 28.46875 0 \r\nL 28.46875 56 \r\nQ 25.296875 52.984375 20.140625 49.953125 \r\nQ 14.984375 46.921875 10.890625 45.40625 \r\nL 10.890625 53.90625 \r\nQ 18.265625 57.375 23.78125 62.296875 \r\nQ 29.296875 67.234375 31.59375 71.875 \r\nL 37.25 71.875 \r\nz\r\n\" id=\"ArialMT-49\"/>\r\n       <path d=\"M 4.15625 35.296875 \r\nQ 4.15625 48 6.765625 55.734375 \r\nQ 9.375 63.484375 14.515625 67.671875 \r\nQ 19.671875 71.875 27.484375 71.875 \r\nQ 33.25 71.875 37.59375 69.546875 \r\nQ 41.9375 67.234375 44.765625 62.859375 \r\nQ 47.609375 58.5 49.21875 52.21875 \r\nQ 50.828125 45.953125 50.828125 35.296875 \r\nQ 50.828125 22.703125 48.234375 14.96875 \r\nQ 45.65625 7.234375 40.5 3 \r\nQ 35.359375 -1.21875 27.484375 -1.21875 \r\nQ 17.140625 -1.21875 11.234375 6.203125 \r\nQ 4.15625 15.140625 4.15625 35.296875 \r\nz\r\nM 13.1875 35.296875 \r\nQ 13.1875 17.671875 17.3125 11.828125 \r\nQ 21.4375 6 27.484375 6 \r\nQ 33.546875 6 37.671875 11.859375 \r\nQ 41.796875 17.71875 41.796875 35.296875 \r\nQ 41.796875 52.984375 37.671875 58.78125 \r\nQ 33.546875 64.59375 27.390625 64.59375 \r\nQ 21.34375 64.59375 17.71875 59.46875 \r\nQ 13.1875 52.9375 13.1875 35.296875 \r\nz\r\n\" id=\"ArialMT-48\"/>\r\n      </defs>\r\n      <g style=\"fill:#262626;\" transform=\"translate(22.174375 196.729524)scale(0.11 -0.11)\">\r\n       <use xlink:href=\"#ArialMT-49\"/>\r\n       <use x=\"55.615234\" xlink:href=\"#ArialMT-48\"/>\r\n      </g>\r\n     </g>\r\n    </g>\r\n    <g id=\"ytick_2\">\r\n     <g id=\"line2d_8\">\r\n      <path clip-path=\"url(#p6f0b733328)\" d=\"M 43.908438 148.865455 \r\nL 378.708438 148.865455 \r\n\" style=\"fill:none;stroke:#ffffff;stroke-linecap:round;\"/>\r\n     </g>\r\n     <g id=\"text_9\">\r\n      <!-- 20 -->\r\n      <defs>\r\n       <path d=\"M 50.34375 8.453125 \r\nL 50.34375 0 \r\nL 3.03125 0 \r\nQ 2.9375 3.171875 4.046875 6.109375 \r\nQ 5.859375 10.9375 9.828125 15.625 \r\nQ 13.8125 20.3125 21.34375 26.46875 \r\nQ 33.015625 36.03125 37.109375 41.625 \r\nQ 41.21875 47.21875 41.21875 52.203125 \r\nQ 41.21875 57.421875 37.46875 61 \r\nQ 33.734375 64.59375 27.734375 64.59375 \r\nQ 21.390625 64.59375 17.578125 60.78125 \r\nQ 13.765625 56.984375 13.71875 50.25 \r\nL 4.6875 51.171875 \r\nQ 5.609375 61.28125 11.65625 66.578125 \r\nQ 17.71875 71.875 27.9375 71.875 \r\nQ 38.234375 71.875 44.234375 66.15625 \r\nQ 50.25 60.453125 50.25 52 \r\nQ 50.25 47.703125 48.484375 43.546875 \r\nQ 46.734375 39.40625 42.65625 34.8125 \r\nQ 38.578125 30.21875 29.109375 22.21875 \r\nQ 21.1875 15.578125 18.9375 13.203125 \r\nQ 16.703125 10.84375 15.234375 8.453125 \r\nz\r\n\" id=\"ArialMT-50\"/>\r\n      </defs>\r\n      <g style=\"fill:#262626;\" transform=\"translate(22.174375 152.802251)scale(0.11 -0.11)\">\r\n       <use xlink:href=\"#ArialMT-50\"/>\r\n       <use x=\"55.615234\" xlink:href=\"#ArialMT-48\"/>\r\n      </g>\r\n     </g>\r\n    </g>\r\n    <g id=\"ytick_3\">\r\n     <g id=\"line2d_9\">\r\n      <path clip-path=\"url(#p6f0b733328)\" d=\"M 43.908438 104.938182 \r\nL 378.708438 104.938182 \r\n\" style=\"fill:none;stroke:#ffffff;stroke-linecap:round;\"/>\r\n     </g>\r\n     <g id=\"text_10\">\r\n      <!-- 30 -->\r\n      <defs>\r\n       <path d=\"M 4.203125 18.890625 \r\nL 12.984375 20.0625 \r\nQ 14.5 12.59375 18.140625 9.296875 \r\nQ 21.78125 6 27 6 \r\nQ 33.203125 6 37.46875 10.296875 \r\nQ 41.75 14.59375 41.75 20.953125 \r\nQ 41.75 27 37.796875 30.921875 \r\nQ 33.84375 34.859375 27.734375 34.859375 \r\nQ 25.25 34.859375 21.53125 33.890625 \r\nL 22.515625 41.609375 \r\nQ 23.390625 41.5 23.921875 41.5 \r\nQ 29.546875 41.5 34.03125 44.421875 \r\nQ 38.53125 47.359375 38.53125 53.46875 \r\nQ 38.53125 58.296875 35.25 61.46875 \r\nQ 31.984375 64.65625 26.8125 64.65625 \r\nQ 21.6875 64.65625 18.265625 61.421875 \r\nQ 14.84375 58.203125 13.875 51.765625 \r\nL 5.078125 53.328125 \r\nQ 6.6875 62.15625 12.390625 67.015625 \r\nQ 18.109375 71.875 26.609375 71.875 \r\nQ 32.46875 71.875 37.390625 69.359375 \r\nQ 42.328125 66.84375 44.9375 62.5 \r\nQ 47.5625 58.15625 47.5625 53.265625 \r\nQ 47.5625 48.640625 45.0625 44.828125 \r\nQ 42.578125 41.015625 37.703125 38.765625 \r\nQ 44.046875 37.3125 47.5625 32.6875 \r\nQ 51.078125 28.078125 51.078125 21.140625 \r\nQ 51.078125 11.765625 44.234375 5.25 \r\nQ 37.40625 -1.265625 26.953125 -1.265625 \r\nQ 17.53125 -1.265625 11.296875 4.34375 \r\nQ 5.078125 9.96875 4.203125 18.890625 \r\nz\r\n\" id=\"ArialMT-51\"/>\r\n      </defs>\r\n      <g style=\"fill:#262626;\" transform=\"translate(22.174375 108.874979)scale(0.11 -0.11)\">\r\n       <use xlink:href=\"#ArialMT-51\"/>\r\n       <use x=\"55.615234\" xlink:href=\"#ArialMT-48\"/>\r\n      </g>\r\n     </g>\r\n    </g>\r\n    <g id=\"ytick_4\">\r\n     <g id=\"line2d_10\">\r\n      <path clip-path=\"url(#p6f0b733328)\" d=\"M 43.908438 61.010909 \r\nL 378.708438 61.010909 \r\n\" style=\"fill:none;stroke:#ffffff;stroke-linecap:round;\"/>\r\n     </g>\r\n     <g id=\"text_11\">\r\n      <!-- 40 -->\r\n      <g style=\"fill:#262626;\" transform=\"translate(22.174375 64.947706)scale(0.11 -0.11)\">\r\n       <use xlink:href=\"#ArialMT-52\"/>\r\n       <use x=\"55.615234\" xlink:href=\"#ArialMT-48\"/>\r\n      </g>\r\n     </g>\r\n    </g>\r\n    <g id=\"ytick_5\">\r\n     <g id=\"line2d_11\">\r\n      <path clip-path=\"url(#p6f0b733328)\" d=\"M 43.908438 17.083636 \r\nL 378.708438 17.083636 \r\n\" style=\"fill:none;stroke:#ffffff;stroke-linecap:round;\"/>\r\n     </g>\r\n     <g id=\"text_12\">\r\n      <!-- 50 -->\r\n      <g style=\"fill:#262626;\" transform=\"translate(22.174375 21.020433)scale(0.11 -0.11)\">\r\n       <use xlink:href=\"#ArialMT-53\"/>\r\n       <use x=\"55.615234\" xlink:href=\"#ArialMT-48\"/>\r\n      </g>\r\n     </g>\r\n    </g>\r\n    <g id=\"text_13\">\r\n     <!-- target -->\r\n     <defs>\r\n      <path d=\"M 25.78125 7.859375 \r\nL 27.046875 0.09375 \r\nQ 23.34375 -0.6875 20.40625 -0.6875 \r\nQ 15.625 -0.6875 12.984375 0.828125 \r\nQ 10.359375 2.34375 9.28125 4.8125 \r\nQ 8.203125 7.28125 8.203125 15.1875 \r\nL 8.203125 45.015625 \r\nL 1.765625 45.015625 \r\nL 1.765625 51.859375 \r\nL 8.203125 51.859375 \r\nL 8.203125 64.703125 \r\nL 16.9375 69.96875 \r\nL 16.9375 51.859375 \r\nL 25.78125 51.859375 \r\nL 25.78125 45.015625 \r\nL 16.9375 45.015625 \r\nL 16.9375 14.703125 \r\nQ 16.9375 10.9375 17.40625 9.859375 \r\nQ 17.875 8.796875 18.921875 8.15625 \r\nQ 19.96875 7.515625 21.921875 7.515625 \r\nQ 23.390625 7.515625 25.78125 7.859375 \r\nz\r\n\" id=\"ArialMT-116\"/>\r\n      <path d=\"M 40.4375 6.390625 \r\nQ 35.546875 2.25 31.03125 0.53125 \r\nQ 26.515625 -1.171875 21.34375 -1.171875 \r\nQ 12.796875 -1.171875 8.203125 3 \r\nQ 3.609375 7.171875 3.609375 13.671875 \r\nQ 3.609375 17.484375 5.34375 20.625 \r\nQ 7.078125 23.78125 9.890625 25.6875 \r\nQ 12.703125 27.59375 16.21875 28.5625 \r\nQ 18.796875 29.25 24.03125 29.890625 \r\nQ 34.671875 31.15625 39.703125 32.90625 \r\nQ 39.75 34.71875 39.75 35.203125 \r\nQ 39.75 40.578125 37.25 42.78125 \r\nQ 33.890625 45.75 27.25 45.75 \r\nQ 21.046875 45.75 18.09375 43.578125 \r\nQ 15.140625 41.40625 13.71875 35.890625 \r\nL 5.125 37.0625 \r\nQ 6.296875 42.578125 8.984375 45.96875 \r\nQ 11.671875 49.359375 16.75 51.1875 \r\nQ 21.828125 53.03125 28.515625 53.03125 \r\nQ 35.15625 53.03125 39.296875 51.46875 \r\nQ 43.453125 49.90625 45.40625 47.53125 \r\nQ 47.359375 45.171875 48.140625 41.546875 \r\nQ 48.578125 39.3125 48.578125 33.453125 \r\nL 48.578125 21.734375 \r\nQ 48.578125 9.46875 49.140625 6.21875 \r\nQ 49.703125 2.984375 51.375 0 \r\nL 42.1875 0 \r\nQ 40.828125 2.734375 40.4375 6.390625 \r\nz\r\nM 39.703125 26.03125 \r\nQ 34.90625 24.078125 25.34375 22.703125 \r\nQ 19.921875 21.921875 17.671875 20.9375 \r\nQ 15.4375 19.96875 14.203125 18.09375 \r\nQ 12.984375 16.21875 12.984375 13.921875 \r\nQ 12.984375 10.40625 15.640625 8.0625 \r\nQ 18.3125 5.71875 23.4375 5.71875 \r\nQ 28.515625 5.71875 32.46875 7.9375 \r\nQ 36.421875 10.15625 38.28125 14.015625 \r\nQ 39.703125 17 39.703125 22.796875 \r\nz\r\n\" id=\"ArialMT-97\"/>\r\n      <path d=\"M 6.5 0 \r\nL 6.5 51.859375 \r\nL 14.40625 51.859375 \r\nL 14.40625 44 \r\nQ 17.4375 49.515625 20 51.265625 \r\nQ 22.5625 53.03125 25.640625 53.03125 \r\nQ 30.078125 53.03125 34.671875 50.203125 \r\nL 31.640625 42.046875 \r\nQ 28.421875 43.953125 25.203125 43.953125 \r\nQ 22.3125 43.953125 20.015625 42.21875 \r\nQ 17.71875 40.484375 16.75 37.40625 \r\nQ 15.28125 32.71875 15.28125 27.15625 \r\nL 15.28125 0 \r\nz\r\n\" id=\"ArialMT-114\"/>\r\n      <path d=\"M 4.984375 -4.296875 \r\nL 13.53125 -5.5625 \r\nQ 14.0625 -9.515625 16.5 -11.328125 \r\nQ 19.78125 -13.765625 25.4375 -13.765625 \r\nQ 31.546875 -13.765625 34.859375 -11.328125 \r\nQ 38.1875 -8.890625 39.359375 -4.5 \r\nQ 40.046875 -1.8125 39.984375 6.78125 \r\nQ 34.234375 0 25.640625 0 \r\nQ 14.9375 0 9.078125 7.71875 \r\nQ 3.21875 15.4375 3.21875 26.21875 \r\nQ 3.21875 33.640625 5.90625 39.90625 \r\nQ 8.59375 46.1875 13.6875 49.609375 \r\nQ 18.796875 53.03125 25.6875 53.03125 \r\nQ 34.859375 53.03125 40.828125 45.609375 \r\nL 40.828125 51.859375 \r\nL 48.921875 51.859375 \r\nL 48.921875 7.03125 \r\nQ 48.921875 -5.078125 46.453125 -10.125 \r\nQ 44 -15.1875 38.640625 -18.109375 \r\nQ 33.296875 -21.046875 25.484375 -21.046875 \r\nQ 16.21875 -21.046875 10.5 -16.875 \r\nQ 4.78125 -12.703125 4.984375 -4.296875 \r\nz\r\nM 12.25 26.859375 \r\nQ 12.25 16.65625 16.296875 11.96875 \r\nQ 20.359375 7.28125 26.46875 7.28125 \r\nQ 32.515625 7.28125 36.609375 11.9375 \r\nQ 40.71875 16.609375 40.71875 26.5625 \r\nQ 40.71875 36.078125 36.5 40.90625 \r\nQ 32.28125 45.75 26.3125 45.75 \r\nQ 20.453125 45.75 16.34375 40.984375 \r\nQ 12.25 36.234375 12.25 26.859375 \r\nz\r\n\" id=\"ArialMT-103\"/>\r\n      <path d=\"M 42.09375 16.703125 \r\nL 51.171875 15.578125 \r\nQ 49.03125 7.625 43.21875 3.21875 \r\nQ 37.40625 -1.171875 28.375 -1.171875 \r\nQ 17 -1.171875 10.328125 5.828125 \r\nQ 3.65625 12.84375 3.65625 25.484375 \r\nQ 3.65625 38.578125 10.390625 45.796875 \r\nQ 17.140625 53.03125 27.875 53.03125 \r\nQ 38.28125 53.03125 44.875 45.953125 \r\nQ 51.46875 38.875 51.46875 26.03125 \r\nQ 51.46875 25.25 51.421875 23.6875 \r\nL 12.75 23.6875 \r\nQ 13.234375 15.140625 17.578125 10.59375 \r\nQ 21.921875 6.0625 28.421875 6.0625 \r\nQ 33.25 6.0625 36.671875 8.59375 \r\nQ 40.09375 11.140625 42.09375 16.703125 \r\nz\r\nM 13.234375 30.90625 \r\nL 42.1875 30.90625 \r\nQ 41.609375 37.453125 38.875 40.71875 \r\nQ 34.671875 45.796875 27.984375 45.796875 \r\nQ 21.921875 45.796875 17.796875 41.75 \r\nQ 13.671875 37.703125 13.234375 30.90625 \r\nz\r\n\" id=\"ArialMT-101\"/>\r\n     </defs>\r\n     <g style=\"fill:#262626;\" transform=\"translate(15.64875 131.26125)rotate(-90)scale(0.12 -0.12)\">\r\n      <use xlink:href=\"#ArialMT-116\"/>\r\n      <use x=\"27.783203\" xlink:href=\"#ArialMT-97\"/>\r\n      <use x=\"83.398438\" xlink:href=\"#ArialMT-114\"/>\r\n      <use x=\"116.699219\" xlink:href=\"#ArialMT-103\"/>\r\n      <use x=\"172.314453\" xlink:href=\"#ArialMT-101\"/>\r\n      <use x=\"227.929688\" xlink:href=\"#ArialMT-116\"/>\r\n     </g>\r\n    </g>\r\n   </g>\r\n   <g id=\"PathCollection_1\">\r\n    <defs>\r\n     <path d=\"M 0 3 \r\nC 0.795609 3 1.55874 2.683901 2.12132 2.12132 \r\nC 2.683901 1.55874 3 0.795609 3 0 \r\nC 3 -0.795609 2.683901 -1.55874 2.12132 -2.12132 \r\nC 1.55874 -2.683901 0.795609 -3 0 -3 \r\nC -0.795609 -3 -1.55874 -2.683901 -2.12132 -2.12132 \r\nC -2.683901 -1.55874 -3 -0.795609 -3 0 \r\nC -3 0.795609 -2.683901 1.55874 -2.12132 2.12132 \r\nC -1.55874 2.683901 -0.795609 3 0 3 \r\nz\r\n\" id=\"m0370211b7c\" style=\"stroke:#4c72b0;\"/>\r\n    </defs>\r\n    <g clip-path=\"url(#p6f0b733328)\">\r\n     <use style=\"fill:#4c72b0;stroke:#4c72b0;\" x=\"310.441723\" xlink:href=\"#m0370211b7c\" y=\"17.083636\"/>\r\n     <use style=\"fill:#4c72b0;stroke:#4c72b0;\" x=\"179.460748\" xlink:href=\"#m0370211b7c\" y=\"138.322909\"/>\r\n     <use style=\"fill:#4c72b0;stroke:#4c72b0;\" x=\"236.347097\" xlink:href=\"#m0370211b7c\" y=\"109.330909\"/>\r\n     <use style=\"fill:#4c72b0;stroke:#4c72b0;\" x=\"217.158013\" xlink:href=\"#m0370211b7c\" y=\"133.051636\"/>\r\n     <use style=\"fill:#4c72b0;stroke:#4c72b0;\" x=\"339.844352\" xlink:href=\"#m0370211b7c\" y=\"22.354909\"/>\r\n     <use style=\"fill:#4c72b0;stroke:#4c72b0;\" x=\"184.227069\" xlink:href=\"#m0370211b7c\" y=\"155.015273\"/>\r\n     <use style=\"fill:#4c72b0;stroke:#4c72b0;\" x=\"153.648334\" xlink:href=\"#m0370211b7c\" y=\"150.183273\"/>\r\n     <use style=\"fill:#4c72b0;stroke:#4c72b0;\" x=\"210.967986\" xlink:href=\"#m0370211b7c\" y=\"139.201455\"/>\r\n     <use style=\"fill:#4c72b0;stroke:#4c72b0;\" x=\"259.931101\" xlink:href=\"#m0370211b7c\" y=\"103.620364\"/>\r\n     <use style=\"fill:#4c72b0;stroke:#4c72b0;\" x=\"191.655101\" xlink:href=\"#m0370211b7c\" y=\"153.697455\"/>\r\n     <use style=\"fill:#4c72b0;stroke:#4c72b0;\" x=\"196.545223\" xlink:href=\"#m0370211b7c\" y=\"139.201455\"/>\r\n     <use style=\"fill:#4c72b0;stroke:#4c72b0;\" x=\"221.429132\" xlink:href=\"#m0370211b7c\" y=\"169.072\"/>\r\n     <use style=\"fill:#4c72b0;stroke:#4c72b0;\" x=\"219.757825\" xlink:href=\"#m0370211b7c\" y=\"152.379636\"/>\r\n     <use style=\"fill:#4c72b0;stroke:#4c72b0;\" x=\"237.770804\" xlink:href=\"#m0370211b7c\" y=\"177.857455\"/>\r\n     <use style=\"fill:#4c72b0;stroke:#4c72b0;\" x=\"223.905143\" xlink:href=\"#m0370211b7c\" y=\"174.782545\"/>\r\n     <use style=\"fill:#4c72b0;stroke:#4c72b0;\" x=\"199.887837\" xlink:href=\"#m0370211b7c\" y=\"151.940364\"/>\r\n     <use style=\"fill:#4c72b0;stroke:#4c72b0;\" x=\"204.282757\" xlink:href=\"#m0370211b7c\" y=\"185.325091\"/>\r\n     <use style=\"fill:#4c72b0;stroke:#4c72b0;\" x=\"254.298176\" xlink:href=\"#m0370211b7c\" y=\"17.083636\"/>\r\n     <use style=\"fill:#4c72b0;stroke:#4c72b0;\" x=\"258.197893\" xlink:href=\"#m0370211b7c\" y=\"110.648727\"/>\r\n     <use style=\"fill:#4c72b0;stroke:#4c72b0;\" x=\"183.731866\" xlink:href=\"#m0370211b7c\" y=\"144.912\"/>\r\n     <use style=\"fill:#4c72b0;stroke:#4c72b0;\" x=\"246.932044\" xlink:href=\"#m0370211b7c\" y=\"140.08\"/>\r\n     <use style=\"fill:#4c72b0;stroke:#4c72b0;\" x=\"307.47051\" xlink:href=\"#m0370211b7c\" y=\"17.083636\"/>\r\n     <use style=\"fill:#4c72b0;stroke:#4c72b0;\" x=\"205.211261\" xlink:href=\"#m0370211b7c\" y=\"191.914182\"/>\r\n     <use style=\"fill:#4c72b0;stroke:#4c72b0;\" x=\"171.723214\" xlink:href=\"#m0370211b7c\" y=\"151.940364\"/>\r\n     <use style=\"fill:#4c72b0;stroke:#4c72b0;\" x=\"336.068435\" xlink:href=\"#m0370211b7c\" y=\"53.543273\"/>\r\n     <use style=\"fill:#4c72b0;stroke:#4c72b0;\" x=\"76.149194\" xlink:href=\"#m0370211b7c\" y=\"184.446545\"/>\r\n     <use style=\"fill:#4c72b0;stroke:#4c72b0;\" x=\"331.673516\" xlink:href=\"#m0370211b7c\" y=\"39.925818\"/>\r\n     <use style=\"fill:#4c72b0;stroke:#4c72b0;\" x=\"338.420646\" xlink:href=\"#m0370211b7c\" y=\"17.083636\"/>\r\n     <use style=\"fill:#4c72b0;stroke:#4c72b0;\" x=\"194.316813\" xlink:href=\"#m0370211b7c\" y=\"171.707636\"/>\r\n     <use style=\"fill:#4c72b0;stroke:#4c72b0;\" x=\"183.669966\" xlink:href=\"#m0370211b7c\" y=\"17.083636\"/>\r\n     <use style=\"fill:#4c72b0;stroke:#4c72b0;\" x=\"186.084077\" xlink:href=\"#m0370211b7c\" y=\"158.529455\"/>\r\n     <use style=\"fill:#4c72b0;stroke:#4c72b0;\" x=\"360.085741\" xlink:href=\"#m0370211b7c\" y=\"17.083636\"/>\r\n     <use style=\"fill:#4c72b0;stroke:#4c72b0;\" x=\"164.914184\" xlink:href=\"#m0370211b7c\" y=\"135.248\"/>\r\n     <use style=\"fill:#4c72b0;stroke:#4c72b0;\" x=\"204.468457\" xlink:href=\"#m0370211b7c\" y=\"128.219636\"/>\r\n     <use style=\"fill:#4c72b0;stroke:#4c72b0;\" x=\"216.043808\" xlink:href=\"#m0370211b7c\" y=\"126.901818\"/>\r\n     <use style=\"fill:#4c72b0;stroke:#4c72b0;\" x=\"184.907972\" xlink:href=\"#m0370211b7c\" y=\"155.454545\"/>\r\n     <use style=\"fill:#4c72b0;stroke:#4c72b0;\" x=\"240.556316\" xlink:href=\"#m0370211b7c\" y=\"178.296727\"/>\r\n     <use style=\"fill:#4c72b0;stroke:#4c72b0;\" x=\"250.274659\" xlink:href=\"#m0370211b7c\" y=\"74.189091\"/>\r\n     <use style=\"fill:#4c72b0;stroke:#4c72b0;\" x=\"188.250586\" xlink:href=\"#m0370211b7c\" y=\"147.108364\"/>\r\n     <use style=\"fill:#4c72b0;stroke:#4c72b0;\" x=\"239.813513\" xlink:href=\"#m0370211b7c\" y=\"203.774545\"/>\r\n     <use style=\"fill:#4c72b0;stroke:#4c72b0;\" x=\"99.733198\" xlink:href=\"#m0370211b7c\" y=\"205.970909\"/>\r\n     <use style=\"fill:#4c72b0;stroke:#4c72b0;\" x=\"205.582662\" xlink:href=\"#m0370211b7c\" y=\"142.715636\"/>\r\n     <use style=\"fill:#4c72b0;stroke:#4c72b0;\" x=\"236.408998\" xlink:href=\"#m0370211b7c\" y=\"113.723636\"/>\r\n     <use style=\"fill:#4c72b0;stroke:#4c72b0;\" x=\"204.530358\" xlink:href=\"#m0370211b7c\" y=\"158.529455\"/>\r\n     <use style=\"fill:#4c72b0;stroke:#4c72b0;\" x=\"157.548051\" xlink:href=\"#m0370211b7c\" y=\"214.756364\"/>\r\n     <use style=\"fill:#4c72b0;stroke:#4c72b0;\" x=\"151.110423\" xlink:href=\"#m0370211b7c\" y=\"200.260364\"/>\r\n     <use style=\"fill:#4c72b0;stroke:#4c72b0;\" x=\"180.141651\" xlink:href=\"#m0370211b7c\" y=\"190.596364\"/>\r\n     <use style=\"fill:#4c72b0;stroke:#4c72b0;\" x=\"127.835921\" xlink:href=\"#m0370211b7c\" y=\"165.997091\"/>\r\n     <use style=\"fill:#4c72b0;stroke:#4c72b0;\" x=\"203.354253\" xlink:href=\"#m0370211b7c\" y=\"188.4\"/>\r\n     <use style=\"fill:#4c72b0;stroke:#4c72b0;\" x=\"197.349926\" xlink:href=\"#m0370211b7c\" y=\"177.418182\"/>\r\n     <use style=\"fill:#4c72b0;stroke:#4c72b0;\" x=\"214.743903\" xlink:href=\"#m0370211b7c\" y=\"170.829091\"/>\r\n     <use style=\"fill:#4c72b0;stroke:#4c72b0;\" x=\"251.760265\" xlink:href=\"#m0370211b7c\" y=\"83.413818\"/>\r\n     <use style=\"fill:#4c72b0;stroke:#4c72b0;\" x=\"204.96366\" xlink:href=\"#m0370211b7c\" y=\"155.893818\"/>\r\n     <use style=\"fill:#4c72b0;stroke:#4c72b0;\" x=\"273.920562\" xlink:href=\"#m0370211b7c\" y=\"78.581818\"/>\r\n     <use style=\"fill:#4c72b0;stroke:#4c72b0;\" x=\"172.404117\" xlink:href=\"#m0370211b7c\" y=\"165.557818\"/>\r\n     <use style=\"fill:#4c72b0;stroke:#4c72b0;\" x=\"263.397516\" xlink:href=\"#m0370211b7c\" y=\"97.909818\"/>\r\n     <use style=\"fill:#4c72b0;stroke:#4c72b0;\" x=\"212.020291\" xlink:href=\"#m0370211b7c\" y=\"137.444364\"/>\r\n     <use style=\"fill:#4c72b0;stroke:#4c72b0;\" x=\"266.059228\" xlink:href=\"#m0370211b7c\" y=\"76.385455\"/>\r\n     <use style=\"fill:#4c72b0;stroke:#4c72b0;\" x=\"184.47467\" xlink:href=\"#m0370211b7c\" y=\"153.697455\"/>\r\n     <use style=\"fill:#4c72b0;stroke:#4c72b0;\" x=\"202.178147\" xlink:href=\"#m0370211b7c\" y=\"175.221818\"/>\r\n     <use style=\"fill:#4c72b0;stroke:#4c72b0;\" x=\"197.102325\" xlink:href=\"#m0370211b7c\" y=\"154.576\"/>\r\n     <use style=\"fill:#4c72b0;stroke:#4c72b0;\" x=\"185.093672\" xlink:href=\"#m0370211b7c\" y=\"161.165091\"/>\r\n     <use style=\"fill:#4c72b0;stroke:#4c72b0;\" x=\"157.609952\" xlink:href=\"#m0370211b7c\" y=\"169.950545\"/>\r\n     <use style=\"fill:#4c72b0;stroke:#4c72b0;\" x=\"186.022176\" xlink:href=\"#m0370211b7c\" y=\"154.136727\"/>\r\n     <use style=\"fill:#4c72b0;stroke:#4c72b0;\" x=\"252.069766\" xlink:href=\"#m0370211b7c\" y=\"105.816727\"/>\r\n     <use style=\"fill:#4c72b0;stroke:#4c72b0;\" x=\"216.47711\" xlink:href=\"#m0370211b7c\" y=\"140.08\"/>\r\n     <use style=\"fill:#4c72b0;stroke:#4c72b0;\" x=\"235.666194\" xlink:href=\"#m0370211b7c\" y=\"136.565818\"/>\r\n     <use style=\"fill:#4c72b0;stroke:#4c72b0;\" x=\"241.670521\" xlink:href=\"#m0370211b7c\" y=\"82.535273\"/>\r\n     <use style=\"fill:#4c72b0;stroke:#4c72b0;\" x=\"148.324911\" xlink:href=\"#m0370211b7c\" y=\"191.035636\"/>\r\n     <use style=\"fill:#4c72b0;stroke:#4c72b0;\" x=\"166.585491\" xlink:href=\"#m0370211b7c\" y=\"175.661091\"/>\r\n     <use style=\"fill:#4c72b0;stroke:#4c72b0;\" x=\"215.734307\" xlink:href=\"#m0370211b7c\" y=\"132.612364\"/>\r\n     <use style=\"fill:#4c72b0;stroke:#4c72b0;\" x=\"187.260182\" xlink:href=\"#m0370211b7c\" y=\"153.697455\"/>\r\n     <use style=\"fill:#4c72b0;stroke:#4c72b0;\" x=\"153.648334\" xlink:href=\"#m0370211b7c\" y=\"186.203636\"/>\r\n     <use style=\"fill:#4c72b0;stroke:#4c72b0;\" x=\"162.685774\" xlink:href=\"#m0370211b7c\" y=\"187.082182\"/>\r\n     <use style=\"fill:#4c72b0;stroke:#4c72b0;\" x=\"146.344102\" xlink:href=\"#m0370211b7c\" y=\"179.175273\"/>\r\n     <use style=\"fill:#4c72b0;stroke:#4c72b0;\" x=\"129.507228\" xlink:href=\"#m0370211b7c\" y=\"204.213818\"/>\r\n     <use style=\"fill:#4c72b0;stroke:#4c72b0;\" x=\"158.476556\" xlink:href=\"#m0370211b7c\" y=\"168.193455\"/>\r\n     <use style=\"fill:#4c72b0;stroke:#4c72b0;\" x=\"214.434401\" xlink:href=\"#m0370211b7c\" y=\"135.687273\"/>\r\n     <use style=\"fill:#4c72b0;stroke:#4c72b0;\" x=\"182.37006\" xlink:href=\"#m0370211b7c\" y=\"137.005091\"/>\r\n     <use style=\"fill:#4c72b0;stroke:#4c72b0;\" x=\"252.193567\" xlink:href=\"#m0370211b7c\" y=\"91.320727\"/>\r\n     <use style=\"fill:#4c72b0;stroke:#4c72b0;\" x=\"257.083688\" xlink:href=\"#m0370211b7c\" y=\"126.901818\"/>\r\n     <use style=\"fill:#4c72b0;stroke:#4c72b0;\" x=\"214.682002\" xlink:href=\"#m0370211b7c\" y=\"158.968727\"/>\r\n     <use style=\"fill:#4c72b0;stroke:#4c72b0;\" x=\"173.642122\" xlink:href=\"#m0370211b7c\" y=\"180.932364\"/>\r\n     <use style=\"fill:#4c72b0;stroke:#4c72b0;\" x=\"173.27072\" xlink:href=\"#m0370211b7c\" y=\"140.958545\"/>\r\n     <use style=\"fill:#4c72b0;stroke:#4c72b0;\" x=\"235.851895\" xlink:href=\"#m0370211b7c\" y=\"121.630545\"/>\r\n     <use style=\"fill:#4c72b0;stroke:#4c72b0;\" x=\"240.927718\" xlink:href=\"#m0370211b7c\" y=\"100.106182\"/>\r\n     <use style=\"fill:#4c72b0;stroke:#4c72b0;\" x=\"217.777016\" xlink:href=\"#m0370211b7c\" y=\"132.173091\"/>\r\n     <use style=\"fill:#4c72b0;stroke:#4c72b0;\" x=\"59.126619\" xlink:href=\"#m0370211b7c\" y=\"135.248\"/>\r\n     <use style=\"fill:#4c72b0;stroke:#4c72b0;\" x=\"291.066938\" xlink:href=\"#m0370211b7c\" y=\"50.907636\"/>\r\n     <use style=\"fill:#4c72b0;stroke:#4c72b0;\" x=\"182.555761\" xlink:href=\"#m0370211b7c\" y=\"178.296727\"/>\r\n     <use style=\"fill:#4c72b0;stroke:#4c72b0;\" x=\"198.897433\" xlink:href=\"#m0370211b7c\" y=\"139.201455\"/>\r\n     <use style=\"fill:#4c72b0;stroke:#4c72b0;\" x=\"176.489535\" xlink:href=\"#m0370211b7c\" y=\"149.304727\"/>\r\n     <use style=\"fill:#4c72b0;stroke:#4c72b0;\" x=\"225.57645\" xlink:href=\"#m0370211b7c\" y=\"98.349091\"/>\r\n     <use style=\"fill:#4c72b0;stroke:#4c72b0;\" x=\"189.302891\" xlink:href=\"#m0370211b7c\" y=\"166.436364\"/>\r\n     <use style=\"fill:#4c72b0;stroke:#4c72b0;\" x=\"199.268835\" xlink:href=\"#m0370211b7c\" y=\"137.005091\"/>\r\n     <use style=\"fill:#4c72b0;stroke:#4c72b0;\" x=\"225.143148\" xlink:href=\"#m0370211b7c\" y=\"188.839273\"/>\r\n     <use style=\"fill:#4c72b0;stroke:#4c72b0;\" x=\"233.685386\" xlink:href=\"#m0370211b7c\" y=\"17.083636\"/>\r\n     <use style=\"fill:#4c72b0;stroke:#4c72b0;\" x=\"319.479162\" xlink:href=\"#m0370211b7c\" y=\"66.721455\"/>\r\n     <use style=\"fill:#4c72b0;stroke:#4c72b0;\" x=\"164.728483\" xlink:href=\"#m0370211b7c\" y=\"159.847273\"/>\r\n     <use style=\"fill:#4c72b0;stroke:#4c72b0;\" x=\"164.480882\" xlink:href=\"#m0370211b7c\" y=\"185.325091\"/>\r\n     <use style=\"fill:#4c72b0;stroke:#4c72b0;\" x=\"184.66037\" xlink:href=\"#m0370211b7c\" y=\"137.444364\"/>\r\n     <use style=\"fill:#4c72b0;stroke:#4c72b0;\" x=\"206.387366\" xlink:href=\"#m0370211b7c\" y=\"135.687273\"/>\r\n     <use style=\"fill:#4c72b0;stroke:#4c72b0;\" x=\"198.959333\" xlink:href=\"#m0370211b7c\" y=\"139.640727\"/>\r\n     <use style=\"fill:#4c72b0;stroke:#4c72b0;\" x=\"210.906086\" xlink:href=\"#m0370211b7c\" y=\"138.762182\"/>\r\n     <use style=\"fill:#4c72b0;stroke:#4c72b0;\" x=\"264.32602\" xlink:href=\"#m0370211b7c\" y=\"76.824727\"/>\r\n     <use style=\"fill:#4c72b0;stroke:#4c72b0;\" x=\"302.95179\" xlink:href=\"#m0370211b7c\" y=\"17.083636\"/>\r\n     <use style=\"fill:#4c72b0;stroke:#4c72b0;\" x=\"106.480327\" xlink:href=\"#m0370211b7c\" y=\"158.090182\"/>\r\n     <use style=\"fill:#4c72b0;stroke:#4c72b0;\" x=\"166.956893\" xlink:href=\"#m0370211b7c\" y=\"155.454545\"/>\r\n     <use style=\"fill:#4c72b0;stroke:#4c72b0;\" x=\"259.7454\" xlink:href=\"#m0370211b7c\" y=\"91.76\"/>\r\n     <use style=\"fill:#4c72b0;stroke:#4c72b0;\" x=\"183.360465\" xlink:href=\"#m0370211b7c\" y=\"140.08\"/>\r\n     <use style=\"fill:#4c72b0;stroke:#4c72b0;\" x=\"221.552932\" xlink:href=\"#m0370211b7c\" y=\"129.537455\"/>\r\n     <use style=\"fill:#4c72b0;stroke:#4c72b0;\" x=\"123.502902\" xlink:href=\"#m0370211b7c\" y=\"184.885818\"/>\r\n     <use style=\"fill:#4c72b0;stroke:#4c72b0;\" x=\"173.642122\" xlink:href=\"#m0370211b7c\" y=\"170.389818\"/>\r\n     <use style=\"fill:#4c72b0;stroke:#4c72b0;\" x=\"171.785114\" xlink:href=\"#m0370211b7c\" y=\"214.756364\"/>\r\n     <use style=\"fill:#4c72b0;stroke:#4c72b0;\" x=\"192.707406\" xlink:href=\"#m0370211b7c\" y=\"152.379636\"/>\r\n     <use style=\"fill:#4c72b0;stroke:#4c72b0;\" x=\"225.390749\" xlink:href=\"#m0370211b7c\" y=\"117.677091\"/>\r\n     <use style=\"fill:#4c72b0;stroke:#4c72b0;\" x=\"262.469012\" xlink:href=\"#m0370211b7c\" y=\"72.871273\"/>\r\n     <use style=\"fill:#4c72b0;stroke:#4c72b0;\" x=\"204.344657\" xlink:href=\"#m0370211b7c\" y=\"142.715636\"/>\r\n     <use style=\"fill:#4c72b0;stroke:#4c72b0;\" x=\"254.793378\" xlink:href=\"#m0370211b7c\" y=\"83.413818\"/>\r\n     <use style=\"fill:#4c72b0;stroke:#4c72b0;\" x=\"202.85905\" xlink:href=\"#m0370211b7c\" y=\"174.782545\"/>\r\n     <use style=\"fill:#4c72b0;stroke:#4c72b0;\" x=\"227.000156\" xlink:href=\"#m0370211b7c\" y=\"131.294545\"/>\r\n     <use style=\"fill:#4c72b0;stroke:#4c72b0;\" x=\"230.714173\" xlink:href=\"#m0370211b7c\" y=\"129.098182\"/>\r\n     <use style=\"fill:#4c72b0;stroke:#4c72b0;\" x=\"212.144091\" xlink:href=\"#m0370211b7c\" y=\"157.211636\"/>\r\n     <use style=\"fill:#4c72b0;stroke:#4c72b0;\" x=\"231.580777\" xlink:href=\"#m0370211b7c\" y=\"175.661091\"/>\r\n     <use style=\"fill:#4c72b0;stroke:#4c72b0;\" x=\"168.937701\" xlink:href=\"#m0370211b7c\" y=\"173.904\"/>\r\n     <use style=\"fill:#4c72b0;stroke:#4c72b0;\" x=\"209.791881\" xlink:href=\"#m0370211b7c\" y=\"165.997091\"/>\r\n     <use style=\"fill:#4c72b0;stroke:#4c72b0;\" x=\"206.573067\" xlink:href=\"#m0370211b7c\" y=\"133.930182\"/>\r\n     <use style=\"fill:#4c72b0;stroke:#4c72b0;\" x=\"199.454535\" xlink:href=\"#m0370211b7c\" y=\"176.100364\"/>\r\n     <use style=\"fill:#4c72b0;stroke:#4c72b0;\" x=\"167.699696\" xlink:href=\"#m0370211b7c\" y=\"161.165091\"/>\r\n     <use style=\"fill:#4c72b0;stroke:#4c72b0;\" x=\"190.540896\" xlink:href=\"#m0370211b7c\" y=\"142.715636\"/>\r\n     <use style=\"fill:#4c72b0;stroke:#4c72b0;\" x=\"252.069766\" xlink:href=\"#m0370211b7c\" y=\"73.310545\"/>\r\n     <use style=\"fill:#4c72b0;stroke:#4c72b0;\" x=\"271.07315\" xlink:href=\"#m0370211b7c\" y=\"90.442182\"/>\r\n     <use style=\"fill:#4c72b0;stroke:#4c72b0;\" x=\"230.09517\" xlink:href=\"#m0370211b7c\" y=\"111.966545\"/>\r\n     <use style=\"fill:#4c72b0;stroke:#4c72b0;\" x=\"219.819725\" xlink:href=\"#m0370211b7c\" y=\"184.885818\"/>\r\n     <use style=\"fill:#4c72b0;stroke:#4c72b0;\" x=\"200.321139\" xlink:href=\"#m0370211b7c\" y=\"77.703273\"/>\r\n     <use style=\"fill:#4c72b0;stroke:#4c72b0;\" x=\"170.547109\" xlink:href=\"#m0370211b7c\" y=\"156.772364\"/>\r\n     <use style=\"fill:#4c72b0;stroke:#4c72b0;\" x=\"239.070709\" xlink:href=\"#m0370211b7c\" y=\"119.873455\"/>\r\n     <use style=\"fill:#4c72b0;stroke:#4c72b0;\" x=\"296.08086\" xlink:href=\"#m0370211b7c\" y=\"82.096\"/>\r\n     <use style=\"fill:#4c72b0;stroke:#4c72b0;\" x=\"236.408998\" xlink:href=\"#m0370211b7c\" y=\"115.92\"/>\r\n     <use style=\"fill:#4c72b0;stroke:#4c72b0;\" x=\"195.431018\" xlink:href=\"#m0370211b7c\" y=\"136.565818\"/>\r\n     <use style=\"fill:#4c72b0;stroke:#4c72b0;\" x=\"181.132055\" xlink:href=\"#m0370211b7c\" y=\"149.304727\"/>\r\n     <use style=\"fill:#4c72b0;stroke:#4c72b0;\" x=\"188.374387\" xlink:href=\"#m0370211b7c\" y=\"142.276364\"/>\r\n     <use style=\"fill:#4c72b0;stroke:#4c72b0;\" x=\"176.675235\" xlink:href=\"#m0370211b7c\" y=\"140.958545\"/>\r\n     <use style=\"fill:#4c72b0;stroke:#4c72b0;\" x=\"175.746731\" xlink:href=\"#m0370211b7c\" y=\"199.381818\"/>\r\n     <use style=\"fill:#4c72b0;stroke:#4c72b0;\" x=\"212.515493\" xlink:href=\"#m0370211b7c\" y=\"171.268364\"/>\r\n     <use style=\"fill:#4c72b0;stroke:#4c72b0;\" x=\"253.183971\" xlink:href=\"#m0370211b7c\" y=\"90.002909\"/>\r\n     <use style=\"fill:#4c72b0;stroke:#4c72b0;\" x=\"179.832149\" xlink:href=\"#m0370211b7c\" y=\"173.025455\"/>\r\n     <use style=\"fill:#4c72b0;stroke:#4c72b0;\" x=\"177.975141\" xlink:href=\"#m0370211b7c\" y=\"137.883636\"/>\r\n     <use style=\"fill:#4c72b0;stroke:#4c72b0;\" x=\"244.641734\" xlink:href=\"#m0370211b7c\" y=\"105.377455\"/>\r\n     <use style=\"fill:#4c72b0;stroke:#4c72b0;\" x=\"300.66148\" xlink:href=\"#m0370211b7c\" y=\"61.889455\"/>\r\n     <use style=\"fill:#4c72b0;stroke:#4c72b0;\" x=\"214.929603\" xlink:href=\"#m0370211b7c\" y=\"179.175273\"/>\r\n     <use style=\"fill:#4c72b0;stroke:#4c72b0;\" x=\"141.020679\" xlink:href=\"#m0370211b7c\" y=\"158.529455\"/>\r\n     <use style=\"fill:#4c72b0;stroke:#4c72b0;\" x=\"333.592424\" xlink:href=\"#m0370211b7c\" y=\"17.083636\"/>\r\n     <use style=\"fill:#4c72b0;stroke:#4c72b0;\" x=\"273.549161\" xlink:href=\"#m0370211b7c\" y=\"100.545455\"/>\r\n     <use style=\"fill:#4c72b0;stroke:#4c72b0;\" x=\"198.959333\" xlink:href=\"#m0370211b7c\" y=\"142.276364\"/>\r\n     <use style=\"fill:#4c72b0;stroke:#4c72b0;\" x=\"245.508338\" xlink:href=\"#m0370211b7c\" y=\"99.666909\"/>\r\n     <use style=\"fill:#4c72b0;stroke:#4c72b0;\" x=\"162.376273\" xlink:href=\"#m0370211b7c\" y=\"199.381818\"/>\r\n     <use style=\"fill:#4c72b0;stroke:#4c72b0;\" x=\"146.653604\" xlink:href=\"#m0370211b7c\" y=\"205.092364\"/>\r\n     <use style=\"fill:#4c72b0;stroke:#4c72b0;\" x=\"219.510224\" xlink:href=\"#m0370211b7c\" y=\"161.604364\"/>\r\n     <use style=\"fill:#4c72b0;stroke:#4c72b0;\" x=\"222.048135\" xlink:href=\"#m0370211b7c\" y=\"120.752\"/>\r\n     <use style=\"fill:#4c72b0;stroke:#4c72b0;\" x=\"172.899319\" xlink:href=\"#m0370211b7c\" y=\"179.175273\"/>\r\n     <use style=\"fill:#4c72b0;stroke:#4c72b0;\" x=\"184.288969\" xlink:href=\"#m0370211b7c\" y=\"144.912\"/>\r\n     <use style=\"fill:#4c72b0;stroke:#4c72b0;\" x=\"178.408443\" xlink:href=\"#m0370211b7c\" y=\"147.547636\"/>\r\n     <use style=\"fill:#4c72b0;stroke:#4c72b0;\" x=\"150.800922\" xlink:href=\"#m0370211b7c\" y=\"148.865455\"/>\r\n     <use style=\"fill:#4c72b0;stroke:#4c72b0;\" x=\"201.744846\" xlink:href=\"#m0370211b7c\" y=\"149.304727\"/>\r\n     <use style=\"fill:#4c72b0;stroke:#4c72b0;\" x=\"208.677676\" xlink:href=\"#m0370211b7c\" y=\"148.865455\"/>\r\n     <use style=\"fill:#4c72b0;stroke:#4c72b0;\" x=\"223.34804\" xlink:href=\"#m0370211b7c\" y=\"135.248\"/>\r\n     <use style=\"fill:#4c72b0;stroke:#4c72b0;\" x=\"243.527529\" xlink:href=\"#m0370211b7c\" y=\"104.498909\"/>\r\n     <use style=\"fill:#4c72b0;stroke:#4c72b0;\" x=\"217.219913\" xlink:href=\"#m0370211b7c\" y=\"130.416\"/>\r\n     <use style=\"fill:#4c72b0;stroke:#4c72b0;\" x=\"270.268446\" xlink:href=\"#m0370211b7c\" y=\"84.731636\"/>\r\n     <use style=\"fill:#4c72b0;stroke:#4c72b0;\" x=\"236.470898\" xlink:href=\"#m0370211b7c\" y=\"104.498909\"/>\r\n     <use style=\"fill:#4c72b0;stroke:#4c72b0;\" x=\"218.519819\" xlink:href=\"#m0370211b7c\" y=\"127.780364\"/>\r\n     <use style=\"fill:#4c72b0;stroke:#4c72b0;\" x=\"151.915127\" xlink:href=\"#m0370211b7c\" y=\"145.351273\"/>\r\n     <use style=\"fill:#4c72b0;stroke:#4c72b0;\" x=\"227.247757\" xlink:href=\"#m0370211b7c\" y=\"130.855273\"/>\r\n     <use style=\"fill:#4c72b0;stroke:#4c72b0;\" x=\"209.110978\" xlink:href=\"#m0370211b7c\" y=\"142.715636\"/>\r\n     <use style=\"fill:#4c72b0;stroke:#4c72b0;\" x=\"216.291409\" xlink:href=\"#m0370211b7c\" y=\"138.762182\"/>\r\n     <use style=\"fill:#4c72b0;stroke:#4c72b0;\" x=\"166.27599\" xlink:href=\"#m0370211b7c\" y=\"160.286545\"/>\r\n     <use style=\"fill:#4c72b0;stroke:#4c72b0;\" x=\"190.478996\" xlink:href=\"#m0370211b7c\" y=\"153.258182\"/>\r\n     <use style=\"fill:#4c72b0;stroke:#4c72b0;\" x=\"226.504954\" xlink:href=\"#m0370211b7c\" y=\"132.173091\"/>\r\n     <use style=\"fill:#4c72b0;stroke:#4c72b0;\" x=\"222.048135\" xlink:href=\"#m0370211b7c\" y=\"155.893818\"/>\r\n     <use style=\"fill:#4c72b0;stroke:#4c72b0;\" x=\"200.321139\" xlink:href=\"#m0370211b7c\" y=\"149.744\"/>\r\n     <use style=\"fill:#4c72b0;stroke:#4c72b0;\" x=\"226.381154\" xlink:href=\"#m0370211b7c\" y=\"127.780364\"/>\r\n     <use style=\"fill:#4c72b0;stroke:#4c72b0;\" x=\"212.639293\" xlink:href=\"#m0370211b7c\" y=\"205.092364\"/>\r\n     <use style=\"fill:#4c72b0;stroke:#4c72b0;\" x=\"200.073538\" xlink:href=\"#m0370211b7c\" y=\"145.351273\"/>\r\n     <use style=\"fill:#4c72b0;stroke:#4c72b0;\" x=\"167.142594\" xlink:href=\"#m0370211b7c\" y=\"114.162909\"/>\r\n     <use style=\"fill:#4c72b0;stroke:#4c72b0;\" x=\"226.257353\" xlink:href=\"#m0370211b7c\" y=\"93.956364\"/>\r\n     <use style=\"fill:#4c72b0;stroke:#4c72b0;\" x=\"218.024617\" xlink:href=\"#m0370211b7c\" y=\"110.648727\"/>\r\n     <use style=\"fill:#4c72b0;stroke:#4c72b0;\" x=\"283.577005\" xlink:href=\"#m0370211b7c\" y=\"17.083636\"/>\r\n     <use style=\"fill:#4c72b0;stroke:#4c72b0;\" x=\"201.435344\" xlink:href=\"#m0370211b7c\" y=\"178.296727\"/>\r\n     <use style=\"fill:#4c72b0;stroke:#4c72b0;\" x=\"173.332621\" xlink:href=\"#m0370211b7c\" y=\"155.454545\"/>\r\n     <use style=\"fill:#4c72b0;stroke:#4c72b0;\" x=\"166.894992\" xlink:href=\"#m0370211b7c\" y=\"120.752\"/>\r\n     <use style=\"fill:#4c72b0;stroke:#4c72b0;\" x=\"215.858107\" xlink:href=\"#m0370211b7c\" y=\"141.397818\"/>\r\n     <use style=\"fill:#4c72b0;stroke:#4c72b0;\" x=\"197.288026\" xlink:href=\"#m0370211b7c\" y=\"148.426182\"/>\r\n     <use style=\"fill:#4c72b0;stroke:#4c72b0;\" x=\"183.669966\" xlink:href=\"#m0370211b7c\" y=\"160.286545\"/>\r\n     <use style=\"fill:#4c72b0;stroke:#4c72b0;\" x=\"358.785835\" xlink:href=\"#m0370211b7c\" y=\"17.083636\"/>\r\n     <use style=\"fill:#4c72b0;stroke:#4c72b0;\" x=\"209.358579\" xlink:href=\"#m0370211b7c\" y=\"133.490909\"/>\r\n     <use style=\"fill:#4c72b0;stroke:#4c72b0;\" x=\"210.720385\" xlink:href=\"#m0370211b7c\" y=\"143.594182\"/>\r\n     <use style=\"fill:#4c72b0;stroke:#4c72b0;\" x=\"230.342771\" xlink:href=\"#m0370211b7c\" y=\"177.857455\"/>\r\n     <use style=\"fill:#4c72b0;stroke:#4c72b0;\" x=\"161.69537\" xlink:href=\"#m0370211b7c\" y=\"182.689455\"/>\r\n     <use style=\"fill:#4c72b0;stroke:#4c72b0;\" x=\"182.18436\" xlink:href=\"#m0370211b7c\" y=\"151.061818\"/>\r\n     <use style=\"fill:#4c72b0;stroke:#4c72b0;\" x=\"198.835533\" xlink:href=\"#m0370211b7c\" y=\"146.229818\"/>\r\n     <use style=\"fill:#4c72b0;stroke:#4c72b0;\" x=\"205.582662\" xlink:href=\"#m0370211b7c\" y=\"150.622545\"/>\r\n     <use style=\"fill:#4c72b0;stroke:#4c72b0;\" x=\"251.822165\" xlink:href=\"#m0370211b7c\" y=\"131.733818\"/>\r\n     <use style=\"fill:#4c72b0;stroke:#4c72b0;\" x=\"210.596584\" xlink:href=\"#m0370211b7c\" y=\"145.790545\"/>\r\n     <use style=\"fill:#4c72b0;stroke:#4c72b0;\" x=\"186.703079\" xlink:href=\"#m0370211b7c\" y=\"168.193455\"/>\r\n     <use style=\"fill:#4c72b0;stroke:#4c72b0;\" x=\"173.14692\" xlink:href=\"#m0370211b7c\" y=\"165.557818\"/>\r\n     <use style=\"fill:#4c72b0;stroke:#4c72b0;\" x=\"232.075979\" xlink:href=\"#m0370211b7c\" y=\"161.165091\"/>\r\n     <use style=\"fill:#4c72b0;stroke:#4c72b0;\" x=\"231.952178\" xlink:href=\"#m0370211b7c\" y=\"169.950545\"/>\r\n     <use style=\"fill:#4c72b0;stroke:#4c72b0;\" x=\"154.205437\" xlink:href=\"#m0370211b7c\" y=\"173.464727\"/>\r\n     <use style=\"fill:#4c72b0;stroke:#4c72b0;\" x=\"148.324911\" xlink:href=\"#m0370211b7c\" y=\"184.007273\"/>\r\n     <use style=\"fill:#4c72b0;stroke:#4c72b0;\" x=\"217.467515\" xlink:href=\"#m0370211b7c\" y=\"141.837091\"/>\r\n     <use style=\"fill:#4c72b0;stroke:#4c72b0;\" x=\"212.763094\" xlink:href=\"#m0370211b7c\" y=\"137.883636\"/>\r\n     <use style=\"fill:#4c72b0;stroke:#4c72b0;\" x=\"217.219913\" xlink:href=\"#m0370211b7c\" y=\"179.614545\"/>\r\n     <use style=\"fill:#4c72b0;stroke:#4c72b0;\" x=\"190.788497\" xlink:href=\"#m0370211b7c\" y=\"159.847273\"/>\r\n     <use style=\"fill:#4c72b0;stroke:#4c72b0;\" x=\"191.778902\" xlink:href=\"#m0370211b7c\" y=\"174.343273\"/>\r\n     <use style=\"fill:#4c72b0;stroke:#4c72b0;\" x=\"173.394521\" xlink:href=\"#m0370211b7c\" y=\"151.501091\"/>\r\n     <use style=\"fill:#4c72b0;stroke:#4c72b0;\" x=\"166.21409\" xlink:href=\"#m0370211b7c\" y=\"159.408\"/>\r\n     <use style=\"fill:#4c72b0;stroke:#4c72b0;\" x=\"76.149194\" xlink:href=\"#m0370211b7c\" y=\"176.100364\"/>\r\n     <use style=\"fill:#4c72b0;stroke:#4c72b0;\" x=\"207.130169\" xlink:href=\"#m0370211b7c\" y=\"155.454545\"/>\r\n     <use style=\"fill:#4c72b0;stroke:#4c72b0;\" x=\"230.714173\" xlink:href=\"#m0370211b7c\" y=\"136.565818\"/>\r\n     <use style=\"fill:#4c72b0;stroke:#4c72b0;\" x=\"278.810684\" xlink:href=\"#m0370211b7c\" y=\"97.470545\"/>\r\n     <use style=\"fill:#4c72b0;stroke:#4c72b0;\" x=\"213.567797\" xlink:href=\"#m0370211b7c\" y=\"139.201455\"/>\r\n     <use style=\"fill:#4c72b0;stroke:#4c72b0;\" x=\"200.816341\" xlink:href=\"#m0370211b7c\" y=\"198.503273\"/>\r\n     <use style=\"fill:#4c72b0;stroke:#4c72b0;\" x=\"200.878242\" xlink:href=\"#m0370211b7c\" y=\"106.695273\"/>\r\n     <use style=\"fill:#4c72b0;stroke:#4c72b0;\" x=\"233.128283\" xlink:href=\"#m0370211b7c\" y=\"144.472727\"/>\r\n     <use style=\"fill:#4c72b0;stroke:#4c72b0;\" x=\"211.586989\" xlink:href=\"#m0370211b7c\" y=\"150.622545\"/>\r\n     <use style=\"fill:#4c72b0;stroke:#4c72b0;\" x=\"199.268835\" xlink:href=\"#m0370211b7c\" y=\"131.733818\"/>\r\n     <use style=\"fill:#4c72b0;stroke:#4c72b0;\" x=\"186.950681\" xlink:href=\"#m0370211b7c\" y=\"156.333091\"/>\r\n     <use style=\"fill:#4c72b0;stroke:#4c72b0;\" x=\"216.47711\" xlink:href=\"#m0370211b7c\" y=\"155.015273\"/>\r\n     <use style=\"fill:#4c72b0;stroke:#4c72b0;\" x=\"198.526031\" xlink:href=\"#m0370211b7c\" y=\"146.669091\"/>\r\n     <use style=\"fill:#4c72b0;stroke:#4c72b0;\" x=\"225.205049\" xlink:href=\"#m0370211b7c\" y=\"107.573818\"/>\r\n     <use style=\"fill:#4c72b0;stroke:#4c72b0;\" x=\"221.738633\" xlink:href=\"#m0370211b7c\" y=\"136.126545\"/>\r\n     <use style=\"fill:#4c72b0;stroke:#4c72b0;\" x=\"330.497411\" xlink:href=\"#m0370211b7c\" y=\"24.551273\"/>\r\n     <use style=\"fill:#4c72b0;stroke:#4c72b0;\" x=\"198.340331\" xlink:href=\"#m0370211b7c\" y=\"137.444364\"/>\r\n     <use style=\"fill:#4c72b0;stroke:#4c72b0;\" x=\"242.970427\" xlink:href=\"#m0370211b7c\" y=\"174.782545\"/>\r\n     <use style=\"fill:#4c72b0;stroke:#4c72b0;\" x=\"265.873527\" xlink:href=\"#m0370211b7c\" y=\"88.245818\"/>\r\n     <use style=\"fill:#4c72b0;stroke:#4c72b0;\" x=\"167.452095\" xlink:href=\"#m0370211b7c\" y=\"167.754182\"/>\r\n     <use style=\"fill:#4c72b0;stroke:#4c72b0;\" x=\"211.029886\" xlink:href=\"#m0370211b7c\" y=\"151.061818\"/>\r\n     <use style=\"fill:#4c72b0;stroke:#4c72b0;\" x=\"195.678619\" xlink:href=\"#m0370211b7c\" y=\"143.594182\"/>\r\n     <use style=\"fill:#4c72b0;stroke:#4c72b0;\" x=\"186.88878\" xlink:href=\"#m0370211b7c\" y=\"150.622545\"/>\r\n     <use style=\"fill:#4c72b0;stroke:#4c72b0;\" x=\"193.945411\" xlink:href=\"#m0370211b7c\" y=\"147.108364\"/>\r\n     <use style=\"fill:#4c72b0;stroke:#4c72b0;\" x=\"188.99339\" xlink:href=\"#m0370211b7c\" y=\"141.397818\"/>\r\n     <use style=\"fill:#4c72b0;stroke:#4c72b0;\" x=\"182.679562\" xlink:href=\"#m0370211b7c\" y=\"137.444364\"/>\r\n     <use style=\"fill:#4c72b0;stroke:#4c72b0;\" x=\"230.466572\" xlink:href=\"#m0370211b7c\" y=\"126.462545\"/>\r\n     <use style=\"fill:#4c72b0;stroke:#4c72b0;\" x=\"187.817284\" xlink:href=\"#m0370211b7c\" y=\"160.286545\"/>\r\n     <use style=\"fill:#4c72b0;stroke:#4c72b0;\" x=\"218.210318\" xlink:href=\"#m0370211b7c\" y=\"129.098182\"/>\r\n     <use style=\"fill:#4c72b0;stroke:#4c72b0;\" x=\"191.2837\" xlink:href=\"#m0370211b7c\" y=\"133.930182\"/>\r\n     <use style=\"fill:#4c72b0;stroke:#4c72b0;\" x=\"217.096113\" xlink:href=\"#m0370211b7c\" y=\"126.901818\"/>\r\n     <use style=\"fill:#4c72b0;stroke:#4c72b0;\" x=\"186.82688\" xlink:href=\"#m0370211b7c\" y=\"129.098182\"/>\r\n     <use style=\"fill:#4c72b0;stroke:#4c72b0;\" x=\"189.426691\" xlink:href=\"#m0370211b7c\" y=\"154.576\"/>\r\n     <use style=\"fill:#4c72b0;stroke:#4c72b0;\" x=\"253.741074\" xlink:href=\"#m0370211b7c\" y=\"133.051636\"/>\r\n     <use style=\"fill:#4c72b0;stroke:#4c72b0;\" x=\"221.367232\" xlink:href=\"#m0370211b7c\" y=\"163.361455\"/>\r\n     <use style=\"fill:#4c72b0;stroke:#4c72b0;\" x=\"216.47711\" xlink:href=\"#m0370211b7c\" y=\"181.810909\"/>\r\n     <use style=\"fill:#4c72b0;stroke:#4c72b0;\" x=\"192.274104\" xlink:href=\"#m0370211b7c\" y=\"159.847273\"/>\r\n     <use style=\"fill:#4c72b0;stroke:#4c72b0;\" x=\"304.746898\" xlink:href=\"#m0370211b7c\" y=\"17.083636\"/>\r\n     <use style=\"fill:#4c72b0;stroke:#4c72b0;\" x=\"181.255856\" xlink:href=\"#m0370211b7c\" y=\"151.061818\"/>\r\n     <use style=\"fill:#4c72b0;stroke:#4c72b0;\" x=\"198.464131\" xlink:href=\"#m0370211b7c\" y=\"152.818909\"/>\r\n     <use style=\"fill:#4c72b0;stroke:#4c72b0;\" x=\"193.264508\" xlink:href=\"#m0370211b7c\" y=\"184.446545\"/>\r\n     <use style=\"fill:#4c72b0;stroke:#4c72b0;\" x=\"186.82688\" xlink:href=\"#m0370211b7c\" y=\"152.818909\"/>\r\n     <use style=\"fill:#4c72b0;stroke:#4c72b0;\" x=\"304.065995\" xlink:href=\"#m0370211b7c\" y=\"44.318545\"/>\r\n     <use style=\"fill:#4c72b0;stroke:#4c72b0;\" x=\"192.150303\" xlink:href=\"#m0370211b7c\" y=\"136.126545\"/>\r\n     <use style=\"fill:#4c72b0;stroke:#4c72b0;\" x=\"293.233447\" xlink:href=\"#m0370211b7c\" y=\"34.654545\"/>\r\n     <use style=\"fill:#4c72b0;stroke:#4c72b0;\" x=\"154.514938\" xlink:href=\"#m0370211b7c\" y=\"151.940364\"/>\r\n     <use style=\"fill:#4c72b0;stroke:#4c72b0;\" x=\"174.508726\" xlink:href=\"#m0370211b7c\" y=\"156.772364\"/>\r\n     <use style=\"fill:#4c72b0;stroke:#4c72b0;\" x=\"254.174376\" xlink:href=\"#m0370211b7c\" y=\"101.863273\"/>\r\n     <use style=\"fill:#4c72b0;stroke:#4c72b0;\" x=\"189.674293\" xlink:href=\"#m0370211b7c\" y=\"147.547636\"/>\r\n     <use style=\"fill:#4c72b0;stroke:#4c72b0;\" x=\"251.326963\" xlink:href=\"#m0370211b7c\" y=\"81.217455\"/>\r\n     <use style=\"fill:#4c72b0;stroke:#4c72b0;\" x=\"244.703634\" xlink:href=\"#m0370211b7c\" y=\"111.527273\"/>\r\n     <use style=\"fill:#4c72b0;stroke:#4c72b0;\" x=\"202.85905\" xlink:href=\"#m0370211b7c\" y=\"172.586182\"/>\r\n     <use style=\"fill:#4c72b0;stroke:#4c72b0;\" x=\"127.65022\" xlink:href=\"#m0370211b7c\" y=\"17.083636\"/>\r\n     <use style=\"fill:#4c72b0;stroke:#4c72b0;\" x=\"179.832149\" xlink:href=\"#m0370211b7c\" y=\"163.800727\"/>\r\n     <use style=\"fill:#4c72b0;stroke:#4c72b0;\" x=\"206.882568\" xlink:href=\"#m0370211b7c\" y=\"118.116364\"/>\r\n     <use style=\"fill:#4c72b0;stroke:#4c72b0;\" x=\"218.457919\" xlink:href=\"#m0370211b7c\" y=\"134.808727\"/>\r\n     <use style=\"fill:#4c72b0;stroke:#4c72b0;\" x=\"191.964603\" xlink:href=\"#m0370211b7c\" y=\"141.397818\"/>\r\n     <use style=\"fill:#4c72b0;stroke:#4c72b0;\" x=\"219.634024\" xlink:href=\"#m0370211b7c\" y=\"139.201455\"/>\r\n     <use style=\"fill:#4c72b0;stroke:#4c72b0;\" x=\"233.375884\" xlink:href=\"#m0370211b7c\" y=\"111.088\"/>\r\n     <use style=\"fill:#4c72b0;stroke:#4c72b0;\" x=\"154.453038\" xlink:href=\"#m0370211b7c\" y=\"177.857455\"/>\r\n     <use style=\"fill:#4c72b0;stroke:#4c72b0;\" x=\"219.448323\" xlink:href=\"#m0370211b7c\" y=\"140.08\"/>\r\n     <use style=\"fill:#4c72b0;stroke:#4c72b0;\" x=\"174.756327\" xlink:href=\"#m0370211b7c\" y=\"151.940364\"/>\r\n     <use style=\"fill:#4c72b0;stroke:#4c72b0;\" x=\"218.086517\" xlink:href=\"#m0370211b7c\" y=\"128.658909\"/>\r\n     <use style=\"fill:#4c72b0;stroke:#4c72b0;\" x=\"210.906086\" xlink:href=\"#m0370211b7c\" y=\"128.658909\"/>\r\n     <use style=\"fill:#4c72b0;stroke:#4c72b0;\" x=\"205.396962\" xlink:href=\"#m0370211b7c\" y=\"146.669091\"/>\r\n     <use style=\"fill:#4c72b0;stroke:#4c72b0;\" x=\"238.575507\" xlink:href=\"#m0370211b7c\" y=\"126.901818\"/>\r\n     <use style=\"fill:#4c72b0;stroke:#4c72b0;\" x=\"189.921894\" xlink:href=\"#m0370211b7c\" y=\"180.932364\"/>\r\n     <use style=\"fill:#4c72b0;stroke:#4c72b0;\" x=\"195.059616\" xlink:href=\"#m0370211b7c\" y=\"146.229818\"/>\r\n     <use style=\"fill:#4c72b0;stroke:#4c72b0;\" x=\"217.715116\" xlink:href=\"#m0370211b7c\" y=\"165.997091\"/>\r\n     <use style=\"fill:#4c72b0;stroke:#4c72b0;\" x=\"201.497244\" xlink:href=\"#m0370211b7c\" y=\"142.715636\"/>\r\n     <use style=\"fill:#4c72b0;stroke:#4c72b0;\" x=\"183.979468\" xlink:href=\"#m0370211b7c\" y=\"152.818909\"/>\r\n     <use style=\"fill:#4c72b0;stroke:#4c72b0;\" x=\"268.225737\" xlink:href=\"#m0370211b7c\" y=\"93.077818\"/>\r\n     <use style=\"fill:#4c72b0;stroke:#4c72b0;\" x=\"240.556316\" xlink:href=\"#m0370211b7c\" y=\"140.08\"/>\r\n     <use style=\"fill:#4c72b0;stroke:#4c72b0;\" x=\"178.656044\" xlink:href=\"#m0370211b7c\" y=\"156.333091\"/>\r\n     <use style=\"fill:#4c72b0;stroke:#4c72b0;\" x=\"90.386257\" xlink:href=\"#m0370211b7c\" y=\"198.064\"/>\r\n     <use style=\"fill:#4c72b0;stroke:#4c72b0;\" x=\"223.038539\" xlink:href=\"#m0370211b7c\" y=\"126.901818\"/>\r\n     <use style=\"fill:#4c72b0;stroke:#4c72b0;\" x=\"187.383982\" xlink:href=\"#m0370211b7c\" y=\"135.248\"/>\r\n     <use style=\"fill:#4c72b0;stroke:#4c72b0;\" x=\"168.318699\" xlink:href=\"#m0370211b7c\" y=\"180.493091\"/>\r\n     <use style=\"fill:#4c72b0;stroke:#4c72b0;\" x=\"190.602797\" xlink:href=\"#m0370211b7c\" y=\"212.120727\"/>\r\n     <use style=\"fill:#4c72b0;stroke:#4c72b0;\" x=\"228.795264\" xlink:href=\"#m0370211b7c\" y=\"108.891636\"/>\r\n     <use style=\"fill:#4c72b0;stroke:#4c72b0;\" x=\"275.468069\" xlink:href=\"#m0370211b7c\" y=\"98.349091\"/>\r\n     <use style=\"fill:#4c72b0;stroke:#4c72b0;\" x=\"244.146532\" xlink:href=\"#m0370211b7c\" y=\"115.92\"/>\r\n     <use style=\"fill:#4c72b0;stroke:#4c72b0;\" x=\"203.354253\" xlink:href=\"#m0370211b7c\" y=\"176.100364\"/>\r\n     <use style=\"fill:#4c72b0;stroke:#4c72b0;\" x=\"186.455478\" xlink:href=\"#m0370211b7c\" y=\"145.790545\"/>\r\n     <use style=\"fill:#4c72b0;stroke:#4c72b0;\" x=\"285.495913\" xlink:href=\"#m0370211b7c\" y=\"47.393455\"/>\r\n     <use style=\"fill:#4c72b0;stroke:#4c72b0;\" x=\"231.147475\" xlink:href=\"#m0370211b7c\" y=\"110.648727\"/>\r\n     <use style=\"fill:#4c72b0;stroke:#4c72b0;\" x=\"218.76742\" xlink:href=\"#m0370211b7c\" y=\"136.126545\"/>\r\n     <use style=\"fill:#4c72b0;stroke:#4c72b0;\" x=\"197.349926\" xlink:href=\"#m0370211b7c\" y=\"156.772364\"/>\r\n     <use style=\"fill:#4c72b0;stroke:#4c72b0;\" x=\"195.86432\" xlink:href=\"#m0370211b7c\" y=\"173.025455\"/>\r\n     <use style=\"fill:#4c72b0;stroke:#4c72b0;\" x=\"124.926608\" xlink:href=\"#m0370211b7c\" y=\"172.586182\"/>\r\n     <use style=\"fill:#4c72b0;stroke:#4c72b0;\" x=\"331.240214\" xlink:href=\"#m0370211b7c\" y=\"48.711273\"/>\r\n     <use style=\"fill:#4c72b0;stroke:#4c72b0;\" x=\"188.436287\" xlink:href=\"#m0370211b7c\" y=\"153.258182\"/>\r\n     <use style=\"fill:#4c72b0;stroke:#4c72b0;\" x=\"191.593201\" xlink:href=\"#m0370211b7c\" y=\"152.818909\"/>\r\n     <use style=\"fill:#4c72b0;stroke:#4c72b0;\" x=\"189.11719\" xlink:href=\"#m0370211b7c\" y=\"150.183273\"/>\r\n     <use style=\"fill:#4c72b0;stroke:#4c72b0;\" x=\"164.171381\" xlink:href=\"#m0370211b7c\" y=\"136.565818\"/>\r\n     <use style=\"fill:#4c72b0;stroke:#4c72b0;\" x=\"131.735638\" xlink:href=\"#m0370211b7c\" y=\"194.110545\"/>\r\n     <use style=\"fill:#4c72b0;stroke:#4c72b0;\" x=\"202.67335\" xlink:href=\"#m0370211b7c\" y=\"126.901818\"/>\r\n     <use style=\"fill:#4c72b0;stroke:#4c72b0;\" x=\"211.153687\" xlink:href=\"#m0370211b7c\" y=\"132.173091\"/>\r\n     <use style=\"fill:#4c72b0;stroke:#4c72b0;\" x=\"230.404671\" xlink:href=\"#m0370211b7c\" y=\"119.873455\"/>\r\n     <use style=\"fill:#4c72b0;stroke:#4c72b0;\" x=\"267.916236\" xlink:href=\"#m0370211b7c\" y=\"78.142545\"/>\r\n     <use style=\"fill:#4c72b0;stroke:#4c72b0;\" x=\"176.365734\" xlink:href=\"#m0370211b7c\" y=\"168.193455\"/>\r\n     <use style=\"fill:#4c72b0;stroke:#4c72b0;\" x=\"201.868646\" xlink:href=\"#m0370211b7c\" y=\"125.584\"/>\r\n     <use style=\"fill:#4c72b0;stroke:#4c72b0;\" x=\"198.402231\" xlink:href=\"#m0370211b7c\" y=\"144.472727\"/>\r\n     <use style=\"fill:#4c72b0;stroke:#4c72b0;\" x=\"198.092729\" xlink:href=\"#m0370211b7c\" y=\"129.976727\"/>\r\n     <use style=\"fill:#4c72b0;stroke:#4c72b0;\" x=\"196.421422\" xlink:href=\"#m0370211b7c\" y=\"148.865455\"/>\r\n     <use style=\"fill:#4c72b0;stroke:#4c72b0;\" x=\"225.824051\" xlink:href=\"#m0370211b7c\" y=\"105.816727\"/>\r\n     <use style=\"fill:#4c72b0;stroke:#4c72b0;\" x=\"229.723768\" xlink:href=\"#m0370211b7c\" y=\"131.733818\"/>\r\n     <use style=\"fill:#4c72b0;stroke:#4c72b0;\" x=\"182.24626\" xlink:href=\"#m0370211b7c\" y=\"209.045818\"/>\r\n     <use style=\"fill:#4c72b0;stroke:#4c72b0;\" x=\"269.835144\" xlink:href=\"#m0370211b7c\" y=\"90.881455\"/>\r\n     <use style=\"fill:#4c72b0;stroke:#4c72b0;\" x=\"214.929603\" xlink:href=\"#m0370211b7c\" y=\"194.989091\"/>\r\n     <use style=\"fill:#4c72b0;stroke:#4c72b0;\" x=\"188.312487\" xlink:href=\"#m0370211b7c\" y=\"178.736\"/>\r\n     <use style=\"fill:#4c72b0;stroke:#4c72b0;\" x=\"130.683334\" xlink:href=\"#m0370211b7c\" y=\"173.464727\"/>\r\n     <use style=\"fill:#4c72b0;stroke:#4c72b0;\" x=\"244.270332\" xlink:href=\"#m0370211b7c\" y=\"96.152727\"/>\r\n     <use style=\"fill:#4c72b0;stroke:#4c72b0;\" x=\"243.960831\" xlink:href=\"#m0370211b7c\" y=\"112.845091\"/>\r\n     <use style=\"fill:#4c72b0;stroke:#4c72b0;\" x=\"229.661868\" xlink:href=\"#m0370211b7c\" y=\"104.498909\"/>\r\n     <use style=\"fill:#4c72b0;stroke:#4c72b0;\" x=\"295.771358\" xlink:href=\"#m0370211b7c\" y=\"31.579636\"/>\r\n     <use style=\"fill:#4c72b0;stroke:#4c72b0;\" x=\"242.413324\" xlink:href=\"#m0370211b7c\" y=\"199.821091\"/>\r\n     <use style=\"fill:#4c72b0;stroke:#4c72b0;\" x=\"205.768363\" xlink:href=\"#m0370211b7c\" y=\"143.594182\"/>\r\n     <use style=\"fill:#4c72b0;stroke:#4c72b0;\" x=\"210.720385\" xlink:href=\"#m0370211b7c\" y=\"135.687273\"/>\r\n     <use style=\"fill:#4c72b0;stroke:#4c72b0;\" x=\"184.969872\" xlink:href=\"#m0370211b7c\" y=\"200.260364\"/>\r\n     <use style=\"fill:#4c72b0;stroke:#4c72b0;\" x=\"204.344657\" xlink:href=\"#m0370211b7c\" y=\"134.808727\"/>\r\n     <use style=\"fill:#4c72b0;stroke:#4c72b0;\" x=\"189.240991\" xlink:href=\"#m0370211b7c\" y=\"150.622545\"/>\r\n     <use style=\"fill:#4c72b0;stroke:#4c72b0;\" x=\"181.317756\" xlink:href=\"#m0370211b7c\" y=\"191.914182\"/>\r\n     <use style=\"fill:#4c72b0;stroke:#4c72b0;\" x=\"262.902314\" xlink:href=\"#m0370211b7c\" y=\"70.235636\"/>\r\n     <use style=\"fill:#4c72b0;stroke:#4c72b0;\" x=\"193.078807\" xlink:href=\"#m0370211b7c\" y=\"162.922182\"/>\r\n     <use style=\"fill:#4c72b0;stroke:#4c72b0;\" x=\"223.16234\" xlink:href=\"#m0370211b7c\" y=\"147.986909\"/>\r\n     <use style=\"fill:#4c72b0;stroke:#4c72b0;\" x=\"317.684055\" xlink:href=\"#m0370211b7c\" y=\"71.553455\"/>\r\n     <use style=\"fill:#4c72b0;stroke:#4c72b0;\" x=\"239.813513\" xlink:href=\"#m0370211b7c\" y=\"96.152727\"/>\r\n     <use style=\"fill:#4c72b0;stroke:#4c72b0;\" x=\"206.263565\" xlink:href=\"#m0370211b7c\" y=\"126.023273\"/>\r\n     <use style=\"fill:#4c72b0;stroke:#4c72b0;\" x=\"363.490256\" xlink:href=\"#m0370211b7c\" y=\"140.519273\"/>\r\n     <use style=\"fill:#4c72b0;stroke:#4c72b0;\" x=\"224.709846\" xlink:href=\"#m0370211b7c\" y=\"129.537455\"/>\r\n     <use style=\"fill:#4c72b0;stroke:#4c72b0;\" x=\"215.053404\" xlink:href=\"#m0370211b7c\" y=\"135.248\"/>\r\n     <use style=\"fill:#4c72b0;stroke:#4c72b0;\" x=\"193.326409\" xlink:href=\"#m0370211b7c\" y=\"151.501091\"/>\r\n     <use style=\"fill:#4c72b0;stroke:#4c72b0;\" x=\"187.383982\" xlink:href=\"#m0370211b7c\" y=\"199.821091\"/>\r\n     <use style=\"fill:#4c72b0;stroke:#4c72b0;\" x=\"184.412769\" xlink:href=\"#m0370211b7c\" y=\"180.932364\"/>\r\n     <use style=\"fill:#4c72b0;stroke:#4c72b0;\" x=\"176.365734\" xlink:href=\"#m0370211b7c\" y=\"170.829091\"/>\r\n     <use style=\"fill:#4c72b0;stroke:#4c72b0;\" x=\"170.98041\" xlink:href=\"#m0370211b7c\" y=\"135.248\"/>\r\n    </g>\r\n   </g>\r\n   <g id=\"PathCollection_2\">\r\n    <defs>\r\n     <path d=\"M 0 2.236068 \r\nC 0.593012 2.236068 1.161816 2.000462 1.581139 1.581139 \r\nC 2.000462 1.161816 2.236068 0.593012 2.236068 0 \r\nC 2.236068 -0.593012 2.000462 -1.161816 1.581139 -1.581139 \r\nC 1.161816 -2.000462 0.593012 -2.236068 0 -2.236068 \r\nC -0.593012 -2.236068 -1.161816 -2.000462 -1.581139 -1.581139 \r\nC -2.000462 -1.161816 -2.236068 -0.593012 -2.236068 0 \r\nC -2.236068 0.593012 -2.000462 1.161816 -1.581139 1.581139 \r\nC -1.161816 2.000462 -0.593012 2.236068 0 2.236068 \r\nz\r\n\" id=\"m01e0f9eb0e\" style=\"stroke:#dd8452;\"/>\r\n    </defs>\r\n    <g clip-path=\"url(#p6f0b733328)\">\r\n     <use style=\"fill:#dd8452;stroke:#dd8452;\" x=\"310.441723\" xlink:href=\"#m01e0f9eb0e\" y=\"17.083636\"/>\r\n     <use style=\"fill:#dd8452;stroke:#dd8452;\" x=\"179.460748\" xlink:href=\"#m01e0f9eb0e\" y=\"138.322909\"/>\r\n     <use style=\"fill:#dd8452;stroke:#dd8452;\" x=\"236.347097\" xlink:href=\"#m01e0f9eb0e\" y=\"106.004987\"/>\r\n     <use style=\"fill:#dd8452;stroke:#dd8452;\" x=\"217.158013\" xlink:href=\"#m01e0f9eb0e\" y=\"130.855273\"/>\r\n     <use style=\"fill:#dd8452;stroke:#dd8452;\" x=\"339.844352\" xlink:href=\"#m01e0f9eb0e\" y=\"22.354909\"/>\r\n     <use style=\"fill:#dd8452;stroke:#dd8452;\" x=\"184.227069\" xlink:href=\"#m01e0f9eb0e\" y=\"150.329697\"/>\r\n     <use style=\"fill:#dd8452;stroke:#dd8452;\" x=\"153.648334\" xlink:href=\"#m01e0f9eb0e\" y=\"149.524364\"/>\r\n     <use style=\"fill:#dd8452;stroke:#dd8452;\" x=\"210.967986\" xlink:href=\"#m01e0f9eb0e\" y=\"140.372848\"/>\r\n     <use style=\"fill:#dd8452;stroke:#dd8452;\" x=\"259.931101\" xlink:href=\"#m01e0f9eb0e\" y=\"103.620364\"/>\r\n     <use style=\"fill:#dd8452;stroke:#dd8452;\" x=\"191.655101\" xlink:href=\"#m01e0f9eb0e\" y=\"153.697455\"/>\r\n     <use style=\"fill:#dd8452;stroke:#dd8452;\" x=\"196.545223\" xlink:href=\"#m01e0f9eb0e\" y=\"136.419394\"/>\r\n     <use style=\"fill:#dd8452;stroke:#dd8452;\" x=\"221.429132\" xlink:href=\"#m01e0f9eb0e\" y=\"169.072\"/>\r\n     <use style=\"fill:#dd8452;stroke:#dd8452;\" x=\"219.757825\" xlink:href=\"#m01e0f9eb0e\" y=\"153.697455\"/>\r\n     <use style=\"fill:#dd8452;stroke:#dd8452;\" x=\"237.770804\" xlink:href=\"#m01e0f9eb0e\" y=\"177.637818\"/>\r\n     <use style=\"fill:#dd8452;stroke:#dd8452;\" x=\"223.905143\" xlink:href=\"#m01e0f9eb0e\" y=\"174.782545\"/>\r\n     <use style=\"fill:#dd8452;stroke:#dd8452;\" x=\"199.887837\" xlink:href=\"#m01e0f9eb0e\" y=\"153.697455\"/>\r\n     <use style=\"fill:#dd8452;stroke:#dd8452;\" x=\"204.282757\" xlink:href=\"#m01e0f9eb0e\" y=\"185.325091\"/>\r\n     <use style=\"fill:#dd8452;stroke:#dd8452;\" x=\"254.298176\" xlink:href=\"#m01e0f9eb0e\" y=\"17.083636\"/>\r\n     <use style=\"fill:#dd8452;stroke:#dd8452;\" x=\"258.197893\" xlink:href=\"#m01e0f9eb0e\" y=\"110.648727\"/>\r\n     <use style=\"fill:#dd8452;stroke:#dd8452;\" x=\"183.731866\" xlink:href=\"#m01e0f9eb0e\" y=\"142.605818\"/>\r\n     <use style=\"fill:#dd8452;stroke:#dd8452;\" x=\"246.932044\" xlink:href=\"#m01e0f9eb0e\" y=\"140.08\"/>\r\n     <use style=\"fill:#dd8452;stroke:#dd8452;\" x=\"307.47051\" xlink:href=\"#m01e0f9eb0e\" y=\"17.083636\"/>\r\n     <use style=\"fill:#dd8452;stroke:#dd8452;\" x=\"205.211261\" xlink:href=\"#m01e0f9eb0e\" y=\"191.914182\"/>\r\n     <use style=\"fill:#dd8452;stroke:#dd8452;\" x=\"171.723214\" xlink:href=\"#m01e0f9eb0e\" y=\"150.329697\"/>\r\n     <use style=\"fill:#dd8452;stroke:#dd8452;\" x=\"336.068435\" xlink:href=\"#m01e0f9eb0e\" y=\"53.543273\"/>\r\n     <use style=\"fill:#dd8452;stroke:#dd8452;\" x=\"76.149194\" xlink:href=\"#m01e0f9eb0e\" y=\"184.446545\"/>\r\n     <use style=\"fill:#dd8452;stroke:#dd8452;\" x=\"331.673516\" xlink:href=\"#m01e0f9eb0e\" y=\"35.386667\"/>\r\n     <use style=\"fill:#dd8452;stroke:#dd8452;\" x=\"338.420646\" xlink:href=\"#m01e0f9eb0e\" y=\"17.083636\"/>\r\n     <use style=\"fill:#dd8452;stroke:#dd8452;\" x=\"194.316813\" xlink:href=\"#m01e0f9eb0e\" y=\"171.488\"/>\r\n     <use style=\"fill:#dd8452;stroke:#dd8452;\" x=\"183.669966\" xlink:href=\"#m01e0f9eb0e\" y=\"17.083636\"/>\r\n     <use style=\"fill:#dd8452;stroke:#dd8452;\" x=\"186.084077\" xlink:href=\"#m01e0f9eb0e\" y=\"157.797333\"/>\r\n     <use style=\"fill:#dd8452;stroke:#dd8452;\" x=\"360.085741\" xlink:href=\"#m01e0f9eb0e\" y=\"20.817455\"/>\r\n     <use style=\"fill:#dd8452;stroke:#dd8452;\" x=\"164.914184\" xlink:href=\"#m01e0f9eb0e\" y=\"136.477964\"/>\r\n     <use style=\"fill:#dd8452;stroke:#dd8452;\" x=\"204.468457\" xlink:href=\"#m01e0f9eb0e\" y=\"125.217939\"/>\r\n     <use style=\"fill:#dd8452;stroke:#dd8452;\" x=\"216.043808\" xlink:href=\"#m01e0f9eb0e\" y=\"131.089552\"/>\r\n     <use style=\"fill:#dd8452;stroke:#dd8452;\" x=\"184.907972\" xlink:href=\"#m01e0f9eb0e\" y=\"153.038545\"/>\r\n     <use style=\"fill:#dd8452;stroke:#dd8452;\" x=\"240.556316\" xlink:href=\"#m01e0f9eb0e\" y=\"178.296727\"/>\r\n     <use style=\"fill:#dd8452;stroke:#dd8452;\" x=\"250.274659\" xlink:href=\"#m01e0f9eb0e\" y=\"74.189091\"/>\r\n     <use style=\"fill:#dd8452;stroke:#dd8452;\" x=\"188.250586\" xlink:href=\"#m01e0f9eb0e\" y=\"153.038545\"/>\r\n     <use style=\"fill:#dd8452;stroke:#dd8452;\" x=\"239.813513\" xlink:href=\"#m01e0f9eb0e\" y=\"200.611782\"/>\r\n     <use style=\"fill:#dd8452;stroke:#dd8452;\" x=\"99.733198\" xlink:href=\"#m01e0f9eb0e\" y=\"205.970909\"/>\r\n     <use style=\"fill:#dd8452;stroke:#dd8452;\" x=\"205.582662\" xlink:href=\"#m01e0f9eb0e\" y=\"140.582026\"/>\r\n     <use style=\"fill:#dd8452;stroke:#dd8452;\" x=\"236.408998\" xlink:href=\"#m01e0f9eb0e\" y=\"113.723636\"/>\r\n     <use style=\"fill:#dd8452;stroke:#dd8452;\" x=\"204.530358\" xlink:href=\"#m01e0f9eb0e\" y=\"158.529455\"/>\r\n     <use style=\"fill:#dd8452;stroke:#dd8452;\" x=\"157.548051\" xlink:href=\"#m01e0f9eb0e\" y=\"214.756364\"/>\r\n     <use style=\"fill:#dd8452;stroke:#dd8452;\" x=\"151.110423\" xlink:href=\"#m01e0f9eb0e\" y=\"200.611782\"/>\r\n     <use style=\"fill:#dd8452;stroke:#dd8452;\" x=\"180.141651\" xlink:href=\"#m01e0f9eb0e\" y=\"190.596364\"/>\r\n     <use style=\"fill:#dd8452;stroke:#dd8452;\" x=\"127.835921\" xlink:href=\"#m01e0f9eb0e\" y=\"166.216727\"/>\r\n     <use style=\"fill:#dd8452;stroke:#dd8452;\" x=\"203.354253\" xlink:href=\"#m01e0f9eb0e\" y=\"188.4\"/>\r\n     <use style=\"fill:#dd8452;stroke:#dd8452;\" x=\"197.349926\" xlink:href=\"#m01e0f9eb0e\" y=\"177.637818\"/>\r\n     <use style=\"fill:#dd8452;stroke:#dd8452;\" x=\"214.743903\" xlink:href=\"#m01e0f9eb0e\" y=\"170.829091\"/>\r\n     <use style=\"fill:#dd8452;stroke:#dd8452;\" x=\"251.760265\" xlink:href=\"#m01e0f9eb0e\" y=\"83.413818\"/>\r\n     <use style=\"fill:#dd8452;stroke:#dd8452;\" x=\"204.96366\" xlink:href=\"#m01e0f9eb0e\" y=\"155.893818\"/>\r\n     <use style=\"fill:#dd8452;stroke:#dd8452;\" x=\"273.920562\" xlink:href=\"#m01e0f9eb0e\" y=\"78.581818\"/>\r\n     <use style=\"fill:#dd8452;stroke:#dd8452;\" x=\"172.404117\" xlink:href=\"#m01e0f9eb0e\" y=\"165.557818\"/>\r\n     <use style=\"fill:#dd8452;stroke:#dd8452;\" x=\"263.397516\" xlink:href=\"#m01e0f9eb0e\" y=\"97.909818\"/>\r\n     <use style=\"fill:#dd8452;stroke:#dd8452;\" x=\"212.020291\" xlink:href=\"#m01e0f9eb0e\" y=\"137.078303\"/>\r\n     <use style=\"fill:#dd8452;stroke:#dd8452;\" x=\"266.059228\" xlink:href=\"#m01e0f9eb0e\" y=\"76.385455\"/>\r\n     <use style=\"fill:#dd8452;stroke:#dd8452;\" x=\"184.47467\" xlink:href=\"#m01e0f9eb0e\" y=\"153.038545\"/>\r\n     <use style=\"fill:#dd8452;stroke:#dd8452;\" x=\"202.178147\" xlink:href=\"#m01e0f9eb0e\" y=\"175.221818\"/>\r\n     <use style=\"fill:#dd8452;stroke:#dd8452;\" x=\"197.102325\" xlink:href=\"#m01e0f9eb0e\" y=\"157.797333\"/>\r\n     <use style=\"fill:#dd8452;stroke:#dd8452;\" x=\"185.093672\" xlink:href=\"#m01e0f9eb0e\" y=\"161.604364\"/>\r\n     <use style=\"fill:#dd8452;stroke:#dd8452;\" x=\"157.609952\" xlink:href=\"#m01e0f9eb0e\" y=\"169.950545\"/>\r\n     <use style=\"fill:#dd8452;stroke:#dd8452;\" x=\"186.022176\" xlink:href=\"#m01e0f9eb0e\" y=\"152.599273\"/>\r\n     <use style=\"fill:#dd8452;stroke:#dd8452;\" x=\"252.069766\" xlink:href=\"#m01e0f9eb0e\" y=\"105.597091\"/>\r\n     <use style=\"fill:#dd8452;stroke:#dd8452;\" x=\"216.47711\" xlink:href=\"#m01e0f9eb0e\" y=\"140.372848\"/>\r\n     <use style=\"fill:#dd8452;stroke:#dd8452;\" x=\"235.666194\" xlink:href=\"#m01e0f9eb0e\" y=\"136.565818\"/>\r\n     <use style=\"fill:#dd8452;stroke:#dd8452;\" x=\"241.670521\" xlink:href=\"#m01e0f9eb0e\" y=\"82.535273\"/>\r\n     <use style=\"fill:#dd8452;stroke:#dd8452;\" x=\"148.324911\" xlink:href=\"#m01e0f9eb0e\" y=\"191.035636\"/>\r\n     <use style=\"fill:#dd8452;stroke:#dd8452;\" x=\"166.585491\" xlink:href=\"#m01e0f9eb0e\" y=\"175.661091\"/>\r\n     <use style=\"fill:#dd8452;stroke:#dd8452;\" x=\"215.734307\" xlink:href=\"#m01e0f9eb0e\" y=\"137.078303\"/>\r\n     <use style=\"fill:#dd8452;stroke:#dd8452;\" x=\"187.260182\" xlink:href=\"#m01e0f9eb0e\" y=\"153.038545\"/>\r\n     <use style=\"fill:#dd8452;stroke:#dd8452;\" x=\"153.648334\" xlink:href=\"#m01e0f9eb0e\" y=\"186.642909\"/>\r\n     <use style=\"fill:#dd8452;stroke:#dd8452;\" x=\"162.685774\" xlink:href=\"#m01e0f9eb0e\" y=\"186.642909\"/>\r\n     <use style=\"fill:#dd8452;stroke:#dd8452;\" x=\"146.344102\" xlink:href=\"#m01e0f9eb0e\" y=\"179.175273\"/>\r\n     <use style=\"fill:#dd8452;stroke:#dd8452;\" x=\"129.507228\" xlink:href=\"#m01e0f9eb0e\" y=\"204.213818\"/>\r\n     <use style=\"fill:#dd8452;stroke:#dd8452;\" x=\"158.476556\" xlink:href=\"#m01e0f9eb0e\" y=\"168.193455\"/>\r\n     <use style=\"fill:#dd8452;stroke:#dd8452;\" x=\"214.434401\" xlink:href=\"#m01e0f9eb0e\" y=\"140.582026\"/>\r\n     <use style=\"fill:#dd8452;stroke:#dd8452;\" x=\"182.37006\" xlink:href=\"#m01e0f9eb0e\" y=\"136.477964\"/>\r\n     <use style=\"fill:#dd8452;stroke:#dd8452;\" x=\"252.193567\" xlink:href=\"#m01e0f9eb0e\" y=\"91.320727\"/>\r\n     <use style=\"fill:#dd8452;stroke:#dd8452;\" x=\"257.083688\" xlink:href=\"#m01e0f9eb0e\" y=\"126.901818\"/>\r\n     <use style=\"fill:#dd8452;stroke:#dd8452;\" x=\"214.682002\" xlink:href=\"#m01e0f9eb0e\" y=\"153.697455\"/>\r\n     <use style=\"fill:#dd8452;stroke:#dd8452;\" x=\"173.642122\" xlink:href=\"#m01e0f9eb0e\" y=\"176.649455\"/>\r\n     <use style=\"fill:#dd8452;stroke:#dd8452;\" x=\"173.27072\" xlink:href=\"#m01e0f9eb0e\" y=\"140.519273\"/>\r\n     <use style=\"fill:#dd8452;stroke:#dd8452;\" x=\"235.851895\" xlink:href=\"#m01e0f9eb0e\" y=\"121.630545\"/>\r\n     <use style=\"fill:#dd8452;stroke:#dd8452;\" x=\"240.927718\" xlink:href=\"#m01e0f9eb0e\" y=\"100.106182\"/>\r\n     <use style=\"fill:#dd8452;stroke:#dd8452;\" x=\"217.777016\" xlink:href=\"#m01e0f9eb0e\" y=\"131.089552\"/>\r\n     <use style=\"fill:#dd8452;stroke:#dd8452;\" x=\"59.126619\" xlink:href=\"#m01e0f9eb0e\" y=\"135.248\"/>\r\n     <use style=\"fill:#dd8452;stroke:#dd8452;\" x=\"291.066938\" xlink:href=\"#m01e0f9eb0e\" y=\"50.907636\"/>\r\n     <use style=\"fill:#dd8452;stroke:#dd8452;\" x=\"182.555761\" xlink:href=\"#m01e0f9eb0e\" y=\"178.296727\"/>\r\n     <use style=\"fill:#dd8452;stroke:#dd8452;\" x=\"198.897433\" xlink:href=\"#m01e0f9eb0e\" y=\"137.078303\"/>\r\n     <use style=\"fill:#dd8452;stroke:#dd8452;\" x=\"176.489535\" xlink:href=\"#m01e0f9eb0e\" y=\"144.692364\"/>\r\n     <use style=\"fill:#dd8452;stroke:#dd8452;\" x=\"225.57645\" xlink:href=\"#m01e0f9eb0e\" y=\"106.004987\"/>\r\n     <use style=\"fill:#dd8452;stroke:#dd8452;\" x=\"189.302891\" xlink:href=\"#m01e0f9eb0e\" y=\"166.216727\"/>\r\n     <use style=\"fill:#dd8452;stroke:#dd8452;\" x=\"199.268835\" xlink:href=\"#m01e0f9eb0e\" y=\"140.582026\"/>\r\n     <use style=\"fill:#dd8452;stroke:#dd8452;\" x=\"225.143148\" xlink:href=\"#m01e0f9eb0e\" y=\"188.839273\"/>\r\n     <use style=\"fill:#dd8452;stroke:#dd8452;\" x=\"233.685386\" xlink:href=\"#m01e0f9eb0e\" y=\"17.083636\"/>\r\n     <use style=\"fill:#dd8452;stroke:#dd8452;\" x=\"319.479162\" xlink:href=\"#m01e0f9eb0e\" y=\"66.721455\"/>\r\n     <use style=\"fill:#dd8452;stroke:#dd8452;\" x=\"164.728483\" xlink:href=\"#m01e0f9eb0e\" y=\"157.797333\"/>\r\n     <use style=\"fill:#dd8452;stroke:#dd8452;\" x=\"164.480882\" xlink:href=\"#m01e0f9eb0e\" y=\"185.325091\"/>\r\n     <use style=\"fill:#dd8452;stroke:#dd8452;\" x=\"184.66037\" xlink:href=\"#m01e0f9eb0e\" y=\"136.419394\"/>\r\n     <use style=\"fill:#dd8452;stroke:#dd8452;\" x=\"206.387366\" xlink:href=\"#m01e0f9eb0e\" y=\"140.582026\"/>\r\n     <use style=\"fill:#dd8452;stroke:#dd8452;\" x=\"198.959333\" xlink:href=\"#m01e0f9eb0e\" y=\"131.089552\"/>\r\n     <use style=\"fill:#dd8452;stroke:#dd8452;\" x=\"210.906086\" xlink:href=\"#m01e0f9eb0e\" y=\"138.322909\"/>\r\n     <use style=\"fill:#dd8452;stroke:#dd8452;\" x=\"264.32602\" xlink:href=\"#m01e0f9eb0e\" y=\"76.824727\"/>\r\n     <use style=\"fill:#dd8452;stroke:#dd8452;\" x=\"302.95179\" xlink:href=\"#m01e0f9eb0e\" y=\"17.083636\"/>\r\n     <use style=\"fill:#dd8452;stroke:#dd8452;\" x=\"106.480327\" xlink:href=\"#m01e0f9eb0e\" y=\"158.090182\"/>\r\n     <use style=\"fill:#dd8452;stroke:#dd8452;\" x=\"166.956893\" xlink:href=\"#m01e0f9eb0e\" y=\"155.454545\"/>\r\n     <use style=\"fill:#dd8452;stroke:#dd8452;\" x=\"259.7454\" xlink:href=\"#m01e0f9eb0e\" y=\"91.906424\"/>\r\n     <use style=\"fill:#dd8452;stroke:#dd8452;\" x=\"183.360465\" xlink:href=\"#m01e0f9eb0e\" y=\"140.519273\"/>\r\n     <use style=\"fill:#dd8452;stroke:#dd8452;\" x=\"221.552932\" xlink:href=\"#m01e0f9eb0e\" y=\"131.089552\"/>\r\n     <use style=\"fill:#dd8452;stroke:#dd8452;\" x=\"123.502902\" xlink:href=\"#m01e0f9eb0e\" y=\"183.348364\"/>\r\n     <use style=\"fill:#dd8452;stroke:#dd8452;\" x=\"173.642122\" xlink:href=\"#m01e0f9eb0e\" y=\"170.389818\"/>\r\n     <use style=\"fill:#dd8452;stroke:#dd8452;\" x=\"171.785114\" xlink:href=\"#m01e0f9eb0e\" y=\"214.756364\"/>\r\n     <use style=\"fill:#dd8452;stroke:#dd8452;\" x=\"192.707406\" xlink:href=\"#m01e0f9eb0e\" y=\"152.379636\"/>\r\n     <use style=\"fill:#dd8452;stroke:#dd8452;\" x=\"225.390749\" xlink:href=\"#m01e0f9eb0e\" y=\"118.775273\"/>\r\n     <use style=\"fill:#dd8452;stroke:#dd8452;\" x=\"262.469012\" xlink:href=\"#m01e0f9eb0e\" y=\"73.090909\"/>\r\n     <use style=\"fill:#dd8452;stroke:#dd8452;\" x=\"204.344657\" xlink:href=\"#m01e0f9eb0e\" y=\"140.582026\"/>\r\n     <use style=\"fill:#dd8452;stroke:#dd8452;\" x=\"254.793378\" xlink:href=\"#m01e0f9eb0e\" y=\"83.413818\"/>\r\n     <use style=\"fill:#dd8452;stroke:#dd8452;\" x=\"202.85905\" xlink:href=\"#m01e0f9eb0e\" y=\"174.782545\"/>\r\n     <use style=\"fill:#dd8452;stroke:#dd8452;\" x=\"227.000156\" xlink:href=\"#m01e0f9eb0e\" y=\"131.294545\"/>\r\n     <use style=\"fill:#dd8452;stroke:#dd8452;\" x=\"230.714173\" xlink:href=\"#m01e0f9eb0e\" y=\"129.098182\"/>\r\n     <use style=\"fill:#dd8452;stroke:#dd8452;\" x=\"212.144091\" xlink:href=\"#m01e0f9eb0e\" y=\"157.797333\"/>\r\n     <use style=\"fill:#dd8452;stroke:#dd8452;\" x=\"231.580777\" xlink:href=\"#m01e0f9eb0e\" y=\"175.661091\"/>\r\n     <use style=\"fill:#dd8452;stroke:#dd8452;\" x=\"168.937701\" xlink:href=\"#m01e0f9eb0e\" y=\"176.649455\"/>\r\n     <use style=\"fill:#dd8452;stroke:#dd8452;\" x=\"209.791881\" xlink:href=\"#m01e0f9eb0e\" y=\"165.997091\"/>\r\n     <use style=\"fill:#dd8452;stroke:#dd8452;\" x=\"206.573067\" xlink:href=\"#m01e0f9eb0e\" y=\"131.089552\"/>\r\n     <use style=\"fill:#dd8452;stroke:#dd8452;\" x=\"199.454535\" xlink:href=\"#m01e0f9eb0e\" y=\"176.100364\"/>\r\n     <use style=\"fill:#dd8452;stroke:#dd8452;\" x=\"167.699696\" xlink:href=\"#m01e0f9eb0e\" y=\"159.847273\"/>\r\n     <use style=\"fill:#dd8452;stroke:#dd8452;\" x=\"190.540896\" xlink:href=\"#m01e0f9eb0e\" y=\"144.692364\"/>\r\n     <use style=\"fill:#dd8452;stroke:#dd8452;\" x=\"252.069766\" xlink:href=\"#m01e0f9eb0e\" y=\"73.090909\"/>\r\n     <use style=\"fill:#dd8452;stroke:#dd8452;\" x=\"271.07315\" xlink:href=\"#m01e0f9eb0e\" y=\"90.442182\"/>\r\n     <use style=\"fill:#dd8452;stroke:#dd8452;\" x=\"230.09517\" xlink:href=\"#m01e0f9eb0e\" y=\"106.004987\"/>\r\n     <use style=\"fill:#dd8452;stroke:#dd8452;\" x=\"219.819725\" xlink:href=\"#m01e0f9eb0e\" y=\"184.885818\"/>\r\n     <use style=\"fill:#dd8452;stroke:#dd8452;\" x=\"200.321139\" xlink:href=\"#m01e0f9eb0e\" y=\"77.703273\"/>\r\n     <use style=\"fill:#dd8452;stroke:#dd8452;\" x=\"170.547109\" xlink:href=\"#m01e0f9eb0e\" y=\"156.772364\"/>\r\n     <use style=\"fill:#dd8452;stroke:#dd8452;\" x=\"239.070709\" xlink:href=\"#m01e0f9eb0e\" y=\"118.775273\"/>\r\n     <use style=\"fill:#dd8452;stroke:#dd8452;\" x=\"296.08086\" xlink:href=\"#m01e0f9eb0e\" y=\"82.096\"/>\r\n     <use style=\"fill:#dd8452;stroke:#dd8452;\" x=\"236.408998\" xlink:href=\"#m01e0f9eb0e\" y=\"115.92\"/>\r\n     <use style=\"fill:#dd8452;stroke:#dd8452;\" x=\"195.431018\" xlink:href=\"#m01e0f9eb0e\" y=\"136.419394\"/>\r\n     <use style=\"fill:#dd8452;stroke:#dd8452;\" x=\"181.132055\" xlink:href=\"#m01e0f9eb0e\" y=\"153.038545\"/>\r\n     <use style=\"fill:#dd8452;stroke:#dd8452;\" x=\"188.374387\" xlink:href=\"#m01e0f9eb0e\" y=\"142.276364\"/>\r\n     <use style=\"fill:#dd8452;stroke:#dd8452;\" x=\"176.675235\" xlink:href=\"#m01e0f9eb0e\" y=\"136.419394\"/>\r\n     <use style=\"fill:#dd8452;stroke:#dd8452;\" x=\"175.746731\" xlink:href=\"#m01e0f9eb0e\" y=\"200.611782\"/>\r\n     <use style=\"fill:#dd8452;stroke:#dd8452;\" x=\"212.515493\" xlink:href=\"#m01e0f9eb0e\" y=\"171.488\"/>\r\n     <use style=\"fill:#dd8452;stroke:#dd8452;\" x=\"253.183971\" xlink:href=\"#m01e0f9eb0e\" y=\"90.002909\"/>\r\n     <use style=\"fill:#dd8452;stroke:#dd8452;\" x=\"179.832149\" xlink:href=\"#m01e0f9eb0e\" y=\"174.782545\"/>\r\n     <use style=\"fill:#dd8452;stroke:#dd8452;\" x=\"177.975141\" xlink:href=\"#m01e0f9eb0e\" y=\"137.883636\"/>\r\n     <use style=\"fill:#dd8452;stroke:#dd8452;\" x=\"244.641734\" xlink:href=\"#m01e0f9eb0e\" y=\"105.597091\"/>\r\n     <use style=\"fill:#dd8452;stroke:#dd8452;\" x=\"300.66148\" xlink:href=\"#m01e0f9eb0e\" y=\"61.889455\"/>\r\n     <use style=\"fill:#dd8452;stroke:#dd8452;\" x=\"214.929603\" xlink:href=\"#m01e0f9eb0e\" y=\"179.175273\"/>\r\n     <use style=\"fill:#dd8452;stroke:#dd8452;\" x=\"141.020679\" xlink:href=\"#m01e0f9eb0e\" y=\"159.847273\"/>\r\n     <use style=\"fill:#dd8452;stroke:#dd8452;\" x=\"333.592424\" xlink:href=\"#m01e0f9eb0e\" y=\"17.083636\"/>\r\n     <use style=\"fill:#dd8452;stroke:#dd8452;\" x=\"273.549161\" xlink:href=\"#m01e0f9eb0e\" y=\"100.545455\"/>\r\n     <use style=\"fill:#dd8452;stroke:#dd8452;\" x=\"198.959333\" xlink:href=\"#m01e0f9eb0e\" y=\"142.276364\"/>\r\n     <use style=\"fill:#dd8452;stroke:#dd8452;\" x=\"245.508338\" xlink:href=\"#m01e0f9eb0e\" y=\"99.666909\"/>\r\n     <use style=\"fill:#dd8452;stroke:#dd8452;\" x=\"162.376273\" xlink:href=\"#m01e0f9eb0e\" y=\"200.611782\"/>\r\n     <use style=\"fill:#dd8452;stroke:#dd8452;\" x=\"146.653604\" xlink:href=\"#m01e0f9eb0e\" y=\"205.092364\"/>\r\n     <use style=\"fill:#dd8452;stroke:#dd8452;\" x=\"219.510224\" xlink:href=\"#m01e0f9eb0e\" y=\"163.800727\"/>\r\n     <use style=\"fill:#dd8452;stroke:#dd8452;\" x=\"222.048135\" xlink:href=\"#m01e0f9eb0e\" y=\"125.217939\"/>\r\n     <use style=\"fill:#dd8452;stroke:#dd8452;\" x=\"172.899319\" xlink:href=\"#m01e0f9eb0e\" y=\"176.649455\"/>\r\n     <use style=\"fill:#dd8452;stroke:#dd8452;\" x=\"184.288969\" xlink:href=\"#m01e0f9eb0e\" y=\"150.329697\"/>\r\n     <use style=\"fill:#dd8452;stroke:#dd8452;\" x=\"178.408443\" xlink:href=\"#m01e0f9eb0e\" y=\"147.547636\"/>\r\n     <use style=\"fill:#dd8452;stroke:#dd8452;\" x=\"150.800922\" xlink:href=\"#m01e0f9eb0e\" y=\"149.524364\"/>\r\n     <use style=\"fill:#dd8452;stroke:#dd8452;\" x=\"201.744846\" xlink:href=\"#m01e0f9eb0e\" y=\"149.304727\"/>\r\n     <use style=\"fill:#dd8452;stroke:#dd8452;\" x=\"208.677676\" xlink:href=\"#m01e0f9eb0e\" y=\"145.978805\"/>\r\n     <use style=\"fill:#dd8452;stroke:#dd8452;\" x=\"223.34804\" xlink:href=\"#m01e0f9eb0e\" y=\"134.515879\"/>\r\n     <use style=\"fill:#dd8452;stroke:#dd8452;\" x=\"243.527529\" xlink:href=\"#m01e0f9eb0e\" y=\"104.498909\"/>\r\n     <use style=\"fill:#dd8452;stroke:#dd8452;\" x=\"217.219913\" xlink:href=\"#m01e0f9eb0e\" y=\"131.089552\"/>\r\n     <use style=\"fill:#dd8452;stroke:#dd8452;\" x=\"270.268446\" xlink:href=\"#m01e0f9eb0e\" y=\"84.731636\"/>\r\n     <use style=\"fill:#dd8452;stroke:#dd8452;\" x=\"236.470898\" xlink:href=\"#m01e0f9eb0e\" y=\"106.004987\"/>\r\n     <use style=\"fill:#dd8452;stroke:#dd8452;\" x=\"218.519819\" xlink:href=\"#m01e0f9eb0e\" y=\"131.089552\"/>\r\n     <use style=\"fill:#dd8452;stroke:#dd8452;\" x=\"151.915127\" xlink:href=\"#m01e0f9eb0e\" y=\"144.692364\"/>\r\n     <use style=\"fill:#dd8452;stroke:#dd8452;\" x=\"227.247757\" xlink:href=\"#m01e0f9eb0e\" y=\"130.855273\"/>\r\n     <use style=\"fill:#dd8452;stroke:#dd8452;\" x=\"209.110978\" xlink:href=\"#m01e0f9eb0e\" y=\"131.089552\"/>\r\n     <use style=\"fill:#dd8452;stroke:#dd8452;\" x=\"216.291409\" xlink:href=\"#m01e0f9eb0e\" y=\"140.582026\"/>\r\n     <use style=\"fill:#dd8452;stroke:#dd8452;\" x=\"166.27599\" xlink:href=\"#m01e0f9eb0e\" y=\"150.329697\"/>\r\n     <use style=\"fill:#dd8452;stroke:#dd8452;\" x=\"190.478996\" xlink:href=\"#m01e0f9eb0e\" y=\"153.038545\"/>\r\n     <use style=\"fill:#dd8452;stroke:#dd8452;\" x=\"226.504954\" xlink:href=\"#m01e0f9eb0e\" y=\"132.173091\"/>\r\n     <use style=\"fill:#dd8452;stroke:#dd8452;\" x=\"222.048135\" xlink:href=\"#m01e0f9eb0e\" y=\"151.940364\"/>\r\n     <use style=\"fill:#dd8452;stroke:#dd8452;\" x=\"200.321139\" xlink:href=\"#m01e0f9eb0e\" y=\"147.108364\"/>\r\n     <use style=\"fill:#dd8452;stroke:#dd8452;\" x=\"226.381154\" xlink:href=\"#m01e0f9eb0e\" y=\"127.780364\"/>\r\n     <use style=\"fill:#dd8452;stroke:#dd8452;\" x=\"212.639293\" xlink:href=\"#m01e0f9eb0e\" y=\"205.092364\"/>\r\n     <use style=\"fill:#dd8452;stroke:#dd8452;\" x=\"200.073538\" xlink:href=\"#m01e0f9eb0e\" y=\"145.978805\"/>\r\n     <use style=\"fill:#dd8452;stroke:#dd8452;\" x=\"167.142594\" xlink:href=\"#m01e0f9eb0e\" y=\"114.162909\"/>\r\n     <use style=\"fill:#dd8452;stroke:#dd8452;\" x=\"226.257353\" xlink:href=\"#m01e0f9eb0e\" y=\"93.956364\"/>\r\n     <use style=\"fill:#dd8452;stroke:#dd8452;\" x=\"218.024617\" xlink:href=\"#m01e0f9eb0e\" y=\"110.648727\"/>\r\n     <use style=\"fill:#dd8452;stroke:#dd8452;\" x=\"283.577005\" xlink:href=\"#m01e0f9eb0e\" y=\"17.083636\"/>\r\n     <use style=\"fill:#dd8452;stroke:#dd8452;\" x=\"201.435344\" xlink:href=\"#m01e0f9eb0e\" y=\"178.296727\"/>\r\n     <use style=\"fill:#dd8452;stroke:#dd8452;\" x=\"173.332621\" xlink:href=\"#m01e0f9eb0e\" y=\"153.038545\"/>\r\n     <use style=\"fill:#dd8452;stroke:#dd8452;\" x=\"166.894992\" xlink:href=\"#m01e0f9eb0e\" y=\"120.752\"/>\r\n     <use style=\"fill:#dd8452;stroke:#dd8452;\" x=\"215.858107\" xlink:href=\"#m01e0f9eb0e\" y=\"140.582026\"/>\r\n     <use style=\"fill:#dd8452;stroke:#dd8452;\" x=\"197.288026\" xlink:href=\"#m01e0f9eb0e\" y=\"148.426182\"/>\r\n     <use style=\"fill:#dd8452;stroke:#dd8452;\" x=\"183.669966\" xlink:href=\"#m01e0f9eb0e\" y=\"160.286545\"/>\r\n     <use style=\"fill:#dd8452;stroke:#dd8452;\" x=\"358.785835\" xlink:href=\"#m01e0f9eb0e\" y=\"17.083636\"/>\r\n     <use style=\"fill:#dd8452;stroke:#dd8452;\" x=\"209.358579\" xlink:href=\"#m01e0f9eb0e\" y=\"134.515879\"/>\r\n     <use style=\"fill:#dd8452;stroke:#dd8452;\" x=\"210.720385\" xlink:href=\"#m01e0f9eb0e\" y=\"140.582026\"/>\r\n     <use style=\"fill:#dd8452;stroke:#dd8452;\" x=\"230.342771\" xlink:href=\"#m01e0f9eb0e\" y=\"177.857455\"/>\r\n     <use style=\"fill:#dd8452;stroke:#dd8452;\" x=\"161.69537\" xlink:href=\"#m01e0f9eb0e\" y=\"182.689455\"/>\r\n     <use style=\"fill:#dd8452;stroke:#dd8452;\" x=\"182.18436\" xlink:href=\"#m01e0f9eb0e\" y=\"152.599273\"/>\r\n     <use style=\"fill:#dd8452;stroke:#dd8452;\" x=\"198.835533\" xlink:href=\"#m01e0f9eb0e\" y=\"147.108364\"/>\r\n     <use style=\"fill:#dd8452;stroke:#dd8452;\" x=\"205.582662\" xlink:href=\"#m01e0f9eb0e\" y=\"140.582026\"/>\r\n     <use style=\"fill:#dd8452;stroke:#dd8452;\" x=\"251.822165\" xlink:href=\"#m01e0f9eb0e\" y=\"131.733818\"/>\r\n     <use style=\"fill:#dd8452;stroke:#dd8452;\" x=\"210.596584\" xlink:href=\"#m01e0f9eb0e\" y=\"147.108364\"/>\r\n     <use style=\"fill:#dd8452;stroke:#dd8452;\" x=\"186.703079\" xlink:href=\"#m01e0f9eb0e\" y=\"168.193455\"/>\r\n     <use style=\"fill:#dd8452;stroke:#dd8452;\" x=\"173.14692\" xlink:href=\"#m01e0f9eb0e\" y=\"153.038545\"/>\r\n     <use style=\"fill:#dd8452;stroke:#dd8452;\" x=\"232.075979\" xlink:href=\"#m01e0f9eb0e\" y=\"161.165091\"/>\r\n     <use style=\"fill:#dd8452;stroke:#dd8452;\" x=\"231.952178\" xlink:href=\"#m01e0f9eb0e\" y=\"169.950545\"/>\r\n     <use style=\"fill:#dd8452;stroke:#dd8452;\" x=\"154.205437\" xlink:href=\"#m01e0f9eb0e\" y=\"173.464727\"/>\r\n     <use style=\"fill:#dd8452;stroke:#dd8452;\" x=\"148.324911\" xlink:href=\"#m01e0f9eb0e\" y=\"184.007273\"/>\r\n     <use style=\"fill:#dd8452;stroke:#dd8452;\" x=\"217.467515\" xlink:href=\"#m01e0f9eb0e\" y=\"140.372848\"/>\r\n     <use style=\"fill:#dd8452;stroke:#dd8452;\" x=\"212.763094\" xlink:href=\"#m01e0f9eb0e\" y=\"137.078303\"/>\r\n     <use style=\"fill:#dd8452;stroke:#dd8452;\" x=\"217.219913\" xlink:href=\"#m01e0f9eb0e\" y=\"179.614545\"/>\r\n     <use style=\"fill:#dd8452;stroke:#dd8452;\" x=\"190.788497\" xlink:href=\"#m01e0f9eb0e\" y=\"161.604364\"/>\r\n     <use style=\"fill:#dd8452;stroke:#dd8452;\" x=\"191.778902\" xlink:href=\"#m01e0f9eb0e\" y=\"174.343273\"/>\r\n     <use style=\"fill:#dd8452;stroke:#dd8452;\" x=\"173.394521\" xlink:href=\"#m01e0f9eb0e\" y=\"151.501091\"/>\r\n     <use style=\"fill:#dd8452;stroke:#dd8452;\" x=\"166.21409\" xlink:href=\"#m01e0f9eb0e\" y=\"159.627636\"/>\r\n     <use style=\"fill:#dd8452;stroke:#dd8452;\" x=\"76.149194\" xlink:href=\"#m01e0f9eb0e\" y=\"176.100364\"/>\r\n     <use style=\"fill:#dd8452;stroke:#dd8452;\" x=\"207.130169\" xlink:href=\"#m01e0f9eb0e\" y=\"145.978805\"/>\r\n     <use style=\"fill:#dd8452;stroke:#dd8452;\" x=\"230.714173\" xlink:href=\"#m01e0f9eb0e\" y=\"136.565818\"/>\r\n     <use style=\"fill:#dd8452;stroke:#dd8452;\" x=\"278.810684\" xlink:href=\"#m01e0f9eb0e\" y=\"97.470545\"/>\r\n     <use style=\"fill:#dd8452;stroke:#dd8452;\" x=\"213.567797\" xlink:href=\"#m01e0f9eb0e\" y=\"145.978805\"/>\r\n     <use style=\"fill:#dd8452;stroke:#dd8452;\" x=\"200.816341\" xlink:href=\"#m01e0f9eb0e\" y=\"198.283636\"/>\r\n     <use style=\"fill:#dd8452;stroke:#dd8452;\" x=\"200.878242\" xlink:href=\"#m01e0f9eb0e\" y=\"106.695273\"/>\r\n     <use style=\"fill:#dd8452;stroke:#dd8452;\" x=\"233.128283\" xlink:href=\"#m01e0f9eb0e\" y=\"144.472727\"/>\r\n     <use style=\"fill:#dd8452;stroke:#dd8452;\" x=\"211.586989\" xlink:href=\"#m01e0f9eb0e\" y=\"140.582026\"/>\r\n     <use style=\"fill:#dd8452;stroke:#dd8452;\" x=\"199.268835\" xlink:href=\"#m01e0f9eb0e\" y=\"125.217939\"/>\r\n     <use style=\"fill:#dd8452;stroke:#dd8452;\" x=\"186.950681\" xlink:href=\"#m01e0f9eb0e\" y=\"157.797333\"/>\r\n     <use style=\"fill:#dd8452;stroke:#dd8452;\" x=\"216.47711\" xlink:href=\"#m01e0f9eb0e\" y=\"153.697455\"/>\r\n     <use style=\"fill:#dd8452;stroke:#dd8452;\" x=\"198.526031\" xlink:href=\"#m01e0f9eb0e\" y=\"147.108364\"/>\r\n     <use style=\"fill:#dd8452;stroke:#dd8452;\" x=\"225.205049\" xlink:href=\"#m01e0f9eb0e\" y=\"106.004987\"/>\r\n     <use style=\"fill:#dd8452;stroke:#dd8452;\" x=\"221.738633\" xlink:href=\"#m01e0f9eb0e\" y=\"137.078303\"/>\r\n     <use style=\"fill:#dd8452;stroke:#dd8452;\" x=\"330.497411\" xlink:href=\"#m01e0f9eb0e\" y=\"20.817455\"/>\r\n     <use style=\"fill:#dd8452;stroke:#dd8452;\" x=\"198.340331\" xlink:href=\"#m01e0f9eb0e\" y=\"140.582026\"/>\r\n     <use style=\"fill:#dd8452;stroke:#dd8452;\" x=\"242.970427\" xlink:href=\"#m01e0f9eb0e\" y=\"174.782545\"/>\r\n     <use style=\"fill:#dd8452;stroke:#dd8452;\" x=\"265.873527\" xlink:href=\"#m01e0f9eb0e\" y=\"88.245818\"/>\r\n     <use style=\"fill:#dd8452;stroke:#dd8452;\" x=\"167.452095\" xlink:href=\"#m01e0f9eb0e\" y=\"167.754182\"/>\r\n     <use style=\"fill:#dd8452;stroke:#dd8452;\" x=\"211.029886\" xlink:href=\"#m01e0f9eb0e\" y=\"153.697455\"/>\r\n     <use style=\"fill:#dd8452;stroke:#dd8452;\" x=\"195.678619\" xlink:href=\"#m01e0f9eb0e\" y=\"150.329697\"/>\r\n     <use style=\"fill:#dd8452;stroke:#dd8452;\" x=\"186.88878\" xlink:href=\"#m01e0f9eb0e\" y=\"153.038545\"/>\r\n     <use style=\"fill:#dd8452;stroke:#dd8452;\" x=\"193.945411\" xlink:href=\"#m01e0f9eb0e\" y=\"153.038545\"/>\r\n     <use style=\"fill:#dd8452;stroke:#dd8452;\" x=\"188.99339\" xlink:href=\"#m01e0f9eb0e\" y=\"144.692364\"/>\r\n     <use style=\"fill:#dd8452;stroke:#dd8452;\" x=\"182.679562\" xlink:href=\"#m01e0f9eb0e\" y=\"136.477964\"/>\r\n     <use style=\"fill:#dd8452;stroke:#dd8452;\" x=\"230.466572\" xlink:href=\"#m01e0f9eb0e\" y=\"126.462545\"/>\r\n     <use style=\"fill:#dd8452;stroke:#dd8452;\" x=\"187.817284\" xlink:href=\"#m01e0f9eb0e\" y=\"157.797333\"/>\r\n     <use style=\"fill:#dd8452;stroke:#dd8452;\" x=\"218.210318\" xlink:href=\"#m01e0f9eb0e\" y=\"131.089552\"/>\r\n     <use style=\"fill:#dd8452;stroke:#dd8452;\" x=\"191.2837\" xlink:href=\"#m01e0f9eb0e\" y=\"142.605818\"/>\r\n     <use style=\"fill:#dd8452;stroke:#dd8452;\" x=\"217.096113\" xlink:href=\"#m01e0f9eb0e\" y=\"131.089552\"/>\r\n     <use style=\"fill:#dd8452;stroke:#dd8452;\" x=\"186.82688\" xlink:href=\"#m01e0f9eb0e\" y=\"136.419394\"/>\r\n     <use style=\"fill:#dd8452;stroke:#dd8452;\" x=\"189.426691\" xlink:href=\"#m01e0f9eb0e\" y=\"153.038545\"/>\r\n     <use style=\"fill:#dd8452;stroke:#dd8452;\" x=\"253.741074\" xlink:href=\"#m01e0f9eb0e\" y=\"133.051636\"/>\r\n     <use style=\"fill:#dd8452;stroke:#dd8452;\" x=\"221.367232\" xlink:href=\"#m01e0f9eb0e\" y=\"163.361455\"/>\r\n     <use style=\"fill:#dd8452;stroke:#dd8452;\" x=\"216.47711\" xlink:href=\"#m01e0f9eb0e\" y=\"183.348364\"/>\r\n     <use style=\"fill:#dd8452;stroke:#dd8452;\" x=\"192.274104\" xlink:href=\"#m01e0f9eb0e\" y=\"159.627636\"/>\r\n     <use style=\"fill:#dd8452;stroke:#dd8452;\" x=\"304.746898\" xlink:href=\"#m01e0f9eb0e\" y=\"17.083636\"/>\r\n     <use style=\"fill:#dd8452;stroke:#dd8452;\" x=\"181.255856\" xlink:href=\"#m01e0f9eb0e\" y=\"151.501091\"/>\r\n     <use style=\"fill:#dd8452;stroke:#dd8452;\" x=\"198.464131\" xlink:href=\"#m01e0f9eb0e\" y=\"153.697455\"/>\r\n     <use style=\"fill:#dd8452;stroke:#dd8452;\" x=\"193.264508\" xlink:href=\"#m01e0f9eb0e\" y=\"184.446545\"/>\r\n     <use style=\"fill:#dd8452;stroke:#dd8452;\" x=\"186.82688\" xlink:href=\"#m01e0f9eb0e\" y=\"152.818909\"/>\r\n     <use style=\"fill:#dd8452;stroke:#dd8452;\" x=\"304.065995\" xlink:href=\"#m01e0f9eb0e\" y=\"44.318545\"/>\r\n     <use style=\"fill:#dd8452;stroke:#dd8452;\" x=\"192.150303\" xlink:href=\"#m01e0f9eb0e\" y=\"136.477964\"/>\r\n     <use style=\"fill:#dd8452;stroke:#dd8452;\" x=\"293.233447\" xlink:href=\"#m01e0f9eb0e\" y=\"35.386667\"/>\r\n     <use style=\"fill:#dd8452;stroke:#dd8452;\" x=\"154.514938\" xlink:href=\"#m01e0f9eb0e\" y=\"151.501091\"/>\r\n     <use style=\"fill:#dd8452;stroke:#dd8452;\" x=\"174.508726\" xlink:href=\"#m01e0f9eb0e\" y=\"153.038545\"/>\r\n     <use style=\"fill:#dd8452;stroke:#dd8452;\" x=\"254.174376\" xlink:href=\"#m01e0f9eb0e\" y=\"101.863273\"/>\r\n     <use style=\"fill:#dd8452;stroke:#dd8452;\" x=\"189.674293\" xlink:href=\"#m01e0f9eb0e\" y=\"153.038545\"/>\r\n     <use style=\"fill:#dd8452;stroke:#dd8452;\" x=\"251.326963\" xlink:href=\"#m01e0f9eb0e\" y=\"81.217455\"/>\r\n     <use style=\"fill:#dd8452;stroke:#dd8452;\" x=\"244.703634\" xlink:href=\"#m01e0f9eb0e\" y=\"111.527273\"/>\r\n     <use style=\"fill:#dd8452;stroke:#dd8452;\" x=\"202.85905\" xlink:href=\"#m01e0f9eb0e\" y=\"172.586182\"/>\r\n     <use style=\"fill:#dd8452;stroke:#dd8452;\" x=\"127.65022\" xlink:href=\"#m01e0f9eb0e\" y=\"17.083636\"/>\r\n     <use style=\"fill:#dd8452;stroke:#dd8452;\" x=\"179.832149\" xlink:href=\"#m01e0f9eb0e\" y=\"161.604364\"/>\r\n     <use style=\"fill:#dd8452;stroke:#dd8452;\" x=\"206.882568\" xlink:href=\"#m01e0f9eb0e\" y=\"125.217939\"/>\r\n     <use style=\"fill:#dd8452;stroke:#dd8452;\" x=\"218.457919\" xlink:href=\"#m01e0f9eb0e\" y=\"134.808727\"/>\r\n     <use style=\"fill:#dd8452;stroke:#dd8452;\" x=\"191.964603\" xlink:href=\"#m01e0f9eb0e\" y=\"142.605818\"/>\r\n     <use style=\"fill:#dd8452;stroke:#dd8452;\" x=\"219.634024\" xlink:href=\"#m01e0f9eb0e\" y=\"137.078303\"/>\r\n     <use style=\"fill:#dd8452;stroke:#dd8452;\" x=\"233.375884\" xlink:href=\"#m01e0f9eb0e\" y=\"111.088\"/>\r\n     <use style=\"fill:#dd8452;stroke:#dd8452;\" x=\"154.453038\" xlink:href=\"#m01e0f9eb0e\" y=\"174.782545\"/>\r\n     <use style=\"fill:#dd8452;stroke:#dd8452;\" x=\"219.448323\" xlink:href=\"#m01e0f9eb0e\" y=\"138.322909\"/>\r\n     <use style=\"fill:#dd8452;stroke:#dd8452;\" x=\"174.756327\" xlink:href=\"#m01e0f9eb0e\" y=\"151.940364\"/>\r\n     <use style=\"fill:#dd8452;stroke:#dd8452;\" x=\"218.086517\" xlink:href=\"#m01e0f9eb0e\" y=\"131.089552\"/>\r\n     <use style=\"fill:#dd8452;stroke:#dd8452;\" x=\"210.906086\" xlink:href=\"#m01e0f9eb0e\" y=\"130.855273\"/>\r\n     <use style=\"fill:#dd8452;stroke:#dd8452;\" x=\"205.396962\" xlink:href=\"#m01e0f9eb0e\" y=\"145.978805\"/>\r\n     <use style=\"fill:#dd8452;stroke:#dd8452;\" x=\"238.575507\" xlink:href=\"#m01e0f9eb0e\" y=\"126.901818\"/>\r\n     <use style=\"fill:#dd8452;stroke:#dd8452;\" x=\"189.921894\" xlink:href=\"#m01e0f9eb0e\" y=\"180.932364\"/>\r\n     <use style=\"fill:#dd8452;stroke:#dd8452;\" x=\"195.059616\" xlink:href=\"#m01e0f9eb0e\" y=\"150.329697\"/>\r\n     <use style=\"fill:#dd8452;stroke:#dd8452;\" x=\"217.715116\" xlink:href=\"#m01e0f9eb0e\" y=\"163.800727\"/>\r\n     <use style=\"fill:#dd8452;stroke:#dd8452;\" x=\"201.497244\" xlink:href=\"#m01e0f9eb0e\" y=\"145.978805\"/>\r\n     <use style=\"fill:#dd8452;stroke:#dd8452;\" x=\"183.979468\" xlink:href=\"#m01e0f9eb0e\" y=\"152.818909\"/>\r\n     <use style=\"fill:#dd8452;stroke:#dd8452;\" x=\"268.225737\" xlink:href=\"#m01e0f9eb0e\" y=\"91.906424\"/>\r\n     <use style=\"fill:#dd8452;stroke:#dd8452;\" x=\"240.556316\" xlink:href=\"#m01e0f9eb0e\" y=\"140.08\"/>\r\n     <use style=\"fill:#dd8452;stroke:#dd8452;\" x=\"178.656044\" xlink:href=\"#m01e0f9eb0e\" y=\"153.038545\"/>\r\n     <use style=\"fill:#dd8452;stroke:#dd8452;\" x=\"90.386257\" xlink:href=\"#m01e0f9eb0e\" y=\"198.283636\"/>\r\n     <use style=\"fill:#dd8452;stroke:#dd8452;\" x=\"223.038539\" xlink:href=\"#m01e0f9eb0e\" y=\"125.217939\"/>\r\n     <use style=\"fill:#dd8452;stroke:#dd8452;\" x=\"187.383982\" xlink:href=\"#m01e0f9eb0e\" y=\"136.419394\"/>\r\n     <use style=\"fill:#dd8452;stroke:#dd8452;\" x=\"168.318699\" xlink:href=\"#m01e0f9eb0e\" y=\"180.493091\"/>\r\n     <use style=\"fill:#dd8452;stroke:#dd8452;\" x=\"190.602797\" xlink:href=\"#m01e0f9eb0e\" y=\"212.120727\"/>\r\n     <use style=\"fill:#dd8452;stroke:#dd8452;\" x=\"228.795264\" xlink:href=\"#m01e0f9eb0e\" y=\"108.891636\"/>\r\n     <use style=\"fill:#dd8452;stroke:#dd8452;\" x=\"275.468069\" xlink:href=\"#m01e0f9eb0e\" y=\"98.349091\"/>\r\n     <use style=\"fill:#dd8452;stroke:#dd8452;\" x=\"244.146532\" xlink:href=\"#m01e0f9eb0e\" y=\"115.92\"/>\r\n     <use style=\"fill:#dd8452;stroke:#dd8452;\" x=\"203.354253\" xlink:href=\"#m01e0f9eb0e\" y=\"176.100364\"/>\r\n     <use style=\"fill:#dd8452;stroke:#dd8452;\" x=\"186.455478\" xlink:href=\"#m01e0f9eb0e\" y=\"153.038545\"/>\r\n     <use style=\"fill:#dd8452;stroke:#dd8452;\" x=\"285.495913\" xlink:href=\"#m01e0f9eb0e\" y=\"47.393455\"/>\r\n     <use style=\"fill:#dd8452;stroke:#dd8452;\" x=\"231.147475\" xlink:href=\"#m01e0f9eb0e\" y=\"110.648727\"/>\r\n     <use style=\"fill:#dd8452;stroke:#dd8452;\" x=\"218.76742\" xlink:href=\"#m01e0f9eb0e\" y=\"138.322909\"/>\r\n     <use style=\"fill:#dd8452;stroke:#dd8452;\" x=\"197.349926\" xlink:href=\"#m01e0f9eb0e\" y=\"156.772364\"/>\r\n     <use style=\"fill:#dd8452;stroke:#dd8452;\" x=\"195.86432\" xlink:href=\"#m01e0f9eb0e\" y=\"173.025455\"/>\r\n     <use style=\"fill:#dd8452;stroke:#dd8452;\" x=\"124.926608\" xlink:href=\"#m01e0f9eb0e\" y=\"176.649455\"/>\r\n     <use style=\"fill:#dd8452;stroke:#dd8452;\" x=\"331.240214\" xlink:href=\"#m01e0f9eb0e\" y=\"48.711273\"/>\r\n     <use style=\"fill:#dd8452;stroke:#dd8452;\" x=\"188.436287\" xlink:href=\"#m01e0f9eb0e\" y=\"153.258182\"/>\r\n     <use style=\"fill:#dd8452;stroke:#dd8452;\" x=\"191.593201\" xlink:href=\"#m01e0f9eb0e\" y=\"152.818909\"/>\r\n     <use style=\"fill:#dd8452;stroke:#dd8452;\" x=\"189.11719\" xlink:href=\"#m01e0f9eb0e\" y=\"142.605818\"/>\r\n     <use style=\"fill:#dd8452;stroke:#dd8452;\" x=\"164.171381\" xlink:href=\"#m01e0f9eb0e\" y=\"136.477964\"/>\r\n     <use style=\"fill:#dd8452;stroke:#dd8452;\" x=\"131.735638\" xlink:href=\"#m01e0f9eb0e\" y=\"194.110545\"/>\r\n     <use style=\"fill:#dd8452;stroke:#dd8452;\" x=\"202.67335\" xlink:href=\"#m01e0f9eb0e\" y=\"131.089552\"/>\r\n     <use style=\"fill:#dd8452;stroke:#dd8452;\" x=\"211.153687\" xlink:href=\"#m01e0f9eb0e\" y=\"140.582026\"/>\r\n     <use style=\"fill:#dd8452;stroke:#dd8452;\" x=\"230.404671\" xlink:href=\"#m01e0f9eb0e\" y=\"119.873455\"/>\r\n     <use style=\"fill:#dd8452;stroke:#dd8452;\" x=\"267.916236\" xlink:href=\"#m01e0f9eb0e\" y=\"78.142545\"/>\r\n     <use style=\"fill:#dd8452;stroke:#dd8452;\" x=\"176.365734\" xlink:href=\"#m01e0f9eb0e\" y=\"168.193455\"/>\r\n     <use style=\"fill:#dd8452;stroke:#dd8452;\" x=\"201.868646\" xlink:href=\"#m01e0f9eb0e\" y=\"125.217939\"/>\r\n     <use style=\"fill:#dd8452;stroke:#dd8452;\" x=\"198.402231\" xlink:href=\"#m01e0f9eb0e\" y=\"140.582026\"/>\r\n     <use style=\"fill:#dd8452;stroke:#dd8452;\" x=\"198.092729\" xlink:href=\"#m01e0f9eb0e\" y=\"131.089552\"/>\r\n     <use style=\"fill:#dd8452;stroke:#dd8452;\" x=\"196.421422\" xlink:href=\"#m01e0f9eb0e\" y=\"153.038545\"/>\r\n     <use style=\"fill:#dd8452;stroke:#dd8452;\" x=\"225.824051\" xlink:href=\"#m01e0f9eb0e\" y=\"106.004987\"/>\r\n     <use style=\"fill:#dd8452;stroke:#dd8452;\" x=\"229.723768\" xlink:href=\"#m01e0f9eb0e\" y=\"131.733818\"/>\r\n     <use style=\"fill:#dd8452;stroke:#dd8452;\" x=\"182.24626\" xlink:href=\"#m01e0f9eb0e\" y=\"209.045818\"/>\r\n     <use style=\"fill:#dd8452;stroke:#dd8452;\" x=\"269.835144\" xlink:href=\"#m01e0f9eb0e\" y=\"91.906424\"/>\r\n     <use style=\"fill:#dd8452;stroke:#dd8452;\" x=\"214.929603\" xlink:href=\"#m01e0f9eb0e\" y=\"194.989091\"/>\r\n     <use style=\"fill:#dd8452;stroke:#dd8452;\" x=\"188.312487\" xlink:href=\"#m01e0f9eb0e\" y=\"178.736\"/>\r\n     <use style=\"fill:#dd8452;stroke:#dd8452;\" x=\"130.683334\" xlink:href=\"#m01e0f9eb0e\" y=\"174.782545\"/>\r\n     <use style=\"fill:#dd8452;stroke:#dd8452;\" x=\"244.270332\" xlink:href=\"#m01e0f9eb0e\" y=\"96.152727\"/>\r\n     <use style=\"fill:#dd8452;stroke:#dd8452;\" x=\"243.960831\" xlink:href=\"#m01e0f9eb0e\" y=\"112.845091\"/>\r\n     <use style=\"fill:#dd8452;stroke:#dd8452;\" x=\"229.661868\" xlink:href=\"#m01e0f9eb0e\" y=\"106.004987\"/>\r\n     <use style=\"fill:#dd8452;stroke:#dd8452;\" x=\"295.771358\" xlink:href=\"#m01e0f9eb0e\" y=\"35.386667\"/>\r\n     <use style=\"fill:#dd8452;stroke:#dd8452;\" x=\"242.413324\" xlink:href=\"#m01e0f9eb0e\" y=\"199.821091\"/>\r\n     <use style=\"fill:#dd8452;stroke:#dd8452;\" x=\"205.768363\" xlink:href=\"#m01e0f9eb0e\" y=\"145.978805\"/>\r\n     <use style=\"fill:#dd8452;stroke:#dd8452;\" x=\"210.720385\" xlink:href=\"#m01e0f9eb0e\" y=\"131.089552\"/>\r\n     <use style=\"fill:#dd8452;stroke:#dd8452;\" x=\"184.969872\" xlink:href=\"#m01e0f9eb0e\" y=\"200.611782\"/>\r\n     <use style=\"fill:#dd8452;stroke:#dd8452;\" x=\"204.344657\" xlink:href=\"#m01e0f9eb0e\" y=\"134.515879\"/>\r\n     <use style=\"fill:#dd8452;stroke:#dd8452;\" x=\"189.240991\" xlink:href=\"#m01e0f9eb0e\" y=\"153.038545\"/>\r\n     <use style=\"fill:#dd8452;stroke:#dd8452;\" x=\"181.317756\" xlink:href=\"#m01e0f9eb0e\" y=\"191.914182\"/>\r\n     <use style=\"fill:#dd8452;stroke:#dd8452;\" x=\"262.902314\" xlink:href=\"#m01e0f9eb0e\" y=\"70.235636\"/>\r\n     <use style=\"fill:#dd8452;stroke:#dd8452;\" x=\"193.078807\" xlink:href=\"#m01e0f9eb0e\" y=\"153.038545\"/>\r\n     <use style=\"fill:#dd8452;stroke:#dd8452;\" x=\"223.16234\" xlink:href=\"#m01e0f9eb0e\" y=\"151.940364\"/>\r\n     <use style=\"fill:#dd8452;stroke:#dd8452;\" x=\"317.684055\" xlink:href=\"#m01e0f9eb0e\" y=\"71.553455\"/>\r\n     <use style=\"fill:#dd8452;stroke:#dd8452;\" x=\"239.813513\" xlink:href=\"#m01e0f9eb0e\" y=\"96.152727\"/>\r\n     <use style=\"fill:#dd8452;stroke:#dd8452;\" x=\"206.263565\" xlink:href=\"#m01e0f9eb0e\" y=\"131.089552\"/>\r\n     <use style=\"fill:#dd8452;stroke:#dd8452;\" x=\"363.490256\" xlink:href=\"#m01e0f9eb0e\" y=\"140.519273\"/>\r\n     <use style=\"fill:#dd8452;stroke:#dd8452;\" x=\"224.709846\" xlink:href=\"#m01e0f9eb0e\" y=\"129.537455\"/>\r\n     <use style=\"fill:#dd8452;stroke:#dd8452;\" x=\"215.053404\" xlink:href=\"#m01e0f9eb0e\" y=\"140.582026\"/>\r\n     <use style=\"fill:#dd8452;stroke:#dd8452;\" x=\"193.326409\" xlink:href=\"#m01e0f9eb0e\" y=\"151.501091\"/>\r\n     <use style=\"fill:#dd8452;stroke:#dd8452;\" x=\"187.383982\" xlink:href=\"#m01e0f9eb0e\" y=\"199.821091\"/>\r\n     <use style=\"fill:#dd8452;stroke:#dd8452;\" x=\"184.412769\" xlink:href=\"#m01e0f9eb0e\" y=\"180.932364\"/>\r\n     <use style=\"fill:#dd8452;stroke:#dd8452;\" x=\"176.365734\" xlink:href=\"#m01e0f9eb0e\" y=\"170.829091\"/>\r\n     <use style=\"fill:#dd8452;stroke:#dd8452;\" x=\"170.98041\" xlink:href=\"#m01e0f9eb0e\" y=\"135.248\"/>\r\n    </g>\r\n   </g>\r\n   <g id=\"patch_3\">\r\n    <path d=\"M 43.908438 224.64 \r\nL 43.908438 7.2 \r\n\" style=\"fill:none;stroke:#ffffff;stroke-linecap:square;stroke-linejoin:miter;stroke-width:1.25;\"/>\r\n   </g>\r\n   <g id=\"patch_4\">\r\n    <path d=\"M 378.708438 224.64 \r\nL 378.708438 7.2 \r\n\" style=\"fill:none;stroke:#ffffff;stroke-linecap:square;stroke-linejoin:miter;stroke-width:1.25;\"/>\r\n   </g>\r\n   <g id=\"patch_5\">\r\n    <path d=\"M 43.908437 224.64 \r\nL 378.708438 224.64 \r\n\" style=\"fill:none;stroke:#ffffff;stroke-linecap:square;stroke-linejoin:miter;stroke-width:1.25;\"/>\r\n   </g>\r\n   <g id=\"patch_6\">\r\n    <path d=\"M 43.908437 7.2 \r\nL 378.708438 7.2 \r\n\" style=\"fill:none;stroke:#ffffff;stroke-linecap:square;stroke-linejoin:miter;stroke-width:1.25;\"/>\r\n   </g>\r\n   <g id=\"legend_1\">\r\n    <g id=\"patch_7\">\r\n     <path d=\"M 290.560625 219.14 \r\nL 371.008438 219.14 \r\nQ 373.208438 219.14 373.208438 216.94 \r\nL 373.208438 186.920313 \r\nQ 373.208438 184.720313 371.008438 184.720313 \r\nL 290.560625 184.720313 \r\nQ 288.360625 184.720313 288.360625 186.920313 \r\nL 288.360625 216.94 \r\nQ 288.360625 219.14 290.560625 219.14 \r\nz\r\n\" style=\"fill:#eaeaf2;opacity:0.8;stroke:#cccccc;stroke-linejoin:miter;\"/>\r\n    </g>\r\n    <g id=\"PathCollection_3\">\r\n     <g>\r\n      <use style=\"fill:#4c72b0;stroke:#4c72b0;\" x=\"303.760625\" xlink:href=\"#m0370211b7c\" y=\"194.106406\"/>\r\n     </g>\r\n    </g>\r\n    <g id=\"text_14\">\r\n     <!-- actual -->\r\n     <defs>\r\n      <path d=\"M 40.4375 19 \r\nL 49.078125 17.875 \r\nQ 47.65625 8.9375 41.8125 3.875 \r\nQ 35.984375 -1.171875 27.484375 -1.171875 \r\nQ 16.84375 -1.171875 10.375 5.78125 \r\nQ 3.90625 12.75 3.90625 25.734375 \r\nQ 3.90625 34.125 6.6875 40.421875 \r\nQ 9.46875 46.734375 15.15625 49.875 \r\nQ 20.84375 53.03125 27.546875 53.03125 \r\nQ 35.984375 53.03125 41.359375 48.75 \r\nQ 46.734375 44.484375 48.25 36.625 \r\nL 39.703125 35.296875 \r\nQ 38.484375 40.53125 35.375 43.15625 \r\nQ 32.28125 45.796875 27.875 45.796875 \r\nQ 21.234375 45.796875 17.078125 41.03125 \r\nQ 12.9375 36.28125 12.9375 25.984375 \r\nQ 12.9375 15.53125 16.9375 10.796875 \r\nQ 20.953125 6.0625 27.390625 6.0625 \r\nQ 32.5625 6.0625 36.03125 9.234375 \r\nQ 39.5 12.40625 40.4375 19 \r\nz\r\n\" id=\"ArialMT-99\"/>\r\n      <path d=\"M 40.578125 0 \r\nL 40.578125 7.625 \r\nQ 34.515625 -1.171875 24.125 -1.171875 \r\nQ 19.53125 -1.171875 15.546875 0.578125 \r\nQ 11.578125 2.34375 9.640625 5 \r\nQ 7.71875 7.671875 6.9375 11.53125 \r\nQ 6.390625 14.109375 6.390625 19.734375 \r\nL 6.390625 51.859375 \r\nL 15.1875 51.859375 \r\nL 15.1875 23.09375 \r\nQ 15.1875 16.21875 15.71875 13.8125 \r\nQ 16.546875 10.359375 19.234375 8.375 \r\nQ 21.921875 6.390625 25.875 6.390625 \r\nQ 29.828125 6.390625 33.296875 8.421875 \r\nQ 36.765625 10.453125 38.203125 13.9375 \r\nQ 39.65625 17.4375 39.65625 24.078125 \r\nL 39.65625 51.859375 \r\nL 48.4375 51.859375 \r\nL 48.4375 0 \r\nz\r\n\" id=\"ArialMT-117\"/>\r\n      <path d=\"M 6.390625 0 \r\nL 6.390625 71.578125 \r\nL 15.1875 71.578125 \r\nL 15.1875 0 \r\nz\r\n\" id=\"ArialMT-108\"/>\r\n     </defs>\r\n     <g style=\"fill:#262626;\" transform=\"translate(323.560625 196.993906)scale(0.11 -0.11)\">\r\n      <use xlink:href=\"#ArialMT-97\"/>\r\n      <use x=\"55.615234\" xlink:href=\"#ArialMT-99\"/>\r\n      <use x=\"105.615234\" xlink:href=\"#ArialMT-116\"/>\r\n      <use x=\"133.398438\" xlink:href=\"#ArialMT-117\"/>\r\n      <use x=\"189.013672\" xlink:href=\"#ArialMT-97\"/>\r\n      <use x=\"244.628906\" xlink:href=\"#ArialMT-108\"/>\r\n     </g>\r\n    </g>\r\n    <g id=\"PathCollection_4\">\r\n     <g>\r\n      <use style=\"fill:#dd8452;stroke:#dd8452;\" x=\"303.760625\" xlink:href=\"#m01e0f9eb0e\" y=\"209.66625\"/>\r\n     </g>\r\n    </g>\r\n    <g id=\"text_15\">\r\n     <!-- predicted -->\r\n     <defs>\r\n      <path d=\"M 6.59375 -19.875 \r\nL 6.59375 51.859375 \r\nL 14.59375 51.859375 \r\nL 14.59375 45.125 \r\nQ 17.4375 49.078125 21 51.046875 \r\nQ 24.5625 53.03125 29.640625 53.03125 \r\nQ 36.28125 53.03125 41.359375 49.609375 \r\nQ 46.4375 46.1875 49.015625 39.953125 \r\nQ 51.609375 33.734375 51.609375 26.3125 \r\nQ 51.609375 18.359375 48.75 11.984375 \r\nQ 45.90625 5.609375 40.453125 2.21875 \r\nQ 35.015625 -1.171875 29 -1.171875 \r\nQ 24.609375 -1.171875 21.109375 0.6875 \r\nQ 17.625 2.546875 15.375 5.375 \r\nL 15.375 -19.875 \r\nz\r\nM 14.546875 25.640625 \r\nQ 14.546875 15.625 18.59375 10.84375 \r\nQ 22.65625 6.0625 28.421875 6.0625 \r\nQ 34.28125 6.0625 38.453125 11.015625 \r\nQ 42.625 15.96875 42.625 26.375 \r\nQ 42.625 36.28125 38.546875 41.203125 \r\nQ 34.46875 46.140625 28.8125 46.140625 \r\nQ 23.1875 46.140625 18.859375 40.890625 \r\nQ 14.546875 35.640625 14.546875 25.640625 \r\nz\r\n\" id=\"ArialMT-112\"/>\r\n      <path d=\"M 40.234375 0 \r\nL 40.234375 6.546875 \r\nQ 35.296875 -1.171875 25.734375 -1.171875 \r\nQ 19.53125 -1.171875 14.328125 2.25 \r\nQ 9.125 5.671875 6.265625 11.796875 \r\nQ 3.421875 17.921875 3.421875 25.875 \r\nQ 3.421875 33.640625 6 39.96875 \r\nQ 8.59375 46.296875 13.765625 49.65625 \r\nQ 18.953125 53.03125 25.34375 53.03125 \r\nQ 30.03125 53.03125 33.6875 51.046875 \r\nQ 37.359375 49.078125 39.65625 45.90625 \r\nL 39.65625 71.578125 \r\nL 48.390625 71.578125 \r\nL 48.390625 0 \r\nz\r\nM 12.453125 25.875 \r\nQ 12.453125 15.921875 16.640625 10.984375 \r\nQ 20.84375 6.0625 26.5625 6.0625 \r\nQ 32.328125 6.0625 36.34375 10.765625 \r\nQ 40.375 15.484375 40.375 25.140625 \r\nQ 40.375 35.796875 36.265625 40.765625 \r\nQ 32.171875 45.75 26.171875 45.75 \r\nQ 20.3125 45.75 16.375 40.96875 \r\nQ 12.453125 36.1875 12.453125 25.875 \r\nz\r\n\" id=\"ArialMT-100\"/>\r\n      <path d=\"M 6.640625 61.46875 \r\nL 6.640625 71.578125 \r\nL 15.4375 71.578125 \r\nL 15.4375 61.46875 \r\nz\r\nM 6.640625 0 \r\nL 6.640625 51.859375 \r\nL 15.4375 51.859375 \r\nL 15.4375 0 \r\nz\r\n\" id=\"ArialMT-105\"/>\r\n     </defs>\r\n     <g style=\"fill:#262626;\" transform=\"translate(323.560625 212.55375)scale(0.11 -0.11)\">\r\n      <use xlink:href=\"#ArialMT-112\"/>\r\n      <use x=\"55.615234\" xlink:href=\"#ArialMT-114\"/>\r\n      <use x=\"88.916016\" xlink:href=\"#ArialMT-101\"/>\r\n      <use x=\"144.53125\" xlink:href=\"#ArialMT-100\"/>\r\n      <use x=\"200.146484\" xlink:href=\"#ArialMT-105\"/>\r\n      <use x=\"222.363281\" xlink:href=\"#ArialMT-99\"/>\r\n      <use x=\"272.363281\" xlink:href=\"#ArialMT-116\"/>\r\n      <use x=\"300.146484\" xlink:href=\"#ArialMT-101\"/>\r\n      <use x=\"355.761719\" xlink:href=\"#ArialMT-100\"/>\r\n     </g>\r\n    </g>\r\n   </g>\r\n  </g>\r\n </g>\r\n <defs>\r\n  <clipPath id=\"p6f0b733328\">\r\n   <rect height=\"217.44\" width=\"334.8\" x=\"43.908438\" y=\"7.2\"/>\r\n  </clipPath>\r\n </defs>\r\n</svg>\r\n",
      "text/plain": [
       "<Figure size 432x288 with 1 Axes>"
      ]
     },
     "metadata": {
      "needs_background": "light"
     },
     "output_type": "display_data"
    },
    {
     "name": "stdout",
     "output_type": "stream",
     "text": [
      "RMSE =  5.865483544678845\n"
     ]
    }
   ],
   "source": [
    "from sklearn.metrics import mean_squared_error\n",
    "\n",
    "tree = MyDecisionTreeRegressor(**gscv.best_params_)\n",
    "tree.fit(Xtrain, ytrain)\n",
    "plot_tree_split(tree)\n",
    "rmse = mean_squared_error(ytest, tree.predict(Xtest), squared=False)\n",
    "print(\"RMSE = \", rmse)"
   ]
  },
  {
   "cell_type": "markdown",
   "metadata": {},
   "source": [
    "### Task 6 <a id=\"task6\"></a>  (2 points)\n",
    "\n",
    "Recall definition of bias and variance:\n",
    "$$\n",
    "\\text{Bias}^2 = \\mathbb{E}_{p(x, y)} \\left[  (f(x) - \\mathbb{E}_{\\mathbb{X}}a_{\\mathbb{X}}(x))^2 \\right] \\\\\n",
    "\\text{Variance} = \\mathbb{E}_{p(x, y)} \\left[  \\mathbb{V}_{\\mathbb{X}}( a_{\\mathbb{X}}(x))  \\right]\n",
    "$$\n",
    "\n",
    "We wil now use use the following algorithm to estimate bias^2 and variance:\n",
    "\n",
    "1. Use bootsrap to create `n_iter` samples from the original dataset: $X_1, \\dots, X_{n\\_iter}$. Each $X_i$ has $N$ observations (randomly selected from the original dataset with replacement)\n",
    "2. For each bootstrapped sample define out-of-bag (OOB) sample $Z_1, \\dots, Z_{n\\_iter}$, which contains all the observations, which did not appear in the corresponding boostraped sample\n",
    "3. Fit the model on observations from $X_i$s and compute predictions on points from $Z_i$s\n",
    "4. For a given *object* $x_n$:\n",
    "     - bias^2: squared difference between true value $y_n$ and average prediction (average over the algorithms, for which $x_n$ was in OOB)\n",
    "     - variance: variance of the predictions (predictions of the algorithms, for which $x_n$ was in OOB)\n",
    "5. Average bias^2 and variance over all the points\n",
    "\n",
    "\n",
    "**Consider a toy example.** You are given a dataset with 5 observations: $((x_1 ,y_1), (x_2, y_2), (x_3, y_3), (x_4, y_4), (x_5, y_5))$, where $x_i$ is a vector of features, $y_i$ is a target variable . And choose `n_iter` to be 3. \n",
    "* Example of bootstrapped samples:\n",
    "$$X_1 = (x_2, x_5, x_2, x_3, x_2, x_5)$$\n",
    "$$X_2 = (x_5, x_2, x_4, x_4, x_1, x_5)$$\n",
    "$$X_3 = (x_1, x_3, x_1, x_4, x_3, x_1)$$\n",
    "\n",
    "* Corresponding OOB samples:\n",
    "$$Z_1 = (x_1, x_4)$$\n",
    "$$Z_2 = (x_3)$$\n",
    "$$Z_3 = (x_2, x_5)$$\n",
    "\n",
    "* Fit models using $X_1$, $X_2$ and $X_3$ as training data. Use 1st model to make predictions for points from $Z_1$, second - for $Z_2$, etc. and use these predictions to estimate bias and variance. \n",
    "\n",
    "    \n",
    "**Implement `get_bias_variance` function, using the algorithm above**\n",
    "\n",
    "*Note:*  You can only use 1 loop (for bootsrap iterations `n_iter`). All other operations should be vectorized. \n",
    "\n",
    "P.S. These numpy functions might be usefull here `np.nanmean`, `np.nanstd` (but you are not obliged to use them). "
   ]
  },
  {
   "cell_type": "code",
   "execution_count": 15,
   "metadata": {},
   "outputs": [],
   "source": [
    "import warnings\n",
    "\n",
    "def get_bias_variance(estimator, x, y, n_iter):\n",
    "    \"\"\" \n",
    "    Calculate bias^2 and variance of the `estimator`. Using a given dataset and bootstrap with `n_iter` samples. \n",
    "\n",
    "    Parameters\n",
    "    ----------\n",
    "    x : ndarray, shape (n_samples, n_features)\n",
    "        The input samples.\n",
    "    y : ndarray, shape (n_samples, )\n",
    "        1D array with the object labels.\n",
    "    n_iter: int\n",
    "        Number of samples in \n",
    "    Returns\n",
    "    -------\n",
    "    bias2 : float, \n",
    "        Estiamted squared bias\n",
    "    variance : float, \n",
    "        Estiamted variance\n",
    "    \"\"\"\n",
    "\n",
    "    size = x.shape[0]\n",
    "    preds = np.full((size, n_iter), np.nan)\n",
    "    \n",
    "    for i in range(n_iter):\n",
    "      idx = np.random.choice(size, size)\n",
    "      inv = np.ones(size, dtype=bool)\n",
    "      inv[idx] = False\n",
    "\n",
    "      estimator.fit(x[idx, :], y[idx])\n",
    "      pred = estimator.predict(x[inv, :])\n",
    "      preds[inv, i] = pred\n",
    "\n",
    "    with warnings.catch_warnings():\n",
    "      warnings.simplefilter(\"ignore\", category=RuntimeWarning)\n",
    "      bias2 = np.nanmean((np.nanmean(preds, axis=1) - ytrain)**2)\n",
    "      variance = np.nanmean(np.nanvar(preds, axis=1))\n",
    "\n",
    "    return bias2, variance"
   ]
  },
  {
   "cell_type": "code",
   "execution_count": 16,
   "metadata": {},
   "outputs": [
    {
     "data": {
      "text/plain": [
       "(20.06692515760432, 7.693611192171648)"
      ]
     },
     "execution_count": 16,
     "metadata": {},
     "output_type": "execute_result"
    }
   ],
   "source": [
    "# Test\n",
    "np.random.seed(413)\n",
    "estimator = MyDecisionTreeRegressor(max_depth=8, min_samples_split=15)\n",
    "\n",
    "get_bias_variance(estimator, Xtrain, ytrain, 10)"
   ]
  },
  {
   "cell_type": "markdown",
   "metadata": {},
   "source": [
    "### Task 7 <a id=\"task7\"></a>  (0.5 points = 0.25 for code + 0.25 for comments)\n",
    "\n",
    "Compute bias and variance for the trees of different depths. Plot how bias and variance change as depth increases. \n",
    "\n",
    "Comment on what you observe, how does your result correspond to what we have discussed in class?"
   ]
  },
  {
   "cell_type": "code",
   "execution_count": 17,
   "metadata": {},
   "outputs": [
    {
     "data": {
      "text/plain": [
       "array([[46.01744464,  7.61009699],\n",
       "       [28.60121657,  4.81766281],\n",
       "       [22.38378937,  6.71911777],\n",
       "       [19.55081768,  8.99181139],\n",
       "       [18.92937485,  7.6351783 ],\n",
       "       [21.14453118,  8.09845223],\n",
       "       [14.62455422,  6.73316738],\n",
       "       [19.48269553, 11.81873949],\n",
       "       [19.5178747 , 11.27359202],\n",
       "       [20.01485875,  8.11726217]])"
      ]
     },
     "execution_count": 17,
     "metadata": {},
     "output_type": "execute_result"
    }
   ],
   "source": [
    "np.random.seed(612)\n",
    "depths = np.arange(1, 11)\n",
    "biasvar = np.array([\n",
    "  get_bias_variance(MyDecisionTreeRegressor(max_depth=depth), Xtrain, ytrain, 10)\n",
    "  for depth in depths\n",
    "])\n",
    "biasvar"
   ]
  },
  {
   "cell_type": "code",
   "execution_count": 18,
   "metadata": {},
   "outputs": [
    {
     "data": {
      "image/svg+xml": "<?xml version=\"1.0\" encoding=\"utf-8\" standalone=\"no\"?>\r\n<!DOCTYPE svg PUBLIC \"-//W3C//DTD SVG 1.1//EN\"\r\n  \"http://www.w3.org/Graphics/SVG/1.1/DTD/svg11.dtd\">\r\n<!-- Created with matplotlib (https://matplotlib.org/) -->\r\n<svg height=\"281.787344pt\" version=\"1.1\" viewBox=\"0 0 420.3025 281.787344\" width=\"420.3025pt\" xmlns=\"http://www.w3.org/2000/svg\" xmlns:xlink=\"http://www.w3.org/1999/xlink\">\r\n <defs>\r\n  <style type=\"text/css\">\r\n*{stroke-linecap:butt;stroke-linejoin:round;}\r\n  </style>\r\n </defs>\r\n <g id=\"figure_1\">\r\n  <g id=\"patch_1\">\r\n   <path d=\"M 0 281.787344 \r\nL 420.3025 281.787344 \r\nL 420.3025 0 \r\nL 0 0 \r\nz\r\n\" style=\"fill:none;\"/>\r\n  </g>\r\n  <g id=\"axes_1\">\r\n   <g id=\"patch_2\">\r\n    <path d=\"M 44.094062 240.053125 \r\nL 376.394063 240.053125 \r\nL 376.394063 7.2 \r\nL 44.094062 7.2 \r\nz\r\n\" style=\"fill:#eaeaf2;\"/>\r\n   </g>\r\n   <g id=\"matplotlib.axis_1\">\r\n    <g id=\"xtick_1\">\r\n     <g id=\"line2d_1\">\r\n      <path clip-path=\"url(#pf5bd620ff4)\" d=\"M 92.764265 240.053125 \r\nL 92.764265 7.2 \r\n\" style=\"fill:none;stroke:#ffffff;stroke-linecap:round;\"/>\r\n     </g>\r\n     <g id=\"text_1\">\r\n      <!-- 2 -->\r\n      <defs>\r\n       <path d=\"M 50.34375 8.453125 \r\nL 50.34375 0 \r\nL 3.03125 0 \r\nQ 2.9375 3.171875 4.046875 6.109375 \r\nQ 5.859375 10.9375 9.828125 15.625 \r\nQ 13.8125 20.3125 21.34375 26.46875 \r\nQ 33.015625 36.03125 37.109375 41.625 \r\nQ 41.21875 47.21875 41.21875 52.203125 \r\nQ 41.21875 57.421875 37.46875 61 \r\nQ 33.734375 64.59375 27.734375 64.59375 \r\nQ 21.390625 64.59375 17.578125 60.78125 \r\nQ 13.765625 56.984375 13.71875 50.25 \r\nL 4.6875 51.171875 \r\nQ 5.609375 61.28125 11.65625 66.578125 \r\nQ 17.71875 71.875 27.9375 71.875 \r\nQ 38.234375 71.875 44.234375 66.15625 \r\nQ 50.25 60.453125 50.25 52 \r\nQ 50.25 47.703125 48.484375 43.546875 \r\nQ 46.734375 39.40625 42.65625 34.8125 \r\nQ 38.578125 30.21875 29.109375 22.21875 \r\nQ 21.1875 15.578125 18.9375 13.203125 \r\nQ 16.703125 10.84375 15.234375 8.453125 \r\nz\r\n\" id=\"ArialMT-50\"/>\r\n      </defs>\r\n      <g style=\"fill:#262626;\" transform=\"translate(89.705749 257.426719)scale(0.11 -0.11)\">\r\n       <use xlink:href=\"#ArialMT-50\"/>\r\n      </g>\r\n     </g>\r\n    </g>\r\n    <g id=\"xtick_2\">\r\n     <g id=\"line2d_2\">\r\n      <path clip-path=\"url(#pf5bd620ff4)\" d=\"M 159.895578 240.053125 \r\nL 159.895578 7.2 \r\n\" style=\"fill:none;stroke:#ffffff;stroke-linecap:round;\"/>\r\n     </g>\r\n     <g id=\"text_2\">\r\n      <!-- 4 -->\r\n      <defs>\r\n       <path d=\"M 32.328125 0 \r\nL 32.328125 17.140625 \r\nL 1.265625 17.140625 \r\nL 1.265625 25.203125 \r\nL 33.9375 71.578125 \r\nL 41.109375 71.578125 \r\nL 41.109375 25.203125 \r\nL 50.78125 25.203125 \r\nL 50.78125 17.140625 \r\nL 41.109375 17.140625 \r\nL 41.109375 0 \r\nz\r\nM 32.328125 25.203125 \r\nL 32.328125 57.46875 \r\nL 9.90625 25.203125 \r\nz\r\n\" id=\"ArialMT-52\"/>\r\n      </defs>\r\n      <g style=\"fill:#262626;\" transform=\"translate(156.837062 257.426719)scale(0.11 -0.11)\">\r\n       <use xlink:href=\"#ArialMT-52\"/>\r\n      </g>\r\n     </g>\r\n    </g>\r\n    <g id=\"xtick_3\">\r\n     <g id=\"line2d_3\">\r\n      <path clip-path=\"url(#pf5bd620ff4)\" d=\"M 227.026891 240.053125 \r\nL 227.026891 7.2 \r\n\" style=\"fill:none;stroke:#ffffff;stroke-linecap:round;\"/>\r\n     </g>\r\n     <g id=\"text_3\">\r\n      <!-- 6 -->\r\n      <defs>\r\n       <path d=\"M 49.75 54.046875 \r\nL 41.015625 53.375 \r\nQ 39.84375 58.546875 37.703125 60.890625 \r\nQ 34.125 64.65625 28.90625 64.65625 \r\nQ 24.703125 64.65625 21.53125 62.3125 \r\nQ 17.390625 59.28125 14.984375 53.46875 \r\nQ 12.59375 47.65625 12.5 36.921875 \r\nQ 15.671875 41.75 20.265625 44.09375 \r\nQ 24.859375 46.4375 29.890625 46.4375 \r\nQ 38.671875 46.4375 44.84375 39.96875 \r\nQ 51.03125 33.5 51.03125 23.25 \r\nQ 51.03125 16.5 48.125 10.71875 \r\nQ 45.21875 4.9375 40.140625 1.859375 \r\nQ 35.0625 -1.21875 28.609375 -1.21875 \r\nQ 17.625 -1.21875 10.6875 6.859375 \r\nQ 3.765625 14.9375 3.765625 33.5 \r\nQ 3.765625 54.25 11.421875 63.671875 \r\nQ 18.109375 71.875 29.4375 71.875 \r\nQ 37.890625 71.875 43.28125 67.140625 \r\nQ 48.6875 62.40625 49.75 54.046875 \r\nz\r\nM 13.875 23.1875 \r\nQ 13.875 18.65625 15.796875 14.5 \r\nQ 17.71875 10.359375 21.1875 8.171875 \r\nQ 24.65625 6 28.46875 6 \r\nQ 34.03125 6 38.03125 10.484375 \r\nQ 42.046875 14.984375 42.046875 22.703125 \r\nQ 42.046875 30.125 38.078125 34.390625 \r\nQ 34.125 38.671875 28.125 38.671875 \r\nQ 22.171875 38.671875 18.015625 34.390625 \r\nQ 13.875 30.125 13.875 23.1875 \r\nz\r\n\" id=\"ArialMT-54\"/>\r\n      </defs>\r\n      <g style=\"fill:#262626;\" transform=\"translate(223.968375 257.426719)scale(0.11 -0.11)\">\r\n       <use xlink:href=\"#ArialMT-54\"/>\r\n      </g>\r\n     </g>\r\n    </g>\r\n    <g id=\"xtick_4\">\r\n     <g id=\"line2d_4\">\r\n      <path clip-path=\"url(#pf5bd620ff4)\" d=\"M 294.158204 240.053125 \r\nL 294.158204 7.2 \r\n\" style=\"fill:none;stroke:#ffffff;stroke-linecap:round;\"/>\r\n     </g>\r\n     <g id=\"text_4\">\r\n      <!-- 8 -->\r\n      <defs>\r\n       <path d=\"M 17.671875 38.8125 \r\nQ 12.203125 40.828125 9.5625 44.53125 \r\nQ 6.9375 48.25 6.9375 53.421875 \r\nQ 6.9375 61.234375 12.546875 66.546875 \r\nQ 18.171875 71.875 27.484375 71.875 \r\nQ 36.859375 71.875 42.578125 66.421875 \r\nQ 48.296875 60.984375 48.296875 53.171875 \r\nQ 48.296875 48.1875 45.671875 44.5 \r\nQ 43.0625 40.828125 37.75 38.8125 \r\nQ 44.34375 36.671875 47.78125 31.875 \r\nQ 51.21875 27.09375 51.21875 20.453125 \r\nQ 51.21875 11.28125 44.71875 5.03125 \r\nQ 38.234375 -1.21875 27.640625 -1.21875 \r\nQ 17.046875 -1.21875 10.546875 5.046875 \r\nQ 4.046875 11.328125 4.046875 20.703125 \r\nQ 4.046875 27.6875 7.59375 32.390625 \r\nQ 11.140625 37.109375 17.671875 38.8125 \r\nz\r\nM 15.921875 53.71875 \r\nQ 15.921875 48.640625 19.1875 45.40625 \r\nQ 22.46875 42.1875 27.6875 42.1875 \r\nQ 32.765625 42.1875 36.015625 45.375 \r\nQ 39.265625 48.578125 39.265625 53.21875 \r\nQ 39.265625 58.0625 35.90625 61.359375 \r\nQ 32.5625 64.65625 27.59375 64.65625 \r\nQ 22.5625 64.65625 19.234375 61.421875 \r\nQ 15.921875 58.203125 15.921875 53.71875 \r\nz\r\nM 13.09375 20.65625 \r\nQ 13.09375 16.890625 14.875 13.375 \r\nQ 16.65625 9.859375 20.171875 7.921875 \r\nQ 23.6875 6 27.734375 6 \r\nQ 34.03125 6 38.125 10.046875 \r\nQ 42.234375 14.109375 42.234375 20.359375 \r\nQ 42.234375 26.703125 38.015625 30.859375 \r\nQ 33.796875 35.015625 27.4375 35.015625 \r\nQ 21.234375 35.015625 17.15625 30.90625 \r\nQ 13.09375 26.8125 13.09375 20.65625 \r\nz\r\n\" id=\"ArialMT-56\"/>\r\n      </defs>\r\n      <g style=\"fill:#262626;\" transform=\"translate(291.099688 257.426719)scale(0.11 -0.11)\">\r\n       <use xlink:href=\"#ArialMT-56\"/>\r\n      </g>\r\n     </g>\r\n    </g>\r\n    <g id=\"xtick_5\">\r\n     <g id=\"line2d_5\">\r\n      <path clip-path=\"url(#pf5bd620ff4)\" d=\"M 361.289517 240.053125 \r\nL 361.289517 7.2 \r\n\" style=\"fill:none;stroke:#ffffff;stroke-linecap:round;\"/>\r\n     </g>\r\n     <g id=\"text_5\">\r\n      <!-- 10 -->\r\n      <defs>\r\n       <path d=\"M 37.25 0 \r\nL 28.46875 0 \r\nL 28.46875 56 \r\nQ 25.296875 52.984375 20.140625 49.953125 \r\nQ 14.984375 46.921875 10.890625 45.40625 \r\nL 10.890625 53.90625 \r\nQ 18.265625 57.375 23.78125 62.296875 \r\nQ 29.296875 67.234375 31.59375 71.875 \r\nL 37.25 71.875 \r\nz\r\n\" id=\"ArialMT-49\"/>\r\n       <path d=\"M 4.15625 35.296875 \r\nQ 4.15625 48 6.765625 55.734375 \r\nQ 9.375 63.484375 14.515625 67.671875 \r\nQ 19.671875 71.875 27.484375 71.875 \r\nQ 33.25 71.875 37.59375 69.546875 \r\nQ 41.9375 67.234375 44.765625 62.859375 \r\nQ 47.609375 58.5 49.21875 52.21875 \r\nQ 50.828125 45.953125 50.828125 35.296875 \r\nQ 50.828125 22.703125 48.234375 14.96875 \r\nQ 45.65625 7.234375 40.5 3 \r\nQ 35.359375 -1.21875 27.484375 -1.21875 \r\nQ 17.140625 -1.21875 11.234375 6.203125 \r\nQ 4.15625 15.140625 4.15625 35.296875 \r\nz\r\nM 13.1875 35.296875 \r\nQ 13.1875 17.671875 17.3125 11.828125 \r\nQ 21.4375 6 27.484375 6 \r\nQ 33.546875 6 37.671875 11.859375 \r\nQ 41.796875 17.71875 41.796875 35.296875 \r\nQ 41.796875 52.984375 37.671875 58.78125 \r\nQ 33.546875 64.59375 27.390625 64.59375 \r\nQ 21.34375 64.59375 17.71875 59.46875 \r\nQ 13.1875 52.9375 13.1875 35.296875 \r\nz\r\n\" id=\"ArialMT-48\"/>\r\n      </defs>\r\n      <g style=\"fill:#262626;\" transform=\"translate(355.172486 257.426719)scale(0.11 -0.11)\">\r\n       <use xlink:href=\"#ArialMT-49\"/>\r\n       <use x=\"55.615234\" xlink:href=\"#ArialMT-48\"/>\r\n      </g>\r\n     </g>\r\n    </g>\r\n    <g id=\"text_6\">\r\n     <!-- depth -->\r\n     <defs>\r\n      <path d=\"M 40.234375 0 \r\nL 40.234375 6.546875 \r\nQ 35.296875 -1.171875 25.734375 -1.171875 \r\nQ 19.53125 -1.171875 14.328125 2.25 \r\nQ 9.125 5.671875 6.265625 11.796875 \r\nQ 3.421875 17.921875 3.421875 25.875 \r\nQ 3.421875 33.640625 6 39.96875 \r\nQ 8.59375 46.296875 13.765625 49.65625 \r\nQ 18.953125 53.03125 25.34375 53.03125 \r\nQ 30.03125 53.03125 33.6875 51.046875 \r\nQ 37.359375 49.078125 39.65625 45.90625 \r\nL 39.65625 71.578125 \r\nL 48.390625 71.578125 \r\nL 48.390625 0 \r\nz\r\nM 12.453125 25.875 \r\nQ 12.453125 15.921875 16.640625 10.984375 \r\nQ 20.84375 6.0625 26.5625 6.0625 \r\nQ 32.328125 6.0625 36.34375 10.765625 \r\nQ 40.375 15.484375 40.375 25.140625 \r\nQ 40.375 35.796875 36.265625 40.765625 \r\nQ 32.171875 45.75 26.171875 45.75 \r\nQ 20.3125 45.75 16.375 40.96875 \r\nQ 12.453125 36.1875 12.453125 25.875 \r\nz\r\n\" id=\"ArialMT-100\"/>\r\n      <path d=\"M 42.09375 16.703125 \r\nL 51.171875 15.578125 \r\nQ 49.03125 7.625 43.21875 3.21875 \r\nQ 37.40625 -1.171875 28.375 -1.171875 \r\nQ 17 -1.171875 10.328125 5.828125 \r\nQ 3.65625 12.84375 3.65625 25.484375 \r\nQ 3.65625 38.578125 10.390625 45.796875 \r\nQ 17.140625 53.03125 27.875 53.03125 \r\nQ 38.28125 53.03125 44.875 45.953125 \r\nQ 51.46875 38.875 51.46875 26.03125 \r\nQ 51.46875 25.25 51.421875 23.6875 \r\nL 12.75 23.6875 \r\nQ 13.234375 15.140625 17.578125 10.59375 \r\nQ 21.921875 6.0625 28.421875 6.0625 \r\nQ 33.25 6.0625 36.671875 8.59375 \r\nQ 40.09375 11.140625 42.09375 16.703125 \r\nz\r\nM 13.234375 30.90625 \r\nL 42.1875 30.90625 \r\nQ 41.609375 37.453125 38.875 40.71875 \r\nQ 34.671875 45.796875 27.984375 45.796875 \r\nQ 21.921875 45.796875 17.796875 41.75 \r\nQ 13.671875 37.703125 13.234375 30.90625 \r\nz\r\n\" id=\"ArialMT-101\"/>\r\n      <path d=\"M 6.59375 -19.875 \r\nL 6.59375 51.859375 \r\nL 14.59375 51.859375 \r\nL 14.59375 45.125 \r\nQ 17.4375 49.078125 21 51.046875 \r\nQ 24.5625 53.03125 29.640625 53.03125 \r\nQ 36.28125 53.03125 41.359375 49.609375 \r\nQ 46.4375 46.1875 49.015625 39.953125 \r\nQ 51.609375 33.734375 51.609375 26.3125 \r\nQ 51.609375 18.359375 48.75 11.984375 \r\nQ 45.90625 5.609375 40.453125 2.21875 \r\nQ 35.015625 -1.171875 29 -1.171875 \r\nQ 24.609375 -1.171875 21.109375 0.6875 \r\nQ 17.625 2.546875 15.375 5.375 \r\nL 15.375 -19.875 \r\nz\r\nM 14.546875 25.640625 \r\nQ 14.546875 15.625 18.59375 10.84375 \r\nQ 22.65625 6.0625 28.421875 6.0625 \r\nQ 34.28125 6.0625 38.453125 11.015625 \r\nQ 42.625 15.96875 42.625 26.375 \r\nQ 42.625 36.28125 38.546875 41.203125 \r\nQ 34.46875 46.140625 28.8125 46.140625 \r\nQ 23.1875 46.140625 18.859375 40.890625 \r\nQ 14.546875 35.640625 14.546875 25.640625 \r\nz\r\n\" id=\"ArialMT-112\"/>\r\n      <path d=\"M 25.78125 7.859375 \r\nL 27.046875 0.09375 \r\nQ 23.34375 -0.6875 20.40625 -0.6875 \r\nQ 15.625 -0.6875 12.984375 0.828125 \r\nQ 10.359375 2.34375 9.28125 4.8125 \r\nQ 8.203125 7.28125 8.203125 15.1875 \r\nL 8.203125 45.015625 \r\nL 1.765625 45.015625 \r\nL 1.765625 51.859375 \r\nL 8.203125 51.859375 \r\nL 8.203125 64.703125 \r\nL 16.9375 69.96875 \r\nL 16.9375 51.859375 \r\nL 25.78125 51.859375 \r\nL 25.78125 45.015625 \r\nL 16.9375 45.015625 \r\nL 16.9375 14.703125 \r\nQ 16.9375 10.9375 17.40625 9.859375 \r\nQ 17.875 8.796875 18.921875 8.15625 \r\nQ 19.96875 7.515625 21.921875 7.515625 \r\nQ 23.390625 7.515625 25.78125 7.859375 \r\nz\r\n\" id=\"ArialMT-116\"/>\r\n      <path d=\"M 6.59375 0 \r\nL 6.59375 71.578125 \r\nL 15.375 71.578125 \r\nL 15.375 45.90625 \r\nQ 21.53125 53.03125 30.90625 53.03125 \r\nQ 36.671875 53.03125 40.921875 50.75 \r\nQ 45.171875 48.484375 47 44.484375 \r\nQ 48.828125 40.484375 48.828125 32.859375 \r\nL 48.828125 0 \r\nL 40.046875 0 \r\nL 40.046875 32.859375 \r\nQ 40.046875 39.453125 37.1875 42.453125 \r\nQ 34.328125 45.453125 29.109375 45.453125 \r\nQ 25.203125 45.453125 21.75 43.421875 \r\nQ 18.3125 41.40625 16.84375 37.9375 \r\nQ 15.375 34.46875 15.375 28.375 \r\nL 15.375 0 \r\nz\r\n\" id=\"ArialMT-104\"/>\r\n     </defs>\r\n     <g style=\"fill:#262626;\" transform=\"translate(195.230938 272.202344)scale(0.12 -0.12)\">\r\n      <use xlink:href=\"#ArialMT-100\"/>\r\n      <use x=\"55.615234\" xlink:href=\"#ArialMT-101\"/>\r\n      <use x=\"111.230469\" xlink:href=\"#ArialMT-112\"/>\r\n      <use x=\"166.845703\" xlink:href=\"#ArialMT-116\"/>\r\n      <use x=\"194.628906\" xlink:href=\"#ArialMT-104\"/>\r\n     </g>\r\n    </g>\r\n   </g>\r\n   <g id=\"matplotlib.axis_2\">\r\n    <g id=\"ytick_1\">\r\n     <g id=\"line2d_6\">\r\n      <path clip-path=\"url(#pf5bd620ff4)\" d=\"M 44.094062 226.937232 \r\nL 376.394063 226.937232 \r\n\" style=\"fill:none;stroke:#ffffff;stroke-linecap:round;\"/>\r\n     </g>\r\n     <g id=\"line2d_7\">\r\n      <defs>\r\n       <path d=\"M 0 0 \r\nL -6 0 \r\n\" id=\"m2256d3661c\" style=\"stroke:#262626;stroke-width:1.25;\"/>\r\n      </defs>\r\n      <g>\r\n       <use style=\"fill:#262626;stroke:#262626;stroke-width:1.25;\" x=\"44.094062\" xlink:href=\"#m2256d3661c\" y=\"226.937232\"/>\r\n      </g>\r\n     </g>\r\n     <g id=\"text_7\">\r\n      <!-- 15 -->\r\n      <defs>\r\n       <path d=\"M 4.15625 18.75 \r\nL 13.375 19.53125 \r\nQ 14.40625 12.796875 18.140625 9.390625 \r\nQ 21.875 6 27.15625 6 \r\nQ 33.5 6 37.890625 10.78125 \r\nQ 42.28125 15.578125 42.28125 23.484375 \r\nQ 42.28125 31 38.0625 35.34375 \r\nQ 33.84375 39.703125 27 39.703125 \r\nQ 22.75 39.703125 19.328125 37.765625 \r\nQ 15.921875 35.84375 13.96875 32.765625 \r\nL 5.71875 33.84375 \r\nL 12.640625 70.609375 \r\nL 48.25 70.609375 \r\nL 48.25 62.203125 \r\nL 19.671875 62.203125 \r\nL 15.828125 42.96875 \r\nQ 22.265625 47.46875 29.34375 47.46875 \r\nQ 38.71875 47.46875 45.15625 40.96875 \r\nQ 51.609375 34.46875 51.609375 24.265625 \r\nQ 51.609375 14.546875 45.953125 7.46875 \r\nQ 39.0625 -1.21875 27.15625 -1.21875 \r\nQ 17.390625 -1.21875 11.203125 4.25 \r\nQ 5.03125 9.71875 4.15625 18.75 \r\nz\r\n\" id=\"ArialMT-53\"/>\r\n      </defs>\r\n      <g style=\"fill:#d62728;\" transform=\"translate(22.36 230.874029)scale(0.11 -0.11)\">\r\n       <use xlink:href=\"#ArialMT-49\"/>\r\n       <use x=\"55.615234\" xlink:href=\"#ArialMT-53\"/>\r\n      </g>\r\n     </g>\r\n    </g>\r\n    <g id=\"ytick_2\">\r\n     <g id=\"line2d_8\">\r\n      <path clip-path=\"url(#pf5bd620ff4)\" d=\"M 44.094062 193.22185 \r\nL 376.394063 193.22185 \r\n\" style=\"fill:none;stroke:#ffffff;stroke-linecap:round;\"/>\r\n     </g>\r\n     <g id=\"line2d_9\">\r\n      <g>\r\n       <use style=\"fill:#262626;stroke:#262626;stroke-width:1.25;\" x=\"44.094062\" xlink:href=\"#m2256d3661c\" y=\"193.22185\"/>\r\n      </g>\r\n     </g>\r\n     <g id=\"text_8\">\r\n      <!-- 20 -->\r\n      <g style=\"fill:#d62728;\" transform=\"translate(22.36 197.158647)scale(0.11 -0.11)\">\r\n       <use xlink:href=\"#ArialMT-50\"/>\r\n       <use x=\"55.615234\" xlink:href=\"#ArialMT-48\"/>\r\n      </g>\r\n     </g>\r\n    </g>\r\n    <g id=\"ytick_3\">\r\n     <g id=\"line2d_10\">\r\n      <path clip-path=\"url(#pf5bd620ff4)\" d=\"M 44.094062 159.506468 \r\nL 376.394063 159.506468 \r\n\" style=\"fill:none;stroke:#ffffff;stroke-linecap:round;\"/>\r\n     </g>\r\n     <g id=\"line2d_11\">\r\n      <g>\r\n       <use style=\"fill:#262626;stroke:#262626;stroke-width:1.25;\" x=\"44.094062\" xlink:href=\"#m2256d3661c\" y=\"159.506468\"/>\r\n      </g>\r\n     </g>\r\n     <g id=\"text_9\">\r\n      <!-- 25 -->\r\n      <g style=\"fill:#d62728;\" transform=\"translate(22.36 163.443265)scale(0.11 -0.11)\">\r\n       <use xlink:href=\"#ArialMT-50\"/>\r\n       <use x=\"55.615234\" xlink:href=\"#ArialMT-53\"/>\r\n      </g>\r\n     </g>\r\n    </g>\r\n    <g id=\"ytick_4\">\r\n     <g id=\"line2d_12\">\r\n      <path clip-path=\"url(#pf5bd620ff4)\" d=\"M 44.094062 125.791086 \r\nL 376.394063 125.791086 \r\n\" style=\"fill:none;stroke:#ffffff;stroke-linecap:round;\"/>\r\n     </g>\r\n     <g id=\"line2d_13\">\r\n      <g>\r\n       <use style=\"fill:#262626;stroke:#262626;stroke-width:1.25;\" x=\"44.094062\" xlink:href=\"#m2256d3661c\" y=\"125.791086\"/>\r\n      </g>\r\n     </g>\r\n     <g id=\"text_10\">\r\n      <!-- 30 -->\r\n      <defs>\r\n       <path d=\"M 4.203125 18.890625 \r\nL 12.984375 20.0625 \r\nQ 14.5 12.59375 18.140625 9.296875 \r\nQ 21.78125 6 27 6 \r\nQ 33.203125 6 37.46875 10.296875 \r\nQ 41.75 14.59375 41.75 20.953125 \r\nQ 41.75 27 37.796875 30.921875 \r\nQ 33.84375 34.859375 27.734375 34.859375 \r\nQ 25.25 34.859375 21.53125 33.890625 \r\nL 22.515625 41.609375 \r\nQ 23.390625 41.5 23.921875 41.5 \r\nQ 29.546875 41.5 34.03125 44.421875 \r\nQ 38.53125 47.359375 38.53125 53.46875 \r\nQ 38.53125 58.296875 35.25 61.46875 \r\nQ 31.984375 64.65625 26.8125 64.65625 \r\nQ 21.6875 64.65625 18.265625 61.421875 \r\nQ 14.84375 58.203125 13.875 51.765625 \r\nL 5.078125 53.328125 \r\nQ 6.6875 62.15625 12.390625 67.015625 \r\nQ 18.109375 71.875 26.609375 71.875 \r\nQ 32.46875 71.875 37.390625 69.359375 \r\nQ 42.328125 66.84375 44.9375 62.5 \r\nQ 47.5625 58.15625 47.5625 53.265625 \r\nQ 47.5625 48.640625 45.0625 44.828125 \r\nQ 42.578125 41.015625 37.703125 38.765625 \r\nQ 44.046875 37.3125 47.5625 32.6875 \r\nQ 51.078125 28.078125 51.078125 21.140625 \r\nQ 51.078125 11.765625 44.234375 5.25 \r\nQ 37.40625 -1.265625 26.953125 -1.265625 \r\nQ 17.53125 -1.265625 11.296875 4.34375 \r\nQ 5.078125 9.96875 4.203125 18.890625 \r\nz\r\n\" id=\"ArialMT-51\"/>\r\n      </defs>\r\n      <g style=\"fill:#d62728;\" transform=\"translate(22.36 129.727883)scale(0.11 -0.11)\">\r\n       <use xlink:href=\"#ArialMT-51\"/>\r\n       <use x=\"55.615234\" xlink:href=\"#ArialMT-48\"/>\r\n      </g>\r\n     </g>\r\n    </g>\r\n    <g id=\"ytick_5\">\r\n     <g id=\"line2d_14\">\r\n      <path clip-path=\"url(#pf5bd620ff4)\" d=\"M 44.094062 92.075704 \r\nL 376.394063 92.075704 \r\n\" style=\"fill:none;stroke:#ffffff;stroke-linecap:round;\"/>\r\n     </g>\r\n     <g id=\"line2d_15\">\r\n      <g>\r\n       <use style=\"fill:#262626;stroke:#262626;stroke-width:1.25;\" x=\"44.094062\" xlink:href=\"#m2256d3661c\" y=\"92.075704\"/>\r\n      </g>\r\n     </g>\r\n     <g id=\"text_11\">\r\n      <!-- 35 -->\r\n      <g style=\"fill:#d62728;\" transform=\"translate(22.36 96.012501)scale(0.11 -0.11)\">\r\n       <use xlink:href=\"#ArialMT-51\"/>\r\n       <use x=\"55.615234\" xlink:href=\"#ArialMT-53\"/>\r\n      </g>\r\n     </g>\r\n    </g>\r\n    <g id=\"ytick_6\">\r\n     <g id=\"line2d_16\">\r\n      <path clip-path=\"url(#pf5bd620ff4)\" d=\"M 44.094062 58.360322 \r\nL 376.394063 58.360322 \r\n\" style=\"fill:none;stroke:#ffffff;stroke-linecap:round;\"/>\r\n     </g>\r\n     <g id=\"line2d_17\">\r\n      <g>\r\n       <use style=\"fill:#262626;stroke:#262626;stroke-width:1.25;\" x=\"44.094062\" xlink:href=\"#m2256d3661c\" y=\"58.360322\"/>\r\n      </g>\r\n     </g>\r\n     <g id=\"text_12\">\r\n      <!-- 40 -->\r\n      <g style=\"fill:#d62728;\" transform=\"translate(22.36 62.297119)scale(0.11 -0.11)\">\r\n       <use xlink:href=\"#ArialMT-52\"/>\r\n       <use x=\"55.615234\" xlink:href=\"#ArialMT-48\"/>\r\n      </g>\r\n     </g>\r\n    </g>\r\n    <g id=\"ytick_7\">\r\n     <g id=\"line2d_18\">\r\n      <path clip-path=\"url(#pf5bd620ff4)\" d=\"M 44.094062 24.64494 \r\nL 376.394063 24.64494 \r\n\" style=\"fill:none;stroke:#ffffff;stroke-linecap:round;\"/>\r\n     </g>\r\n     <g id=\"line2d_19\">\r\n      <g>\r\n       <use style=\"fill:#262626;stroke:#262626;stroke-width:1.25;\" x=\"44.094062\" xlink:href=\"#m2256d3661c\" y=\"24.64494\"/>\r\n      </g>\r\n     </g>\r\n     <g id=\"text_13\">\r\n      <!-- 45 -->\r\n      <g style=\"fill:#d62728;\" transform=\"translate(22.36 28.581737)scale(0.11 -0.11)\">\r\n       <use xlink:href=\"#ArialMT-52\"/>\r\n       <use x=\"55.615234\" xlink:href=\"#ArialMT-53\"/>\r\n      </g>\r\n     </g>\r\n    </g>\r\n    <g id=\"text_14\">\r\n     <!-- bias$^2$ -->\r\n     <defs>\r\n      <path d=\"M 14.703125 0 \r\nL 6.546875 0 \r\nL 6.546875 71.578125 \r\nL 15.328125 71.578125 \r\nL 15.328125 46.046875 \r\nQ 20.90625 53.03125 29.546875 53.03125 \r\nQ 34.328125 53.03125 38.59375 51.09375 \r\nQ 42.875 49.171875 45.625 45.671875 \r\nQ 48.390625 42.1875 49.953125 37.25 \r\nQ 51.515625 32.328125 51.515625 26.703125 \r\nQ 51.515625 13.375 44.921875 6.09375 \r\nQ 38.328125 -1.171875 29.109375 -1.171875 \r\nQ 19.921875 -1.171875 14.703125 6.5 \r\nz\r\nM 14.59375 26.3125 \r\nQ 14.59375 17 17.140625 12.84375 \r\nQ 21.296875 6.0625 28.375 6.0625 \r\nQ 34.125 6.0625 38.328125 11.0625 \r\nQ 42.53125 16.0625 42.53125 25.984375 \r\nQ 42.53125 36.140625 38.5 40.96875 \r\nQ 34.46875 45.796875 28.765625 45.796875 \r\nQ 23 45.796875 18.796875 40.796875 \r\nQ 14.59375 35.796875 14.59375 26.3125 \r\nz\r\n\" id=\"ArialMT-98\"/>\r\n      <path d=\"M 6.640625 61.46875 \r\nL 6.640625 71.578125 \r\nL 15.4375 71.578125 \r\nL 15.4375 61.46875 \r\nz\r\nM 6.640625 0 \r\nL 6.640625 51.859375 \r\nL 15.4375 51.859375 \r\nL 15.4375 0 \r\nz\r\n\" id=\"ArialMT-105\"/>\r\n      <path d=\"M 40.4375 6.390625 \r\nQ 35.546875 2.25 31.03125 0.53125 \r\nQ 26.515625 -1.171875 21.34375 -1.171875 \r\nQ 12.796875 -1.171875 8.203125 3 \r\nQ 3.609375 7.171875 3.609375 13.671875 \r\nQ 3.609375 17.484375 5.34375 20.625 \r\nQ 7.078125 23.78125 9.890625 25.6875 \r\nQ 12.703125 27.59375 16.21875 28.5625 \r\nQ 18.796875 29.25 24.03125 29.890625 \r\nQ 34.671875 31.15625 39.703125 32.90625 \r\nQ 39.75 34.71875 39.75 35.203125 \r\nQ 39.75 40.578125 37.25 42.78125 \r\nQ 33.890625 45.75 27.25 45.75 \r\nQ 21.046875 45.75 18.09375 43.578125 \r\nQ 15.140625 41.40625 13.71875 35.890625 \r\nL 5.125 37.0625 \r\nQ 6.296875 42.578125 8.984375 45.96875 \r\nQ 11.671875 49.359375 16.75 51.1875 \r\nQ 21.828125 53.03125 28.515625 53.03125 \r\nQ 35.15625 53.03125 39.296875 51.46875 \r\nQ 43.453125 49.90625 45.40625 47.53125 \r\nQ 47.359375 45.171875 48.140625 41.546875 \r\nQ 48.578125 39.3125 48.578125 33.453125 \r\nL 48.578125 21.734375 \r\nQ 48.578125 9.46875 49.140625 6.21875 \r\nQ 49.703125 2.984375 51.375 0 \r\nL 42.1875 0 \r\nQ 40.828125 2.734375 40.4375 6.390625 \r\nz\r\nM 39.703125 26.03125 \r\nQ 34.90625 24.078125 25.34375 22.703125 \r\nQ 19.921875 21.921875 17.671875 20.9375 \r\nQ 15.4375 19.96875 14.203125 18.09375 \r\nQ 12.984375 16.21875 12.984375 13.921875 \r\nQ 12.984375 10.40625 15.640625 8.0625 \r\nQ 18.3125 5.71875 23.4375 5.71875 \r\nQ 28.515625 5.71875 32.46875 7.9375 \r\nQ 36.421875 10.15625 38.28125 14.015625 \r\nQ 39.703125 17 39.703125 22.796875 \r\nz\r\n\" id=\"ArialMT-97\"/>\r\n      <path d=\"M 3.078125 15.484375 \r\nL 11.765625 16.84375 \r\nQ 12.5 11.625 15.84375 8.84375 \r\nQ 19.1875 6.0625 25.203125 6.0625 \r\nQ 31.25 6.0625 34.171875 8.515625 \r\nQ 37.109375 10.984375 37.109375 14.3125 \r\nQ 37.109375 17.28125 34.515625 19 \r\nQ 32.71875 20.171875 25.53125 21.96875 \r\nQ 15.875 24.421875 12.140625 26.203125 \r\nQ 8.40625 27.984375 6.46875 31.125 \r\nQ 4.546875 34.28125 4.546875 38.09375 \r\nQ 4.546875 41.546875 6.125 44.5 \r\nQ 7.71875 47.46875 10.453125 49.421875 \r\nQ 12.5 50.921875 16.03125 51.96875 \r\nQ 19.578125 53.03125 23.640625 53.03125 \r\nQ 29.734375 53.03125 34.34375 51.265625 \r\nQ 38.96875 49.515625 41.15625 46.5 \r\nQ 43.359375 43.5 44.1875 38.484375 \r\nL 35.59375 37.3125 \r\nQ 35.015625 41.3125 32.203125 43.546875 \r\nQ 29.390625 45.796875 24.265625 45.796875 \r\nQ 18.21875 45.796875 15.625 43.796875 \r\nQ 13.03125 41.796875 13.03125 39.109375 \r\nQ 13.03125 37.40625 14.109375 36.03125 \r\nQ 15.1875 34.625 17.484375 33.6875 \r\nQ 18.796875 33.203125 25.25 31.453125 \r\nQ 34.578125 28.953125 38.25 27.359375 \r\nQ 41.9375 25.78125 44.03125 22.75 \r\nQ 46.140625 19.734375 46.140625 15.234375 \r\nQ 46.140625 10.84375 43.578125 6.953125 \r\nQ 41.015625 3.078125 36.171875 0.953125 \r\nQ 31.34375 -1.171875 25.25 -1.171875 \r\nQ 15.140625 -1.171875 9.84375 3.03125 \r\nQ 4.546875 7.234375 3.078125 15.484375 \r\nz\r\n\" id=\"ArialMT-115\"/>\r\n      <path d=\"M 19.1875 8.296875 \r\nL 53.609375 8.296875 \r\nL 53.609375 0 \r\nL 7.328125 0 \r\nL 7.328125 8.296875 \r\nQ 12.9375 14.109375 22.625 23.890625 \r\nQ 32.328125 33.6875 34.8125 36.53125 \r\nQ 39.546875 41.84375 41.421875 45.53125 \r\nQ 43.3125 49.21875 43.3125 52.78125 \r\nQ 43.3125 58.59375 39.234375 62.25 \r\nQ 35.15625 65.921875 28.609375 65.921875 \r\nQ 23.96875 65.921875 18.8125 64.3125 \r\nQ 13.671875 62.703125 7.8125 59.421875 \r\nL 7.8125 69.390625 \r\nQ 13.765625 71.78125 18.9375 73 \r\nQ 24.125 74.21875 28.421875 74.21875 \r\nQ 39.75 74.21875 46.484375 68.546875 \r\nQ 53.21875 62.890625 53.21875 53.421875 \r\nQ 53.21875 48.921875 51.53125 44.890625 \r\nQ 49.859375 40.875 45.40625 35.40625 \r\nQ 44.1875 33.984375 37.640625 27.21875 \r\nQ 31.109375 20.453125 19.1875 8.296875 \r\nz\r\n\" id=\"DejaVuSans-50\"/>\r\n     </defs>\r\n     <g style=\"fill:#d62728;\" transform=\"translate(15.975 137.546562)rotate(-90)scale(0.12 -0.12)\">\r\n      <use transform=\"translate(0 0.765625)\" xlink:href=\"#ArialMT-98\"/>\r\n      <use transform=\"translate(55.615234 0.765625)\" xlink:href=\"#ArialMT-105\"/>\r\n      <use transform=\"translate(77.832031 0.765625)\" xlink:href=\"#ArialMT-97\"/>\r\n      <use transform=\"translate(133.447266 0.765625)\" xlink:href=\"#ArialMT-115\"/>\r\n      <use transform=\"translate(184.404297 39.046875)scale(0.7)\" xlink:href=\"#DejaVuSans-50\"/>\r\n     </g>\r\n    </g>\r\n   </g>\r\n   <g id=\"line2d_20\">\r\n    <path clip-path=\"url(#pf5bd620ff4)\" d=\"M 59.198608 17.784233 \r\nL 92.764265 135.22319 \r\nL 126.329921 177.147776 \r\nL 159.895578 196.250721 \r\nL 193.461234 200.441158 \r\nL 227.026891 185.504189 \r\nL 260.592547 229.468892 \r\nL 294.158204 196.710074 \r\nL 327.72386 196.472858 \r\nL 361.289517 193.121657 \r\n\" style=\"fill:none;stroke:#d62728;stroke-linecap:round;stroke-width:1.5;\"/>\r\n   </g>\r\n   <g id=\"patch_3\">\r\n    <path d=\"M 44.094062 240.053125 \r\nL 44.094062 7.2 \r\n\" style=\"fill:none;stroke:#ffffff;stroke-linecap:square;stroke-linejoin:miter;stroke-width:1.25;\"/>\r\n   </g>\r\n   <g id=\"patch_4\">\r\n    <path d=\"M 376.394063 240.053125 \r\nL 376.394063 7.2 \r\n\" style=\"fill:none;stroke:#ffffff;stroke-linecap:square;stroke-linejoin:miter;stroke-width:1.25;\"/>\r\n   </g>\r\n   <g id=\"patch_5\">\r\n    <path d=\"M 44.094062 240.053125 \r\nL 376.394063 240.053125 \r\n\" style=\"fill:none;stroke:#ffffff;stroke-linecap:square;stroke-linejoin:miter;stroke-width:1.25;\"/>\r\n   </g>\r\n   <g id=\"patch_6\">\r\n    <path d=\"M 44.094062 7.2 \r\nL 376.394063 7.2 \r\n\" style=\"fill:none;stroke:#ffffff;stroke-linecap:square;stroke-linejoin:miter;stroke-width:1.25;\"/>\r\n   </g>\r\n  </g>\r\n  <g id=\"axes_2\">\r\n   <g id=\"matplotlib.axis_3\">\r\n    <g id=\"ytick_8\">\r\n     <g id=\"line2d_21\">\r\n      <defs>\r\n       <path d=\"M 0 0 \r\nL 6 0 \r\n\" id=\"m16e98878af\" style=\"stroke:#262626;stroke-width:1.25;\"/>\r\n      </defs>\r\n      <g>\r\n       <use style=\"fill:#262626;stroke:#262626;stroke-width:1.25;\" x=\"376.394063\" xlink:href=\"#m16e98878af\" y=\"223.955742\"/>\r\n      </g>\r\n     </g>\r\n     <g id=\"text_15\">\r\n      <!-- 5 -->\r\n      <g style=\"fill:#1f77b4;\" transform=\"translate(385.894063 227.892539)scale(0.11 -0.11)\">\r\n       <use xlink:href=\"#ArialMT-53\"/>\r\n      </g>\r\n     </g>\r\n    </g>\r\n    <g id=\"ytick_9\">\r\n     <g id=\"line2d_22\">\r\n      <g>\r\n       <use style=\"fill:#262626;stroke:#262626;stroke-width:1.25;\" x=\"376.394063\" xlink:href=\"#m16e98878af\" y=\"193.719727\"/>\r\n      </g>\r\n     </g>\r\n     <g id=\"text_16\">\r\n      <!-- 6 -->\r\n      <g style=\"fill:#1f77b4;\" transform=\"translate(385.894063 197.656524)scale(0.11 -0.11)\">\r\n       <use xlink:href=\"#ArialMT-54\"/>\r\n      </g>\r\n     </g>\r\n    </g>\r\n    <g id=\"ytick_10\">\r\n     <g id=\"line2d_23\">\r\n      <g>\r\n       <use style=\"fill:#262626;stroke:#262626;stroke-width:1.25;\" x=\"376.394063\" xlink:href=\"#m16e98878af\" y=\"163.483712\"/>\r\n      </g>\r\n     </g>\r\n     <g id=\"text_17\">\r\n      <!-- 7 -->\r\n      <defs>\r\n       <path d=\"M 4.734375 62.203125 \r\nL 4.734375 70.65625 \r\nL 51.078125 70.65625 \r\nL 51.078125 63.8125 \r\nQ 44.234375 56.546875 37.515625 44.484375 \r\nQ 30.8125 32.421875 27.15625 19.671875 \r\nQ 24.515625 10.6875 23.78125 0 \r\nL 14.75 0 \r\nQ 14.890625 8.453125 18.0625 20.40625 \r\nQ 21.234375 32.375 27.171875 43.484375 \r\nQ 33.109375 54.59375 39.796875 62.203125 \r\nz\r\n\" id=\"ArialMT-55\"/>\r\n      </defs>\r\n      <g style=\"fill:#1f77b4;\" transform=\"translate(385.894063 167.420509)scale(0.11 -0.11)\">\r\n       <use xlink:href=\"#ArialMT-55\"/>\r\n      </g>\r\n     </g>\r\n    </g>\r\n    <g id=\"ytick_11\">\r\n     <g id=\"line2d_24\">\r\n      <g>\r\n       <use style=\"fill:#262626;stroke:#262626;stroke-width:1.25;\" x=\"376.394063\" xlink:href=\"#m16e98878af\" y=\"133.247697\"/>\r\n      </g>\r\n     </g>\r\n     <g id=\"text_18\">\r\n      <!-- 8 -->\r\n      <g style=\"fill:#1f77b4;\" transform=\"translate(385.894063 137.184494)scale(0.11 -0.11)\">\r\n       <use xlink:href=\"#ArialMT-56\"/>\r\n      </g>\r\n     </g>\r\n    </g>\r\n    <g id=\"ytick_12\">\r\n     <g id=\"line2d_25\">\r\n      <g>\r\n       <use style=\"fill:#262626;stroke:#262626;stroke-width:1.25;\" x=\"376.394063\" xlink:href=\"#m16e98878af\" y=\"103.011682\"/>\r\n      </g>\r\n     </g>\r\n     <g id=\"text_19\">\r\n      <!-- 9 -->\r\n      <defs>\r\n       <path d=\"M 5.46875 16.546875 \r\nL 13.921875 17.328125 \r\nQ 14.984375 11.375 18.015625 8.6875 \r\nQ 21.046875 6 25.78125 6 \r\nQ 29.828125 6 32.875 7.859375 \r\nQ 35.9375 9.71875 37.890625 12.8125 \r\nQ 39.84375 15.921875 41.15625 21.1875 \r\nQ 42.484375 26.46875 42.484375 31.9375 \r\nQ 42.484375 32.515625 42.4375 33.6875 \r\nQ 39.796875 29.5 35.234375 26.875 \r\nQ 30.671875 24.265625 25.34375 24.265625 \r\nQ 16.453125 24.265625 10.296875 30.703125 \r\nQ 4.15625 37.15625 4.15625 47.703125 \r\nQ 4.15625 58.59375 10.578125 65.234375 \r\nQ 17 71.875 26.65625 71.875 \r\nQ 33.640625 71.875 39.421875 68.109375 \r\nQ 45.21875 64.359375 48.21875 57.390625 \r\nQ 51.21875 50.4375 51.21875 37.25 \r\nQ 51.21875 23.53125 48.234375 15.40625 \r\nQ 45.265625 7.28125 39.375 3.03125 \r\nQ 33.5 -1.21875 25.59375 -1.21875 \r\nQ 17.1875 -1.21875 11.859375 3.4375 \r\nQ 6.546875 8.109375 5.46875 16.546875 \r\nz\r\nM 41.453125 48.140625 \r\nQ 41.453125 55.71875 37.421875 60.15625 \r\nQ 33.40625 64.59375 27.734375 64.59375 \r\nQ 21.875 64.59375 17.53125 59.8125 \r\nQ 13.1875 55.03125 13.1875 47.40625 \r\nQ 13.1875 40.578125 17.3125 36.296875 \r\nQ 21.4375 32.03125 27.484375 32.03125 \r\nQ 33.59375 32.03125 37.515625 36.296875 \r\nQ 41.453125 40.578125 41.453125 48.140625 \r\nz\r\n\" id=\"ArialMT-57\"/>\r\n      </defs>\r\n      <g style=\"fill:#1f77b4;\" transform=\"translate(385.894063 106.948479)scale(0.11 -0.11)\">\r\n       <use xlink:href=\"#ArialMT-57\"/>\r\n      </g>\r\n     </g>\r\n    </g>\r\n    <g id=\"ytick_13\">\r\n     <g id=\"line2d_26\">\r\n      <g>\r\n       <use style=\"fill:#262626;stroke:#262626;stroke-width:1.25;\" x=\"376.394063\" xlink:href=\"#m16e98878af\" y=\"72.775667\"/>\r\n      </g>\r\n     </g>\r\n     <g id=\"text_20\">\r\n      <!-- 10 -->\r\n      <g style=\"fill:#1f77b4;\" transform=\"translate(385.894063 76.712464)scale(0.11 -0.11)\">\r\n       <use xlink:href=\"#ArialMT-49\"/>\r\n       <use x=\"55.615234\" xlink:href=\"#ArialMT-48\"/>\r\n      </g>\r\n     </g>\r\n    </g>\r\n    <g id=\"ytick_14\">\r\n     <g id=\"line2d_27\">\r\n      <g>\r\n       <use style=\"fill:#262626;stroke:#262626;stroke-width:1.25;\" x=\"376.394063\" xlink:href=\"#m16e98878af\" y=\"42.539652\"/>\r\n      </g>\r\n     </g>\r\n     <g id=\"text_21\">\r\n      <!-- 11 -->\r\n      <g style=\"fill:#1f77b4;\" transform=\"translate(385.894063 46.476449)scale(0.11 -0.11)\">\r\n       <use xlink:href=\"#ArialMT-49\"/>\r\n       <use x=\"48.240234\" xlink:href=\"#ArialMT-49\"/>\r\n      </g>\r\n     </g>\r\n    </g>\r\n    <g id=\"ytick_15\">\r\n     <g id=\"line2d_28\">\r\n      <g>\r\n       <use style=\"fill:#262626;stroke:#262626;stroke-width:1.25;\" x=\"376.394063\" xlink:href=\"#m16e98878af\" y=\"12.303637\"/>\r\n      </g>\r\n     </g>\r\n     <g id=\"text_22\">\r\n      <!-- 12 -->\r\n      <g style=\"fill:#1f77b4;\" transform=\"translate(385.894063 16.240434)scale(0.11 -0.11)\">\r\n       <use xlink:href=\"#ArialMT-49\"/>\r\n       <use x=\"55.615234\" xlink:href=\"#ArialMT-50\"/>\r\n      </g>\r\n     </g>\r\n    </g>\r\n    <g id=\"text_23\">\r\n     <!-- variance -->\r\n     <defs>\r\n      <path d=\"M 21 0 \r\nL 1.265625 51.859375 \r\nL 10.546875 51.859375 \r\nL 21.6875 20.796875 \r\nQ 23.484375 15.765625 25 10.359375 \r\nQ 26.171875 14.453125 28.265625 20.21875 \r\nL 39.796875 51.859375 \r\nL 48.828125 51.859375 \r\nL 29.203125 0 \r\nz\r\n\" id=\"ArialMT-118\"/>\r\n      <path d=\"M 6.5 0 \r\nL 6.5 51.859375 \r\nL 14.40625 51.859375 \r\nL 14.40625 44 \r\nQ 17.4375 49.515625 20 51.265625 \r\nQ 22.5625 53.03125 25.640625 53.03125 \r\nQ 30.078125 53.03125 34.671875 50.203125 \r\nL 31.640625 42.046875 \r\nQ 28.421875 43.953125 25.203125 43.953125 \r\nQ 22.3125 43.953125 20.015625 42.21875 \r\nQ 17.71875 40.484375 16.75 37.40625 \r\nQ 15.28125 32.71875 15.28125 27.15625 \r\nL 15.28125 0 \r\nz\r\n\" id=\"ArialMT-114\"/>\r\n      <path d=\"M 6.59375 0 \r\nL 6.59375 51.859375 \r\nL 14.5 51.859375 \r\nL 14.5 44.484375 \r\nQ 20.21875 53.03125 31 53.03125 \r\nQ 35.6875 53.03125 39.625 51.34375 \r\nQ 43.5625 49.65625 45.515625 46.921875 \r\nQ 47.46875 44.1875 48.25 40.4375 \r\nQ 48.734375 37.984375 48.734375 31.890625 \r\nL 48.734375 0 \r\nL 39.9375 0 \r\nL 39.9375 31.546875 \r\nQ 39.9375 36.921875 38.90625 39.578125 \r\nQ 37.890625 42.234375 35.28125 43.8125 \r\nQ 32.671875 45.40625 29.15625 45.40625 \r\nQ 23.53125 45.40625 19.453125 41.84375 \r\nQ 15.375 38.28125 15.375 28.328125 \r\nL 15.375 0 \r\nz\r\n\" id=\"ArialMT-110\"/>\r\n      <path d=\"M 40.4375 19 \r\nL 49.078125 17.875 \r\nQ 47.65625 8.9375 41.8125 3.875 \r\nQ 35.984375 -1.171875 27.484375 -1.171875 \r\nQ 16.84375 -1.171875 10.375 5.78125 \r\nQ 3.90625 12.75 3.90625 25.734375 \r\nQ 3.90625 34.125 6.6875 40.421875 \r\nQ 9.46875 46.734375 15.15625 49.875 \r\nQ 20.84375 53.03125 27.546875 53.03125 \r\nQ 35.984375 53.03125 41.359375 48.75 \r\nQ 46.734375 44.484375 48.25 36.625 \r\nL 39.703125 35.296875 \r\nQ 38.484375 40.53125 35.375 43.15625 \r\nQ 32.28125 45.796875 27.875 45.796875 \r\nQ 21.234375 45.796875 17.078125 41.03125 \r\nQ 12.9375 36.28125 12.9375 25.984375 \r\nQ 12.9375 15.53125 16.9375 10.796875 \r\nQ 20.953125 6.0625 27.390625 6.0625 \r\nQ 32.5625 6.0625 36.03125 9.234375 \r\nQ 39.5 12.40625 40.4375 19 \r\nz\r\n\" id=\"ArialMT-99\"/>\r\n     </defs>\r\n     <g style=\"fill:#1f77b4;\" transform=\"translate(410.7175 146.30375)rotate(-90)scale(0.12 -0.12)\">\r\n      <use xlink:href=\"#ArialMT-118\"/>\r\n      <use x=\"50\" xlink:href=\"#ArialMT-97\"/>\r\n      <use x=\"105.615234\" xlink:href=\"#ArialMT-114\"/>\r\n      <use x=\"138.916016\" xlink:href=\"#ArialMT-105\"/>\r\n      <use x=\"161.132812\" xlink:href=\"#ArialMT-97\"/>\r\n      <use x=\"216.748047\" xlink:href=\"#ArialMT-110\"/>\r\n      <use x=\"272.363281\" xlink:href=\"#ArialMT-99\"/>\r\n      <use x=\"322.363281\" xlink:href=\"#ArialMT-101\"/>\r\n     </g>\r\n    </g>\r\n   </g>\r\n   <g id=\"line2d_29\">\r\n    <path clip-path=\"url(#pf5bd620ff4)\" d=\"M 59.198608 145.03681 \r\nL 92.764265 229.468892 \r\nL 126.329921 171.976472 \r\nL 159.895578 103.259273 \r\nL 193.461234 144.278451 \r\nL 227.026891 130.270894 \r\nL 260.592547 171.551667 \r\nL 294.158204 17.784233 \r\nL 327.72386 34.26732 \r\nL 361.289517 129.702156 \r\n\" style=\"fill:none;stroke:#1f77b4;stroke-linecap:round;stroke-width:1.5;\"/>\r\n   </g>\r\n   <g id=\"patch_7\">\r\n    <path d=\"M 44.094062 240.053125 \r\nL 44.094062 7.2 \r\n\" style=\"fill:none;stroke:#ffffff;stroke-linecap:square;stroke-linejoin:miter;stroke-width:1.25;\"/>\r\n   </g>\r\n   <g id=\"patch_8\">\r\n    <path d=\"M 376.394063 240.053125 \r\nL 376.394063 7.2 \r\n\" style=\"fill:none;stroke:#ffffff;stroke-linecap:square;stroke-linejoin:miter;stroke-width:1.25;\"/>\r\n   </g>\r\n   <g id=\"patch_9\">\r\n    <path d=\"M 44.094062 240.053125 \r\nL 376.394063 240.053125 \r\n\" style=\"fill:none;stroke:#ffffff;stroke-linecap:square;stroke-linejoin:miter;stroke-width:1.25;\"/>\r\n   </g>\r\n   <g id=\"patch_10\">\r\n    <path d=\"M 44.094062 7.2 \r\nL 376.394063 7.2 \r\n\" style=\"fill:none;stroke:#ffffff;stroke-linecap:square;stroke-linejoin:miter;stroke-width:1.25;\"/>\r\n   </g>\r\n  </g>\r\n </g>\r\n <defs>\r\n  <clipPath id=\"pf5bd620ff4\">\r\n   <rect height=\"232.853125\" width=\"332.3\" x=\"44.094062\" y=\"7.2\"/>\r\n  </clipPath>\r\n </defs>\r\n</svg>\r\n",
      "text/plain": [
       "<Figure size 432x288 with 2 Axes>"
      ]
     },
     "metadata": {
      "needs_background": "light"
     },
     "output_type": "display_data"
    }
   ],
   "source": [
    "def colored_label_plot(ax, x, y, color, label):\n",
    "  ax.set_ylabel(label, color=color)\n",
    "  ax.plot(x, y, color=color, label=label)\n",
    "  ax.tick_params(axis='y', labelcolor=color)\n",
    "\n",
    "def biplot(x, y1, y2, labels=[\"depth\", \"bias$^2$\", \"variance\"]):\n",
    "  fig, ax = plt.subplots()\n",
    "  ax.set_xlabel(labels[0])\n",
    "\n",
    "  colored_label_plot(ax, x, y1, 'tab:red', labels[1])\n",
    "  ax2 = ax.twinx()\n",
    "  ax2.grid(False)\n",
    "  colored_label_plot(ax2, x, y2, 'tab:blue', labels[2])\n",
    "\n",
    "  fig.tight_layout()\n",
    "  # plt.legend()\n",
    "  plt.show()\n",
    "\n",
    "# plt.locator_params(axis='y', nbins=6)\n",
    "biplot(depths, biasvar[:,0], biasvar[:,1])"
   ]
  },
  {
   "cell_type": "markdown",
   "metadata": {},
   "source": [
    "На графике можно увидеть как с увеличением максимальной глубины дерева уменьшается $\\textrm{bias}^2$ и увиличивается variance, как и в теории должно случится с решительными (decision) деревьями.\n",
    "У нас получается компромисс (tradeoff) между bias и variance, то есть нам приходится выбирать что для нас важнее."
   ]
  },
  {
   "cell_type": "markdown",
   "metadata": {},
   "source": [
    "### Task 8 <a id=\"task8\"></a>  (0.5 points = 0.25 for code + 0.25 for comments)\n",
    "\n",
    "Let's try to reduce variance with bagging. Use `sklearn.ensemble.BaggingRegressor` to get an ensemble and compute its bias and variance. \n",
    "\n",
    "Answer the following questions:\n",
    " - How bagging should affect bias and variance in theory?\n",
    " - How bias and variance change (if they change) compared to an individual tree in you experiments? \n",
    " - Do your results align with the theory? Why?"
   ]
  },
  {
   "cell_type": "code",
   "execution_count": 19,
   "metadata": {},
   "outputs": [
    {
     "data": {
      "text/plain": [
       "(15.059070113833831, 2.9588001198345752)"
      ]
     },
     "execution_count": 19,
     "metadata": {},
     "output_type": "execute_result"
    }
   ],
   "source": [
    "from sklearn.ensemble import BaggingRegressor\n",
    "\n",
    "breg = BaggingRegressor(MyDecisionTreeRegressor(7), random_state=122)\n",
    "get_bias_variance(breg, Xtrain, ytrain, 10)"
   ]
  },
  {
   "cell_type": "markdown",
   "metadata": {},
   "source": [
    "> Such a meta-estimator can typically be used as a way to reduce the variance\n",
    "\n",
    "*it did in fact reduce variance*\n",
    "\n",
    "BaggingRegressor сильно уменшил variance и почти не изменил bias, как в принципе он и должен делать в теории.\n",
    "С теорией он совподяет, я думаю, потому что у нас нормальная ситуация и стандартные значения и какбы нет особо причин не совподять с теорией, если она праивльная."
   ]
  },
  {
   "cell_type": "markdown",
   "metadata": {},
   "source": [
    "# Part 2. More Ensembles"
   ]
  },
  {
   "cell_type": "markdown",
   "metadata": {},
   "source": [
    "In this part we will be working with [Thyroid Disease Data Set](https://archive.ics.uci.edu/ml/datasets/thyroid+disease) to solve a classification task. "
   ]
  },
  {
   "cell_type": "code",
   "execution_count": 2,
   "metadata": {},
   "outputs": [
    {
     "data": {
      "text/html": [
       "<div>\n",
       "<style scoped>\n",
       "    .dataframe tbody tr th:only-of-type {\n",
       "        vertical-align: middle;\n",
       "    }\n",
       "\n",
       "    .dataframe tbody tr th {\n",
       "        vertical-align: top;\n",
       "    }\n",
       "\n",
       "    .dataframe thead th {\n",
       "        text-align: right;\n",
       "    }\n",
       "</style>\n",
       "<table border=\"1\" class=\"dataframe\">\n",
       "  <thead>\n",
       "    <tr style=\"text-align: right;\">\n",
       "      <th></th>\n",
       "      <th>age</th>\n",
       "      <th>sex</th>\n",
       "      <th>on_thyroxine</th>\n",
       "      <th>query_on_thyroxine</th>\n",
       "      <th>on_antithyroid_medication</th>\n",
       "      <th>sick</th>\n",
       "      <th>pregnant</th>\n",
       "      <th>thyroid_surgery</th>\n",
       "      <th>I131_treatment</th>\n",
       "      <th>query_hypothyroid</th>\n",
       "      <th>...</th>\n",
       "      <th>T3</th>\n",
       "      <th>TT4_measured</th>\n",
       "      <th>TT4</th>\n",
       "      <th>T4U_measured</th>\n",
       "      <th>T4U</th>\n",
       "      <th>FTI_measured</th>\n",
       "      <th>FTI</th>\n",
       "      <th>TBG_measured</th>\n",
       "      <th>TBG</th>\n",
       "      <th>referral_source</th>\n",
       "    </tr>\n",
       "  </thead>\n",
       "  <tbody>\n",
       "    <tr>\n",
       "      <th>0</th>\n",
       "      <td>41.0</td>\n",
       "      <td>F</td>\n",
       "      <td>f</td>\n",
       "      <td>f</td>\n",
       "      <td>f</td>\n",
       "      <td>f</td>\n",
       "      <td>f</td>\n",
       "      <td>f</td>\n",
       "      <td>f</td>\n",
       "      <td>f</td>\n",
       "      <td>...</td>\n",
       "      <td>2.5</td>\n",
       "      <td>t</td>\n",
       "      <td>125.0</td>\n",
       "      <td>t</td>\n",
       "      <td>1.14</td>\n",
       "      <td>t</td>\n",
       "      <td>109.0</td>\n",
       "      <td>f</td>\n",
       "      <td>NaN</td>\n",
       "      <td>SVHC</td>\n",
       "    </tr>\n",
       "    <tr>\n",
       "      <th>1</th>\n",
       "      <td>23.0</td>\n",
       "      <td>F</td>\n",
       "      <td>f</td>\n",
       "      <td>f</td>\n",
       "      <td>f</td>\n",
       "      <td>f</td>\n",
       "      <td>f</td>\n",
       "      <td>f</td>\n",
       "      <td>f</td>\n",
       "      <td>f</td>\n",
       "      <td>...</td>\n",
       "      <td>2.0</td>\n",
       "      <td>t</td>\n",
       "      <td>102.0</td>\n",
       "      <td>f</td>\n",
       "      <td>NaN</td>\n",
       "      <td>f</td>\n",
       "      <td>NaN</td>\n",
       "      <td>f</td>\n",
       "      <td>NaN</td>\n",
       "      <td>other</td>\n",
       "    </tr>\n",
       "    <tr>\n",
       "      <th>2</th>\n",
       "      <td>46.0</td>\n",
       "      <td>M</td>\n",
       "      <td>f</td>\n",
       "      <td>f</td>\n",
       "      <td>f</td>\n",
       "      <td>f</td>\n",
       "      <td>f</td>\n",
       "      <td>f</td>\n",
       "      <td>f</td>\n",
       "      <td>f</td>\n",
       "      <td>...</td>\n",
       "      <td>NaN</td>\n",
       "      <td>t</td>\n",
       "      <td>109.0</td>\n",
       "      <td>t</td>\n",
       "      <td>0.91</td>\n",
       "      <td>t</td>\n",
       "      <td>120.0</td>\n",
       "      <td>f</td>\n",
       "      <td>NaN</td>\n",
       "      <td>other</td>\n",
       "    </tr>\n",
       "    <tr>\n",
       "      <th>3</th>\n",
       "      <td>70.0</td>\n",
       "      <td>F</td>\n",
       "      <td>t</td>\n",
       "      <td>f</td>\n",
       "      <td>f</td>\n",
       "      <td>f</td>\n",
       "      <td>f</td>\n",
       "      <td>f</td>\n",
       "      <td>f</td>\n",
       "      <td>f</td>\n",
       "      <td>...</td>\n",
       "      <td>1.9</td>\n",
       "      <td>t</td>\n",
       "      <td>175.0</td>\n",
       "      <td>f</td>\n",
       "      <td>NaN</td>\n",
       "      <td>f</td>\n",
       "      <td>NaN</td>\n",
       "      <td>f</td>\n",
       "      <td>NaN</td>\n",
       "      <td>other</td>\n",
       "    </tr>\n",
       "    <tr>\n",
       "      <th>4</th>\n",
       "      <td>70.0</td>\n",
       "      <td>F</td>\n",
       "      <td>f</td>\n",
       "      <td>f</td>\n",
       "      <td>f</td>\n",
       "      <td>f</td>\n",
       "      <td>f</td>\n",
       "      <td>f</td>\n",
       "      <td>f</td>\n",
       "      <td>f</td>\n",
       "      <td>...</td>\n",
       "      <td>1.2</td>\n",
       "      <td>t</td>\n",
       "      <td>61.0</td>\n",
       "      <td>t</td>\n",
       "      <td>0.87</td>\n",
       "      <td>t</td>\n",
       "      <td>70.0</td>\n",
       "      <td>f</td>\n",
       "      <td>NaN</td>\n",
       "      <td>SVI</td>\n",
       "    </tr>\n",
       "  </tbody>\n",
       "</table>\n",
       "<p>5 rows × 29 columns</p>\n",
       "</div>"
      ],
      "text/plain": [
       "    age sex on_thyroxine query_on_thyroxine on_antithyroid_medication sick  \\\n",
       "0  41.0   F            f                  f                         f    f   \n",
       "1  23.0   F            f                  f                         f    f   \n",
       "2  46.0   M            f                  f                         f    f   \n",
       "3  70.0   F            t                  f                         f    f   \n",
       "4  70.0   F            f                  f                         f    f   \n",
       "\n",
       "  pregnant thyroid_surgery I131_treatment query_hypothyroid  ...   T3  \\\n",
       "0        f               f              f                 f  ...  2.5   \n",
       "1        f               f              f                 f  ...  2.0   \n",
       "2        f               f              f                 f  ...  NaN   \n",
       "3        f               f              f                 f  ...  1.9   \n",
       "4        f               f              f                 f  ...  1.2   \n",
       "\n",
       "  TT4_measured    TT4 T4U_measured   T4U FTI_measured    FTI  TBG_measured  \\\n",
       "0            t  125.0            t  1.14            t  109.0             f   \n",
       "1            t  102.0            f   NaN            f    NaN             f   \n",
       "2            t  109.0            t  0.91            t  120.0             f   \n",
       "3            t  175.0            f   NaN            f    NaN             f   \n",
       "4            t   61.0            t  0.87            t   70.0             f   \n",
       "\n",
       "  TBG  referral_source  \n",
       "0 NaN             SVHC  \n",
       "1 NaN            other  \n",
       "2 NaN            other  \n",
       "3 NaN            other  \n",
       "4 NaN              SVI  \n",
       "\n",
       "[5 rows x 29 columns]"
      ]
     },
     "execution_count": 2,
     "metadata": {},
     "output_type": "execute_result"
    }
   ],
   "source": [
    "from sklearn.preprocessing import LabelEncoder\n",
    "\n",
    "df = pd.read_csv('thyroid_disease.csv')\n",
    "\n",
    "le = LabelEncoder()\n",
    "y = le.fit_transform(df['Class'])\n",
    "X = df.drop('Class', axis=1)\n",
    "X.head(5)"
   ]
  },
  {
   "cell_type": "markdown",
   "metadata": {},
   "source": [
    "### Task 1 <a id=\"task2_1\"></a> (1 point)\n",
    "\n",
    "Let's start with data preprocessing. \n",
    "\n",
    "0. Drop columns, which are not usefull (e.g. a lot of missing values). Motivate your choice. \n",
    "1. Split dataset into train and test\n",
    "2. You've probably noticed that we have both categorical and numerical columns. Here is what you need to do with them:\n",
    "    - Categorical: Fill missing values and apply one-hot-encoding (take a look at the argument `drop` in [documentation](https://scikit-learn.org/stable/modules/generated/sklearn.preprocessing.OneHotEncoder.html) to figure out the best way to apply OHE to binary variables)\n",
    "    - Numeric: Fill missing values\n",
    "    \n",
    "Use `ColumnTranformer` ([docs](https://scikit-learn.org/stable/modules/generated/sklearn.compose.ColumnTransformer.html#sklearn.compose.ColumnTransformer)) to define a single transformer for all the columns in the dataset. It takes as input a list of tuples\n",
    "\n",
    "```\n",
    "ColumnTransformer([\n",
    "    ('name1', transorm1, column_names1),\n",
    "    ('name2', transorm2, column_names2)\n",
    "])\n",
    "```\n",
    "\n",
    "Pay attention to an argument `remainder='passthrough'`. [Here](https://scikit-learn.org/stable/modules/compose.html#column-transformer) you can find some examples of how to use column transformer. \n",
    "    \n",
    "Since we want to apply 2 transformations to categorical feature, it is very convenient to combine them into a `Pipeline`:\n",
    "\n",
    "```\n",
    "double_transform = make_pipeline(\n",
    "                                 transform_1,\n",
    "                                 transform_2\n",
    "                                )\n",
    "```\n",
    "\n",
    "P.S. Choose your favourite way to fill missing values. \n",
    "\n",
    "*Hint* Categorical column usually have `dtype = 'object'`. This may help to obtain list of categorical and numerical columns in the dataset. "
   ]
  },
  {
   "cell_type": "code",
   "execution_count": 7,
   "metadata": {},
   "outputs": [],
   "source": [
    "from sklearn.pipeline import make_pipeline\n",
    "from sklearn.compose import ColumnTransformer\n",
    "from sklearn.preprocessing import OneHotEncoder\n",
    "from sklearn.impute import SimpleImputer\n",
    "from sklearn.compose import make_column_selector\n",
    "from sklearn.model_selection import train_test_split"
   ]
  },
  {
   "cell_type": "code",
   "execution_count": 8,
   "metadata": {},
   "outputs": [
    {
     "name": "stdout",
     "output_type": "stream",
     "text": [
      "колонки с нанами:  ['T3', 'T4U', 'FTI', 'TBG']\n",
      "безполезные колонки:  ['T3', 'T4U', 'FTI', 'TBG', 'TBG_measured']\n"
     ]
    }
   ],
   "source": [
    "# ищем колокни где нанов больше 10%\n",
    "tmp = X.isna().sum(axis=0) / X.shape[0]\n",
    "names = list(tmp[tmp > 0.10].index)\n",
    "print(\"колонки с нанами: \", names)\n",
    "\n",
    "# ищем колокни где только одно уникальное значение\n",
    "tmp = X.apply(pd.Series.nunique)\n",
    "names += list(tmp[tmp == 1].index)\n",
    "print(\"безполезные колонки: \", names)\n",
    "\n",
    "X_train1, X_test1, y_train, y_test = train_test_split(X.drop(columns=names), y, test_size=0.2, random_state=413)"
   ]
  },
  {
   "cell_type": "code",
   "execution_count": 9,
   "metadata": {},
   "outputs": [
    {
     "name": "stdout",
     "output_type": "stream",
     "text": [
      "{'sex': 116, 'on_thyroxine': 0, 'query_on_thyroxine': 0, 'on_antithyroid_medication': 0, 'sick': 0, 'pregnant': 0, 'thyroid_surgery': 0, 'I131_treatment': 0, 'query_hypothyroid': 0, 'query_hyperthyroid': 0, 'lithium': 0, 'goitre': 0, 'tumor': 0, 'hypopituitary': 0, 'psych': 0, 'TSH_measured': 0, 'T3_measured': 0, 'TT4_measured': 0, 'T4U_measured': 0, 'FTI_measured': 0, 'referral_source': 0}\n"
     ]
    }
   ],
   "source": [
    "print(dict(X_train1.select_dtypes(object).isna().sum(axis=0)))"
   ]
  },
  {
   "cell_type": "markdown",
   "metadata": {},
   "source": [
    "Из всех категорических колонок NaN-ы есть только в колонке `sex`, потому что все остальные на самом деле булы закодированные как `t` и `f`.\n",
    "Тут возникает сложная моральная диллема как это лучше всего заполнять.\n",
    "У нас есть пять разных вариантов:\n",
    "1. Если просто прогнать `OneHotEncoder()`, получется one hot vector из трёх елементов.\n",
    "Такой же результат у нас получится если мы пропишем `SimpleImputer(strategy='constant', fill_value='NB')`.\n",
    "    * `F⠀⠀` → `[1, 0, 0]`\n",
    "    * `M⠀⠀` → `[0, 1, 0]`\n",
    "    * `NaN` → `[0, 0, 1]`\n",
    "2. Если делать пайплайн из `SimpleImputer()` и `OneHotEncoder()`, на что нам намикает условие строчкой `from sklearn.impute import SimpleImputer`, получется один елемент. \n",
    "Тут NaN заменяется на F, потому что в нашем датасете F-ов в два раза больше чем M-ов.\n",
    "    * `F⠀⠀` → `0`\n",
    "    * `M⠀⠀` → `1`\n",
    "    * `NaN` → `0`\n",
    "3. Также можно придумать заполнять NaN рандомом в пропорциие с частотой в датасете, но `SimpleImputer()` так не умеет и нам придётся писать свой Imputer.\n",
    "    * `F⠀⠀` → `0`\n",
    "    * `M⠀⠀` → `1`\n",
    "    * `NaN` → `rand() < count(M)/count(M+F)`\n",
    "4. Или прописать его всегда $0.5$, но чтобы получить такой результат, нам нужно будет писать свой `OneHotEncoder()`.\n",
    "    * `F⠀⠀` → `0`\n",
    "    * `M⠀⠀` → `1`\n",
    "    * `NaN` → `0.5`\n",
    "5. Тогда уж можно сделать некий гибрид one hot vector-а с неуверенностью.\n",
    "    * `F⠀⠀` → `[1, 0]`\n",
    "    * `M⠀⠀` → `[0, 1]`\n",
    "    * `NaN` → `[0, 0]`\n",
    "\n",
    "> P.S. Choose your favourite way to fill missing values.\n",
    "\n",
    "Я выбрал первый вариант 🙃"
   ]
  },
  {
   "cell_type": "code",
   "execution_count": 10,
   "metadata": {},
   "outputs": [],
   "source": [
    "# можно ещё взять SimpleImputer(strategy=\"most_frequent\")\n",
    "pipeline = make_pipeline(SimpleImputer(strategy='constant', fill_value='Other'), OneHotEncoder(drop='if_binary'))\n",
    "column_transformer = ColumnTransformer([\n",
    "  ('cat', pipeline, make_column_selector(dtype_include=object)),\n",
    "  ('num', SimpleImputer(),  make_column_selector(dtype_include=float)),\n",
    "], remainder='passthrough')\n",
    "\n",
    "# Transform the data\n",
    "X_train = column_transformer.fit_transform(X_train1)\n",
    "X_test = column_transformer.transform(X_test1)"
   ]
  },
  {
   "cell_type": "code",
   "execution_count": 11,
   "metadata": {},
   "outputs": [
    {
     "data": {
      "text/plain": [
       "(3017, 30)"
      ]
     },
     "execution_count": 11,
     "metadata": {},
     "output_type": "execute_result"
    }
   ],
   "source": [
    "X_train.shape"
   ]
  },
  {
   "cell_type": "markdown",
   "metadata": {},
   "source": [
    "### Task 2 <a id=\"task2_2\"></a> (0.7 points  = 0.4 for code + 0.3 for comments)\n",
    "\n",
    "Fit and compare 5 different models (use sklearn): Gradient Boosting, Random Forest, Decision Tree, SVM, Logitics Regression\n",
    "    \n",
    "* Choose one classification metric and justify your choice.\n",
    "* Compare the models using score on cross validation. Mind the class balance when choosing the cross validation. (You can read more about different CV strategies [here](https://scikit-learn.org/stable/modules/cross_validation.html#stratified-k-fold))\n",
    "* Which model has the best performance? Which models overfit or underfit?"
   ]
  },
  {
   "cell_type": "code",
   "execution_count": 14,
   "metadata": {},
   "outputs": [
    {
     "data": {
      "text/plain": [
       "array([2835,  182], dtype=int64)"
      ]
     },
     "execution_count": 14,
     "metadata": {},
     "output_type": "execute_result"
    }
   ],
   "source": [
    "# баланс классов у нас просто ужасный\n",
    "np.unique(y_train, return_counts=True)[1]"
   ]
  },
  {
   "cell_type": "code",
   "execution_count": 41,
   "metadata": {},
   "outputs": [],
   "source": [
    "from sklearn.metrics import precision_score, recall_score, confusion_matrix, f1_score, accuracy_score, roc_curve\n",
    "\n",
    "def show_results(test_y, pred, name=\"SVC\", labels=['negative', 'positive']):\n",
    "  print(f\"{name} Precision:  {precision_score(test_y, pred, average='macro', zero_division=0):.2f}\")\n",
    "  print(f\"{name} Recall:     {recall_score(test_y, pred, average='macro'):.2f}\")\n",
    "  print(f\"{name} F1-measure: {f1_score(test_y, pred, average='macro'):.2f}\")\n",
    "  print(f\"{name} Accuracy:   {accuracy_score(test_y, pred):.2f}\")\n",
    "  \n",
    "  sns.heatmap(data=confusion_matrix(test_y, pred), annot=True, fmt=\"d\", cbar=False, xticklabels=labels, yticklabels=labels)\n",
    "  plt.ylabel(\"True\")\n",
    "  plt.xlabel(\"Predicted\")\n",
    "  plt.title(f\"Confusion matrix for {name}\")\n",
    "  plt.show()\n",
    "\n",
    "def try_models(models, scoring=f1_score, cv=False, matrix=False):\n",
    "  scoring_name = scoring.__name__.split('_')[0]\n",
    "  for m in models:\n",
    "    name = type(m).__name__.replace('Classifier', '')\n",
    "\n",
    "    if cv:\n",
    "      cvscore = cross_validate(m, X_train, y_train, cv=5, scoring=scoring_name, return_estimator=True)\n",
    "      maxidx = np.argmax(cvscore[\"test_score\"])\n",
    "      model = cvscore['estimator'][maxidx]\n",
    "      print(f\"{name} cross_validate:\", cvscore[\"test_score\"])\n",
    "    else:\n",
    "      model = m.fit(X_train, y_train)\n",
    "\n",
    "    test_pred = model.predict(X_test)\n",
    "    train_pred = model.predict(X_train)\n",
    "    test_score = scoring(y_test, test_pred)\n",
    "    train_score = scoring(y_train, train_pred)\n",
    "    print(f\"{name} оверфиттинг: {train_score > test_score} ({train_score:.2f} > {test_score:.2f})\")\n",
    "    results.append((test_score, model))\n",
    "\n",
    "    if matrix:\n",
    "      show_results(y_test, test_pred, name)"
   ]
  },
  {
   "cell_type": "code",
   "execution_count": 46,
   "metadata": {},
   "outputs": [
    {
     "name": "stdout",
     "output_type": "stream",
     "text": [
      "GradientBoosting cross_validate: [0.1        0.20689655 0.25925926 0.27906977 0.2173913 ]\n",
      "GradientBoosting оверфиттинг: True (0.45 > 0.11)\n",
      "RandomForest cross_validate: [0.0952381  0.16666667 0.23076923 0.27272727 0.25      ]\n",
      "RandomForest оверфиттинг: True (0.90 > 0.14)\n",
      "DecisionTree cross_validate: [0.28125    0.24       0.275      0.35483871 0.35135135]\n",
      "DecisionTree оверфиттинг: True (0.89 > 0.30)\n",
      "SVC cross_validate: [0.26966292 0.20320856 0.22807018 0.25339367 0.25454545]\n",
      "SVC оверфиттинг: False (0.25 > 0.27)\n",
      "LogisticRegression cross_validate: [0.26262626 0.30851064 0.29       0.35227273 0.2815534 ]\n",
      "LogisticRegression оверфиттинг: True (0.32 > 0.30)\n"
     ]
    }
   ],
   "source": [
    "from sklearn.ensemble import GradientBoostingClassifier, RandomForestClassifier\n",
    "from sklearn.tree import DecisionTreeClassifier\n",
    "from sklearn.svm import SVC\n",
    "from sklearn.linear_model import LogisticRegression\n",
    "from sklearn.model_selection import cross_validate\n",
    "\n",
    "scoring = f1_score\n",
    "models = [\n",
    "  GradientBoostingClassifier(),\n",
    "  RandomForestClassifier(class_weight=\"balanced_subsample\"),\n",
    "  DecisionTreeClassifier(class_weight=\"balanced\"),\n",
    "  SVC(class_weight=\"balanced\"),\n",
    "  LogisticRegression(class_weight=\"balanced\", max_iter=10000),\n",
    "]\n",
    "results = []\n",
    "\n",
    "np.random.seed(122)\n",
    "try_models(models, cv=True)"
   ]
  },
  {
   "cell_type": "markdown",
   "metadata": {},
   "source": [
    "Тут все модели, основанные на решительных деревьях, дают очень сильный оверфитинг, а старые добрые SVC и Logit оверфитятся сильно меньше.\n",
    "SVC кстати не оверфитится вообще; можно наеврно сказать что он андерфитится.\n",
    "Самые лучшие результаты нам даёт Logit, не смотря на то что он чуть-чуть оверфитится."
   ]
  },
  {
   "cell_type": "markdown",
   "metadata": {},
   "source": [
    "### Task 3 <a id=\"task2_3\"></a> (0.5 points = 0.4 for code + 0.1 for comments)\n",
    "\n",
    "More Gradient Boosting. Choose one of the three popular boosting implementations (xgboost, lightgbm, catboost). Select hyperparameters (number of trees, learning rate, depth) on cross-validation and compare with the methods from the previous task. "
   ]
  },
  {
   "cell_type": "code",
   "execution_count": 20,
   "metadata": {},
   "outputs": [
    {
     "name": "stdout",
     "output_type": "stream",
     "text": [
      "Requirement already satisfied: xgboost in c:\\users\\user\\appdata\\local\\programs\\python\\python38\\lib\\site-packages (1.5.0)\n",
      "Requirement already satisfied: numpy in c:\\users\\user\\appdata\\local\\programs\\python\\python38\\lib\\site-packages (from xgboost) (1.18.4)\n",
      "Requirement already satisfied: scipy in c:\\users\\user\\appdata\\local\\programs\\python\\python38\\lib\\site-packages (from xgboost) (1.4.1)\n"
     ]
    }
   ],
   "source": [
    "!pip install xgboost\n",
    "import xgboost as xgb"
   ]
  },
  {
   "cell_type": "code",
   "execution_count": 57,
   "metadata": {},
   "outputs": [],
   "source": [
    "dtrain = xgb.DMatrix(X_train, label=y_train)\n",
    "dtest = xgb.DMatrix(X_test, label=y_test)\n",
    "watchlist = [(dtest, 'eval'), (dtrain, 'train')]\n",
    "\n",
    "def eval_xgb(prams, num_round=20):\n",
    "  bst = xgb.train(prams, dtrain, num_round, watchlist, verbose_eval=False)\n",
    "\n",
    "  pred = bst.predict(dtest)\n",
    "  f1_res = []\n",
    "  for thresh in np.unique(pred):\n",
    "    binpred = 1 * (pred > thresh)\n",
    "    f1_res.append((scoring(y_test, binpred), thresh))\n",
    "  \n",
    "  mx = max(f1_res)\n",
    "  results.append((mx[0], mx[1], prams, num_round, bst))\n",
    "  # show_results(y_test, 1 * (pred > mx[1]), 'xgb')\n",
    "\n",
    "prams = {'objective': 'binary:logistic', 'eval_metric': 'auc'}\n",
    "eval_xgb({'max_depth': 1, **prams})\n",
    "eval_xgb({'max_depth': 2, **prams})\n",
    "eval_xgb({'max_depth': 3, **prams})\n",
    "eval_xgb({'max_depth': 4, **prams})\n",
    "eval_xgb({'max_depth': 6, **prams})\n",
    "eval_xgb({'max_depth': 2, **prams}, 10)\n",
    "eval_xgb({'max_depth': 2, **prams}, 100)\n",
    "eval_xgb({'max_depth': 2, **prams}, 200)"
   ]
  },
  {
   "cell_type": "markdown",
   "metadata": {},
   "source": [
    "Я выбрал `xgboost`, тк он первый в списке и почему-то уже стоял на моей системе.\n",
    "Его api чем-то напоминает си: тут мы тоже не можем просто взять и вызвать функцию, как это обычно делается в питоне, а нам надо сначало проинициализоровать все параметры и сокнвертировать всё в структуры данных, характерыне для библиотеки, которую мы используем. \n",
    "Ещё были трудности с получинием результатов из предикта: этот классификатор возвращяет нам не получившиеся классы, а масив \"вероятностей\" (проб), которой надо както интерпритировать. Это не так страшно, как могло показатся, потому что эта проблема у нас уже была в прошлой домашней работе. Нам для этого нужно подобрать порог (threshold), это можно сделать либо через `roc_curve` либо полным перебором, как сделал я. \n",
    "\n",
    "Этот метот очень сильно овефитится, если довать ему больше 100 итераций, его скоры на трейн сете будут $1.0$ а на тесте начнут уменьшатся. Поэтому я запустил его 8 раз с разными параметрами и выбрал самый лучший. `GridSearchCV` тут запустить неполучится, тк он кушает только эстиматоры из `sklearn`-а."
   ]
  },
  {
   "cell_type": "markdown",
   "metadata": {},
   "source": [
    "### Task 4 <a id=\"task2_4\"></a> (0.7 points = 0.4 for code + 0.3 for comments)\n",
    "\n",
    "Now let's train more fancy ensembles:\n",
    "\n",
    "* Bagging with decision trees as base estimators\n",
    "* Bagging with gradient boosting as base estimators (use large amount of trees in gradient boosting, >100)\n",
    "* [Voting classifier](https://scikit-learn.org/stable/modules/generated/sklearn.ensemble.VotingClassifier.html#sklearn.ensemble.VotingClassifier) \n",
    "* [Stacking Classifier](https://scikit-learn.org/stable/modules/generated/sklearn.ensemble.StackingClassifier.html#sklearn.ensemble.StackingClassifier) with Logistic Regression as a final model\n",
    "* [Stacking Classifier](https://scikit-learn.org/stable/modules/generated/sklearn.ensemble.StackingClassifier.html#sklearn.ensemble.StackingClassifier) with Gradeint Boosting as a final model\n",
    "\n",
    "\n",
    "If not stated in the task, feel free to tune / choose hyperparameters and base models.\n",
    "\n",
    "Answer the questions:\n",
    "* Which model has the best performance?\n",
    "* Does bagging reduce overfitting of the gradient boosting with large amount of trees? \n",
    "* What is the difference between voting and staking? "
   ]
  },
  {
   "cell_type": "code",
   "execution_count": 55,
   "metadata": {},
   "outputs": [
    {
     "name": "stdout",
     "output_type": "stream",
     "text": [
      "Bagging оверфиттинг: True (0.92 > 0.15)\n",
      "Bagging оверфиттинг: True (0.39 > 0.14)\n",
      "Voting оверфиттинг: True (0.95 > 0.32)\n",
      "Stacking оверфиттинг: True (0.44 > 0.33)\n",
      "Stacking оверфиттинг: True (0.67 > 0.21)\n"
     ]
    }
   ],
   "source": [
    "from sklearn.ensemble import BaggingClassifier, VotingClassifier, StackingClassifier\n",
    "\n",
    "estimators_for_voting = [\n",
    "  (type(m).__name__.replace('Classifier', ''), m) \n",
    "  for m in models\n",
    "]\n",
    "\n",
    "models2 = [\n",
    "  BaggingClassifier(DecisionTreeClassifier()),\n",
    "  BaggingClassifier(GradientBoostingClassifier(n_estimators=101)),\n",
    "  VotingClassifier(estimators_for_voting),\n",
    "  StackingClassifier(estimators_for_voting, LogisticRegression(class_weight=\"balanced\", max_iter=10000)),\n",
    "  StackingClassifier(estimators_for_voting, GradientBoostingClassifier()),\n",
    "]\n",
    "\n",
    "try_models(models2)"
   ]
  },
  {
   "cell_type": "markdown",
   "metadata": {},
   "source": [
    "Тут у нас все эстиматоры немного оферфитятся, но Voting и один из Stacking-ов получает результат лучше чем был во второй таске.\n",
    "Из этих моделей лучше всего работает Stacking из Logit-ов, что логично, потому что Logit был самым лучшем во второй таске.\n",
    "\n",
    "VotingClassifier устраивает голосование между всеми его класификаторами, и выигровает самый популярный вариант.\n",
    "А StackingClassifier использует Logit (ну или что мы там в него сунули) чтобы решить какой из более нижних классификаторов прав.\n",
    "Тоесть принимает решение не пополурность а ещё один классификатор. "
   ]
  },
  {
   "cell_type": "markdown",
   "metadata": {},
   "source": [
    "### Task 5 <a id=\"task2_5\"></a> (0.1 points)\n",
    "\n",
    "Report the test score for the best model, that you were able to get on this dataset. "
   ]
  },
  {
   "cell_type": "code",
   "execution_count": 40,
   "metadata": {},
   "outputs": [
    {
     "data": {
      "text/plain": [
       "(0.3636363636363636,\n",
       " 0.21913183,\n",
       " {'max_depth': 2, 'objective': 'binary:logistic', 'eval_metric': 'auc'},\n",
       " 100,\n",
       " <xgboost.core.Booster at 0x26c6e7ff130>)"
      ]
     },
     "execution_count": 40,
     "metadata": {},
     "output_type": "execute_result"
    }
   ],
   "source": [
    "max(results)"
   ]
  },
  {
   "cell_type": "code",
   "execution_count": null,
   "metadata": {},
   "outputs": [],
   "source": []
  }
 ],
 "metadata": {
  "interpreter": {
   "hash": "f23faf4bfe871c203c8bec80520af5927fc7cb1ae3bd834ddf554ee587ad1c05"
  },
  "kernelspec": {
   "display_name": "Python 3.8.3 64-bit",
   "name": "python3"
  },
  "language_info": {
   "codemirror_mode": {
    "name": "ipython",
    "version": 3
   },
   "file_extension": ".py",
   "mimetype": "text/x-python",
   "name": "python",
   "nbconvert_exporter": "python",
   "pygments_lexer": "ipython3",
   "version": "3.8.3"
  }
 },
 "nbformat": 4,
 "nbformat_minor": 4
}
