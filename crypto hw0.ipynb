{
 "cells": [
  {
   "cell_type": "markdown",
   "metadata": {},
   "source": [
    "<!-- # Cryptography\n",
    "## Exercise sheet 0\n",
    "AAAAAAAAAA AAAAAAA\n",
    "AAAAAAAAAAAAAAAAAAAA  -->\n",
    "\n",
    "<h1 style=\"text-align:center\">Cryptography<br/>Exercise sheet 0</h1>\n",
    "<h5 style=\"text-align:center\">\n",
    "  AAAAAAAAAA AAAAAAA<br/>\n",
    "  <a href=\"mailto:AAAAAAAAAAAAAAAAAAAA\">AAAAAAAAAAAAAAAAAAAA</a>\n",
    "</h5>"
   ]
  },
  {
   "cell_type": "markdown",
   "metadata": {},
   "source": [
    "## EX0.1 Secure email"
   ]
  },
  {
   "cell_type": "markdown",
   "metadata": {},
   "source": [
    "### (i) The email"
   ]
  },
  {
   "cell_type": "markdown",
   "metadata": {},
   "source": [
    "There are many ways to send signed emails. The text of the Exercise mentions something to do with Thunderbird, but I don't want to install an email client, and mess around with another unfamiliar program, so we're doing it the old fashioned way with command line `gpg`!\n",
    "\n",
    "First we need to create a key. Even if you have an old one, ideally this new one should be under your university email.\n",
    "\n",
    "```bash\n",
    "gpg --full-generate-key\n",
    "```\n",
    "\n",
    "It will ask you for your name, email and a bunch of random entropy.\n",
    "To check if it works we can output the full list of our gpg keys: \n",
    "\n",
    "```bash\n",
    "gpg --list-keys\n",
    "```\n",
    "\n",
    "![image.png](attachment:image.png)\n",
    "\n",
    "To sign our email, we have to first save its text into a txt file <small>(let's call it \"email.txt\")</small>, and then run this command to sign it:\n",
    "\n",
    "```bash\n",
    "gpg --clearsign --output - email.txt\n",
    "```\n",
    "\n",
    "We get the following blob of text:\n",
    "```plaintext\n",
    "-----BEGIN PGP SIGNED MESSAGE-----\n",
    "Hash: SHA256\n",
    "\n",
    "There are so many ways to send signed emails.\n",
    "\n",
    "Is this anything?\n",
    "Probably not...\n",
    "But we'll see!\n",
    "-----BEGIN PGP SIGNATURE-----\n",
    "\n",
    "iQGzBAEBCAAdFiEELsc8702qzPxCn6YPpeDTrUB1cPEFAmU2+AkACgkQpeDTrUB1\n",
    "cPHmvwv/cITYfaF4Bq7rFm/dISdbSnmWpEzKEjBwGXNUWvQ2uUJ32eTyBSH+D3me\n",
    "5H99tQNEMc/Q7oPlTtboeoVZOVduAQStUMMIpwa0ubrU6AvKvdmpCuTkt7lVHUsX\n",
    "nUXFHIvihGZtE7yLJA87ZsaZ9d6Nq0tQMgw+Z9egzVHN7jLz8XS5/nmEgHKpX110\n",
    "ScTdzAU28wFotakQhQFzkg9e+y7mCDS0ACaIx/OazgVz6fo0q7G3Zm+W+CA5DB7T\n",
    "mL1ut1+bfsMmN6sJVtIaBiC4hzi75/xWSrw4cIqGvvqm6uXTKlv/DVXwU5Ynm692\n",
    "ClOtCnlXfGMkr+OiqTnISa2i85YgdF81Tnus5K5FwD8iSeM/FL+VpJqZkf7kcF+5\n",
    "L84nfaerrRlNsyjGy/591Np/erKzM8ohZaBik+G08aV4bTsu94F+HdL/EWIJHhLD\n",
    "B4JI6NhMG573tCGYCRvhkxzh6ihwtizKGjcju7gG3Vy006oKstGjm0/PLA3/4HCI\n",
    "v1JvMg6l\n",
    "=cJ4y\n",
    "-----END PGP SIGNATURE-----\n",
    "```\n",
    "\n",
    "And then we can just copy paste it into any email client we like, and send it like a normal email!!\n",
    "\n",
    "But we forgot to attach the public key... It has to be exported first:\n",
    "\n",
    "```bash\n",
    "gpg --armor --export AAAAAAAAAAAAAAAAAAAA\n",
    "```"
   ]
  },
  {
   "cell_type": "markdown",
   "metadata": {},
   "source": [
    "### (ii) The fingerprint"
   ]
  },
  {
   "cell_type": "markdown",
   "metadata": {},
   "source": [
    "We actually already know the fingerprint! It's the string of hex digits outputted by our `--list-keys` command.\n",
    "\n",
    "For me it would be `FA27305CDA8014470562437AB58B4B03372C85CA` and the `0xB58B4B03372C85CA` is the shorter version.\n",
    "\n",
    "> (Do not send an email with it. Guess, why!)\n",
    "\n",
    "I actually have no idea... It would make sense not to send it to anyone if it was the private key, but no.\n",
    "Also some simpler cyphers are vulnerable to not being able to encrypt their own keys, but I don't think it applies to RSA, and even if it does, our key is hashed and ascii-hex encoded...\n",
    "I guess it would just be redundant, because we're already sending our whole public key with the email 🤔"
   ]
  },
  {
   "cell_type": "markdown",
   "metadata": {},
   "source": [
    "## EX0.2 Monoalphabetic cipher"
   ]
  },
  {
   "cell_type": "markdown",
   "metadata": {},
   "source": [
    "### (i) Compute the frequency table."
   ]
  },
  {
   "cell_type": "markdown",
   "metadata": {},
   "source": [
    "First we have to load the text into our programming language of choice <small>(Python of course)</small>.\n",
    "There's a file `exercises/00-mono.txt` in our Sciebo folder, so we can just grab that."
   ]
  },
  {
   "cell_type": "code",
   "execution_count": 1,
   "metadata": {},
   "outputs": [
    {
     "data": {
      "text/plain": [
       "\"QDH FAX YN XKT ANRKDHXTJ PDROMDXTHG FQ XKT ANQDGKYFNDPET  TNJ  FQ\\nXKT  MTGXTHN  GWYHDE  DHU  FQ  XKT CDEDSI EYTG D GUDEE ANHTCDHJTJ\\nITEEFM GAN.\\n\\nFHPYXYNC XKYG DX D JYGXDNRT FQ HFACKEI NYNTXI-XMF  UYEEYFN  UYETG\\nYG  DN  AXXTHEI YNGYCNYQYRDNX EYXXET PEAT CHTTN WEDNTX MKFGT DWT-\\nJTGRTNJTJ EYQT QFHUG DHT GF DUDBYNCEI WHYUYXYVT XKDX  XKTI  GXYEE\\nXKYNO JYCYXDE MDXRKTG DHT D WHTXXI NTDX YJTD.\\n\\nXKYG WEDNTX KDG - FH HDXKTH KDJ - D WHFPETU, MKYRK MDG XKYG: UFGX\\nFQ  XKT  WTFWET  FN  YX MTHT ANKDWWI QFH WHTXXI UARK FQ XKT XYUT.\\nUDNI GFEAXYFNG MTHT GACCTGXTJ QFH XKYG WHFPETU, PAX UFGX FQ XKTGT\\nMTHT  EDHCTEI  RFNRTHNTJ MYXK XKT UFVTUTNXG FQ GUDEE CHTTN WYTRTG\\nFQ WDWTH, MKYRK YG FJJ PTRDAGT FN XKT MKFET YX MDGN'X  XKT  GUDEE\\nCHTTN WYTRTG FQ WDWTH XKDX MTHT ANKDWWI.\\n\\nDNJ GF XKT WHFPETU HTUDYNTJ; EFXG FQ XKT WTFWET  MTHT  UTDN,  DNJ\\nUFGX FQ XKTU MTHT UYGTHDPET, TVTN XKT FNTG MYXK JYCYXDE MDXRKTG.\\n\\nUDNI MTHT YNRHTDGYNCEI FQ XKT FWYNYFN XKDX XKTI'J DEE UDJT D  PYC\\nUYGXDOT  YN  RFUYNC  JFMN  QHFU XKT XHTTG YN XKT QYHGX WEDRT. DNJ\\nGFUT GDYJ XKDX TVTN XKT XHTTG KDJ PTTN D PDJ UFVT,  DNJ  XKDX  NF\\nFNT GKFAEJ TVTH KDVT ETQX XKT FRTDNG.\\n\\nDNJ XKTN, FNT XKAHGJDI, NTDHEI XMF XKFAGDNJ ITDHG DQXTH  FNT  UDN\\nKDJ  PTTN NDYETJ XF D XHTT QFH GDIYNC KFM CHTDX YX MFAEJ PT XF PT\\nNYRT XF WTFWET QFH D RKDNCT, FNT CYHE GYXXYNC FN  KTH  FMN  YN  D\\nGUDEE  RDQT  YN  HYROUDNGMFHXK GAJJTNEI HTDEYBTJ MKDX YX MDG XKDX\\nKDJ PTTN CFYNC MHFNC DEE XKYG XYUT, DNJ GKT QYNDEEI ONTM KFM  XKT\\nMFHEJ  RFAEJ  PT  UDJT  D  CFFJ DNJ KDWWI WEDRT. XKYG XYUT YX MDG\\nHYCKX, YX MFAEJ MFHO, DNJ NF FNT MFAEJ  KDVT  XF  CTX  NDYETJ  XF\\nDNIXKYNC.\\n\\nGDJEI, KFMTVTH, PTQFHT GKT RFAEJ CTX XF D WKFNT  XF  XTEE  DNIFNT-\\nDPFAX  YX,  D  XTHHYPEI GXAWYJ RDXDGXHFWKT FRRAHHTJ, DNJ XKT YJTD\\nMDG EFGX QFHTVTH.\\n\""
      ]
     },
     "execution_count": 1,
     "metadata": {},
     "output_type": "execute_result"
    }
   ],
   "source": [
    "ciphertext = open(\"exercises/00-mono.txt\", 'r').read()\n",
    "ciphertext\n"
   ]
  },
  {
   "cell_type": "markdown",
   "metadata": {},
   "source": [
    "The code is very similar to what we've done on the tutorial today <small>(in the `00-the-gold-bug.ipynb` notebook)</small>, only a lot better 🙂"
   ]
  },
  {
   "cell_type": "code",
   "execution_count": 2,
   "metadata": {},
   "outputs": [
    {
     "data": {
      "text/plain": [
       "Counter({'Q': 30,\n",
       "         'D': 118,\n",
       "         'H': 73,\n",
       "         'F': 98,\n",
       "         'A': 27,\n",
       "         'X': 125,\n",
       "         'Y': 84,\n",
       "         'N': 95,\n",
       "         'K': 78,\n",
       "         'T': 182,\n",
       "         'R': 29,\n",
       "         'J': 54,\n",
       "         'P': 21,\n",
       "         'O': 6,\n",
       "         'M': 39,\n",
       "         'G': 72,\n",
       "         'E': 70,\n",
       "         'W': 34,\n",
       "         'U': 37,\n",
       "         'C': 30,\n",
       "         'S': 1,\n",
       "         'I': 27,\n",
       "         'B': 2,\n",
       "         'V': 10})"
      ]
     },
     "execution_count": 2,
     "metadata": {},
     "output_type": "execute_result"
    }
   ],
   "source": [
    "from collections import Counter\n",
    "\n",
    "# remove everything that's not a letter. because these symbols will pass thru the cipher unchanged\n",
    "clean_ciphertext = [x for x  in ciphertext if x.isalpha()]\n",
    "counter = Counter(clean_ciphertext)\n",
    "counter\n"
   ]
  },
  {
   "cell_type": "markdown",
   "metadata": {},
   "source": [
    "And these are our frequencies! We're done of part (i)."
   ]
  },
  {
   "cell_type": "markdown",
   "metadata": {},
   "source": [
    "### (ii) Decrypt."
   ]
  },
  {
   "cell_type": "markdown",
   "metadata": {},
   "source": [
    "Here we have the decryption function from the seminar, but this time written in one line. Also it has time complexity $O(n)$, and not $O(n^2)$, because we aren't concatenating strings all the time 😈 <small>(sorry for complaining about the code)</small>\n",
    "\n",
    "The first function substitutes all the characters that are already known in our key, ignores non-letters and replaces everything else with underscores.\n",
    "I also added a second function, to help with the manual decoding effort. It mixes together deciphered and original characters <small>(you can tell which is which, based on the case. i'm gonna make all deciphered characters lowercase)</small>, so it's easy to tell what cipher character is needed in an almost completed word."
   ]
  },
  {
   "cell_type": "code",
   "execution_count": 3,
   "metadata": {},
   "outputs": [],
   "source": [
    "def decrypt(ciphertext, key):\n",
    "  return \"\".join(key[x] if x in key else \"_\" if x.isalpha() else x for x in ciphertext)\n",
    "\n",
    "def decrypt_mixed(ciphertext, key):\n",
    "  return \"\".join(key[x] if x in key else x for x in ciphertext)\n"
   ]
  },
  {
   "cell_type": "markdown",
   "metadata": {},
   "source": [
    "Also, as int that tutorial, we should load the letter frequency table for english. And plot it next to our ciphertext frequency table."
   ]
  },
  {
   "cell_type": "code",
   "execution_count": 4,
   "metadata": {},
   "outputs": [],
   "source": [
    "english_letter_freq = {\n",
    "  'a': 8.2,\n",
    "  'b': 1.5,\n",
    "  'c': 2.8,\n",
    "  'd': 4.2,\n",
    "  'e': 12.7,\n",
    "  'f': 2.2,\n",
    "  'g': 2.0,\n",
    "  'h': 6.1,\n",
    "  'i': 7.0,\n",
    "  'j': 0.1,\n",
    "  'k': 0.8,\n",
    "  'l': 4.0,\n",
    "  'm': 2.4,\n",
    "  'n': 6.7,\n",
    "  'o': 7.5,\n",
    "  'p': 1.9,\n",
    "  'q': 0.1,\n",
    "  'r': 6.0,\n",
    "  's': 6.3,\n",
    "  't': 9.0,\n",
    "  'u': 2.8,\n",
    "  'v': 1.0,\n",
    "  'w': 2.4,\n",
    "  'x': 2.0,\n",
    "  'y': 0.1,\n",
    "  'z': 0.1,\n",
    "}\n"
   ]
  },
  {
   "cell_type": "code",
   "execution_count": 5,
   "metadata": {},
   "outputs": [],
   "source": [
    "import matplotlib.pyplot as plt\n",
    "import numpy as np\n"
   ]
  },
  {
   "cell_type": "code",
   "execution_count": 6,
   "metadata": {},
   "outputs": [
    {
     "data": {
      "image/png": "[encoded data removed]",
      "text/plain": [
       "<Figure size 1080x360 with 2 Axes>"
      ]
     },
     "metadata": {
      "needs_background": "light"
     },
     "output_type": "display_data"
    }
   ],
   "source": [
    "common = counter.most_common()\n",
    "X1 = [k for k,v in common]\n",
    "Y1 = np.array([v for k,v in common])\n",
    "Y1 = Y1/sum(Y1)*100 # normalize it so it's the same as the english data we have\n",
    "\n",
    "english = sorted(english_letter_freq.items(), key=lambda x: -x[1])\n",
    "X2 = [k for k,v in english]\n",
    "Y2 = np.array([v for k,v in english])\n",
    "\n",
    "fig, (ax1, ax2) = plt.subplots(1, 2, figsize=(15, 5))\n",
    "ax1.bar(X1, Y1, color='C1')\n",
    "ax2.bar(X2, Y2, color='C2')\n",
    "plt.show()\n"
   ]
  },
  {
   "cell_type": "markdown",
   "metadata": {},
   "source": [
    "I also write some helper code to store the history of our key, and make it easer to iterate on it."
   ]
  },
  {
   "cell_type": "code",
   "execution_count": 34,
   "metadata": {},
   "outputs": [],
   "source": [
    "# ignore this code: it's here to make everything else look pretty\n",
    "key_history = [{}]\n",
    "key = {}\n",
    "decrypted = \"\"\n",
    "mixed = \"\"\n",
    "def make_assignment(k, v, i=-1):\n",
    "  global key_history, key, decrypted, mixed\n",
    "\n",
    "  key = key_history[i]\n",
    "  if i != -1:\n",
    "    key_history = key_history[:(i+1)]\n",
    "    key = {**key}\n",
    "    key_history.append(key)\n",
    "  key.update({k: v})\n",
    "  decrypted = decrypt(ciphertext, key)\n",
    "  mixed = decrypt_mixed(ciphertext, key)\n"
   ]
  },
  {
   "cell_type": "markdown",
   "metadata": {},
   "source": [
    "We can safely pick \"T -> e\", but the other letters aren't so obvious. \"X\" and \"D\" could be \"t\" and \"a\" or they could be the other way a around!"
   ]
  },
  {
   "cell_type": "code",
   "execution_count": 35,
   "metadata": {},
   "outputs": [
    {
     "name": "stdout",
     "output_type": "stream",
     "text": [
      "___ ___ __ __e _______e_ _______e__ __ __e ____________e  e__  __\n",
      "__e  _e__e__  ______  ___  __  __e ______ __e_ _ _____ ___e____e_\n",
      "_e____ ___.\n",
      "\n",
      "________ ____ __ _ _______e __ _______ ___e__-___  _______  ___e_\n",
      "__  __  ___e___ _____________ _____e ___e __ee_ ____e_ ____e __e-\n",
      "_e__e__e_ ___e _____ __e __ _________ ________e ____  __e_  _____\n",
      "_____ _______ _____e_ __e _ __e___ _e__ __e_.\n",
      "\n",
      "____ ____e_ ___ - __ ____e_ ___ - _ _____e_, _____ ___ ____: ____\n",
      "__  __e  _e___e  __  __ _e_e _______ ___ __e___ ____ __ __e ___e.\n",
      "____ _________ _e_e ____e__e_ ___ ____ _____e_, ___ ____ __ __e_e\n",
      "_e_e  ____e__  ____e__e_ ____ __e ___e_e___ __ _____ __ee_ __e_e_\n",
      "__ ___e_, _____ __ ___ _e____e __ __e ____e __ ____'_  __e  _____\n",
      "__ee_ __e_e_ __ ___e_ ____ _e_e _______.\n",
      "\n",
      "___ __ __e _____e_ _e____e_; ____ __ __e _e___e  _e_e  _e__,  ___\n",
      "____ __ __e_ _e_e ___e____e, e_e_ __e __e_ ____ _______ _____e_.\n",
      "\n",
      "____ _e_e ____e_______ __ __e _______ ____ __e_'_ ___ ___e _  ___\n",
      "______e  __  ______  ____  ____ __e __ee_ __ __e _____ ____e. ___\n",
      "___e ____ ____ e_e_ __e __ee_ ___ _ee_ _ ___ ___e,  ___  ____  __\n",
      "__e ______ e_e_ ___e _e__ __e __e___.\n",
      "\n",
      "___ __e_, __e ________, _e____ ___ ________ _e___ ___e_  __e  ___\n",
      "___  _ee_ ____e_ __ _ __ee ___ ______ ___ __e__ __ _____ _e __ _e\n",
      "___e __ _e___e ___ _ _____e, __e ____ _______ __  _e_  ___  __  _\n",
      "_____  ___e  __  _____________ ____e___ _e____e_ ____ __ ___ ____\n",
      "___ _ee_ _____ _____ ___ ____ ___e, ___ __e _______ __e_ ___  __e\n",
      "_____  _____  _e  ___e  _  ____ ___ _____ ____e. ____ ___e __ ___\n",
      "_____, __ _____ ____, ___ __ __e _____  ___e  __  _e_  ____e_  __\n",
      "________.\n",
      "\n",
      "_____, ___e_e_, _e___e __e _____ _e_ __ _ ____e  __  _e__  _____e-\n",
      "_____  __,  _  _e______ ______ __________e ______e_, ___ __e __e_\n",
      "___ ____ ___e_e_.\n",
      "\n"
     ]
    }
   ],
   "source": [
    "make_assignment('T', 'e', 0)\n",
    "print(decrypted)\n"
   ]
  },
  {
   "cell_type": "markdown",
   "metadata": {},
   "source": [
    "Because this time the ciphertext is clearly separated into words, we can find the most frequent ones and look for \"the\" in them. It's already convenient to use the partially deciphered `mixed` variable for this."
   ]
  },
  {
   "cell_type": "code",
   "execution_count": 8,
   "metadata": {},
   "outputs": [
    {
     "data": {
      "text/plain": [
       "[('XKe', 19), ('FQ', 13), ('D', 12), ('DNJ', 9), ('YX', 7)]"
      ]
     },
     "execution_count": 8,
     "metadata": {},
     "output_type": "execute_result"
    }
   ],
   "source": [
    "def common_words(text: str, n=5):\n",
    "  clean_text = \"\".join(x if x.isalpha() else \" \" for x in text)\n",
    "  counter = Counter(clean_text.split())\n",
    "  return counter.most_common(n)\n",
    "\n",
    "common_words(mixed)\n"
   ]
  },
  {
   "cell_type": "markdown",
   "metadata": {},
   "source": [
    "The first word is \"XKe\" and we already had a hypotheses that \"X\" is \"t\", so this lines up pretty well with it being \"the\". And the word \"D\" lines up with being \"a\"."
   ]
  },
  {
   "cell_type": "code",
   "execution_count": 36,
   "metadata": {},
   "outputs": [
    {
     "name": "stdout",
     "output_type": "stream",
     "text": [
      "_a_ __t __ the ___ha_te_ _a___ate__ __ the ___a_h___a__e  e__  __\n",
      "the  _e_te__  ____a_  a__  __  the _a_a__ __e_ a __a__ ___e_a__e_\n",
      "_e____ ___.\n",
      "\n",
      "____t___ th__ at a ___ta__e __ ____h__ ___et_-t__  _______  ___e_\n",
      "__  a_  _tte___ __________a_t __tt_e ___e __ee_ __a_et _h__e a_e-\n",
      "_e__e__e_ ___e _____ a_e __ a_a______ _____t__e that  the_  _t___\n",
      "th___ ____ta_ _at_he_ a_e a __ett_ _eat __ea.\n",
      "\n",
      "th__ __a_et ha_ - __ _athe_ ha_ - a _____e_, _h__h _a_ th__: ___t\n",
      "__  the  _e___e  __  _t _e_e __ha___ ___ __ett_ ___h __ the t__e.\n",
      "_a__ ____t____ _e_e ____e_te_ ___ th__ _____e_, __t ___t __ the_e\n",
      "_e_e  _a__e__  ____e__e_ __th the ___e_e_t_ __ __a__ __ee_ __e_e_\n",
      "__ _a_e_, _h__h __ ___ _e_a__e __ the _h__e _t _a__'t  the  __a__\n",
      "__ee_ __e_e_ __ _a_e_ that _e_e __ha___.\n",
      "\n",
      "a__ __ the _____e_ _e_a__e_; __t_ __ the _e___e  _e_e  _ea_,  a__\n",
      "___t __ the_ _e_e ___e_a__e, e_e_ the __e_ __th ____ta_ _at_he_.\n",
      "\n",
      "_a__ _e_e ____ea______ __ the _______ that the_'_ a__ _a_e a  ___\n",
      "___ta_e  __  ______  ____  ____ the t_ee_ __ the ____t __a_e. a__\n",
      "___e _a__ that e_e_ the t_ee_ ha_ _ee_ a _a_ ___e,  a__  that  __\n",
      "__e _h____ e_e_ ha_e _e_t the __ea__.\n",
      "\n",
      "a__ the_, __e th____a_, _ea___ t__ th___a__ _ea__ a_te_  __e  _a_\n",
      "ha_  _ee_ _a__e_ t_ a t_ee ___ _a____ h__ __eat _t _____ _e t_ _e\n",
      "___e t_ _e___e ___ a _ha__e, __e ____ __tt___ __  he_  ___  __  a\n",
      "__a__  _a_e  __  _____a_____th ____e___ _ea___e_ _hat _t _a_ that\n",
      "ha_ _ee_ _____ _____ a__ th__ t__e, a__ _he ___a___ __e_ h__  the\n",
      "_____  _____  _e  _a_e  a  ____ a__ ha___ __a_e. th__ t__e _t _a_\n",
      "___ht, _t _____ ____, a__ __ __e _____  ha_e  t_  _et  _a__e_  t_\n",
      "a__th___.\n",
      "\n",
      "_a___, h__e_e_, _e___e _he _____ _et t_ a _h__e  t_  te__  a____e-\n",
      "a___t  _t,  a  te______ _t____ _ata_t___he ______e_, a__ the __ea\n",
      "_a_ ___t ___e_e_.\n",
      "\n"
     ]
    }
   ],
   "source": [
    "make_assignment('X', 't', 1)\n",
    "make_assignment('D', 'a')\n",
    "make_assignment('K', 'h')\n",
    "print(decrypted)\n"
   ]
  },
  {
   "cell_type": "markdown",
   "metadata": {},
   "source": [
    "Look at how many \"that\"-s we got!! We're clearly doing something right!\n",
    "If assigning the first 3 letters by frequency alone worked out so well, let's just do more of the same.\n",
    "Assigning \"F\" -> \"o\"."
   ]
  },
  {
   "cell_type": "code",
   "execution_count": 37,
   "metadata": {},
   "outputs": [
    {
     "name": "stdout",
     "output_type": "stream",
     "text": [
      "_a_ o_t __ the ___ha_te_ _a___ate__ o_ the ___a_h_o_a__e  e__  o_\n",
      "the  _e_te__  ____a_  a__  o_  the _a_a__ __e_ a __a__ ___e_a__e_\n",
      "_e__o_ ___.\n",
      "\n",
      "o___t___ th__ at a ___ta__e o_ _o__h__ ___et_-t_o  _____o_  ___e_\n",
      "__  a_  _tte___ __________a_t __tt_e ___e __ee_ __a_et _ho_e a_e-\n",
      "_e__e__e_ ___e _o___ a_e _o a_a______ _____t__e that  the_  _t___\n",
      "th___ ____ta_ _at_he_ a_e a __ett_ _eat __ea.\n",
      "\n",
      "th__ __a_et ha_ - o_ _athe_ ha_ - a __o__e_, _h__h _a_ th__: _o_t\n",
      "o_  the  _eo__e  o_  _t _e_e __ha___ _o_ __ett_ ___h o_ the t__e.\n",
      "_a__ _o__t_o__ _e_e ____e_te_ _o_ th__ __o__e_, __t _o_t o_ the_e\n",
      "_e_e  _a__e__  _o__e__e_ __th the _o_e_e_t_ o_ __a__ __ee_ __e_e_\n",
      "o_ _a_e_, _h__h __ o__ _e_a__e o_ the _ho_e _t _a__'t  the  __a__\n",
      "__ee_ __e_e_ o_ _a_e_ that _e_e __ha___.\n",
      "\n",
      "a__ _o the __o__e_ _e_a__e_; _ot_ o_ the _eo__e  _e_e  _ea_,  a__\n",
      "_o_t o_ the_ _e_e ___e_a__e, e_e_ the o_e_ __th ____ta_ _at_he_.\n",
      "\n",
      "_a__ _e_e ____ea______ o_ the o____o_ that the_'_ a__ _a_e a  ___\n",
      "___ta_e  __  _o____  _o__  __o_ the t_ee_ __ the ____t __a_e. a__\n",
      "_o_e _a__ that e_e_ the t_ee_ ha_ _ee_ a _a_ _o_e,  a__  that  _o\n",
      "o_e _ho___ e_e_ ha_e _e_t the o_ea__.\n",
      "\n",
      "a__ the_, o_e th____a_, _ea___ t_o tho__a__ _ea__ a_te_  o_e  _a_\n",
      "ha_  _ee_ _a__e_ to a t_ee _o_ _a____ ho_ __eat _t _o___ _e to _e\n",
      "___e to _eo__e _o_ a _ha__e, o_e ____ __tt___ o_  he_  o__  __  a\n",
      "__a__  _a_e  __  _____a___o_th ____e___ _ea___e_ _hat _t _a_ that\n",
      "ha_ _ee_ _o___ __o__ a__ th__ t__e, a__ _he ___a___ __e_ ho_  the\n",
      "_o___  _o___  _e  _a_e  a  _oo_ a__ ha___ __a_e. th__ t__e _t _a_\n",
      "___ht, _t _o___ _o__, a__ _o o_e _o___  ha_e  to  _et  _a__e_  to\n",
      "a__th___.\n",
      "\n",
      "_a___, ho_e_e_, _e_o_e _he _o___ _et to a _ho_e  to  te__  a__o_e-\n",
      "a_o_t  _t,  a  te______ _t____ _ata_t_o_he o_____e_, a__ the __ea\n",
      "_a_ _o_t _o_e_e_.\n",
      "\n"
     ]
    }
   ],
   "source": [
    "make_assignment('F', 'o', 2)\n",
    "print(decrypted)\n"
   ]
  },
  {
   "cell_type": "markdown",
   "metadata": {},
   "source": [
    "Let's look at the common words again. It might be easer to see something with more decrypted letters."
   ]
  },
  {
   "cell_type": "code",
   "execution_count": 42,
   "metadata": {},
   "outputs": [
    {
     "data": {
      "text/plain": [
       "[('the', 19),\n",
       " ('oQ', 13),\n",
       " ('a', 12),\n",
       " ('aNJ', 9),\n",
       " ('Yt', 7),\n",
       " ('MeHe', 7),\n",
       " ('to', 7),\n",
       " ('thYG', 6),\n",
       " ('that', 6),\n",
       " ('YN', 5),\n",
       " ('oNe', 5)]"
      ]
     },
     "execution_count": 42,
     "metadata": {},
     "output_type": "execute_result"
    }
   ],
   "source": [
    "common_words(mixed, 11)\n"
   ]
  },
  {
   "cell_type": "markdown",
   "metadata": {},
   "source": [
    "The 'oQ' might be 'of', 'oNe' looks suspiciously like 'one' and 'aNJ' is probably 'and'.\n",
    "Let's test them out."
   ]
  },
  {
   "cell_type": "code",
   "execution_count": 43,
   "metadata": {},
   "outputs": [
    {
     "name": "stdout",
     "output_type": "stream",
     "text": [
      "fa_ o_t _n the _n_ha_ted _a___ate__ of the _nfa_h_ona__e  end  of\n",
      "the  _e_te_n  ____a_  a__  of  the _a_a__ __e_ a __a__ _n_e_a_ded\n",
      "_e__o_ __n.\n",
      "\n",
      "o___t_n_ th__ at a d__tan_e of _o__h__ n_net_-t_o  _____on  ___e_\n",
      "__  an  _tte___ _n___n_f__ant __tt_e ___e __een __anet _ho_e a_e-\n",
      "de__ended __fe fo___ a_e _o a_a__n___ _____t__e that  the_  _t___\n",
      "th_n_ d___ta_ _at_he_ a_e a __ett_ neat _dea.\n",
      "\n",
      "th__ __anet ha_ - o_ _athe_ had - a __o__e_, _h__h _a_ th__: _o_t\n",
      "of  the  _eo__e  on  _t _e_e _nha___ fo_ __ett_ ___h of the t__e.\n",
      "_an_ _o__t_on_ _e_e ____e_ted fo_ th__ __o__e_, __t _o_t of the_e\n",
      "_e_e  _a__e__  _on_e_ned __th the _o_e_ent_ of __a__ __een __e_e_\n",
      "of _a_e_, _h__h __ odd _e_a__e on the _ho_e _t _a_n't  the  __a__\n",
      "__een __e_e_ of _a_e_ that _e_e _nha___.\n",
      "\n",
      "and _o the __o__e_ _e_a_ned; _ot_ of the _eo__e  _e_e  _ean,  and\n",
      "_o_t of the_ _e_e ___e_a__e, e_en the one_ __th d___ta_ _at_he_.\n",
      "\n",
      "_an_ _e_e _n__ea__n___ of the o__n_on that the_'d a__ _ade a  ___\n",
      "___ta_e  _n  _o__n_  do_n  f_o_ the t_ee_ _n the f___t __a_e. and\n",
      "_o_e _a_d that e_en the t_ee_ had _een a _ad _o_e,  and  that  no\n",
      "one _ho__d e_e_ ha_e _eft the o_ean_.\n",
      "\n",
      "and then, one th___da_, nea___ t_o tho__and _ea__ afte_  one  _an\n",
      "had  _een na__ed to a t_ee fo_ _a__n_ ho_ __eat _t _o__d _e to _e\n",
      "n__e to _eo__e fo_ a _han_e, one ____ __tt_n_ on  he_  o_n  _n  a\n",
      "__a__  _afe  _n  _____an__o_th __dden__ _ea___ed _hat _t _a_ that\n",
      "had _een _o_n_ __on_ a__ th__ t__e, and _he f_na___ _ne_ ho_  the\n",
      "_o__d  _o__d  _e  _ade  a  _ood and ha___ __a_e. th__ t__e _t _a_\n",
      "___ht, _t _o__d _o__, and no one _o__d  ha_e  to  _et  na__ed  to\n",
      "an_th_n_.\n",
      "\n",
      "_ad__, ho_e_e_, _efo_e _he _o__d _et to a _hone  to  te__  an_one-\n",
      "a_o_t  _t,  a  te______ _t___d _ata_t_o_he o_____ed, and the _dea\n",
      "_a_ _o_t fo_e_e_.\n",
      "\n"
     ]
    }
   ],
   "source": [
    "make_assignment('Q', 'f', 3)\n",
    "make_assignment('N', 'n')\n",
    "make_assignment('J', 'd')\n",
    "print(decrypted)\n"
   ]
  },
  {
   "cell_type": "markdown",
   "metadata": {},
   "source": [
    "Look very good. All the word look real so far. The phrase \"\\_\\_ett\\_ neat \\_dea\" (actually \"WHettI neat Ydea\") look like a \"pretty neat idea\". Let's use that idea 🙂"
   ]
  },
  {
   "cell_type": "code",
   "execution_count": 46,
   "metadata": {},
   "outputs": [
    {
     "name": "stdout",
     "output_type": "stream",
     "text": [
      "far o_t in the _n_harted _a___ater_ of the _nfa_hiona__e  end  of\n",
      "the  _e_tern  _pira_  ar_  of  the _a_a_y _ie_ a __a__ _nre_arded\n",
      "ye__o_ __n.\n",
      "\n",
      "or_itin_ thi_ at a di_tan_e of ro__h_y ninety-t_o  _i__ion  _i_e_\n",
      "i_  an  _tter_y in_i_nifi_ant _itt_e ___e _reen p_anet _ho_e ape-\n",
      "de__ended _ife for__ are _o a_a_in__y pri_iti_e that  they  _ti__\n",
      "thin_ di_ita_ _at_he_ are a pretty neat idea.\n",
      "\n",
      "thi_ p_anet ha_ - or rather had - a pro__e_, _hi_h _a_ thi_: _o_t\n",
      "of  the  peop_e  on  it _ere _nhappy for pretty ___h of the ti_e.\n",
      "_any _o__tion_ _ere ____e_ted for thi_ pro__e_, __t _o_t of the_e\n",
      "_ere  _ar_e_y  _on_erned _ith the _o_e_ent_ of __a__ _reen pie_e_\n",
      "of paper, _hi_h i_ odd _e_a__e on the _ho_e it _a_n't  the  __a__\n",
      "_reen pie_e_ of paper that _ere _nhappy.\n",
      "\n",
      "and _o the pro__e_ re_ained; _ot_ of the peop_e  _ere  _ean,  and\n",
      "_o_t of the_ _ere _i_era__e, e_en the one_ _ith di_ita_ _at_he_.\n",
      "\n",
      "_any _ere in_rea_in__y of the opinion that they'd a__ _ade a  _i_\n",
      "_i_ta_e  in  _o_in_  do_n  fro_ the tree_ in the fir_t p_a_e. and\n",
      "_o_e _aid that e_en the tree_ had _een a _ad _o_e,  and  that  no\n",
      "one _ho__d e_er ha_e _eft the o_ean_.\n",
      "\n",
      "and then, one th_r_day, near_y t_o tho__and year_ after  one  _an\n",
      "had  _een nai_ed to a tree for _ayin_ ho_ _reat it _o__d _e to _e\n",
      "ni_e to peop_e for a _han_e, one _ir_ _ittin_ on  her  o_n  in  a\n",
      "__a__  _afe  in  ri___an__orth __dden_y rea_i_ed _hat it _a_ that\n",
      "had _een _oin_ _ron_ a__ thi_ ti_e, and _he fina__y _ne_ ho_  the\n",
      "_or_d  _o__d  _e  _ade  a  _ood and happy p_a_e. thi_ ti_e it _a_\n",
      "ri_ht, it _o__d _or_, and no one _o__d  ha_e  to  _et  nai_ed  to\n",
      "anythin_.\n",
      "\n",
      "_ad_y, ho_e_er, _efore _he _o__d _et to a phone  to  te__  anyone-\n",
      "a_o_t  it,  a  terri__y _t_pid _ata_trophe o___rred, and the idea\n",
      "_a_ _o_t fore_er.\n",
      "\n"
     ]
    }
   ],
   "source": [
    "make_assignment('W', 'p', 4)\n",
    "make_assignment('H', 'r')\n",
    "make_assignment('I', 'y')\n",
    "make_assignment('Y', 'i')\n",
    "print(decrypted)\n"
   ]
  },
  {
   "cell_type": "markdown",
   "metadata": {},
   "source": [
    "Wow this was fast. You can almost read the text now. I noticed the \"thi\\_ p\\_anet ha\\_ - or rather had\" (this planet has) and \"\\_reen pie\\_e\\_ of paper\" (green pieces of paper) and \"\\_ere \\_nhappy\" (were unhappy). It seems like the text is talking about money 🤔"
   ]
  },
  {
   "cell_type": "code",
   "execution_count": 49,
   "metadata": {},
   "outputs": [
    {
     "name": "stdout",
     "output_type": "stream",
     "text": [
      "far out in the uncharted _ac_waters of the unfashiona_le  end  of\n",
      "the  western  spiral  ar_  of  the gala_y lies a s_all unregarded\n",
      "yellow sun.\n",
      "\n",
      "or_iting this at a distance of roughly ninety-two  _illion  _iles\n",
      "is  an  utterly insignificant little _lue green planet whose ape-\n",
      "descended life for_s are so a_a_ingly pri_iti_e that  they  still\n",
      "thin_ digital watches are a pretty neat idea.\n",
      "\n",
      "this planet has - or rather had - a pro_le_, which was this: _ost\n",
      "of  the  people  on  it were unhappy for pretty _uch of the ti_e.\n",
      "_any solutions were suggested for this pro_le_, _ut _ost of these\n",
      "were  largely  concerned with the _o_e_ents of s_all green pieces\n",
      "of paper, which is odd _ecause on the whole it wasn't  the  s_all\n",
      "green pieces of paper that were unhappy.\n",
      "\n",
      "and so the pro_le_ re_ained; lots of the people  were  _ean,  and\n",
      "_ost of the_ were _isera_le, e_en the ones with digital watches.\n",
      "\n",
      "_any were increasingly of the opinion that they'd all _ade a  _ig\n",
      "_ista_e  in  co_ing  down  fro_ the trees in the first place. and\n",
      "so_e said that e_en the trees had _een a _ad _o_e,  and  that  no\n",
      "one should e_er ha_e left the oceans.\n",
      "\n",
      "and then, one thursday, nearly two thousand years after  one  _an\n",
      "had  _een nailed to a tree for saying how great it would _e to _e\n",
      "nice to people for a change, one girl sitting on  her  own  in  a\n",
      "s_all  cafe  in  ric__answorth suddenly reali_ed what it was that\n",
      "had _een going wrong all this ti_e, and she finally _new how  the\n",
      "world  could  _e  _ade  a  good and happy place. this ti_e it was\n",
      "right, it would wor_, and no one would  ha_e  to  get  nailed  to\n",
      "anything.\n",
      "\n",
      "sadly, howe_er, _efore she could get to a phone  to  tell  anyone-\n",
      "a_out  it,  a  terri_ly stupid catastrophe occurred, and the idea\n",
      "was lost fore_er.\n",
      "\n"
     ]
    }
   ],
   "source": [
    "# thiG pEanet haG\n",
    "# Creen pieReG of paper that Mere Anhappy\n",
    "make_assignment('G', 's', 5)\n",
    "make_assignment('E', 'l')\n",
    "make_assignment('C', 'g')\n",
    "make_assignment('R', 'c')\n",
    "make_assignment('M', 'w')\n",
    "make_assignment('A', 'u')\n",
    "print(decrypted)\n"
   ]
  },
  {
   "cell_type": "markdown",
   "metadata": {},
   "source": [
    "From the first paragraph we get 4 more letters: \"backwaters\", \"unfashionable\", \"arm\", \"galaxy\", \"small\" "
   ]
  },
  {
   "cell_type": "code",
   "execution_count": 52,
   "metadata": {},
   "outputs": [
    {
     "name": "stdout",
     "output_type": "stream",
     "text": [
      "far out in the uncharted backwaters of the unfashionable  end  of\n",
      "the  western  spiral  arm  of  the galaxy lies a small unregarded\n",
      "yellow sun.\n",
      "\n",
      "orbiting this at a distance of roughly ninety-two  million  miles\n",
      "is  an  utterly insignificant little blue green planet whose ape-\n",
      "descended life forms are so amaBingly primitiVe that  they  still\n",
      "think digital watches are a pretty neat idea.\n",
      "\n",
      "this planet has - or rather had - a problem, which was this: most\n",
      "of  the  people  on  it were unhappy for pretty much of the time.\n",
      "many solutions were suggested for this problem, but most of these\n",
      "were  largely  concerned with the moVements of small green pieces\n",
      "of paper, which is odd because on the whole it wasn't  the  small\n",
      "green pieces of paper that were unhappy.\n",
      "\n",
      "and so the problem remained; lots of the people  were  mean,  and\n",
      "most of them were miserable, eVen the ones with digital watches.\n",
      "\n",
      "many were increasingly of the opinion that they'd all made a  big\n",
      "mistake  in  coming  down  from the trees in the first place. and\n",
      "some said that eVen the trees had been a bad moVe,  and  that  no\n",
      "one should eVer haVe left the oceans.\n",
      "\n",
      "and then, one thursday, nearly two thousand years after  one  man\n",
      "had  been nailed to a tree for saying how great it would be to be\n",
      "nice to people for a change, one girl sitting on  her  own  in  a\n",
      "small  cafe  in  rickmansworth suddenly realiBed what it was that\n",
      "had been going wrong all this time, and she finally knew how  the\n",
      "world  could  be  made  a  good and happy place. this time it was\n",
      "right, it would work, and no one would  haVe  to  get  nailed  to\n",
      "anything.\n",
      "\n",
      "sadly, howeVer, before she could get to a phone  to  tell  anyone-\n",
      "about  it,  a  terribly stupid catastrophe occurred, and the idea\n",
      "was lost foreVer.\n",
      "\n"
     ]
    }
   ],
   "source": [
    "# far out in the uncharted PacOwaters of the unfashionaPle  end  of\n",
    "# the  western  spiral  arU  of  the galaSy lies a sUall unregarded\n",
    "# yellow sun.\n",
    "make_assignment('P', 'b', 6)\n",
    "make_assignment('O', 'k')\n",
    "make_assignment('U', 'm')\n",
    "make_assignment('S', 'x')\n",
    "print(mixed)\n"
   ]
  },
  {
   "cell_type": "markdown",
   "metadata": {},
   "source": [
    "It's starting to be hard to look for missing letters, but I found \"amaBingly primitiVe\" (amazingly primitive)"
   ]
  },
  {
   "cell_type": "code",
   "execution_count": 56,
   "metadata": {},
   "outputs": [
    {
     "name": "stdout",
     "output_type": "stream",
     "text": [
      "far out in the uncharted backwaters of the unfashionable  end  of\n",
      "the  western  spiral  arm  of  the galaxy lies a small unregarded\n",
      "yellow sun.\n",
      "\n",
      "orbiting this at a distance of roughly ninety-two  million  miles\n",
      "is  an  utterly insignificant little blue green planet whose ape-\n",
      "descended life forms are so amazingly primitive that  they  still\n",
      "think digital watches are a pretty neat idea.\n",
      "\n",
      "this planet has - or rather had - a problem, which was this: most\n",
      "of  the  people  on  it were unhappy for pretty much of the time.\n",
      "many solutions were suggested for this problem, but most of these\n",
      "were  largely  concerned with the movements of small green pieces\n",
      "of paper, which is odd because on the whole it wasn't  the  small\n",
      "green pieces of paper that were unhappy.\n",
      "\n",
      "and so the problem remained; lots of the people  were  mean,  and\n",
      "most of them were miserable, even the ones with digital watches.\n",
      "\n",
      "many were increasingly of the opinion that they'd all made a  big\n",
      "mistake  in  coming  down  from the trees in the first place. and\n",
      "some said that even the trees had been a bad move,  and  that  no\n",
      "one should ever have left the oceans.\n",
      "\n",
      "and then, one thursday, nearly two thousand years after  one  man\n",
      "had  been nailed to a tree for saying how great it would be to be\n",
      "nice to people for a change, one girl sitting on  her  own  in  a\n",
      "small  cafe  in  rickmansworth suddenly realized what it was that\n",
      "had been going wrong all this time, and she finally knew how  the\n",
      "world  could  be  made  a  good and happy place. this time it was\n",
      "right, it would work, and no one would  have  to  get  nailed  to\n",
      "anything.\n",
      "\n",
      "sadly, however, before she could get to a phone  to  tell  anyone-\n",
      "about  it,  a  terribly stupid catastrophe occurred, and the idea\n",
      "was lost forever.\n",
      "\n"
     ]
    }
   ],
   "source": [
    "make_assignment('B', 'z', 7)\n",
    "make_assignment('V', 'v')\n",
    "print(mixed)\n"
   ]
  },
  {
   "cell_type": "markdown",
   "metadata": {},
   "source": [
    "Looks like we're done!"
   ]
  },
  {
   "cell_type": "code",
   "execution_count": 58,
   "metadata": {},
   "outputs": [
    {
     "data": {
      "text/plain": [
       "(False, 24)"
      ]
     },
     "execution_count": 58,
     "metadata": {},
     "output_type": "execute_result"
    }
   ],
   "source": [
    "'_' in decrypted, len(key)\n"
   ]
  },
  {
   "cell_type": "markdown",
   "metadata": {},
   "source": [
    "And we are! Tho 2 letters (\"j\" and \"q\") are still missing from the key. It just shows how rare they are."
   ]
  },
  {
   "cell_type": "code",
   "execution_count": 60,
   "metadata": {},
   "outputs": [
    {
     "name": "stdout",
     "output_type": "stream",
     "text": [
      "{}\n",
      "{'T': 'e'}\n",
      "{'T': 'e', 'X': 't', 'D': 'a', 'K': 'h'}\n",
      "{'T': 'e', 'X': 't', 'D': 'a', 'K': 'h', 'F': 'o'}\n",
      "{'T': 'e', 'X': 't', 'D': 'a', 'K': 'h', 'F': 'o', 'Q': 'f', 'N': 'n', 'J': 'd'}\n",
      "{'T': 'e', 'X': 't', 'D': 'a', 'K': 'h', 'F': 'o', 'Q': 'f', 'N': 'n', 'J': 'd', 'W': 'p', 'H': 'r', 'I': 'y', 'Y': 'i'}\n",
      "{'T': 'e', 'X': 't', 'D': 'a', 'K': 'h', 'F': 'o', 'Q': 'f', 'N': 'n', 'J': 'd', 'W': 'p', 'H': 'r', 'I': 'y', 'Y': 'i', 'G': 's', 'E': 'l', 'C': 'g', 'R': 'c', 'M': 'w', 'A': 'u'}\n",
      "{'T': 'e', 'X': 't', 'D': 'a', 'K': 'h', 'F': 'o', 'Q': 'f', 'N': 'n', 'J': 'd', 'W': 'p', 'H': 'r', 'I': 'y', 'Y': 'i', 'G': 's', 'E': 'l', 'C': 'g', 'R': 'c', 'M': 'w', 'A': 'u', 'P': 'b', 'O': 'k', 'U': 'm', 'S': 'x'}\n",
      "{'T': 'e', 'X': 't', 'D': 'a', 'K': 'h', 'F': 'o', 'Q': 'f', 'N': 'n', 'J': 'd', 'W': 'p', 'H': 'r', 'I': 'y', 'Y': 'i', 'G': 's', 'E': 'l', 'C': 'g', 'R': 'c', 'M': 'w', 'A': 'u', 'P': 'b', 'O': 'k', 'U': 'm', 'S': 'x', 'B': 'z', 'V': 'v'}\n"
     ]
    }
   ],
   "source": [
    "for e in key_history: print(e)\n"
   ]
  },
  {
   "cell_type": "markdown",
   "metadata": {},
   "source": [
    "We can look at our whole key history and the final key"
   ]
  },
  {
   "cell_type": "code",
   "execution_count": 61,
   "metadata": {},
   "outputs": [
    {
     "data": {
      "text/plain": [
       "{'T': 'e',\n",
       " 'X': 't',\n",
       " 'D': 'a',\n",
       " 'K': 'h',\n",
       " 'F': 'o',\n",
       " 'Q': 'f',\n",
       " 'N': 'n',\n",
       " 'J': 'd',\n",
       " 'W': 'p',\n",
       " 'H': 'r',\n",
       " 'I': 'y',\n",
       " 'Y': 'i',\n",
       " 'G': 's',\n",
       " 'E': 'l',\n",
       " 'C': 'g',\n",
       " 'R': 'c',\n",
       " 'M': 'w',\n",
       " 'A': 'u',\n",
       " 'P': 'b',\n",
       " 'O': 'k',\n",
       " 'U': 'm',\n",
       " 'S': 'x',\n",
       " 'B': 'z',\n",
       " 'V': 'v'}"
      ]
     },
     "execution_count": 61,
     "metadata": {},
     "output_type": "execute_result"
    }
   ],
   "source": [
    "key\n"
   ]
  },
  {
   "cell_type": "markdown",
   "metadata": {},
   "source": [
    "Also this text is the prologue to _The Hitchhiker's Guide to the Galaxy_."
   ]
  }
 ],
 "metadata": {
  "kernelspec": {
   "display_name": "Python 3",
   "language": "python",
   "name": "python3"
  },
  "language_info": {
   "codemirror_mode": {
    "name": "ipython",
    "version": 3
   },
   "file_extension": ".py",
   "mimetype": "text/x-python",
   "name": "python",
   "nbconvert_exporter": "python",
   "pygments_lexer": "ipython3",
   "version": "3.10.4"
  }
 },
 "nbformat": 4,
 "nbformat_minor": 2
}
